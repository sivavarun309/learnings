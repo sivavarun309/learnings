{
  "nbformat": 4,
  "nbformat_minor": 0,
  "metadata": {
    "colab": {
      "provenance": [],
      "authorship_tag": "ABX9TyN1I3BXBAOE0tyRU2GKvlCf",
      "include_colab_link": true
    },
    "kernelspec": {
      "name": "python3",
      "display_name": "Python 3"
    },
    "language_info": {
      "name": "python"
    }
  },
  "cells": [
    {
      "cell_type": "markdown",
      "metadata": {
        "id": "view-in-github",
        "colab_type": "text"
      },
      "source": [
        "<a href=\"https://colab.research.google.com/github/sivavarun309/learnings/blob/main/Python_Learnings.ipynb\" target=\"_parent\"><img src=\"https://colab.research.google.com/assets/colab-badge.svg\" alt=\"Open In Colab\"/></a>"
      ]
    },
    {
      "cell_type": "code",
      "source": [
        "#Enironments\n",
        "#-Environments help to manage different spaces for different projects\n",
        "#-If we are working in different project which requires different dependencies or different python version (Liberaries are more stable with the specific version of python)"
      ],
      "metadata": {
        "id": "FR9dm732ytKo"
      },
      "execution_count": null,
      "outputs": []
    },
    {
      "cell_type": "code",
      "source": [
        "\"\"\"\n",
        "Creating the Environments\n",
        "\n",
        "conda create -p <name> python==3.12   #-p is to create a environment in the same directory and we can specify the version of python we want to install\n",
        "conda create -n <name> python==3.12   #-n is to create a environment in the main conda directory\n",
        "\n",
        "It is always recommended to create a environment in the working directory\n",
        "<name>  is to meniton the environment name\n",
        "\n",
        "Activating the Environment\n",
        "-After creating the environment we have to activate it, so that we can install the required packages only for that environment\n",
        "\n",
        "conda activate <name>/     #<name> is the name of the environment and \"/\" indicate the inside of the environment folder where the packages need to be installed\n",
        "\"\"\"\n",
        "\n",
        "'''\n",
        "Installing packages\n",
        "\n",
        "pip install <package name>\n",
        "pip install -r <requirement.txt>\n",
        "\n",
        "Running code\n",
        "\n",
        "-Running code of the environment in the notebook requires to select the kernal which will be the environemnt\n",
        "-Also for running the notebook code in environment we need the ipykernal, to install that\n",
        "\n",
        "pip install ipykernal\n",
        "'''\n"
      ],
      "metadata": {
        "id": "6aU0EjDY0-LH"
      },
      "execution_count": null,
      "outputs": []
    },
    {
      "cell_type": "code",
      "execution_count": null,
      "metadata": {
        "colab": {
          "base_uri": "https://localhost:8080/"
        },
        "id": "SOiOTl-4zMf5",
        "outputId": "71a88a45-8bcd-4bbd-9531-821a10944364"
      },
      "outputs": [
        {
          "output_type": "stream",
          "name": "stdout",
          "text": [
            "Hello world\n"
          ]
        }
      ],
      "source": [
        "print(\"Hello world\")"
      ]
    },
    {
      "cell_type": "code",
      "source": [
        "print(\"\"\"Multi Line print statement\n",
        "      Line 1 .....\n",
        "      Line 2......\"\"\")"
      ],
      "metadata": {
        "colab": {
          "base_uri": "https://localhost:8080/"
        },
        "id": "HgSDoBp9G18s",
        "outputId": "3b713c06-2b53-4fb1-8a64-34f6e7101511"
      },
      "execution_count": null,
      "outputs": [
        {
          "output_type": "stream",
          "name": "stdout",
          "text": [
            "Multi Line print statement\n",
            "      Line 1 .....\n",
            "      Line 2......\n"
          ]
        }
      ]
    },
    {
      "cell_type": "code",
      "source": [
        "#Variables\n",
        "greet = \"Hello\"\n",
        "number = 12\n",
        "height = 5.1\n",
        "isChecked = True"
      ],
      "metadata": {
        "id": "OlQeaHY41m6V"
      },
      "execution_count": null,
      "outputs": []
    },
    {
      "cell_type": "code",
      "source": [
        "#Type Check or getting the type\n",
        "print(type(greet))\n",
        "print(type(number))\n",
        "print(type(height))\n",
        "print(type(isChecked))"
      ],
      "metadata": {
        "id": "CNhwuY1GBIdX",
        "outputId": "bd81c0d1-81c4-4354-9ebb-c877087cf0b0",
        "colab": {
          "base_uri": "https://localhost:8080/"
        }
      },
      "execution_count": null,
      "outputs": [
        {
          "output_type": "stream",
          "name": "stdout",
          "text": [
            "<class 'str'>\n",
            "<class 'int'>\n",
            "<class 'float'>\n",
            "<class 'bool'>\n"
          ]
        }
      ]
    },
    {
      "cell_type": "code",
      "source": [
        "#Type conversion or type casting\n",
        "print(int(height))  # converting the float height to integer height\n",
        "print(str(height))  # converting the float to string\n",
        "\n",
        "#Incompatible conversions\n",
        "# Char string  -> Integer\n",
        "# Float String -> Integer"
      ],
      "metadata": {
        "id": "StDKfD6iBrlX",
        "outputId": "4537bae2-22e8-4cab-b96b-2389a61ca1d6",
        "colab": {
          "base_uri": "https://localhost:8080/"
        }
      },
      "execution_count": null,
      "outputs": [
        {
          "output_type": "stream",
          "name": "stdout",
          "text": [
            "5\n",
            "5.1\n"
          ]
        }
      ]
    },
    {
      "cell_type": "code",
      "source": [
        "string = \"Hello\"\n",
        "integer = 12\n",
        "Float = 5.1\n",
        "Boolean = True"
      ],
      "metadata": {
        "id": "Oxrfd0-JSF7k"
      },
      "execution_count": null,
      "outputs": []
    },
    {
      "cell_type": "code",
      "source": [
        "# String Methods\n",
        "for i in dir(string):\n",
        "  if not i.startswith(\"__\"):\n",
        "    print(i)"
      ],
      "metadata": {
        "collapsed": true,
        "colab": {
          "base_uri": "https://localhost:8080/"
        },
        "id": "oVIKUZTCSs4D",
        "outputId": "625b3d7d-22c6-4d16-df65-392f28feaabb"
      },
      "execution_count": null,
      "outputs": [
        {
          "output_type": "stream",
          "name": "stdout",
          "text": [
            "capitalize\n",
            "casefold\n",
            "center\n",
            "count\n",
            "encode\n",
            "endswith\n",
            "expandtabs\n",
            "find\n",
            "format\n",
            "format_map\n",
            "index\n",
            "isalnum\n",
            "isalpha\n",
            "isascii\n",
            "isdecimal\n",
            "isdigit\n",
            "isidentifier\n",
            "islower\n",
            "isnumeric\n",
            "isprintable\n",
            "isspace\n",
            "istitle\n",
            "isupper\n",
            "join\n",
            "ljust\n",
            "lower\n",
            "lstrip\n",
            "maketrans\n",
            "partition\n",
            "removeprefix\n",
            "removesuffix\n",
            "replace\n",
            "rfind\n",
            "rindex\n",
            "rjust\n",
            "rpartition\n",
            "rsplit\n",
            "rstrip\n",
            "split\n",
            "splitlines\n",
            "startswith\n",
            "strip\n",
            "swapcase\n",
            "title\n",
            "translate\n",
            "upper\n",
            "zfill\n"
          ]
        }
      ]
    },
    {
      "cell_type": "code",
      "source": [
        "# Integer Methods\n",
        "for i in dir(integer):\n",
        "  if not i.startswith(\"__\"):\n",
        "    print(i)"
      ],
      "metadata": {
        "colab": {
          "base_uri": "https://localhost:8080/"
        },
        "id": "1hGj3dXvS9hG",
        "outputId": "993a5df4-bf1b-4e1d-f130-db4a62984cc1"
      },
      "execution_count": null,
      "outputs": [
        {
          "output_type": "stream",
          "name": "stdout",
          "text": [
            "as_integer_ratio\n",
            "bit_count\n",
            "bit_length\n",
            "conjugate\n",
            "denominator\n",
            "from_bytes\n",
            "imag\n",
            "numerator\n",
            "real\n",
            "to_bytes\n"
          ]
        }
      ]
    },
    {
      "cell_type": "code",
      "source": [
        "# Float Methods\n",
        "for i in dir(Float):\n",
        "  if not i.startswith(\"__\"):\n",
        "    print(i)"
      ],
      "metadata": {
        "colab": {
          "base_uri": "https://localhost:8080/"
        },
        "id": "I0hGJnftS-J5",
        "outputId": "48bbc714-210b-4f76-8212-4260eb494332"
      },
      "execution_count": null,
      "outputs": [
        {
          "output_type": "stream",
          "name": "stdout",
          "text": [
            "as_integer_ratio\n",
            "conjugate\n",
            "fromhex\n",
            "hex\n",
            "imag\n",
            "is_integer\n",
            "real\n"
          ]
        }
      ]
    },
    {
      "cell_type": "code",
      "source": [
        "# Boolean Methods\n",
        "for i in dir(Boolean):\n",
        "  if not i.startswith(\"__\"):\n",
        "    print(i)"
      ],
      "metadata": {
        "colab": {
          "base_uri": "https://localhost:8080/"
        },
        "id": "OzLkK_NSS-q6",
        "outputId": "82aa11d1-338a-4c8f-a521-6ad152204fea"
      },
      "execution_count": null,
      "outputs": [
        {
          "output_type": "stream",
          "name": "stdout",
          "text": [
            "as_integer_ratio\n",
            "bit_count\n",
            "bit_length\n",
            "conjugate\n",
            "denominator\n",
            "from_bytes\n",
            "imag\n",
            "numerator\n",
            "real\n",
            "to_bytes\n"
          ]
        }
      ]
    },
    {
      "cell_type": "code",
      "source": [
        "#Input function\n",
        "var = input(\"Enter the Value: \")\n",
        "print(var)"
      ],
      "metadata": {
        "id": "6mSF_cHBDU0n",
        "outputId": "5dedddbc-8a2f-4dc0-cd5a-7a4b5d3576da",
        "colab": {
          "base_uri": "https://localhost:8080/"
        }
      },
      "execution_count": null,
      "outputs": [
        {
          "output_type": "stream",
          "name": "stdout",
          "text": [
            "Enter the Value: test\n",
            "test\n"
          ]
        }
      ]
    },
    {
      "cell_type": "code",
      "source": [
        "#Operators\n",
        "#- the caracter or symbol which takes input and gives the otput through some operations"
      ],
      "metadata": {
        "id": "ydX2smb7DCdl"
      },
      "execution_count": null,
      "outputs": []
    },
    {
      "cell_type": "code",
      "source": [
        "# #Arithemetic Operators\n",
        "# +   Addition\n",
        "# -   Subtraction\n",
        "# *   Multiplication\n",
        "# /   Division\n",
        "# %   Modulus(Gives Reminder of the division)\n",
        "# **  Exponential(Power)\n",
        "# //  Floor Division(Gives Qotient)\n",
        "# # Assignment Operators\n",
        "# =    x=5\n",
        "# +=   x=x+5\n",
        "# -=   x=x-5\n",
        "# *=   x=x*5\n",
        "# /=   x=x/5\n",
        "# **=  x=x**5\n",
        "# %=   x=x%5\n",
        "# //=  x=x//5\n",
        "# &=   x=x&5\n",
        "# |=   x=x|5\n",
        "# ^=   x=x^5\n",
        "# <<=  x=x<<5\n",
        "# >>=  x=x>>5\n",
        "# :=   print(x:=5)  (i.e., x=5\n",
        "#                          print(x))\n",
        "# #Comparison Operators\n",
        "# ==    Equal\n",
        "# !=    Not Equal\n",
        "# >     Greater than\n",
        "# <     Lower than\n",
        "# >=    Greater than or equal to\n",
        "# <=    lower than or equal to\n",
        "# #Logical Operators\n",
        "# and   Returns True if both statements are true\t              #x < 5 and  x < 10\n",
        "# or    Returns True if one of the statements is true\t          #x < 5 or x < 4\n",
        "# not   Reverse the result, returns False if the result is true\t#not(x < 5 and x < 10)\n",
        "# #Identity Operators\n",
        "# is      Returns True if both variables are the same object\t    #x is y\n",
        "# is not  Returns True if both variables are not the same object\t#x is not y\n",
        "# #Membership Operators\n",
        "# in      Returns True if a sequence with the specified value is present in the object\t    #x in y\n",
        "# not in  Returns True if a sequence with the specified value is not present in the object\t#x not in y\n",
        "# #Bitwise Operators\n",
        "# &   AND ->  10&5 -> 1010 & 0101 = 0000 -> 0(Decimal)\n",
        "# |   OR  ->  10|5 -> 1010 | 0101 = 1111 -> 15(Decimal)\n",
        "# ^   XOR ->  10^7 -> 1010 ^ 0111 = 1101 -> 13(Decimal)\n",
        "# ~   1's Complement -> ~1010 = -(1010+1) = -1011 -> -11(Decimal)\n",
        "# <<  Left Shift -> 10<<2 -> 1010<<2 -> 101000 = 40(Decimal)\n",
        "# >>  Right Shift -> 10>>2 -> 1010>>2 -> 10    = 2(Decimal)\n",
        "\n"
      ],
      "metadata": {
        "id": "-qDu94Co9b1M"
      },
      "execution_count": null,
      "outputs": []
    },
    {
      "cell_type": "code",
      "source": [
        "print(10&5)\n",
        "print(10|5)\n",
        "print(10^7)\n",
        "print(~10)\n",
        "print(10<<2)\n",
        "print(10>>2)"
      ],
      "metadata": {
        "colab": {
          "base_uri": "https://localhost:8080/"
        },
        "id": "fdVvDFXyFh79",
        "outputId": "6f1a5838-c1f3-432b-9ba2-08e341738bf8"
      },
      "execution_count": null,
      "outputs": [
        {
          "output_type": "stream",
          "name": "stdout",
          "text": [
            "0\n",
            "15\n",
            "13\n",
            "-11\n",
            "40\n",
            "2\n"
          ]
        }
      ]
    },
    {
      "cell_type": "code",
      "source": [
        "# List -> ls = [1,2,3]\n",
        "# List items are ordered, changeable, and allow duplicate values.\n",
        "# Ordered -> it means that the items have a defined order, and that order will not change.it doesn't mean about ascending or descending order\n",
        "# changeable -> it means that we can change, add, and remove items in a list after it has been created.\n",
        "# allow duplicate values -> Since lists are indexed, lists can have items with the same value"
      ],
      "metadata": {
        "id": "4eThFHy1Frs8"
      },
      "execution_count": null,
      "outputs": []
    },
    {
      "cell_type": "code",
      "source": [
        "ls = [1,2,3]\n",
        "print(type(ls))\n",
        "for i in dir(ls):\n",
        "  if not i.startswith(\"__\"):\n",
        "    print(i)"
      ],
      "metadata": {
        "colab": {
          "base_uri": "https://localhost:8080/"
        },
        "id": "TAU5pmhaGlOR",
        "outputId": "5c35564c-0b18-4432-b620-707b3f827a62"
      },
      "execution_count": null,
      "outputs": [
        {
          "output_type": "stream",
          "name": "stdout",
          "text": [
            "<class 'list'>\n",
            "append\n",
            "clear\n",
            "copy\n",
            "count\n",
            "extend\n",
            "index\n",
            "insert\n",
            "pop\n",
            "remove\n",
            "reverse\n",
            "sort\n"
          ]
        }
      ]
    },
    {
      "cell_type": "code",
      "source": [
        "# Tuple -> tup = (1,2,3)\n",
        "# A tuple is a collection which is ordered and unchangeable and allow duplicate values.\n",
        "# unchangeable -> it means that we cannot change, add or remove items after the tuple has been created."
      ],
      "metadata": {
        "id": "vg2mFoHAG5QK"
      },
      "execution_count": null,
      "outputs": []
    },
    {
      "cell_type": "code",
      "source": [
        "tup = (1,2,3)\n",
        "print(type(tup))\n",
        "for i in dir(tup):\n",
        "  if not i.startswith(\"__\"):\n",
        "    print(i)"
      ],
      "metadata": {
        "colab": {
          "base_uri": "https://localhost:8080/"
        },
        "id": "qHVZRjBHHkJc",
        "outputId": "c2f4210c-3eca-43f1-e223-88adebac2536"
      },
      "execution_count": null,
      "outputs": [
        {
          "output_type": "stream",
          "name": "stdout",
          "text": [
            "<class 'tuple'>\n",
            "count\n",
            "index\n"
          ]
        }
      ]
    },
    {
      "cell_type": "code",
      "source": [
        "# Set -> set = {1,2,3}\n",
        "# A set is a collection which is unordered, unchangeable*, Duplicates Not Allowed and unindexed.\n",
        "# Unordered -> the items in a set do not have a defined order. Set items can appear in a different order every time you use them, and cannot be referred to by index or key.\n",
        "# Unchangeable -> we cannot change the items after the set has been created.but you can add or remove the items\n",
        "# Unindexed -> we cannot access items in a set by referring to an index. Set items can appear in a different order every time you use them, and cannot be referred to by index or key.\n",
        "# Duplicates Not Allowed -> Sets cannot have two items with the same value."
      ],
      "metadata": {
        "id": "a9oB0kCUH50F"
      },
      "execution_count": null,
      "outputs": []
    },
    {
      "cell_type": "code",
      "source": [
        "se = {1,2,3}\n",
        "print(type(se))\n",
        "for i in dir(se):\n",
        "  if not i.startswith(\"__\"):\n",
        "    print(i)"
      ],
      "metadata": {
        "colab": {
          "base_uri": "https://localhost:8080/"
        },
        "id": "ue7wFtlDIzwA",
        "outputId": "a60ff9e4-0ce7-4436-8265-bf65a60c3030"
      },
      "execution_count": null,
      "outputs": [
        {
          "output_type": "stream",
          "name": "stdout",
          "text": [
            "<class 'set'>\n",
            "add\n",
            "clear\n",
            "copy\n",
            "difference\n",
            "difference_update\n",
            "discard\n",
            "intersection\n",
            "intersection_update\n",
            "isdisjoint\n",
            "issubset\n",
            "issuperset\n",
            "pop\n",
            "remove\n",
            "symmetric_difference\n",
            "symmetric_difference_update\n",
            "union\n",
            "update\n"
          ]
        }
      ]
    },
    {
      "cell_type": "code",
      "source": [
        "# Dictionary -> dictionary = {\"key\":\"value\"}\n",
        "# Dictionaries are used to store data values in key:value pairs.\n",
        "# A dictionary is a collection which is ordered*, changeable and do not allow duplicates.\n",
        "# As of Python version 3.7, dictionaries are ordered. In Python 3.6 and earlier, dictionaries are unordered.\n",
        "# Duplicates Not Allowed -> Dictionaries cannot have two items with the same key:"
      ],
      "metadata": {
        "id": "2Vxlx9B1JQf3"
      },
      "execution_count": null,
      "outputs": []
    },
    {
      "cell_type": "code",
      "source": [
        "dictionary = {\"key\":\"value\"}\n",
        "print(type(dictionary))\n",
        "for i in dir(dictionary):\n",
        "  if not i.startswith(\"__\"):\n",
        "    print(i)"
      ],
      "metadata": {
        "colab": {
          "base_uri": "https://localhost:8080/"
        },
        "id": "zoGnQc_bJinG",
        "outputId": "4e6871a7-726a-4e13-e9a9-bdd627a6cdde"
      },
      "execution_count": null,
      "outputs": [
        {
          "output_type": "stream",
          "name": "stdout",
          "text": [
            "<class 'dict'>\n",
            "clear\n",
            "copy\n",
            "fromkeys\n",
            "get\n",
            "items\n",
            "keys\n",
            "pop\n",
            "popitem\n",
            "setdefault\n",
            "update\n",
            "values\n"
          ]
        }
      ]
    },
    {
      "cell_type": "code",
      "source": [
        "# IF Statement(Conditional Statement)\n",
        "# IF is an conditional statement which makes use of the conditional Operators\n",
        "# keywords : if, elif, else"
      ],
      "metadata": {
        "id": "PpLVkkotJsVV"
      },
      "execution_count": null,
      "outputs": []
    },
    {
      "cell_type": "code",
      "source": [
        "a,b = 33,200\n",
        "if b > a:\n",
        "  print(\"b is greater than a\")\n",
        "elif b == a:\n",
        "  print(\"b is equal to a\")\n",
        "else:\n",
        "  print(\"b is less than a\")"
      ],
      "metadata": {
        "colab": {
          "base_uri": "https://localhost:8080/"
        },
        "id": "kyhjrhpXKZiB",
        "outputId": "94ada77c-aef8-4f41-db01-5fd528c38cbf"
      },
      "execution_count": null,
      "outputs": [
        {
          "output_type": "stream",
          "name": "stdout",
          "text": [
            "b is greater than a\n"
          ]
        }
      ]
    },
    {
      "cell_type": "code",
      "source": [
        "#Nested IF\n",
        "a = 50\n",
        "if a > 10:\n",
        "  print(\"Above ten,\")\n",
        "  if a > 20:\n",
        "    print(\"and also above 20!\")\n",
        "    if a > 30:\n",
        "      print(\"and also above 30!\")\n",
        "    else:\n",
        "      print(\"Is Between 20 and 30.\")\n",
        "  else:\n",
        "    print(\"but not above 20.\")"
      ],
      "metadata": {
        "colab": {
          "base_uri": "https://localhost:8080/"
        },
        "id": "eYV0gOy2Kryn",
        "outputId": "ec170802-577a-425e-f856-aa5c72cc9fe7"
      },
      "execution_count": null,
      "outputs": [
        {
          "output_type": "stream",
          "name": "stdout",
          "text": [
            "Above ten,\n",
            "and also above 20!\n",
            "and also above 30!\n"
          ]
        }
      ]
    },
    {
      "cell_type": "code",
      "source": [
        "#Short Hand IF\n",
        "a,b = 33,200\n",
        "print(\"a is greater than b\") if a > b else print(\"b is less than or equal to a\")"
      ],
      "metadata": {
        "colab": {
          "base_uri": "https://localhost:8080/"
        },
        "id": "Sq5pIHKmLGFp",
        "outputId": "d64f1c48-9c85-4987-b075-a08e0950ad17"
      },
      "execution_count": null,
      "outputs": [
        {
          "output_type": "stream",
          "name": "stdout",
          "text": [
            "b is greater than a\n"
          ]
        }
      ]
    },
    {
      "cell_type": "code",
      "source": [
        "a,b = 33,200\n",
        "if a > b: print(\"a is greater than b\")  #Will work on IDE or .py Files"
      ],
      "metadata": {
        "id": "HWzJRwXtLlTF"
      },
      "execution_count": null,
      "outputs": []
    },
    {
      "cell_type": "code",
      "source": [
        "# Pass Statement\n",
        "# Some of the python concets like IF, For, functions through error if it has no content or we leave it empty\n",
        "# pass statement is used to avoid getting error if it has no content"
      ],
      "metadata": {
        "id": "IDPQRDs5MJvx"
      },
      "execution_count": null,
      "outputs": []
    },
    {
      "cell_type": "code",
      "source": [
        "a,b = 33,200\n",
        "if b > a:\n",
        "  pass"
      ],
      "metadata": {
        "id": "bA-ujd44Liu4"
      },
      "execution_count": null,
      "outputs": []
    },
    {
      "cell_type": "code",
      "source": [
        "# Match Statement\n",
        "# The match statement is used to perform different actions based on different conditions."
      ],
      "metadata": {
        "id": "YgOlkWZBMus7"
      },
      "execution_count": null,
      "outputs": []
    },
    {
      "cell_type": "code",
      "source": [
        "day = 4\n",
        "match day:\n",
        "  case 1:\n",
        "    print(\"Monday\")\n",
        "  case 2:\n",
        "    print(\"Tuesday\")\n",
        "  case 3:\n",
        "    print(\"Wednesday\")\n",
        "  case 4:\n",
        "    print(\"Thursday\")\n",
        "  case 5:\n",
        "    print(\"Friday\")\n",
        "  case 6:\n",
        "    print(\"Saturday\")\n",
        "  case 7:\n",
        "    print(\"Sunday\")\n",
        "  case _:\n",
        "    print(\"Invalid Day\")"
      ],
      "metadata": {
        "colab": {
          "base_uri": "https://localhost:8080/"
        },
        "id": "wtKvRNFqNRXF",
        "outputId": "5a29f11e-99d6-4201-c29c-fcd3d097ce1c"
      },
      "execution_count": null,
      "outputs": [
        {
          "output_type": "stream",
          "name": "stdout",
          "text": [
            "Thursday\n"
          ]
        }
      ]
    },
    {
      "cell_type": "code",
      "source": [
        "#Combine Values of Case\n",
        "day = 4\n",
        "match day:\n",
        "  case 1 | 2 | 3 | 4 | 5:\n",
        "    print(\"Today is a weekday\")\n",
        "  case 6 | 7:\n",
        "    print(\"I love weekends!\")"
      ],
      "metadata": {
        "colab": {
          "base_uri": "https://localhost:8080/"
        },
        "id": "WFh_kXDDNnkT",
        "outputId": "d0b42844-d3a0-4203-a090-c3a41d0bffe1"
      },
      "execution_count": null,
      "outputs": [
        {
          "output_type": "stream",
          "name": "stdout",
          "text": [
            "Today is a weekday\n"
          ]
        }
      ]
    },
    {
      "cell_type": "code",
      "source": [
        "#If statement in case of extra conditions\n",
        "month = 5\n",
        "day = 4\n",
        "match day:\n",
        "  case 1 | 2 | 3 | 4 | 5 if month == 4:\n",
        "    print(\"A weekday in April\")\n",
        "  case 1 | 2 | 3 | 4 | 5 if month == 5:\n",
        "    print(\"A weekday in May\")\n",
        "  case _:\n",
        "    print(\"No match\")"
      ],
      "metadata": {
        "colab": {
          "base_uri": "https://localhost:8080/"
        },
        "id": "sVYZtZNtNu9i",
        "outputId": "0a6f3081-01ad-468f-9381-bcfb3319edcf"
      },
      "execution_count": null,
      "outputs": [
        {
          "output_type": "stream",
          "name": "stdout",
          "text": [
            "A weekday in May\n"
          ]
        }
      ]
    },
    {
      "cell_type": "code",
      "source": [
        "# Python Loops\n",
        "# Python has two primitive loop commands:\n",
        "# while loops\n",
        "# for loops"
      ],
      "metadata": {
        "id": "1wbyAkIuN3ap"
      },
      "execution_count": null,
      "outputs": []
    },
    {
      "cell_type": "code",
      "source": [
        "# The while Loop\n",
        "# With the while loop we can execute a set of statements as long as a condition is true."
      ],
      "metadata": {
        "id": "vNQtKVsiNUeD"
      },
      "execution_count": null,
      "outputs": []
    },
    {
      "cell_type": "code",
      "source": [
        "i = 1\n",
        "while i < 6:\n",
        "  print(i)\n",
        "  i += 1"
      ],
      "metadata": {
        "colab": {
          "base_uri": "https://localhost:8080/"
        },
        "id": "Y08m886BOEdq",
        "outputId": "53757c2f-9ab7-4ebe-b75a-f83f8a175613"
      },
      "execution_count": null,
      "outputs": [
        {
          "output_type": "stream",
          "name": "stdout",
          "text": [
            "1\n",
            "2\n",
            "3\n",
            "4\n",
            "5\n"
          ]
        }
      ]
    },
    {
      "cell_type": "code",
      "source": [
        "#Break\n",
        "#with break statement we can stop the loop even if the while condition is true\n",
        "i = 1\n",
        "while i < 6:\n",
        "  print(i)\n",
        "  if i == 3:\n",
        "    break\n",
        "  i += 1"
      ],
      "metadata": {
        "colab": {
          "base_uri": "https://localhost:8080/"
        },
        "id": "E9Fkx4q3OGEL",
        "outputId": "eac7aa5b-d399-44eb-e18a-427412f3fc2f"
      },
      "execution_count": null,
      "outputs": [
        {
          "output_type": "stream",
          "name": "stdout",
          "text": [
            "1\n",
            "2\n",
            "3\n"
          ]
        }
      ]
    },
    {
      "cell_type": "code",
      "source": [
        "#Continue\n",
        "#with Continue we can stop the current iteration and continue with next iteration\n",
        "i = 0\n",
        "while i < 6:\n",
        "  i += 1\n",
        "  if i == 3:\n",
        "    continue\n",
        "  print(i)"
      ],
      "metadata": {
        "colab": {
          "base_uri": "https://localhost:8080/"
        },
        "id": "hnWpnk-JORI8",
        "outputId": "668e07e8-31c3-424e-e6f7-59607fef0b47"
      },
      "execution_count": null,
      "outputs": [
        {
          "output_type": "stream",
          "name": "stdout",
          "text": [
            "1\n",
            "2\n",
            "4\n",
            "5\n",
            "6\n"
          ]
        }
      ]
    },
    {
      "cell_type": "code",
      "source": [
        "#else with while\n",
        "#With the else statement we can run a block of code once when the condition no longer is true:\n",
        "#executes only if the loop terminates naturally (i.e., the condition becomes false) and not because of a break statement."
      ],
      "metadata": {
        "id": "pquqcmauPBnE"
      },
      "execution_count": null,
      "outputs": []
    },
    {
      "cell_type": "code",
      "source": [
        "i = 1\n",
        "while i < 6:\n",
        "  print(i)\n",
        "  i += 1\n",
        "else:\n",
        "  print(\"i is no longer less than 6\")"
      ],
      "metadata": {
        "colab": {
          "base_uri": "https://localhost:8080/"
        },
        "id": "4zb4b40vOfJk",
        "outputId": "c1b6669c-d48d-485f-9e3f-f3d88c8305ea"
      },
      "execution_count": null,
      "outputs": [
        {
          "output_type": "stream",
          "name": "stdout",
          "text": [
            "1\n",
            "2\n",
            "3\n"
          ]
        }
      ]
    },
    {
      "cell_type": "code",
      "source": [
        "i = 1\n",
        "while i < 6:\n",
        "  print(i)\n",
        "  if i==3:\n",
        "    break\n",
        "  i += 1\n",
        "else:\n",
        "  print(\"i is no longer less than 6\")"
      ],
      "metadata": {
        "colab": {
          "base_uri": "https://localhost:8080/"
        },
        "id": "RXvilWrKO-_t",
        "outputId": "b8b35cdd-e15f-429b-9cd0-81a9004360ab"
      },
      "execution_count": null,
      "outputs": [
        {
          "output_type": "stream",
          "name": "stdout",
          "text": [
            "1\n",
            "2\n",
            "3\n"
          ]
        }
      ]
    },
    {
      "cell_type": "code",
      "source": [
        "# For Loops\n",
        "# A for loop is used for iterating over a sequence (that is either a list, a tuple, a dictionary, a set, or a string).\n",
        "# This is less like the for keyword in other programming languages, and works more like an iterator method as found in other object-orientated programming languages.\n",
        "# With the for loop we can execute a set of statements, once for each item in a list, tuple, set etc.\n",
        "#\n",
        "# Break, Countinue, Else with For will work as same as it with while loop"
      ],
      "metadata": {
        "id": "eg1Vh8wXPPoU"
      },
      "execution_count": null,
      "outputs": []
    },
    {
      "cell_type": "code",
      "source": [
        "fruits = [\"apple\", \"banana\", \"cherry\"]\n",
        "for x in fruits:\n",
        "  print(x)"
      ],
      "metadata": {
        "colab": {
          "base_uri": "https://localhost:8080/"
        },
        "id": "qRETpZzxPtDt",
        "outputId": "f98cc851-47cd-4123-c425-4ad421e5785c"
      },
      "execution_count": null,
      "outputs": [
        {
          "output_type": "stream",
          "name": "stdout",
          "text": [
            "apple\n",
            "banana\n",
            "cherry\n"
          ]
        }
      ]
    },
    {
      "cell_type": "code",
      "source": [
        "#Nested For loop\n",
        "#For loop inside the for loop\n",
        "adj = [\"red\", \"big\", \"tasty\"]\n",
        "fruits = [\"apple\", \"banana\", \"cherry\"]\n",
        "\n",
        "for x in adj:\n",
        "  for y in fruits:\n",
        "    print(x, y)"
      ],
      "metadata": {
        "colab": {
          "base_uri": "https://localhost:8080/"
        },
        "id": "SvCI-HMYQE9l",
        "outputId": "8054bbad-70e3-4d8f-a89a-fa1e840bfb2a"
      },
      "execution_count": null,
      "outputs": [
        {
          "output_type": "stream",
          "name": "stdout",
          "text": [
            "red apple\n",
            "red banana\n",
            "red cherry\n",
            "big apple\n",
            "big banana\n",
            "big cherry\n",
            "tasty apple\n",
            "tasty banana\n",
            "tasty cherry\n"
          ]
        }
      ]
    },
    {
      "cell_type": "code",
      "source": [
        "# range() Function -> class range(start, stop, step=1)\n",
        "# range is often used in for loop to loop through a set of code a specified number of times\n",
        "# The range() function returns a sequence of numbers, starting from 0 by default, and increments by 1 (by default), and ends at a specified number."
      ],
      "metadata": {
        "id": "91Z6piIuQQx8"
      },
      "execution_count": null,
      "outputs": []
    },
    {
      "cell_type": "code",
      "source": [
        "for i in range(5):\n",
        "  print(i)"
      ],
      "metadata": {
        "colab": {
          "base_uri": "https://localhost:8080/"
        },
        "id": "fNn_T9n3P503",
        "outputId": "55e1c7ce-86c2-4fe8-8265-3cb1c0354712"
      },
      "execution_count": null,
      "outputs": [
        {
          "output_type": "stream",
          "name": "stdout",
          "text": [
            "0\n",
            "1\n",
            "2\n",
            "3\n",
            "4\n"
          ]
        }
      ]
    },
    {
      "cell_type": "code",
      "source": [
        "# Print Statement extras\n",
        "# print(*objects, sep=' ', end='\\n', file=None, flush=False)\n",
        "# Parameter\tDescription\n",
        "# object(s)\t      Any object, and as many as you like. Will be converted to string before printed\n",
        "# sep='separator'\tOptional. Specify how to separate the objects, if there is more than one. Default is ' '\n",
        "# end='end'\t      Optional. Specify what to print at the end. Default is '\\n' (line feed)\n",
        "# file\t            Optional. An object with a write method. Default is sys.stdout\n",
        "# flush\t          Optional. A Boolean, specifying if the output is flushed (True) or buffered (False). Default is False"
      ],
      "metadata": {
        "id": "1g9OyG0pPvOM"
      },
      "execution_count": null,
      "outputs": []
    },
    {
      "cell_type": "code",
      "source": [
        "# List comprehension\n",
        "# offers a shorter syntax when you want to create a new list based on the values of an existing list or with some pattern using for loop\n",
        "# Normally, you will have to write a for statement with a conditional test inside.\n",
        "# With list comprehension you can do all that with only one line of code:"
      ],
      "metadata": {
        "id": "kpnSCjz9Itbe"
      },
      "execution_count": null,
      "outputs": []
    },
    {
      "cell_type": "code",
      "source": [
        "newList = [i**2 for i in range(5)]\n",
        "print(newList)"
      ],
      "metadata": {
        "colab": {
          "base_uri": "https://localhost:8080/"
        },
        "id": "_fCJ_zJ4JmMk",
        "outputId": "e51cc2dc-96ff-4575-b1da-4bbc9edbe5eb"
      },
      "execution_count": null,
      "outputs": [
        {
          "output_type": "stream",
          "name": "stdout",
          "text": [
            "[0, 1, 4, 9, 16]\n"
          ]
        }
      ]
    },
    {
      "cell_type": "code",
      "source": [
        "# Using Only IF statement in the list comperhension\n",
        "fruits = [\"apple\", \"banana\", \"cherry\", \"kiwi\", \"mango\"]\n",
        "newlist = [x for x in fruits if \"a\" in x]\n",
        "print(newlist)"
      ],
      "metadata": {
        "id": "qDDih-oCRwFN",
        "colab": {
          "base_uri": "https://localhost:8080/"
        },
        "outputId": "16142aba-b1c7-4099-c549-fd995e133e70"
      },
      "execution_count": null,
      "outputs": [
        {
          "output_type": "stream",
          "name": "stdout",
          "text": [
            "['apple', 'banana', 'mango']\n"
          ]
        }
      ]
    },
    {
      "cell_type": "code",
      "source": [
        "numbers = [1, 5, 10, 15, 20]\n",
        "\n",
        "# Label values based on range\n",
        "labels = [\"small\" if x < 10 else (\"medium\" if x < 20 else \"large\") for x in numbers]\n",
        "print(labels)"
      ],
      "metadata": {
        "colab": {
          "base_uri": "https://localhost:8080/"
        },
        "id": "YoJMQlbIFPhN",
        "outputId": "9a741215-8ba5-4efe-8dd1-1b88b185d6d4"
      },
      "execution_count": 30,
      "outputs": [
        {
          "output_type": "stream",
          "name": "stdout",
          "text": [
            "['small', 'small', 'medium', 'medium', 'large']\n"
          ]
        }
      ]
    },
    {
      "cell_type": "code",
      "source": [
        "# When using else in the list comperhension the for statement comes in the end\n",
        "fruits = [\"apple\", \"banana\", \"cherry\", \"kiwi\", \"mango\"]\n",
        "newlist = [x if \"a\" in x else \"NA\" for x in fruits]\n",
        "print(newlist)"
      ],
      "metadata": {
        "colab": {
          "base_uri": "https://localhost:8080/"
        },
        "id": "XR40MFtoJP7O",
        "outputId": "067a0f7f-ba7a-493b-b596-7219f104b7a0"
      },
      "execution_count": null,
      "outputs": [
        {
          "output_type": "stream",
          "name": "stdout",
          "text": [
            "['apple', 'banana', 'NA', 'NA', 'mango']\n"
          ]
        }
      ]
    },
    {
      "cell_type": "code",
      "source": [
        "# nested List\n",
        "# How to initialize the nested list\n",
        "MyListProper = [[] for i in range(5)]\n",
        "print(MyListProper)\n",
        "MyListProper[2].append(5)\n",
        "print(MyListProper)"
      ],
      "metadata": {
        "colab": {
          "base_uri": "https://localhost:8080/"
        },
        "id": "YKB3_rKuzpZx",
        "outputId": "c9912c5e-8c92-44cc-caa5-abbef475cd7b"
      },
      "execution_count": null,
      "outputs": [
        {
          "output_type": "stream",
          "name": "stdout",
          "text": [
            "[[], [], [], [], []]\n",
            "[[], [], [5], [], []]\n"
          ]
        }
      ]
    },
    {
      "cell_type": "code",
      "source": [
        "#       0    1    2    3    4    5    6    7\n",
        "lst = [\"A\", \"B\", \"C\", \"D\", \"E\", \"F\", \"G\", \"H\"]\n",
        "#      -8   -7   -6   -5   -4   -3   -2   -1\n",
        "\n",
        "print(\"lst[0:4]   \", lst[0:4])      # from 0 to 3 excluding 4\n",
        "print(\"lst[4:4]   \", lst[4:4])      # from 4 but excluding 4, hence empty\n",
        "print(\"lst[6:3]   \", lst[6:3])      # can't trim from backwards, hence empty\n",
        "print(\"lst[-5:-1] \", lst[-5:-1])    # the last element of list is indexed a -1 decreases by going left, indexes -> -6,-5,-4,-3,-2,-1\n",
        "print(\"lst[-1:-5] \", lst[-1:-5])    # Even using the negetive index sublist can't be trimed from -5 to -1 which is backwards\n",
        "print(\"lst[2:-2]  \", lst[2:-2])     # Positive index and negative index can be used at the same time for triming as long as its not goes by backwards\n",
        "print(\"lst[-7:6]  \", lst[-7:6])\n",
        "print(\"lst[0:]    \", lst[0:])       # if no index is mentioned then the sublist will take till the end if end is not mentioned or starts from 0 if start index is not mentioned\n",
        "print(\"lst[:4]    \", lst[:4])\n",
        "print(\"lst[:4:-1] \", lst[:4:-1])    # the 3rd value indicate the steps for slicing list, -1 will make the list reverse\n",
        "print(\"lst[::2]   \", lst[::2])"
      ],
      "metadata": {
        "colab": {
          "base_uri": "https://localhost:8080/"
        },
        "id": "ggNykh0WNAKt",
        "outputId": "15e12ddc-84d3-431a-f0ac-6fe91584aa06"
      },
      "execution_count": 29,
      "outputs": [
        {
          "output_type": "stream",
          "name": "stdout",
          "text": [
            "lst[0:4]    ['A', 'B', 'C', 'D']\n",
            "lst[4:4]    []\n",
            "lst[6:3]    []\n",
            "lst[-5:-1]  ['D', 'E', 'F', 'G']\n",
            "lst[-1:-5]  []\n",
            "lst[2:-2]   ['C', 'D', 'E', 'F']\n",
            "lst[-7:6]   ['B', 'C', 'D', 'E', 'F']\n",
            "lst[0:]     ['A', 'B', 'C', 'D', 'E', 'F', 'G', 'H']\n",
            "lst[:4]     ['A', 'B', 'C', 'D']\n",
            "lst[:4:-1]  ['H', 'G', 'F']\n",
            "lst[::2]    ['A', 'C', 'E', 'G']\n"
          ]
        }
      ]
    },
    {
      "cell_type": "code",
      "source": [
        "# How Not to initialize the nested list\n",
        "MyListWrong = [[]]*5\n",
        "print(MyListWrong)\n",
        "MyListWrong[2].append(5)\n",
        "print(MyListWrong)\n",
        "# Initializing a nested list in this manner has the disadvantage that each entry in the list has the same ID, pointing to the same list object."
      ],
      "metadata": {
        "colab": {
          "base_uri": "https://localhost:8080/"
        },
        "id": "9FHXFsmuLE2y",
        "outputId": "c85d2a70-98e1-4b67-90e7-6903d9198605"
      },
      "execution_count": null,
      "outputs": [
        {
          "output_type": "stream",
          "name": "stdout",
          "text": [
            "[[], [], [], [], []]\n",
            "[[5], [5], [5], [5], [5]]\n"
          ]
        }
      ]
    },
    {
      "cell_type": "code",
      "source": [
        "# The Proper List has the different object id which doesn't affect other while performing operation like appending etc.\n",
        "print(\"Object ID of MyListProper\")\n",
        "for i in MyListProper:\n",
        "  print(id(i))\n",
        "\n",
        "print(\"\\n--------------\\n\")\n",
        "\n",
        "# The improper List which has same object id for the list will effect other sublist will performing operation, as all the sublist are generally the instance of single object\n",
        "print(\"Object ID of MyListWrong\")\n",
        "for i in MyListWrong:\n",
        "  print(id(i))"
      ],
      "metadata": {
        "colab": {
          "base_uri": "https://localhost:8080/"
        },
        "id": "d0IsiLFyLijG",
        "outputId": "d329ddb1-071d-4aae-8079-74c3f8d203bf"
      },
      "execution_count": null,
      "outputs": [
        {
          "output_type": "stream",
          "name": "stdout",
          "text": [
            "Object ID of MyListProper\n",
            "133533287505024\n",
            "133534130371648\n",
            "133533287648448\n",
            "133533722612224\n",
            "133533720911488\n",
            "\n",
            "--------------\n",
            "\n",
            "Object ID of MyListWrong\n",
            "133533285992320\n",
            "133533285992320\n",
            "133533285992320\n",
            "133533285992320\n",
            "133533285992320\n"
          ]
        }
      ]
    },
    {
      "cell_type": "code",
      "source": [
        "# Functions\n",
        "# Are used to attain the reusablitiy of the code\n",
        "# function are a block of code that runs wherever we call that function and perform the operation that we have defiened"
      ],
      "metadata": {
        "id": "2jVPTbBjQKc6"
      },
      "execution_count": null,
      "outputs": []
    },
    {
      "cell_type": "code",
      "source": [
        "# Creating the function\n",
        "def my_function(fname, lname, place = \"India\"):  # function will be stored in the memory and will not be excecuted until it is called. Hence the error shows only when it is called.\n",
        "  print(fname + \" \" + lname + \" \" + place)\n",
        "\n",
        "# Note:\n",
        "# while creating the function parameter is not neccessary\n",
        "# whether the parameter is optional or manadatory is decided while creating the function. if value is not assigned while creating the parameter than it is mandatory"
      ],
      "metadata": {
        "id": "NZLeaLcpgRea"
      },
      "execution_count": null,
      "outputs": []
    },
    {
      "cell_type": "code",
      "source": [
        "# Calling function\n",
        "my_function(\"Emil\", \"Refsnes\")  # Function runs when we call them, the parameters must be passed if mentioned while creating the function"
      ],
      "metadata": {
        "id": "xgjtgxKjgXE5",
        "outputId": "3b90c4c4-7a32-4c94-a3c2-f93b4b9f81a8",
        "colab": {
          "base_uri": "https://localhost:8080/"
        }
      },
      "execution_count": null,
      "outputs": [
        {
          "output_type": "stream",
          "name": "stdout",
          "text": [
            "Emil Refsnes India\n"
          ]
        }
      ]
    },
    {
      "cell_type": "code",
      "source": [
        "# Keyword Arguments\n",
        "# You can also send arguments with the key = value syntax.\n",
        "# This way the order of the arguments does not matter."
      ],
      "metadata": {
        "id": "Yk1eOIzzik8B"
      },
      "execution_count": null,
      "outputs": []
    },
    {
      "cell_type": "code",
      "source": [
        "def my_function(child3, child2, child1):\n",
        "  print(\"The youngest child is \" + child3)\n",
        "\n",
        "my_function(child1 = \"Emil\", child2 = \"Tobias\", child3 = \"Linus\")"
      ],
      "metadata": {
        "id": "jv_69qlLipuC",
        "outputId": "81bc0e56-5ca1-4992-f4e4-5d9f84505abf",
        "colab": {
          "base_uri": "https://localhost:8080/"
        }
      },
      "execution_count": null,
      "outputs": [
        {
          "output_type": "stream",
          "name": "stdout",
          "text": [
            "The youngest child is Linus\n"
          ]
        }
      ]
    },
    {
      "cell_type": "code",
      "source": [
        "# Arbitrary Arguments, (*args)\n",
        "# If you do not know how many arguments that will be passed into your function, add a \"*\" before the parameter name in the function definition.\n",
        "# This way the function will receive a tuple of arguments, and can access the items accordingly"
      ],
      "metadata": {
        "id": "vw75cDwFh7pR"
      },
      "execution_count": null,
      "outputs": []
    },
    {
      "cell_type": "code",
      "source": [
        "def my_function(*kids):\n",
        "  print(\"The youngest child is \" + kids[-1])\n",
        "\n",
        "my_function(\"Emil\", \"Tobias\", \"Linus\")"
      ],
      "metadata": {
        "id": "PaRr6IiyiMFr",
        "outputId": "3025e953-5fd5-4f4b-ad00-be15b99eb5d2",
        "colab": {
          "base_uri": "https://localhost:8080/"
        }
      },
      "execution_count": null,
      "outputs": [
        {
          "output_type": "stream",
          "name": "stdout",
          "text": [
            "The youngest child is Linus\n"
          ]
        }
      ]
    },
    {
      "cell_type": "code",
      "source": [
        "# Arbitrary Keyword Arguments, (**kwargs)\n",
        "# If you do not know how many keyword arguments that will be passed into your function, add two asterisk: \"**\" before the parameter name in the function definition.\n",
        "# This way the function will receive a dictionary of arguments, and can access the items accordingly:"
      ],
      "metadata": {
        "id": "Znb_UWC3iQXa"
      },
      "execution_count": null,
      "outputs": []
    },
    {
      "cell_type": "code",
      "source": [
        "def my_function(**kid):\n",
        "  print(\"His last name is \" + kid[\"lname\"])\n",
        "\n",
        "my_function(fname = \"Tobias\", lname = \"Refsnes\")"
      ],
      "metadata": {
        "id": "Ce2c7ZWli_-i",
        "outputId": "0fccf52a-10ec-4f53-b869-51ad7cfe5f66",
        "colab": {
          "base_uri": "https://localhost:8080/"
        }
      },
      "execution_count": null,
      "outputs": [
        {
          "output_type": "stream",
          "name": "stdout",
          "text": [
            "His last name is Refsnes\n"
          ]
        }
      ]
    },
    {
      "cell_type": "code",
      "source": [
        "# Return Values\n",
        "# To let a function return a value, use the return statement:\n",
        "\n",
        "def my_function(x):\n",
        "  return 5 * x\n",
        "\n",
        "print(my_function(3))\n",
        "print(my_function(5))\n",
        "print(my_function(9))"
      ],
      "metadata": {
        "id": "QsnBnxhujM4i",
        "outputId": "2f4cac56-f15f-4345-93a6-33532db8e38d",
        "colab": {
          "base_uri": "https://localhost:8080/"
        }
      },
      "execution_count": null,
      "outputs": [
        {
          "output_type": "stream",
          "name": "stdout",
          "text": [
            "15\n",
            "25\n",
            "45\n"
          ]
        }
      ]
    },
    {
      "cell_type": "code",
      "source": [
        "# Using Pass statement\n",
        "\n",
        "def myfunction():\n",
        "  pass\n",
        "\n",
        "myfunction()"
      ],
      "metadata": {
        "id": "BbLNzuLLjVUR"
      },
      "execution_count": null,
      "outputs": []
    },
    {
      "cell_type": "code",
      "source": [
        "# Positional-Only Arguments\n",
        "# You can specify that a function can have ONLY positional arguments, or ONLY keyword arguments.\n",
        "# To specify that a function can have only positional arguments, add , / after the arguments:\n",
        "\n",
        "def my_function(x, /):\n",
        "  print(x)\n",
        "\n",
        "my_function(3)\n",
        "#my_function(x=3)   # function called with keyword argument through error"
      ],
      "metadata": {
        "id": "DIttRGyzj9Dh",
        "outputId": "968347a2-c6fd-4b06-ecd1-d05c449d830c",
        "colab": {
          "base_uri": "https://localhost:8080/"
        }
      },
      "execution_count": null,
      "outputs": [
        {
          "output_type": "stream",
          "name": "stdout",
          "text": [
            "3\n"
          ]
        }
      ]
    },
    {
      "cell_type": "code",
      "source": [
        "# Keyword-Only Arguments\n",
        "# To specify that a function can have only keyword arguments, add *, before the arguments:\n",
        "\n",
        "def my_function(*, x):\n",
        "  print(x)\n",
        "\n",
        "my_function(x = 3)\n",
        "#my_function(3)   # function called as positional argument through error"
      ],
      "metadata": {
        "id": "icNopCNJkONS",
        "outputId": "eb45d37d-d2ec-4707-a9e0-4527df6fa2ad",
        "colab": {
          "base_uri": "https://localhost:8080/"
        }
      },
      "execution_count": null,
      "outputs": [
        {
          "output_type": "stream",
          "name": "stdout",
          "text": [
            "3\n"
          ]
        }
      ]
    },
    {
      "cell_type": "code",
      "source": [
        "# Combine Positional-Only and Keyword-Only\n",
        "# You can combine the two argument types in the same function.\n",
        "# Any argument before the / , are positional-only, and any argument after the *, are keyword-only.\n",
        "\n",
        "def my_function(a, b, /, *, c, d):\n",
        "  print(a + b + c + d)\n",
        "\n",
        "my_function(5, 6, c = 7, d = 8)"
      ],
      "metadata": {
        "id": "gjNd3Ac3kg2r",
        "outputId": "6ceaa6bb-1714-42c3-c352-4e3440583aa6",
        "colab": {
          "base_uri": "https://localhost:8080/"
        }
      },
      "execution_count": null,
      "outputs": [
        {
          "output_type": "stream",
          "name": "stdout",
          "text": [
            "26\n"
          ]
        }
      ]
    },
    {
      "cell_type": "code",
      "source": [
        "# Recursion\n",
        "# Python also accepts function recursion, which means a defined function can call itself.\n",
        "# It means that a function calls itself. This has the benefit of meaning that you can loop through data to reach a result.\n",
        "# this is used where solving the problem requires multiple steps and the process required for those steps are nearly(almost) common"
      ],
      "metadata": {
        "id": "dShDCnHDlaVq"
      },
      "execution_count": null,
      "outputs": []
    },
    {
      "cell_type": "code",
      "source": [
        "def tri_recursion(k):\n",
        "  if(k > 0):\n",
        "    result = k + tri_recursion(k - 1)\n",
        "    print(result)\n",
        "  else:\n",
        "    result = 0\n",
        "  return result\n",
        "\n",
        "print(\"Recursion Example Results:\")\n",
        "tri_recursion(6)"
      ],
      "metadata": {
        "id": "irYwA26ZlfCT",
        "outputId": "1b65d162-4962-432b-d4cc-09f1e0c6ba05",
        "colab": {
          "base_uri": "https://localhost:8080/"
        }
      },
      "execution_count": null,
      "outputs": [
        {
          "output_type": "stream",
          "name": "stdout",
          "text": [
            "Recursion Example Results:\n",
            "1\n",
            "3\n",
            "6\n",
            "10\n",
            "15\n",
            "21\n"
          ]
        },
        {
          "output_type": "execute_result",
          "data": {
            "text/plain": [
              "21"
            ]
          },
          "metadata": {},
          "execution_count": 49
        }
      ]
    },
    {
      "cell_type": "code",
      "source": [
        "# Lambda\n",
        "# A lambda function is a small anonymous function.\n",
        "# A lambda function can take any number of arguments, but can only have one expre"
      ],
      "metadata": {
        "id": "BOBmoYQsuNi8"
      },
      "execution_count": null,
      "outputs": []
    },
    {
      "cell_type": "code",
      "source": [
        "x = lambda a, b : a * b\n",
        "print(x(5, 6))"
      ],
      "metadata": {
        "colab": {
          "base_uri": "https://localhost:8080/"
        },
        "id": "NzKqp2xOu3gw",
        "outputId": "25b7dcff-f5fa-4b77-f5f8-ea8bdcff116e"
      },
      "execution_count": 1,
      "outputs": [
        {
          "output_type": "stream",
          "name": "stdout",
          "text": [
            "30\n"
          ]
        }
      ]
    },
    {
      "cell_type": "code",
      "source": [
        "# The power of lambda is better shown when you use them as an anonymous function inside another function.\n",
        "# use the same function definition to make both functions, in the same program\n",
        "def myfunc(n):\n",
        "  return lambda a : a * n\n",
        "\n",
        "mydoubler = myfunc(2)\n",
        "mytripler = myfunc(3)\n",
        "\n",
        "print(mydoubler(11))\n",
        "print(mytripler(11))"
      ],
      "metadata": {
        "colab": {
          "base_uri": "https://localhost:8080/"
        },
        "id": "5rygmcpEu9cZ",
        "outputId": "87cbd7b0-521d-4537-a43c-4fa09bfa4fd7"
      },
      "execution_count": 2,
      "outputs": [
        {
          "output_type": "stream",
          "name": "stdout",
          "text": [
            "22\n",
            "33\n"
          ]
        }
      ]
    },
    {
      "cell_type": "code",
      "source": [
        "# Arrays\n",
        "# python doesn't have the built-in function or class for array\n",
        "# python array can be obtained by numpy array\n",
        "\n",
        "# python list\n",
        "# Dynamic typing\n",
        "# size flexibility\n",
        "# Slower Performance compared to numpy\n",
        "# Less Mathematical Functionality on entire arrays of data.\n",
        "\n",
        "# numpy array\n",
        "# Homogeneous Data Types\n",
        "# Fixed Size\n",
        "# Optimized Operations\n",
        "# Better Performance\n",
        "# Memory Efficiency"
      ],
      "metadata": {
        "id": "2d18AT9gv6-X"
      },
      "execution_count": null,
      "outputs": []
    },
    {
      "cell_type": "code",
      "source": [
        "import numpy as np\n",
        "\n",
        "arr = np.array([1, 2, 3, 4, 5])\n",
        "\n",
        "print(arr)\n",
        "print(type(arr))  # The array object in NumPy is called ndarray"
      ],
      "metadata": {
        "colab": {
          "base_uri": "https://localhost:8080/"
        },
        "id": "leMh5eXvw1rt",
        "outputId": "ddc2afe9-b55c-4997-b8e6-e679ceec919b"
      },
      "execution_count": 3,
      "outputs": [
        {
          "output_type": "stream",
          "name": "stdout",
          "text": [
            "[1 2 3 4 5]\n",
            "<class 'numpy.ndarray'>\n"
          ]
        }
      ]
    },
    {
      "cell_type": "code",
      "source": [
        "for i in dir(arr):\n",
        "  if not i.startswith(\"__\"):\n",
        "    print(i)"
      ],
      "metadata": {
        "collapsed": true,
        "colab": {
          "base_uri": "https://localhost:8080/"
        },
        "id": "jeTyiBV7xNZ_",
        "outputId": "287c0a42-486b-4960-963e-0886caa7b378"
      },
      "execution_count": 4,
      "outputs": [
        {
          "output_type": "stream",
          "name": "stdout",
          "text": [
            "T\n",
            "all\n",
            "any\n",
            "argmax\n",
            "argmin\n",
            "argpartition\n",
            "argsort\n",
            "astype\n",
            "base\n",
            "byteswap\n",
            "choose\n",
            "clip\n",
            "compress\n",
            "conj\n",
            "conjugate\n",
            "copy\n",
            "ctypes\n",
            "cumprod\n",
            "cumsum\n",
            "data\n",
            "device\n",
            "diagonal\n",
            "dot\n",
            "dtype\n",
            "dump\n",
            "dumps\n",
            "fill\n",
            "flags\n",
            "flat\n",
            "flatten\n",
            "getfield\n",
            "imag\n",
            "item\n",
            "itemset\n",
            "itemsize\n",
            "mT\n",
            "max\n",
            "mean\n",
            "min\n",
            "nbytes\n",
            "ndim\n",
            "newbyteorder\n",
            "nonzero\n",
            "partition\n",
            "prod\n",
            "ptp\n",
            "put\n",
            "ravel\n",
            "real\n",
            "repeat\n",
            "reshape\n",
            "resize\n",
            "round\n",
            "searchsorted\n",
            "setfield\n",
            "setflags\n",
            "shape\n",
            "size\n",
            "sort\n",
            "squeeze\n",
            "std\n",
            "strides\n",
            "sum\n",
            "swapaxes\n",
            "take\n",
            "to_device\n",
            "tobytes\n",
            "tofile\n",
            "tolist\n",
            "tostring\n",
            "trace\n",
            "transpose\n",
            "var\n",
            "view\n"
          ]
        }
      ]
    },
    {
      "cell_type": "markdown",
      "source": [
        "------------------------------------------------------------------------------ Refer Class in oops docs----------------------------------------------------------------------------"
      ],
      "metadata": {
        "id": "LkOaFMIOxz1M"
      }
    },
    {
      "cell_type": "code",
      "source": [
        "# Polymorphism in general\n",
        "# The word \"polymorphism\" means \"many forms\", and in programming it refers to methods/functions/operators with the same name that can be executed on many objects or classes.eg: len()\n",
        "# class polymorphism where due to inheritance we can use the same method name"
      ],
      "metadata": {
        "id": "HEqg3XZ_z_aq"
      },
      "execution_count": 8,
      "outputs": []
    },
    {
      "cell_type": "code",
      "source": [
        "class Vehicle:\n",
        "  def __init__(self, brand, model):\n",
        "    self.brand = brand\n",
        "    self.model = model\n",
        "\n",
        "  def move(self):\n",
        "    print(\"Move!\")\n",
        "\n",
        "class Car(Vehicle):\n",
        "  pass\n",
        "\n",
        "class Boat(Vehicle):\n",
        "  def move(self):\n",
        "    print(\"Sail!\")\n",
        "\n",
        "class Plane(Vehicle):\n",
        "  def move(self):\n",
        "    print(\"Fly!\")\n",
        "\n",
        "car1 = Car(\"Ford\", \"Mustang\")       #Create a Car object\n",
        "boat1 = Boat(\"Ibiza\", \"Touring 20\") #Create a Boat object\n",
        "plane1 = Plane(\"Boeing\", \"747\")     #Create a Plane object\n",
        "\n",
        "for x in (car1, boat1, plane1):\n",
        "  print(x.brand)\n",
        "  print(x.model)\n",
        "  x.move()"
      ],
      "metadata": {
        "colab": {
          "base_uri": "https://localhost:8080/"
        },
        "id": "NFSJfhDI0c2u",
        "outputId": "1c0d53e9-3d59-4874-dd29-2ca5f4783bb2"
      },
      "execution_count": 9,
      "outputs": [
        {
          "output_type": "stream",
          "name": "stdout",
          "text": [
            "Ford\n",
            "Mustang\n",
            "Move!\n",
            "Ibiza\n",
            "Touring 20\n",
            "Sail!\n",
            "Boeing\n",
            "747\n",
            "Fly!\n"
          ]
        }
      ]
    },
    {
      "cell_type": "code",
      "source": [
        "# Iterators\n",
        "# An iterator is an object that contains a countable number of values.\n",
        "# An iterator is an object that can be iterated upon, meaning that you can traverse through all the values.\n",
        "# Technically, in Python, an iterator is an object which implements the iterator protocol, which consist of the methods __iter__() and __next__().\n",
        "\n",
        "# Iterator vs Iterable\n",
        "# Lists, tuples, dictionaries, and sets are all iterable objects. They are iterable containers which you can get an iterator from.\n",
        "# All these objects have a iter() method which is used to get an iterator:"
      ],
      "metadata": {
        "id": "aLlU7qExxxOE"
      },
      "execution_count": null,
      "outputs": []
    },
    {
      "cell_type": "code",
      "source": [
        "mytuple = (\"apple\", \"banana\", \"cherry\")\n",
        "myit = iter(mytuple)\n",
        "\n",
        "print(next(myit))\n",
        "print(next(myit))\n",
        "print(next(myit))"
      ],
      "metadata": {
        "colab": {
          "base_uri": "https://localhost:8080/"
        },
        "id": "JsLFdr4Lyi8h",
        "outputId": "93b4a557-2cca-4d8a-d3c6-5f792ae1ece5"
      },
      "execution_count": 5,
      "outputs": [
        {
          "output_type": "stream",
          "name": "stdout",
          "text": [
            "apple\n",
            "banana\n",
            "cherry\n"
          ]
        }
      ]
    },
    {
      "cell_type": "code",
      "source": [
        "# Create an Iterator\n",
        "\n",
        "class MyNumbers:\n",
        "  def __iter__(self):\n",
        "    self.a = 1\n",
        "    return self\n",
        "\n",
        "  def __next__(self):\n",
        "    x = self.a\n",
        "    self.a += 1\n",
        "    return x\n",
        "\n",
        "myclass = MyNumbers()\n",
        "myiter = iter(myclass)\n",
        "\n",
        "print(next(myiter))\n",
        "print(next(myiter))\n",
        "print(next(myiter))\n",
        "print(next(myiter))\n",
        "print(next(myiter))"
      ],
      "metadata": {
        "colab": {
          "base_uri": "https://localhost:8080/"
        },
        "id": "EF-W_NxDzBpU",
        "outputId": "9f2567e9-7403-439c-cdbd-c43cbc87271e"
      },
      "execution_count": 6,
      "outputs": [
        {
          "output_type": "stream",
          "name": "stdout",
          "text": [
            "1\n",
            "2\n",
            "3\n",
            "4\n",
            "5\n"
          ]
        }
      ]
    },
    {
      "cell_type": "code",
      "source": [
        "# StopIteration\n",
        "\n",
        "class MyNumbers:\n",
        "  def __iter__(self):\n",
        "    self.a = 1\n",
        "    return self\n",
        "\n",
        "  def __next__(self):\n",
        "    if self.a <= 20:\n",
        "      x = self.a\n",
        "      self.a += 1\n",
        "      return x\n",
        "    else:\n",
        "      raise StopIteration  # To prevent the iteration from going on forever, we can use the StopIteration statement. (eg: to prevent loop if used in for loop)\n",
        "\n",
        "myclass = MyNumbers()\n",
        "myiter = iter(myclass)\n",
        "\n",
        "for x in myiter:\n",
        "  print(x)"
      ],
      "metadata": {
        "colab": {
          "base_uri": "https://localhost:8080/"
        },
        "id": "dmf_n3WbzFds",
        "outputId": "77b7c56b-8f2b-4319-dcae-dd0ea4aa95bc"
      },
      "execution_count": 7,
      "outputs": [
        {
          "output_type": "stream",
          "name": "stdout",
          "text": [
            "1\n",
            "2\n",
            "3\n",
            "4\n",
            "5\n",
            "6\n",
            "7\n",
            "8\n",
            "9\n",
            "10\n",
            "11\n",
            "12\n",
            "13\n",
            "14\n",
            "15\n",
            "16\n",
            "17\n",
            "18\n",
            "19\n",
            "20\n"
          ]
        }
      ]
    },
    {
      "cell_type": "code",
      "source": [
        "# Scope\n",
        "# A variable is only available from inside the region(funtion, class) it is created. This is called scope."
      ],
      "metadata": {
        "id": "B2Y7qipe4SGv"
      },
      "execution_count": null,
      "outputs": []
    },
    {
      "cell_type": "code",
      "source": [
        "# Scope\n",
        "# A variable is only available from inside the region it is created. This is called scope.\n",
        "\n",
        "def myfunc():\n",
        "  x = 300\n",
        "  def myinnerfunc():\n",
        "    print(x)\n",
        "  myinnerfunc()\n",
        "\n",
        "myfunc()"
      ],
      "metadata": {
        "colab": {
          "base_uri": "https://localhost:8080/"
        },
        "id": "ZYRhx9ZQzbU-",
        "outputId": "4ab1e527-d541-4f2a-ebd4-98a85d93f244"
      },
      "execution_count": 10,
      "outputs": [
        {
          "output_type": "stream",
          "name": "stdout",
          "text": [
            "300\n"
          ]
        }
      ]
    },
    {
      "cell_type": "code",
      "source": [
        "# Global Scope\n",
        "# A variable created in the main body of the Python code is a global variable and belongs to the global scope.\n",
        "# Global variables are available from within any scope, global and local.\n",
        "\n",
        "x = 300\n",
        "\n",
        "def myfunc():\n",
        "  print(x)\n",
        "\n",
        "myfunc()\n",
        "\n",
        "print(x)"
      ],
      "metadata": {
        "colab": {
          "base_uri": "https://localhost:8080/"
        },
        "id": "JhFLgCxC4x2i",
        "outputId": "009ff147-3518-4c21-e3ff-7c17f75676e5"
      },
      "execution_count": 12,
      "outputs": [
        {
          "output_type": "stream",
          "name": "stdout",
          "text": [
            "300\n",
            "300\n"
          ]
        }
      ]
    },
    {
      "cell_type": "code",
      "source": [
        "x = 300\n",
        "\n",
        "def myfunc():\n",
        "  x = 200\n",
        "  print(x)\n",
        "\n",
        "myfunc()\n",
        "\n",
        "print(x)"
      ],
      "metadata": {
        "colab": {
          "base_uri": "https://localhost:8080/"
        },
        "id": "3OWG0cTv5C60",
        "outputId": "c4e30916-130e-4af6-e362-56b7bd52a9fe"
      },
      "execution_count": 13,
      "outputs": [
        {
          "output_type": "stream",
          "name": "stdout",
          "text": [
            "200\n",
            "300\n"
          ]
        }
      ]
    },
    {
      "cell_type": "code",
      "source": [
        "x = 300\n",
        "\n",
        "def myfunc():\n",
        "  print(x)\n",
        "\n",
        "myfunc()\n",
        "\n",
        "print(x)"
      ],
      "metadata": {
        "colab": {
          "base_uri": "https://localhost:8080/"
        },
        "id": "F87ZxEyT01sg",
        "outputId": "c21836f3-5ea3-47f6-96b2-f6a5521d4a2a"
      },
      "execution_count": 11,
      "outputs": [
        {
          "output_type": "stream",
          "name": "stdout",
          "text": [
            "300\n",
            "300\n"
          ]
        }
      ]
    },
    {
      "cell_type": "code",
      "source": [
        "# Global Keyword\n",
        "# If you need to create a global variable, but are stuck in the local scope, you can use the global keyword.\n",
        "# The global keyword makes the variable global.\n",
        "\n",
        "def myfunc():\n",
        "  global x\n",
        "  x = 300\n",
        "\n",
        "myfunc()\n",
        "\n",
        "print(x)"
      ],
      "metadata": {
        "colab": {
          "base_uri": "https://localhost:8080/"
        },
        "id": "dNPjG7C-5HS8",
        "outputId": "c80a9a43-b2ba-4809-8688-ff55829f3ea1"
      },
      "execution_count": 14,
      "outputs": [
        {
          "output_type": "stream",
          "name": "stdout",
          "text": [
            "300\n"
          ]
        }
      ]
    },
    {
      "cell_type": "code",
      "source": [
        "x = 300\n",
        "\n",
        "def myfunc():\n",
        "  global x\n",
        "  x = 200\n",
        "\n",
        "myfunc()\n",
        "\n",
        "print(x)"
      ],
      "metadata": {
        "colab": {
          "base_uri": "https://localhost:8080/"
        },
        "id": "YtkMWuMD5heP",
        "outputId": "f3cf7e8c-66c3-4bf0-abb7-1b57279dd405"
      },
      "execution_count": 15,
      "outputs": [
        {
          "output_type": "stream",
          "name": "stdout",
          "text": [
            "200\n"
          ]
        }
      ]
    },
    {
      "cell_type": "code",
      "source": [
        "# Nonlocal Keyword\n",
        "# The nonlocal keyword is used to work with variables inside nested functions.\n",
        "# The nonlocal keyword makes the variable belong to the outer function.\n",
        "\n",
        "def myfunc1():\n",
        "  x = \"Jane\"\n",
        "  def myfunc2():\n",
        "    nonlocal x\n",
        "    x = \"hello\"\n",
        "  myfunc2()\n",
        "  return x\n",
        "\n",
        "print(myfunc1())"
      ],
      "metadata": {
        "colab": {
          "base_uri": "https://localhost:8080/"
        },
        "id": "CbN9uMXq5ihf",
        "outputId": "60d2173d-3614-4464-b320-a66eda37a970"
      },
      "execution_count": 16,
      "outputs": [
        {
          "output_type": "stream",
          "name": "stdout",
          "text": [
            "hello\n"
          ]
        }
      ]
    },
    {
      "cell_type": "code",
      "source": [
        "# Module\n",
        "# Consider a module to be the same as a code library.\n",
        "# A file containing a set of functions you want to include in your application."
      ],
      "metadata": {
        "id": "cQkgq9bC56r6"
      },
      "execution_count": null,
      "outputs": []
    },
    {
      "cell_type": "code",
      "source": [
        "# Create a Module\n",
        "# To create a module just save the code you want in a file with the file extension .py\n",
        "# Saved as mymodule.py\n",
        "'''\n",
        "def greeting(name):\n",
        "  print(\"Hello, \" + name)\n",
        "\n",
        "person1 = {\n",
        "  \"name\": \"John\",\n",
        "  \"age\": 36,\n",
        "  \"country\": \"Norway\"\n",
        "}\n",
        "'''\n",
        "# Use a Module\n",
        "# Now we can use the module we just created, by using the import statement\n",
        "'''\n",
        "import mymodule\n",
        "\n",
        "mymodule.greeting(\"Jonathan\")\n",
        "\n",
        "a = mymodule.person1[\"age\"]\n",
        "print(a)\n",
        "'''"
      ],
      "metadata": {
        "id": "fzW0L_fr6BPC"
      },
      "execution_count": null,
      "outputs": []
    },
    {
      "cell_type": "code",
      "source": [
        "# Datetime\n",
        "# A date in Python is not a data type of its own, but we can import a module named datetime to work with dates as date objects.\n",
        "\n",
        "import datetime\n",
        "\n",
        "x = datetime.datetime(2018, 6, 1)\n",
        "\n",
        "print(x.strftime(\"%B\"))"
      ],
      "metadata": {
        "colab": {
          "base_uri": "https://localhost:8080/"
        },
        "id": "fT6-61_V7W6k",
        "outputId": "b31b2b12-63f1-42a6-f2cd-37dcbef3524b"
      },
      "execution_count": 17,
      "outputs": [
        {
          "output_type": "stream",
          "name": "stdout",
          "text": [
            "June\n"
          ]
        }
      ]
    },
    {
      "cell_type": "code",
      "source": [
        "# Math\n",
        "# Python has a set of built-in math functions, including an extensive math module, that allows you to perform mathematical tasks on numbers."
      ],
      "metadata": {
        "id": "uGbgxNuo8Zv7"
      },
      "execution_count": null,
      "outputs": []
    },
    {
      "cell_type": "code",
      "source": [
        "x = min(5, 10, 25)\n",
        "y = max(5, 10, 25)\n",
        "z = abs(-7.25)         # absolute (positive)\n",
        "a = pow(4, 3)          # x to the power of y\n",
        "\n",
        "print(x)\n",
        "print(y)\n",
        "print(z)\n",
        "print(a)"
      ],
      "metadata": {
        "colab": {
          "base_uri": "https://localhost:8080/"
        },
        "id": "PmneNaOF8g5L",
        "outputId": "dd5e107e-695e-46d8-a14f-82cc498e2ad1"
      },
      "execution_count": 20,
      "outputs": [
        {
          "output_type": "stream",
          "name": "stdout",
          "text": [
            "5\n",
            "25\n",
            "7.25\n",
            "64\n"
          ]
        }
      ]
    },
    {
      "cell_type": "code",
      "source": [
        "# Python has also a built-in module called math, which extends the list of mathematical functions.\n",
        "\n",
        "import math\n",
        "\n",
        "x = math.sqrt(64)\n",
        "\n",
        "print(x)\n"
      ],
      "metadata": {
        "colab": {
          "base_uri": "https://localhost:8080/"
        },
        "id": "SbINjBqb8tz2",
        "outputId": "51f4dd42-cb5d-4937-b107-a20d890a6a61"
      },
      "execution_count": 22,
      "outputs": [
        {
          "output_type": "stream",
          "name": "stdout",
          "text": [
            "8.0\n"
          ]
        }
      ]
    },
    {
      "cell_type": "code",
      "source": [
        "# math methods\n",
        "\n",
        "for i in dir(math):\n",
        "  if not i.startswith(\"__\"):\n",
        "    print(i)"
      ],
      "metadata": {
        "collapsed": true,
        "colab": {
          "base_uri": "https://localhost:8080/"
        },
        "id": "pAJ0Cp6J9rJ8",
        "outputId": "00d4e9be-58f4-4a89-9df3-8af8cefc8a38"
      },
      "execution_count": 23,
      "outputs": [
        {
          "output_type": "stream",
          "name": "stdout",
          "text": [
            "acos\n",
            "acosh\n",
            "asin\n",
            "asinh\n",
            "atan\n",
            "atan2\n",
            "atanh\n",
            "cbrt\n",
            "ceil\n",
            "comb\n",
            "copysign\n",
            "cos\n",
            "cosh\n",
            "degrees\n",
            "dist\n",
            "e\n",
            "erf\n",
            "erfc\n",
            "exp\n",
            "exp2\n",
            "expm1\n",
            "fabs\n",
            "factorial\n",
            "floor\n",
            "fmod\n",
            "frexp\n",
            "fsum\n",
            "gamma\n",
            "gcd\n",
            "hypot\n",
            "inf\n",
            "isclose\n",
            "isfinite\n",
            "isinf\n",
            "isnan\n",
            "isqrt\n",
            "lcm\n",
            "ldexp\n",
            "lgamma\n",
            "log\n",
            "log10\n",
            "log1p\n",
            "log2\n",
            "modf\n",
            "nan\n",
            "nextafter\n",
            "perm\n",
            "pi\n",
            "pow\n",
            "prod\n",
            "radians\n",
            "remainder\n",
            "sin\n",
            "sinh\n",
            "sqrt\n",
            "tan\n",
            "tanh\n",
            "tau\n",
            "trunc\n",
            "ulp\n"
          ]
        }
      ]
    },
    {
      "cell_type": "code",
      "source": [
        "# RegEx\n",
        "# A RegEx, or Regular Expression, is a sequence of characters that forms a search pattern.\n",
        "# RegEx can be used to check if a string contains the specified search pattern.\n",
        "\n",
        "import re\n",
        "\n",
        "txt = \"The rain in Spain\"\n",
        "x = re.search(\"^The.*Spain$\", txt)\n",
        "print(x)"
      ],
      "metadata": {
        "id": "K8CNBYS2F4z6",
        "outputId": "ed5759bd-f028-49f9-f261-bac416ba137d",
        "colab": {
          "base_uri": "https://localhost:8080/"
        }
      },
      "execution_count": 32,
      "outputs": [
        {
          "output_type": "stream",
          "name": "stdout",
          "text": [
            "<re.Match object; span=(0, 17), match='The rain in Spain'>\n"
          ]
        }
      ]
    },
    {
      "cell_type": "code",
      "source": [
        "# F-Strings\n",
        "# F-string allows you to format selected parts of a string.\n",
        "\n",
        "price = 59\n",
        "txt = f\"The price is {price} dollars\"\n",
        "print(txt)\n",
        "print(f\"The price is {price:.2f} dollars\")\n",
        "print(f\"The price is {20 * 59} dollars\")\n",
        "print(f\"It is very {'Expensive' if price>50 else 'Cheap'}\")\n",
        "\n",
        "def myconverter(x):\n",
        "  return x * 0.3048\n",
        "\n",
        "print(f\"The plane is flying at a {myconverter(30000)} meter altitude\")"
      ],
      "metadata": {
        "id": "6F9C3tABGnz_",
        "outputId": "5f2a1b24-57ab-4f7f-f757-77377899ee96",
        "colab": {
          "base_uri": "https://localhost:8080/"
        }
      },
      "execution_count": 34,
      "outputs": [
        {
          "output_type": "stream",
          "name": "stdout",
          "text": [
            "The price is 59 dollars\n",
            "The price is 59.00 dollars\n",
            "The price is 1180 dollars\n",
            "It is very Expensive\n"
          ]
        }
      ]
    },
    {
      "cell_type": "code",
      "source": [
        "quantity = 3\n",
        "itemno = 567\n",
        "price = 49\n",
        "myorder = \"I want {} pieces of item number {} for {:.2f} dollars.\"\n",
        "print(myorder.format(quantity, itemno, price))\n",
        "\n",
        "myorder = \"I want {0} pieces of item number {1} for {2:.2f} dollars.\"\n",
        "print(myorder.format(quantity, itemno, price))\n",
        "\n",
        "myorder = \"I have a {carname}, it is a {model}.\"\n",
        "print(myorder.format(carname = \"Ford\", model = \"Mustang\"))"
      ],
      "metadata": {
        "id": "Nq7beeN8HVkU",
        "outputId": "a516a623-45b2-4fdc-cc2b-d08bd8af7957",
        "colab": {
          "base_uri": "https://localhost:8080/"
        }
      },
      "execution_count": 37,
      "outputs": [
        {
          "output_type": "stream",
          "name": "stdout",
          "text": [
            "I want 3 pieces of item number 567 for 49.00 dollars.\n",
            "I want 3 pieces of item number 567 for 49.00 dollars.\n",
            "I have a Ford, it is a Mustang.\n"
          ]
        }
      ]
    },
    {
      "cell_type": "code",
      "source": [
        "a = [i if i]"
      ],
      "metadata": {
        "colab": {
          "base_uri": "https://localhost:8080/",
          "height": 106
        },
        "id": "rlFnJtN4974F",
        "outputId": "547abb5f-f39d-4ff3-bb51-bf0a40625847"
      },
      "execution_count": 35,
      "outputs": [
        {
          "output_type": "error",
          "ename": "SyntaxError",
          "evalue": "expected 'else' after 'if' expression (<ipython-input-35-6af2be9959fe>, line 1)",
          "traceback": [
            "\u001b[0;36m  File \u001b[0;32m\"<ipython-input-35-6af2be9959fe>\"\u001b[0;36m, line \u001b[0;32m1\u001b[0m\n\u001b[0;31m    a = [i if i]\u001b[0m\n\u001b[0m         ^\u001b[0m\n\u001b[0;31mSyntaxError\u001b[0m\u001b[0;31m:\u001b[0m expected 'else' after 'if' expression\n"
          ]
        }
      ]
    },
    {
      "cell_type": "code",
      "source": [],
      "metadata": {
        "colab": {
          "base_uri": "https://localhost:8080/",
          "height": 36
        },
        "id": "78YKCic-BUwM",
        "outputId": "21f88366-7aed-4a8a-8947-18c8b84407d3"
      },
      "execution_count": 27,
      "outputs": [
        {
          "output_type": "execute_result",
          "data": {
            "text/plain": [
              "'ABCD'"
            ],
            "application/vnd.google.colaboratory.intrinsic+json": {
              "type": "string"
            }
          },
          "metadata": {},
          "execution_count": 27
        }
      ]
    },
    {
      "cell_type": "code",
      "source": [
        "10<<2"
      ],
      "metadata": {
        "id": "6WSMvYKng5oS",
        "colab": {
          "base_uri": "https://localhost:8080/"
        },
        "outputId": "f0e8f8bc-8e78-4820-8352-bc73a997ffb6"
      },
      "execution_count": null,
      "outputs": [
        {
          "output_type": "execute_result",
          "data": {
            "text/plain": [
              "40"
            ]
          },
          "metadata": {},
          "execution_count": 5
        }
      ]
    },
    {
      "cell_type": "code",
      "source": [
        "#enumerate\n"
      ],
      "metadata": {
        "id": "BAsvM1aIRhuT"
      },
      "execution_count": null,
      "outputs": []
    },
    {
      "cell_type": "markdown",
      "source": [
        "https://realpython.com/python-type-checking/"
      ],
      "metadata": {
        "id": "rQkK0lHFRlAC"
      }
    },
    {
      "cell_type": "markdown",
      "source": [
        "3D computer vision"
      ],
      "metadata": {
        "id": "VmJUg_1vaE4T"
      }
    }
  ]
}
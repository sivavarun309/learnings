{
  "nbformat": 4,
  "nbformat_minor": 0,
  "metadata": {
    "colab": {
      "provenance": [],
      "authorship_tag": "ABX9TyO8JcaJ9gspsX2YuaPfUZmM",
      "include_colab_link": true
    },
    "kernelspec": {
      "name": "python3",
      "display_name": "Python 3"
    },
    "language_info": {
      "name": "python"
    }
  },
  "cells": [
    {
      "cell_type": "markdown",
      "metadata": {
        "id": "view-in-github",
        "colab_type": "text"
      },
      "source": [
        "<a href=\"https://colab.research.google.com/github/sivavarun309/learnings/blob/main/Python_Learnings.ipynb\" target=\"_parent\"><img src=\"https://colab.research.google.com/assets/colab-badge.svg\" alt=\"Open In Colab\"/></a>"
      ]
    },
    {
      "cell_type": "code",
      "source": [
        "#Enironments\n",
        "#-Environments help to manage different spaces for different projects\n",
        "#-If we are working in different project which requires different dependencies or different python version (Liberaries are more stable with the specific version of python)"
      ],
      "metadata": {
        "id": "FR9dm732ytKo"
      },
      "execution_count": null,
      "outputs": []
    },
    {
      "cell_type": "code",
      "source": [
        "\"\"\"\n",
        "Creating the Environments\n",
        "\n",
        "conda create -p <name> python==3.12   #-p is to create a environment in the same directory and we can specify the version of python we want to install\n",
        "conda create -n <name> python==3.12   #-n is to create a environment in the main conda directory\n",
        "\n",
        "It is always recommended to create a environment in the working directory\n",
        "<name>  is to meniton the environment name\n",
        "\n",
        "Activating the Environment\n",
        "-After creating the environment we have to activate it, so that we can install the required packages only for that environment\n",
        "\n",
        "conda activate <name>/     #<name> is the name of the environment and \"/\" indicate the inside of the environment folder where the packages need to be installed\n",
        "\"\"\"\n",
        "\n",
        "'''\n",
        "Installing packages\n",
        "\n",
        "pip install <package name>\n",
        "pip install -r <requirement.txt>\n",
        "\n",
        "Running code\n",
        "\n",
        "-Running code of the environment in the notebook requires to select the kernal which will be the environemnt\n",
        "-Also for running the notebook code in environment we need the ipykernal, to install that\n",
        "\n",
        "pip install ipykernal\n",
        "'''\n"
      ],
      "metadata": {
        "id": "6aU0EjDY0-LH"
      },
      "execution_count": null,
      "outputs": []
    },
    {
      "cell_type": "code",
      "execution_count": null,
      "metadata": {
        "colab": {
          "base_uri": "https://localhost:8080/"
        },
        "id": "SOiOTl-4zMf5",
        "outputId": "71a88a45-8bcd-4bbd-9531-821a10944364"
      },
      "outputs": [
        {
          "output_type": "stream",
          "name": "stdout",
          "text": [
            "Hello world\n"
          ]
        }
      ],
      "source": [
        "print(\"Hello world\")"
      ]
    },
    {
      "cell_type": "code",
      "source": [
        "print(\"\"\"Multi Line print statement\n",
        "      Line 1 .....\n",
        "      Line 2......\"\"\")"
      ],
      "metadata": {
        "colab": {
          "base_uri": "https://localhost:8080/"
        },
        "id": "HgSDoBp9G18s",
        "outputId": "3b713c06-2b53-4fb1-8a64-34f6e7101511"
      },
      "execution_count": null,
      "outputs": [
        {
          "output_type": "stream",
          "name": "stdout",
          "text": [
            "Multi Line print statement\n",
            "      Line 1 .....\n",
            "      Line 2......\n"
          ]
        }
      ]
    },
    {
      "cell_type": "code",
      "source": [
        "#Variables\n",
        "greet = \"Hello\"\n",
        "number = 12\n",
        "height = 5.1\n",
        "isChecked = True"
      ],
      "metadata": {
        "id": "OlQeaHY41m6V"
      },
      "execution_count": null,
      "outputs": []
    },
    {
      "cell_type": "code",
      "source": [
        "#Type Check or getting the type\n",
        "print(type(greet))\n",
        "print(type(number))\n",
        "print(type(height))\n",
        "print(type(isChecked))"
      ],
      "metadata": {
        "id": "CNhwuY1GBIdX",
        "outputId": "bd81c0d1-81c4-4354-9ebb-c877087cf0b0",
        "colab": {
          "base_uri": "https://localhost:8080/"
        }
      },
      "execution_count": null,
      "outputs": [
        {
          "output_type": "stream",
          "name": "stdout",
          "text": [
            "<class 'str'>\n",
            "<class 'int'>\n",
            "<class 'float'>\n",
            "<class 'bool'>\n"
          ]
        }
      ]
    },
    {
      "cell_type": "code",
      "source": [
        "#Type conversion or type casting\n",
        "print(int(height))  # converting the float height to integer height\n",
        "print(str(height))  # converting the float to string\n",
        "\n",
        "#Incompatible conversions\n",
        "# Char string  -> Integer\n",
        "# Float String -> Integer"
      ],
      "metadata": {
        "id": "StDKfD6iBrlX",
        "outputId": "4537bae2-22e8-4cab-b96b-2389a61ca1d6",
        "colab": {
          "base_uri": "https://localhost:8080/"
        }
      },
      "execution_count": null,
      "outputs": [
        {
          "output_type": "stream",
          "name": "stdout",
          "text": [
            "5\n",
            "5.1\n"
          ]
        }
      ]
    },
    {
      "cell_type": "code",
      "source": [
        "string = \"Hello\"\n",
        "integer = 12\n",
        "Float = 5.1\n",
        "Boolean = True"
      ],
      "metadata": {
        "id": "Oxrfd0-JSF7k"
      },
      "execution_count": null,
      "outputs": []
    },
    {
      "cell_type": "code",
      "source": [
        "# String Methods\n",
        "for i in dir(string):\n",
        "  if not i.startswith(\"__\"):\n",
        "    print(i)"
      ],
      "metadata": {
        "collapsed": true,
        "colab": {
          "base_uri": "https://localhost:8080/"
        },
        "id": "oVIKUZTCSs4D",
        "outputId": "625b3d7d-22c6-4d16-df65-392f28feaabb"
      },
      "execution_count": null,
      "outputs": [
        {
          "output_type": "stream",
          "name": "stdout",
          "text": [
            "capitalize\n",
            "casefold\n",
            "center\n",
            "count\n",
            "encode\n",
            "endswith\n",
            "expandtabs\n",
            "find\n",
            "format\n",
            "format_map\n",
            "index\n",
            "isalnum\n",
            "isalpha\n",
            "isascii\n",
            "isdecimal\n",
            "isdigit\n",
            "isidentifier\n",
            "islower\n",
            "isnumeric\n",
            "isprintable\n",
            "isspace\n",
            "istitle\n",
            "isupper\n",
            "join\n",
            "ljust\n",
            "lower\n",
            "lstrip\n",
            "maketrans\n",
            "partition\n",
            "removeprefix\n",
            "removesuffix\n",
            "replace\n",
            "rfind\n",
            "rindex\n",
            "rjust\n",
            "rpartition\n",
            "rsplit\n",
            "rstrip\n",
            "split\n",
            "splitlines\n",
            "startswith\n",
            "strip\n",
            "swapcase\n",
            "title\n",
            "translate\n",
            "upper\n",
            "zfill\n"
          ]
        }
      ]
    },
    {
      "cell_type": "code",
      "source": [
        "# Integer Methods\n",
        "for i in dir(integer):\n",
        "  if not i.startswith(\"__\"):\n",
        "    print(i)"
      ],
      "metadata": {
        "colab": {
          "base_uri": "https://localhost:8080/"
        },
        "id": "1hGj3dXvS9hG",
        "outputId": "993a5df4-bf1b-4e1d-f130-db4a62984cc1"
      },
      "execution_count": null,
      "outputs": [
        {
          "output_type": "stream",
          "name": "stdout",
          "text": [
            "as_integer_ratio\n",
            "bit_count\n",
            "bit_length\n",
            "conjugate\n",
            "denominator\n",
            "from_bytes\n",
            "imag\n",
            "numerator\n",
            "real\n",
            "to_bytes\n"
          ]
        }
      ]
    },
    {
      "cell_type": "code",
      "source": [
        "# Float Methods\n",
        "for i in dir(Float):\n",
        "  if not i.startswith(\"__\"):\n",
        "    print(i)"
      ],
      "metadata": {
        "colab": {
          "base_uri": "https://localhost:8080/"
        },
        "id": "I0hGJnftS-J5",
        "outputId": "48bbc714-210b-4f76-8212-4260eb494332"
      },
      "execution_count": null,
      "outputs": [
        {
          "output_type": "stream",
          "name": "stdout",
          "text": [
            "as_integer_ratio\n",
            "conjugate\n",
            "fromhex\n",
            "hex\n",
            "imag\n",
            "is_integer\n",
            "real\n"
          ]
        }
      ]
    },
    {
      "cell_type": "code",
      "source": [
        "# Boolean Methods\n",
        "for i in dir(Boolean):\n",
        "  if not i.startswith(\"__\"):\n",
        "    print(i)"
      ],
      "metadata": {
        "colab": {
          "base_uri": "https://localhost:8080/"
        },
        "id": "OzLkK_NSS-q6",
        "outputId": "82aa11d1-338a-4c8f-a521-6ad152204fea"
      },
      "execution_count": null,
      "outputs": [
        {
          "output_type": "stream",
          "name": "stdout",
          "text": [
            "as_integer_ratio\n",
            "bit_count\n",
            "bit_length\n",
            "conjugate\n",
            "denominator\n",
            "from_bytes\n",
            "imag\n",
            "numerator\n",
            "real\n",
            "to_bytes\n"
          ]
        }
      ]
    },
    {
      "cell_type": "code",
      "source": [
        "#Input function\n",
        "var = input(\"Enter the Value: \")\n",
        "print(var)"
      ],
      "metadata": {
        "id": "6mSF_cHBDU0n",
        "outputId": "5dedddbc-8a2f-4dc0-cd5a-7a4b5d3576da",
        "colab": {
          "base_uri": "https://localhost:8080/"
        }
      },
      "execution_count": null,
      "outputs": [
        {
          "output_type": "stream",
          "name": "stdout",
          "text": [
            "Enter the Value: test\n",
            "test\n"
          ]
        }
      ]
    },
    {
      "cell_type": "code",
      "source": [
        "# Type Casting\n",
        "# input function will only receive the string output which will through error most of the times\n",
        "# solution: module ast which will convert the datatype into a most suitable datatype i.e., if the string has the multiple string seperated by comma enclosed in bracket then\n",
        "# \"ast\" convert the string to list"
      ],
      "metadata": {
        "id": "NWv269RIgisj"
      },
      "execution_count": null,
      "outputs": []
    },
    {
      "cell_type": "code",
      "source": [
        "import ast\n",
        "var = ast.literal_eval(input(\"Enter the Value: \"))\n",
        "print(var)\n",
        "print(type(var))"
      ],
      "metadata": {
        "colab": {
          "base_uri": "https://localhost:8080/"
        },
        "id": "JtU4RdzKhL_u",
        "outputId": "78ebcdb6-2b47-40ce-805e-948f19eb4c27"
      },
      "execution_count": null,
      "outputs": [
        {
          "output_type": "stream",
          "name": "stdout",
          "text": [
            "Enter the Value: ['a', 'b', 'c']\n",
            "['a', 'b', 'c']\n",
            "<class 'list'>\n"
          ]
        }
      ]
    },
    {
      "cell_type": "code",
      "source": [
        "#Operators\n",
        "#- the caracter or symbol which takes input and gives the otput through some operations"
      ],
      "metadata": {
        "id": "ydX2smb7DCdl"
      },
      "execution_count": null,
      "outputs": []
    },
    {
      "cell_type": "code",
      "source": [
        "# #Arithemetic Operators\n",
        "# +   Addition\n",
        "# -   Subtraction\n",
        "# *   Multiplication\n",
        "# /   Division\n",
        "# %   Modulus(Gives Reminder of the division)\n",
        "# **  Exponential(Power)\n",
        "# //  Floor Division(Gives Qotient)\n",
        "# # Assignment Operators\n",
        "# =    x=5\n",
        "# +=   x=x+5\n",
        "# -=   x=x-5\n",
        "# *=   x=x*5\n",
        "# /=   x=x/5\n",
        "# **=  x=x**5\n",
        "# %=   x=x%5\n",
        "# //=  x=x//5\n",
        "# &=   x=x&5\n",
        "# |=   x=x|5\n",
        "# ^=   x=x^5\n",
        "# <<=  x=x<<5\n",
        "# >>=  x=x>>5\n",
        "# :=   print(x:=5)  (i.e., x=5\n",
        "#                          print(x))\n",
        "# #Comparison Operators\n",
        "# ==    Equal\n",
        "# !=    Not Equal\n",
        "# >     Greater than\n",
        "# <     Lower than\n",
        "# >=    Greater than or equal to\n",
        "# <=    lower than or equal to\n",
        "# #Logical Operators\n",
        "# and   Returns True if both statements are true\t              #x < 5 and  x < 10\n",
        "# or    Returns True if one of the statements is true\t          #x < 5 or x < 4\n",
        "# not   Reverse the result, returns False if the result is true\t#not(x < 5 and x < 10)\n",
        "# #Identity Operators\n",
        "# is      Returns True if both variables are the same object\t    #x is y\n",
        "# is not  Returns True if both variables are not the same object\t#x is not y\n",
        "# #Membership Operators\n",
        "# in      Returns True if a sequence with the specified value is present in the object\t    #x in y\n",
        "# not in  Returns True if a sequence with the specified value is not present in the object\t#x not in y\n",
        "# #Bitwise Operators\n",
        "# &   AND ->  10&5 -> 1010 & 0101 = 0000 -> 0(Decimal)\n",
        "# |   OR  ->  10|5 -> 1010 | 0101 = 1111 -> 15(Decimal)\n",
        "# ^   XOR ->  10^7 -> 1010 ^ 0111 = 1101 -> 13(Decimal)\n",
        "# ~   1's Complement -> ~1010 = -(1010+1) = -1011 -> -11(Decimal)\n",
        "# <<  Left Shift -> 10<<2 -> 1010<<2 -> 101000 = 40(Decimal)\n",
        "# >>  Right Shift -> 10>>2 -> 1010>>2 -> 10    = 2(Decimal)\n",
        "\n"
      ],
      "metadata": {
        "id": "-qDu94Co9b1M"
      },
      "execution_count": null,
      "outputs": []
    },
    {
      "cell_type": "code",
      "source": [
        "print(10&5)\n",
        "print(10|5)\n",
        "print(10^7)\n",
        "print(~10)\n",
        "print(10<<2)\n",
        "print(10>>2)"
      ],
      "metadata": {
        "colab": {
          "base_uri": "https://localhost:8080/"
        },
        "id": "fdVvDFXyFh79",
        "outputId": "6f1a5838-c1f3-432b-9ba2-08e341738bf8"
      },
      "execution_count": null,
      "outputs": [
        {
          "output_type": "stream",
          "name": "stdout",
          "text": [
            "0\n",
            "15\n",
            "13\n",
            "-11\n",
            "40\n",
            "2\n"
          ]
        }
      ]
    },
    {
      "cell_type": "code",
      "source": [
        "# mutable vs immutables\n",
        "# all the value assigned to variable will be stored in particular memory\n",
        "# if the value assigned can be changed without changing the memory location then it is mutable\n",
        "# if the value assigned can be changed only by changing the memory or assinging the variable to other memory then it is immutable\n",
        "# int, float, bool, str, tuple -> immutable\n",
        "# list, dictionary, sets -> mutables"
      ],
      "metadata": {
        "id": "o4A7yfP_hYEu"
      },
      "execution_count": null,
      "outputs": []
    },
    {
      "cell_type": "code",
      "source": [
        "# hashable vs unhashable\n",
        "# the immutable objects which cannot be changed within the memory through the code can be identified using unique the hash value, are known as hashable objects\n",
        "# mutable object which will change through program cannot be identified with unique value, are unhashable values"
      ],
      "metadata": {
        "id": "OjMx4pXsiLlS"
      },
      "execution_count": null,
      "outputs": []
    },
    {
      "cell_type": "code",
      "source": [
        "# List -> ls = [1,2,3]\n",
        "# List items are ordered, changeable, and allow duplicate values.\n",
        "# Ordered -> it means that the items have a defined order, and that order will not change.it doesn't mean about ascending or descending order\n",
        "# changeable -> it means that we can change, add, and remove items in a list after it has been created.\n",
        "# allow duplicate values -> Since lists are indexed, lists can have items with the same value"
      ],
      "metadata": {
        "id": "4eThFHy1Frs8"
      },
      "execution_count": null,
      "outputs": []
    },
    {
      "cell_type": "code",
      "source": [
        "ls = [1,2,3]\n",
        "print(type(ls))\n",
        "for i in dir(ls):\n",
        "  if not i.startswith(\"__\"):\n",
        "    print(i)"
      ],
      "metadata": {
        "colab": {
          "base_uri": "https://localhost:8080/"
        },
        "id": "TAU5pmhaGlOR",
        "outputId": "5c35564c-0b18-4432-b620-707b3f827a62"
      },
      "execution_count": null,
      "outputs": [
        {
          "output_type": "stream",
          "name": "stdout",
          "text": [
            "<class 'list'>\n",
            "append\n",
            "clear\n",
            "copy\n",
            "count\n",
            "extend\n",
            "index\n",
            "insert\n",
            "pop\n",
            "remove\n",
            "reverse\n",
            "sort\n"
          ]
        }
      ]
    },
    {
      "cell_type": "code",
      "source": [
        "# extend vs \"+\"(concat)\n",
        "# extend method will extend the list with the other list without cahnge of the original memeory location\n",
        "# \"+\" concat method will concat both the list and store it in a new memeory location resulting in new memroy point to variable"
      ],
      "metadata": {
        "id": "Nin8SOLWhV7-"
      },
      "execution_count": null,
      "outputs": []
    },
    {
      "cell_type": "code",
      "source": [
        "a = [1, 2, 3]\n",
        "b = ['a', 'b', 'c']\n",
        "a = a + b\n",
        "print(id(a))\n",
        "a = [1, 2, 3]\n",
        "b = ['a', 'b', 'c']\n",
        "a.extend(b)\n",
        "print(id(a))"
      ],
      "metadata": {
        "colab": {
          "base_uri": "https://localhost:8080/"
        },
        "id": "VayFcY0vjOoo",
        "outputId": "58348785-c379-4a15-c6ac-f1dc930c2c59"
      },
      "execution_count": null,
      "outputs": [
        {
          "output_type": "stream",
          "name": "stdout",
          "text": [
            "138030233118784\n",
            "138030233110528\n"
          ]
        }
      ]
    },
    {
      "cell_type": "code",
      "source": [
        "# Tuple -> tup = (1,2,3)\n",
        "# A tuple is a collection which is ordered and unchangeable and allow duplicate values.\n",
        "# unchangeable -> it means that we cannot change, add or remove items after the tuple has been created."
      ],
      "metadata": {
        "id": "vg2mFoHAG5QK"
      },
      "execution_count": null,
      "outputs": []
    },
    {
      "cell_type": "code",
      "source": [
        "tup = (1,2,3)\n",
        "print(type(tup))\n",
        "for i in dir(tup):\n",
        "  if not i.startswith(\"__\"):\n",
        "    print(i)"
      ],
      "metadata": {
        "colab": {
          "base_uri": "https://localhost:8080/"
        },
        "id": "qHVZRjBHHkJc",
        "outputId": "c2f4210c-3eca-43f1-e223-88adebac2536"
      },
      "execution_count": null,
      "outputs": [
        {
          "output_type": "stream",
          "name": "stdout",
          "text": [
            "<class 'tuple'>\n",
            "count\n",
            "index\n"
          ]
        }
      ]
    },
    {
      "cell_type": "code",
      "source": [
        "# Set -> set = {1,2,3}\n",
        "# A set is a collection which is unordered, unchangeable*, Duplicates Not Allowed and unindexed.\n",
        "# Unordered -> the items in a set do not have a defined order. Set items can appear in a different order every time you use them, and cannot be referred to by index or key.\n",
        "# Unchangeable -> we cannot change the items after the set has been created.but you can add or remove the items\n",
        "# Unindexed -> we cannot access items in a set by referring to an index. Set items can appear in a different order every time you use them, and cannot be referred to by index or key.\n",
        "# Duplicates Not Allowed -> Sets cannot have two items with the same value.\n",
        "# sets won't accept unhashable objects as their elements"
      ],
      "metadata": {
        "id": "a9oB0kCUH50F"
      },
      "execution_count": null,
      "outputs": []
    },
    {
      "cell_type": "code",
      "source": [
        "se = {1,2,3}\n",
        "print(type(se))\n",
        "for i in dir(se):\n",
        "  if not i.startswith(\"__\"):\n",
        "    print(i)"
      ],
      "metadata": {
        "colab": {
          "base_uri": "https://localhost:8080/"
        },
        "id": "ue7wFtlDIzwA",
        "outputId": "a60ff9e4-0ce7-4436-8265-bf65a60c3030"
      },
      "execution_count": null,
      "outputs": [
        {
          "output_type": "stream",
          "name": "stdout",
          "text": [
            "<class 'set'>\n",
            "add\n",
            "clear\n",
            "copy\n",
            "difference\n",
            "difference_update\n",
            "discard\n",
            "intersection\n",
            "intersection_update\n",
            "isdisjoint\n",
            "issubset\n",
            "issuperset\n",
            "pop\n",
            "remove\n",
            "symmetric_difference\n",
            "symmetric_difference_update\n",
            "union\n",
            "update\n"
          ]
        }
      ]
    },
    {
      "cell_type": "code",
      "source": [
        "# Dictionary -> dictionary = {\"key\":\"value\"}\n",
        "# Dictionaries are used to store data values in key:value pairs.\n",
        "# A dictionary is a collection which is ordered*, changeable and do not allow duplicates.\n",
        "# As of Python version 3.7, dictionaries are ordered. In Python 3.6 and earlier, dictionaries are unordered.\n",
        "# Duplicates Not Allowed -> Dictionaries cannot have two items with the same key:\n",
        "# Dictionary key must always be hashable objects or immutable values\n",
        "# tuples can also be used as a key in dictionaries"
      ],
      "metadata": {
        "id": "2Vxlx9B1JQf3"
      },
      "execution_count": null,
      "outputs": []
    },
    {
      "cell_type": "code",
      "source": [
        "dictionary = {\"key\":\"value\"}\n",
        "print(type(dictionary))\n",
        "for i in dir(dictionary):\n",
        "  if not i.startswith(\"__\"):\n",
        "    print(i)"
      ],
      "metadata": {
        "colab": {
          "base_uri": "https://localhost:8080/"
        },
        "id": "zoGnQc_bJinG",
        "outputId": "4e6871a7-726a-4e13-e9a9-bdd627a6cdde"
      },
      "execution_count": null,
      "outputs": [
        {
          "output_type": "stream",
          "name": "stdout",
          "text": [
            "<class 'dict'>\n",
            "clear\n",
            "copy\n",
            "fromkeys\n",
            "get\n",
            "items\n",
            "keys\n",
            "pop\n",
            "popitem\n",
            "setdefault\n",
            "update\n",
            "values\n"
          ]
        }
      ]
    },
    {
      "cell_type": "code",
      "source": [
        "# IF Statement(Conditional Statement)\n",
        "# IF is an conditional statement which makes use of the conditional Operators\n",
        "# keywords : if, elif, else"
      ],
      "metadata": {
        "id": "PpLVkkotJsVV"
      },
      "execution_count": null,
      "outputs": []
    },
    {
      "cell_type": "code",
      "source": [
        "a,b = 33,200\n",
        "if b > a:\n",
        "  print(\"b is greater than a\")\n",
        "elif b == a:\n",
        "  print(\"b is equal to a\")\n",
        "else:\n",
        "  print(\"b is less than a\")"
      ],
      "metadata": {
        "colab": {
          "base_uri": "https://localhost:8080/"
        },
        "id": "kyhjrhpXKZiB",
        "outputId": "94ada77c-aef8-4f41-db01-5fd528c38cbf"
      },
      "execution_count": null,
      "outputs": [
        {
          "output_type": "stream",
          "name": "stdout",
          "text": [
            "b is greater than a\n"
          ]
        }
      ]
    },
    {
      "cell_type": "code",
      "source": [
        "#Nested IF\n",
        "a = 50\n",
        "if a > 10:\n",
        "  print(\"Above ten,\")\n",
        "  if a > 20:\n",
        "    print(\"and also above 20!\")\n",
        "    if a > 30:\n",
        "      print(\"and also above 30!\")\n",
        "    else:\n",
        "      print(\"Is Between 20 and 30.\")\n",
        "  else:\n",
        "    print(\"but not above 20.\")"
      ],
      "metadata": {
        "colab": {
          "base_uri": "https://localhost:8080/"
        },
        "id": "eYV0gOy2Kryn",
        "outputId": "ec170802-577a-425e-f856-aa5c72cc9fe7"
      },
      "execution_count": null,
      "outputs": [
        {
          "output_type": "stream",
          "name": "stdout",
          "text": [
            "Above ten,\n",
            "and also above 20!\n",
            "and also above 30!\n"
          ]
        }
      ]
    },
    {
      "cell_type": "code",
      "source": [
        "#Short Hand IF\n",
        "a,b = 33,200\n",
        "print(\"a is greater than b\") if a > b else print(\"b is less than or equal to a\")"
      ],
      "metadata": {
        "colab": {
          "base_uri": "https://localhost:8080/"
        },
        "id": "Sq5pIHKmLGFp",
        "outputId": "d64f1c48-9c85-4987-b075-a08e0950ad17"
      },
      "execution_count": null,
      "outputs": [
        {
          "output_type": "stream",
          "name": "stdout",
          "text": [
            "b is greater than a\n"
          ]
        }
      ]
    },
    {
      "cell_type": "code",
      "source": [
        "a,b = 33,200\n",
        "if a > b: print(\"a is greater than b\")  #Will work on IDE or .py Files"
      ],
      "metadata": {
        "id": "HWzJRwXtLlTF"
      },
      "execution_count": null,
      "outputs": []
    },
    {
      "cell_type": "code",
      "source": [
        "# Pass Statement\n",
        "# Some of the python concets like IF, For, functions through error if it has no content or we leave it empty\n",
        "# pass statement is used to avoid getting error if it has no content"
      ],
      "metadata": {
        "id": "IDPQRDs5MJvx"
      },
      "execution_count": null,
      "outputs": []
    },
    {
      "cell_type": "code",
      "source": [
        "a,b = 33,200\n",
        "if b > a:\n",
        "  pass"
      ],
      "metadata": {
        "id": "bA-ujd44Liu4"
      },
      "execution_count": null,
      "outputs": []
    },
    {
      "cell_type": "code",
      "source": [
        "# Match Statement\n",
        "# The match statement is used to perform different actions based on different conditions."
      ],
      "metadata": {
        "id": "YgOlkWZBMus7"
      },
      "execution_count": null,
      "outputs": []
    },
    {
      "cell_type": "code",
      "source": [
        "day = 4\n",
        "match day:\n",
        "  case 1:\n",
        "    print(\"Monday\")\n",
        "  case 2:\n",
        "    print(\"Tuesday\")\n",
        "  case 3:\n",
        "    print(\"Wednesday\")\n",
        "  case 4:\n",
        "    print(\"Thursday\")\n",
        "  case 5:\n",
        "    print(\"Friday\")\n",
        "  case 6:\n",
        "    print(\"Saturday\")\n",
        "  case 7:\n",
        "    print(\"Sunday\")\n",
        "  case _:\n",
        "    print(\"Invalid Day\")"
      ],
      "metadata": {
        "colab": {
          "base_uri": "https://localhost:8080/"
        },
        "id": "wtKvRNFqNRXF",
        "outputId": "5a29f11e-99d6-4201-c29c-fcd3d097ce1c"
      },
      "execution_count": null,
      "outputs": [
        {
          "output_type": "stream",
          "name": "stdout",
          "text": [
            "Thursday\n"
          ]
        }
      ]
    },
    {
      "cell_type": "code",
      "source": [
        "#Combine Values of Case\n",
        "day = 4\n",
        "match day:\n",
        "  case 1 | 2 | 3 | 4 | 5:\n",
        "    print(\"Today is a weekday\")\n",
        "  case 6 | 7:\n",
        "    print(\"I love weekends!\")"
      ],
      "metadata": {
        "colab": {
          "base_uri": "https://localhost:8080/"
        },
        "id": "WFh_kXDDNnkT",
        "outputId": "d0b42844-d3a0-4203-a090-c3a41d0bffe1"
      },
      "execution_count": null,
      "outputs": [
        {
          "output_type": "stream",
          "name": "stdout",
          "text": [
            "Today is a weekday\n"
          ]
        }
      ]
    },
    {
      "cell_type": "code",
      "source": [
        "#If statement in case of extra conditions\n",
        "month = 5\n",
        "day = 4\n",
        "match day:\n",
        "  case 1 | 2 | 3 | 4 | 5 if month == 4:\n",
        "    print(\"A weekday in April\")\n",
        "  case 1 | 2 | 3 | 4 | 5 if month == 5:\n",
        "    print(\"A weekday in May\")\n",
        "  case _:\n",
        "    print(\"No match\")"
      ],
      "metadata": {
        "colab": {
          "base_uri": "https://localhost:8080/"
        },
        "id": "sVYZtZNtNu9i",
        "outputId": "0a6f3081-01ad-468f-9381-bcfb3319edcf"
      },
      "execution_count": null,
      "outputs": [
        {
          "output_type": "stream",
          "name": "stdout",
          "text": [
            "A weekday in May\n"
          ]
        }
      ]
    },
    {
      "cell_type": "code",
      "source": [
        "# Iterators\n",
        "# objects which can be iteratable\n",
        "# iteratable is a ability to transverse througth the object\n",
        "# eg. string, list, dictionary, tuple, sets"
      ],
      "metadata": {
        "id": "EN-YbDsCAT8t"
      },
      "execution_count": null,
      "outputs": []
    },
    {
      "cell_type": "code",
      "source": [
        "lst = ['apple', 'banana', 'cherry', 'grape', 'kiwi', 'orange', 'mango']\n",
        "iteratable = iter(lst)  # making the simple list into an iteratable object\n",
        "print(type(iteratable))"
      ],
      "metadata": {
        "id": "FQytvlsCArDL",
        "outputId": "83494677-016b-4ed2-a79e-1464c4e23f8a",
        "colab": {
          "base_uri": "https://localhost:8080/"
        }
      },
      "execution_count": null,
      "outputs": [
        {
          "output_type": "stream",
          "name": "stdout",
          "text": [
            "<class 'list_iterator'>\n"
          ]
        }
      ]
    },
    {
      "cell_type": "code",
      "source": [
        "print(next(iteratable))\n",
        "print(next(iteratable))\n",
        "print(next(iteratable))\n",
        "print(next(iteratable))  # using next() function we can transverse through the iteratable object"
      ],
      "metadata": {
        "id": "7JRywgMKBKh-",
        "outputId": "8db2ed77-bc80-43fe-8826-8934d6b8e042",
        "colab": {
          "base_uri": "https://localhost:8080/"
        }
      },
      "execution_count": null,
      "outputs": [
        {
          "output_type": "stream",
          "name": "stdout",
          "text": [
            "apple\n",
            "banana\n",
            "grape\n",
            "orange\n"
          ]
        }
      ]
    },
    {
      "cell_type": "code",
      "source": [
        "# Python Loops\n",
        "# Python has two primitive loop commands:\n",
        "# while loops\n",
        "# for loops"
      ],
      "metadata": {
        "id": "1wbyAkIuN3ap"
      },
      "execution_count": null,
      "outputs": []
    },
    {
      "cell_type": "code",
      "source": [
        "# The while Loop\n",
        "# With the while loop we can execute a set of statements as long as a condition is true."
      ],
      "metadata": {
        "id": "vNQtKVsiNUeD"
      },
      "execution_count": null,
      "outputs": []
    },
    {
      "cell_type": "code",
      "source": [
        "i = 1\n",
        "while i < 6:\n",
        "  print(i)\n",
        "  i += 1"
      ],
      "metadata": {
        "colab": {
          "base_uri": "https://localhost:8080/"
        },
        "id": "Y08m886BOEdq",
        "outputId": "53757c2f-9ab7-4ebe-b75a-f83f8a175613"
      },
      "execution_count": null,
      "outputs": [
        {
          "output_type": "stream",
          "name": "stdout",
          "text": [
            "1\n",
            "2\n",
            "3\n",
            "4\n",
            "5\n"
          ]
        }
      ]
    },
    {
      "cell_type": "code",
      "source": [
        "#Break\n",
        "#with break statement we can stop the loop even if the while condition is true\n",
        "i = 1\n",
        "while i < 6:\n",
        "  print(i)\n",
        "  if i == 3:\n",
        "    break\n",
        "  i += 1"
      ],
      "metadata": {
        "colab": {
          "base_uri": "https://localhost:8080/"
        },
        "id": "E9Fkx4q3OGEL",
        "outputId": "eac7aa5b-d399-44eb-e18a-427412f3fc2f"
      },
      "execution_count": null,
      "outputs": [
        {
          "output_type": "stream",
          "name": "stdout",
          "text": [
            "1\n",
            "2\n",
            "3\n"
          ]
        }
      ]
    },
    {
      "cell_type": "code",
      "source": [
        "#Continue\n",
        "#with Continue we can stop the current iteration and continue with next iteration\n",
        "i = 0\n",
        "while i < 6:\n",
        "  i += 1\n",
        "  if i == 3:\n",
        "    continue\n",
        "  print(i)"
      ],
      "metadata": {
        "colab": {
          "base_uri": "https://localhost:8080/"
        },
        "id": "hnWpnk-JORI8",
        "outputId": "668e07e8-31c3-424e-e6f7-59607fef0b47"
      },
      "execution_count": null,
      "outputs": [
        {
          "output_type": "stream",
          "name": "stdout",
          "text": [
            "1\n",
            "2\n",
            "4\n",
            "5\n",
            "6\n"
          ]
        }
      ]
    },
    {
      "cell_type": "code",
      "source": [
        "#else with while\n",
        "#With the else statement we can run a block of code once when the condition no longer is true:\n",
        "#executes only if the loop terminates naturally (i.e., the condition becomes false) and not because of a break statement."
      ],
      "metadata": {
        "id": "pquqcmauPBnE"
      },
      "execution_count": null,
      "outputs": []
    },
    {
      "cell_type": "code",
      "source": [
        "i = 1\n",
        "while i < 6:\n",
        "  print(i)\n",
        "  i += 1\n",
        "else:\n",
        "  print(\"i is no longer less than 6\")"
      ],
      "metadata": {
        "colab": {
          "base_uri": "https://localhost:8080/"
        },
        "id": "4zb4b40vOfJk",
        "outputId": "7846379f-1e8f-4d3c-e4f7-71a0355d1cc1"
      },
      "execution_count": null,
      "outputs": [
        {
          "output_type": "stream",
          "name": "stdout",
          "text": [
            "1\n",
            "2\n",
            "3\n",
            "4\n",
            "5\n",
            "i is no longer less than 6\n"
          ]
        }
      ]
    },
    {
      "cell_type": "code",
      "source": [
        "i = 1\n",
        "while i < 6:\n",
        "  print(i)\n",
        "  if i==3:\n",
        "    break\n",
        "  i += 1\n",
        "else:\n",
        "  print(\"i is no longer less than 6\")"
      ],
      "metadata": {
        "colab": {
          "base_uri": "https://localhost:8080/"
        },
        "id": "RXvilWrKO-_t",
        "outputId": "c59d328f-b409-4166-880f-3e65b4ea7955"
      },
      "execution_count": null,
      "outputs": [
        {
          "output_type": "stream",
          "name": "stdout",
          "text": [
            "1\n",
            "2\n",
            "3\n"
          ]
        }
      ]
    },
    {
      "cell_type": "code",
      "source": [
        "# For Loops\n",
        "# A for loop is used for iterating over a sequence (that is either a list, a tuple, a dictionary, a set, or a string).\n",
        "# This is less like the for keyword in other programming languages, and works more like an iterator method as found in other object-orientated programming languages.\n",
        "# With the for loop we can execute a set of statements, once for each item in a list, tuple, set etc.\n",
        "# For loop internally creates a iteratable object using the iteratable object that we mention and performs next() operation for every loop, internally\n",
        "#\n",
        "# Break, Countinue, Else with For will work as same as it with while loop"
      ],
      "metadata": {
        "id": "eg1Vh8wXPPoU"
      },
      "execution_count": null,
      "outputs": []
    },
    {
      "cell_type": "code",
      "source": [
        "fruits = [\"apple\", \"banana\", \"cherry\"]\n",
        "for x in fruits:\n",
        "  print(x)"
      ],
      "metadata": {
        "colab": {
          "base_uri": "https://localhost:8080/"
        },
        "id": "qRETpZzxPtDt",
        "outputId": "f98cc851-47cd-4123-c425-4ad421e5785c"
      },
      "execution_count": null,
      "outputs": [
        {
          "output_type": "stream",
          "name": "stdout",
          "text": [
            "apple\n",
            "banana\n",
            "cherry\n"
          ]
        }
      ]
    },
    {
      "cell_type": "code",
      "source": [
        "#Nested For loop\n",
        "#For loop inside the for loop\n",
        "adj = [\"red\", \"big\", \"tasty\"]\n",
        "fruits = [\"apple\", \"banana\", \"cherry\"]\n",
        "\n",
        "for x in adj:\n",
        "  for y in fruits:\n",
        "    print(x, y)"
      ],
      "metadata": {
        "colab": {
          "base_uri": "https://localhost:8080/"
        },
        "id": "SvCI-HMYQE9l",
        "outputId": "8054bbad-70e3-4d8f-a89a-fa1e840bfb2a"
      },
      "execution_count": null,
      "outputs": [
        {
          "output_type": "stream",
          "name": "stdout",
          "text": [
            "red apple\n",
            "red banana\n",
            "red cherry\n",
            "big apple\n",
            "big banana\n",
            "big cherry\n",
            "tasty apple\n",
            "tasty banana\n",
            "tasty cherry\n"
          ]
        }
      ]
    },
    {
      "cell_type": "code",
      "source": [
        "# in function\n",
        "# in function used with the string if some conditional string present in the given string\n",
        "# can be used for searching"
      ],
      "metadata": {
        "id": "fKTJd2jTRNcn"
      },
      "execution_count": null,
      "outputs": []
    },
    {
      "cell_type": "code",
      "source": [
        "lst = ['improper', 'impossible', 'im', 'proper', 'possible']\n",
        "for i in lst:\n",
        "  if 'proper' in i:\n",
        "    print(i)"
      ],
      "metadata": {
        "colab": {
          "base_uri": "https://localhost:8080/"
        },
        "id": "8kO1EYaIRapt",
        "outputId": "daab00cd-dc3f-45df-d95a-6b21401e636b"
      },
      "execution_count": null,
      "outputs": [
        {
          "output_type": "stream",
          "name": "stdout",
          "text": [
            "improper\n",
            "proper\n"
          ]
        }
      ]
    },
    {
      "cell_type": "code",
      "source": [
        "# range() Function -> class range(start, stop, step=1)\n",
        "# range is often used in for loop to loop through a set of code a specified number of times\n",
        "# The range() function returns a sequence of numbers, starting from 0 by default, and increments by 1 (by default), and ends at a specified number."
      ],
      "metadata": {
        "id": "91Z6piIuQQx8"
      },
      "execution_count": null,
      "outputs": []
    },
    {
      "cell_type": "code",
      "source": [
        "for i in range(5):\n",
        "  print(i)"
      ],
      "metadata": {
        "colab": {
          "base_uri": "https://localhost:8080/"
        },
        "id": "fNn_T9n3P503",
        "outputId": "55e1c7ce-86c2-4fe8-8265-3cb1c0354712"
      },
      "execution_count": null,
      "outputs": [
        {
          "output_type": "stream",
          "name": "stdout",
          "text": [
            "0\n",
            "1\n",
            "2\n",
            "3\n",
            "4\n"
          ]
        }
      ]
    },
    {
      "cell_type": "code",
      "source": [
        "# Print Statement extras\n",
        "# print(*objects, sep=' ', end='\\n', file=None, flush=False)\n",
        "# Parameter\tDescription\n",
        "# object(s)\t      Any object, and as many as you like. Will be converted to string before printed\n",
        "# sep='separator'\tOptional. Specify how to separate the objects, if there is more than one. Default is ' '\n",
        "# end='end'\t      Optional. Specify what to print at the end. Default is '\\n' (line feed)\n",
        "# file\t            Optional. An object with a write method. Default is sys.stdout\n",
        "# flush\t          Optional. A Boolean, specifying if the output is flushed (True) or buffered (False). Default is False"
      ],
      "metadata": {
        "id": "1g9OyG0pPvOM"
      },
      "execution_count": null,
      "outputs": []
    },
    {
      "cell_type": "code",
      "source": [
        "# List comprehension\n",
        "# offers a shorter syntax when you want to create a new list based on the values of an existing list or with some pattern using for loop\n",
        "# Normally, you will have to write a for statement with a conditional test inside.\n",
        "# With list comprehension you can do all that with only one line of code:"
      ],
      "metadata": {
        "id": "kpnSCjz9Itbe"
      },
      "execution_count": null,
      "outputs": []
    },
    {
      "cell_type": "code",
      "source": [
        "newList = [i**2 for i in range(5)]\n",
        "print(newList)"
      ],
      "metadata": {
        "colab": {
          "base_uri": "https://localhost:8080/"
        },
        "id": "_fCJ_zJ4JmMk",
        "outputId": "e51cc2dc-96ff-4575-b1da-4bbc9edbe5eb"
      },
      "execution_count": null,
      "outputs": [
        {
          "output_type": "stream",
          "name": "stdout",
          "text": [
            "[0, 1, 4, 9, 16]\n"
          ]
        }
      ]
    },
    {
      "cell_type": "code",
      "source": [
        "# Using Only IF statement in the list comperhension\n",
        "fruits = [\"apple\", \"banana\", \"cherry\", \"kiwi\", \"mango\"]\n",
        "newlist = [x for x in fruits if \"a\" in x]\n",
        "print(newlist)"
      ],
      "metadata": {
        "id": "qDDih-oCRwFN",
        "colab": {
          "base_uri": "https://localhost:8080/"
        },
        "outputId": "16142aba-b1c7-4099-c549-fd995e133e70"
      },
      "execution_count": null,
      "outputs": [
        {
          "output_type": "stream",
          "name": "stdout",
          "text": [
            "['apple', 'banana', 'mango']\n"
          ]
        }
      ]
    },
    {
      "cell_type": "code",
      "source": [
        "numbers = [1, 5, 10, 15, 20]\n",
        "\n",
        "# Label values based on range\n",
        "labels = [\"small\" if x < 10 else (\"medium\" if x < 20 else \"large\") for x in numbers]\n",
        "print(labels)"
      ],
      "metadata": {
        "colab": {
          "base_uri": "https://localhost:8080/"
        },
        "id": "YoJMQlbIFPhN",
        "outputId": "9a741215-8ba5-4efe-8dd1-1b88b185d6d4"
      },
      "execution_count": null,
      "outputs": [
        {
          "output_type": "stream",
          "name": "stdout",
          "text": [
            "['small', 'small', 'medium', 'medium', 'large']\n"
          ]
        }
      ]
    },
    {
      "cell_type": "code",
      "source": [
        "# When using else in the list comperhension the for statement comes in the end\n",
        "fruits = [\"apple\", \"banana\", \"cherry\", \"kiwi\", \"mango\"]\n",
        "newlist = [x if \"a\" in x else \"NA\" for x in fruits]\n",
        "print(newlist)"
      ],
      "metadata": {
        "colab": {
          "base_uri": "https://localhost:8080/"
        },
        "id": "XR40MFtoJP7O",
        "outputId": "067a0f7f-ba7a-493b-b596-7219f104b7a0"
      },
      "execution_count": null,
      "outputs": [
        {
          "output_type": "stream",
          "name": "stdout",
          "text": [
            "['apple', 'banana', 'NA', 'NA', 'mango']\n"
          ]
        }
      ]
    },
    {
      "cell_type": "code",
      "source": [
        "# nested List\n",
        "# How to initialize the nested list\n",
        "MyListProper = [[] for i in range(5)]\n",
        "print(MyListProper)\n",
        "MyListProper[2].append(5)\n",
        "print(MyListProper)"
      ],
      "metadata": {
        "colab": {
          "base_uri": "https://localhost:8080/"
        },
        "id": "YKB3_rKuzpZx",
        "outputId": "c9912c5e-8c92-44cc-caa5-abbef475cd7b"
      },
      "execution_count": null,
      "outputs": [
        {
          "output_type": "stream",
          "name": "stdout",
          "text": [
            "[[], [], [], [], []]\n",
            "[[], [], [5], [], []]\n"
          ]
        }
      ]
    },
    {
      "cell_type": "code",
      "source": [
        "#       0    1    2    3    4    5    6    7\n",
        "lst = [\"A\", \"B\", \"C\", \"D\", \"E\", \"F\", \"G\", \"H\"]\n",
        "#      -8   -7   -6   -5   -4   -3   -2   -1\n",
        "\n",
        "print(\"lst[0:4]   \", lst[0:4])      # from 0 to 3 excluding 4\n",
        "print(\"lst[4:4]   \", lst[4:4])      # from 4 but excluding 4, hence empty\n",
        "print(\"lst[6:3]   \", lst[6:3])      # can't trim from backwards, hence empty\n",
        "print(\"lst[-5:-1] \", lst[-5:-1])    # the last element of list is indexed a -1 decreases by going left, indexes -> -6,-5,-4,-3,-2,-1\n",
        "print(\"lst[-1:-5] \", lst[-1:-5])    # Even using the negetive index sublist can't be trimed from -5 to -1 which is backwards\n",
        "print(\"lst[2:-2]  \", lst[2:-2])     # Positive index and negative index can be used at the same time for triming as long as its not goes by backwards\n",
        "print(\"lst[-7:6]  \", lst[-7:6])\n",
        "print(\"lst[0:]    \", lst[0:])       # if no index is mentioned then the sublist will take till the end if end is not mentioned or starts from 0 if start index is not mentioned\n",
        "print(\"lst[:4]    \", lst[:4])\n",
        "print(\"lst[:4:-1] \", lst[:4:-1])    # the 3rd value indicate the steps for slicing list, -1 will make the list reverse\n",
        "print(\"lst[::2]   \", lst[::2])"
      ],
      "metadata": {
        "colab": {
          "base_uri": "https://localhost:8080/"
        },
        "id": "ggNykh0WNAKt",
        "outputId": "15e12ddc-84d3-431a-f0ac-6fe91584aa06"
      },
      "execution_count": null,
      "outputs": [
        {
          "output_type": "stream",
          "name": "stdout",
          "text": [
            "lst[0:4]    ['A', 'B', 'C', 'D']\n",
            "lst[4:4]    []\n",
            "lst[6:3]    []\n",
            "lst[-5:-1]  ['D', 'E', 'F', 'G']\n",
            "lst[-1:-5]  []\n",
            "lst[2:-2]   ['C', 'D', 'E', 'F']\n",
            "lst[-7:6]   ['B', 'C', 'D', 'E', 'F']\n",
            "lst[0:]     ['A', 'B', 'C', 'D', 'E', 'F', 'G', 'H']\n",
            "lst[:4]     ['A', 'B', 'C', 'D']\n",
            "lst[:4:-1]  ['H', 'G', 'F']\n",
            "lst[::2]    ['A', 'C', 'E', 'G']\n"
          ]
        }
      ]
    },
    {
      "cell_type": "code",
      "source": [
        "# How Not to initialize the nested list\n",
        "MyListWrong = [[]]*5\n",
        "print(MyListWrong)\n",
        "MyListWrong[2].append(5)\n",
        "print(MyListWrong)\n",
        "# Initializing a nested list in this manner has the disadvantage that each entry in the list has the same ID, pointing to the same list object."
      ],
      "metadata": {
        "colab": {
          "base_uri": "https://localhost:8080/"
        },
        "id": "9FHXFsmuLE2y",
        "outputId": "c85d2a70-98e1-4b67-90e7-6903d9198605"
      },
      "execution_count": null,
      "outputs": [
        {
          "output_type": "stream",
          "name": "stdout",
          "text": [
            "[[], [], [], [], []]\n",
            "[[5], [5], [5], [5], [5]]\n"
          ]
        }
      ]
    },
    {
      "cell_type": "code",
      "source": [
        "# The Proper List has the different object id which doesn't affect other while performing operation like appending etc.\n",
        "print(\"Object ID of MyListProper\")\n",
        "for i in MyListProper:\n",
        "  print(id(i))\n",
        "\n",
        "print(\"\\n--------------\\n\")\n",
        "\n",
        "# The improper List which has same object id for the list will effect other sublist will performing operation, as all the sublist are generally the instance of single object\n",
        "print(\"Object ID of MyListWrong\")\n",
        "for i in MyListWrong:\n",
        "  print(id(i))"
      ],
      "metadata": {
        "colab": {
          "base_uri": "https://localhost:8080/"
        },
        "id": "d0IsiLFyLijG",
        "outputId": "d329ddb1-071d-4aae-8079-74c3f8d203bf"
      },
      "execution_count": null,
      "outputs": [
        {
          "output_type": "stream",
          "name": "stdout",
          "text": [
            "Object ID of MyListProper\n",
            "133533287505024\n",
            "133534130371648\n",
            "133533287648448\n",
            "133533722612224\n",
            "133533720911488\n",
            "\n",
            "--------------\n",
            "\n",
            "Object ID of MyListWrong\n",
            "133533285992320\n",
            "133533285992320\n",
            "133533285992320\n",
            "133533285992320\n",
            "133533285992320\n"
          ]
        }
      ]
    },
    {
      "cell_type": "code",
      "source": [
        "# Functions\n",
        "# Are used to attain the reusablitiy of the code\n",
        "# function are a block of code that runs wherever we call that function and perform the operation that we have defiened"
      ],
      "metadata": {
        "id": "2jVPTbBjQKc6"
      },
      "execution_count": null,
      "outputs": []
    },
    {
      "cell_type": "code",
      "source": [
        "# Creating the function\n",
        "def my_function(fname, lname, place = \"India\"):  # function will be stored in the memory and will not be excecuted until it is called. Hence the error shows only when it is called.\n",
        "  print(fname + \" \" + lname + \" \" + place)\n",
        "\n",
        "# Note:\n",
        "# while creating the function parameter is not neccessary\n",
        "# whether the parameter is optional or manadatory is decided while creating the function. if value is not assigned while creating the parameter than it is mandatory"
      ],
      "metadata": {
        "id": "NZLeaLcpgRea"
      },
      "execution_count": null,
      "outputs": []
    },
    {
      "cell_type": "code",
      "source": [
        "# Calling function\n",
        "my_function(\"Emil\", \"Refsnes\")  # Function runs when we call them, the parameters must be passed if mentioned while creating the function"
      ],
      "metadata": {
        "id": "xgjtgxKjgXE5",
        "outputId": "3b90c4c4-7a32-4c94-a3c2-f93b4b9f81a8",
        "colab": {
          "base_uri": "https://localhost:8080/"
        }
      },
      "execution_count": null,
      "outputs": [
        {
          "output_type": "stream",
          "name": "stdout",
          "text": [
            "Emil Refsnes India\n"
          ]
        }
      ]
    },
    {
      "cell_type": "code",
      "source": [
        "# Keyword Arguments\n",
        "# You can also send arguments with the key = value syntax.\n",
        "# This way the order of the arguments does not matter."
      ],
      "metadata": {
        "id": "Yk1eOIzzik8B"
      },
      "execution_count": null,
      "outputs": []
    },
    {
      "cell_type": "code",
      "source": [
        "def my_function(child3, child2, child1):\n",
        "  print(\"The youngest child is \" + child3)\n",
        "\n",
        "my_function(child1 = \"Emil\", child2 = \"Tobias\", child3 = \"Linus\")"
      ],
      "metadata": {
        "id": "jv_69qlLipuC",
        "outputId": "81bc0e56-5ca1-4992-f4e4-5d9f84505abf",
        "colab": {
          "base_uri": "https://localhost:8080/"
        }
      },
      "execution_count": null,
      "outputs": [
        {
          "output_type": "stream",
          "name": "stdout",
          "text": [
            "The youngest child is Linus\n"
          ]
        }
      ]
    },
    {
      "cell_type": "code",
      "source": [
        "# Arbitrary Arguments, (*args)\n",
        "# If you do not know how many arguments that will be passed into your function, add a \"*\" before the parameter name in the function definition.\n",
        "# This way the function will receive a tuple of arguments, and can access the items accordingly"
      ],
      "metadata": {
        "id": "vw75cDwFh7pR"
      },
      "execution_count": null,
      "outputs": []
    },
    {
      "cell_type": "code",
      "source": [
        "def my_function(*kids):\n",
        "  print(\"The youngest child is \" + kids[-1])\n",
        "\n",
        "my_function(\"Emil\", \"Tobias\", \"Linus\")"
      ],
      "metadata": {
        "id": "PaRr6IiyiMFr",
        "outputId": "3025e953-5fd5-4f4b-ad00-be15b99eb5d2",
        "colab": {
          "base_uri": "https://localhost:8080/"
        }
      },
      "execution_count": null,
      "outputs": [
        {
          "output_type": "stream",
          "name": "stdout",
          "text": [
            "The youngest child is Linus\n"
          ]
        }
      ]
    },
    {
      "cell_type": "code",
      "source": [
        "# Arbitrary Keyword Arguments, (**kwargs)\n",
        "# If you do not know how many keyword arguments that will be passed into your function, add two asterisk: \"**\" before the parameter name in the function definition.\n",
        "# This way the function will receive a dictionary of arguments, and can access the items accordingly:"
      ],
      "metadata": {
        "id": "Znb_UWC3iQXa"
      },
      "execution_count": null,
      "outputs": []
    },
    {
      "cell_type": "code",
      "source": [
        "def my_function(**kid):\n",
        "  print(\"His last name is \" + kid[\"lname\"])\n",
        "\n",
        "my_function(fname = \"Tobias\", lname = \"Refsnes\")"
      ],
      "metadata": {
        "id": "Ce2c7ZWli_-i",
        "outputId": "0fccf52a-10ec-4f53-b869-51ad7cfe5f66",
        "colab": {
          "base_uri": "https://localhost:8080/"
        }
      },
      "execution_count": null,
      "outputs": [
        {
          "output_type": "stream",
          "name": "stdout",
          "text": [
            "His last name is Refsnes\n"
          ]
        }
      ]
    },
    {
      "cell_type": "code",
      "source": [
        "# Return Values\n",
        "# To let a function return a value, use the return statement:\n",
        "\n",
        "def my_function(x):\n",
        "  return 5 * x\n",
        "\n",
        "print(my_function(3))\n",
        "print(my_function(5))\n",
        "print(my_function(9))"
      ],
      "metadata": {
        "id": "QsnBnxhujM4i",
        "outputId": "2f4cac56-f15f-4345-93a6-33532db8e38d",
        "colab": {
          "base_uri": "https://localhost:8080/"
        }
      },
      "execution_count": null,
      "outputs": [
        {
          "output_type": "stream",
          "name": "stdout",
          "text": [
            "15\n",
            "25\n",
            "45\n"
          ]
        }
      ]
    },
    {
      "cell_type": "code",
      "source": [
        "# Using Pass statement\n",
        "\n",
        "def myfunction():\n",
        "  pass\n",
        "\n",
        "myfunction()"
      ],
      "metadata": {
        "id": "BbLNzuLLjVUR"
      },
      "execution_count": null,
      "outputs": []
    },
    {
      "cell_type": "code",
      "source": [
        "# Positional-Only Arguments\n",
        "# You can specify that a function can have ONLY positional arguments, or ONLY keyword arguments.\n",
        "# To specify that a function can have only positional arguments, add , / after the arguments:\n",
        "\n",
        "def my_function(x, /):\n",
        "  print(x)\n",
        "\n",
        "my_function(3)\n",
        "#my_function(x=3)   # function called with keyword argument through error"
      ],
      "metadata": {
        "id": "DIttRGyzj9Dh",
        "outputId": "968347a2-c6fd-4b06-ecd1-d05c449d830c",
        "colab": {
          "base_uri": "https://localhost:8080/"
        }
      },
      "execution_count": null,
      "outputs": [
        {
          "output_type": "stream",
          "name": "stdout",
          "text": [
            "3\n"
          ]
        }
      ]
    },
    {
      "cell_type": "code",
      "source": [
        "# Keyword-Only Arguments\n",
        "# To specify that a function can have only keyword arguments, add *, before the arguments:\n",
        "\n",
        "def my_function(*, x):\n",
        "  print(x)\n",
        "\n",
        "my_function(x = 3)\n",
        "#my_function(3)   # function called as positional argument through error"
      ],
      "metadata": {
        "id": "icNopCNJkONS",
        "outputId": "eb45d37d-d2ec-4707-a9e0-4527df6fa2ad",
        "colab": {
          "base_uri": "https://localhost:8080/"
        }
      },
      "execution_count": null,
      "outputs": [
        {
          "output_type": "stream",
          "name": "stdout",
          "text": [
            "3\n"
          ]
        }
      ]
    },
    {
      "cell_type": "code",
      "source": [
        "# Combine Positional-Only and Keyword-Only\n",
        "# You can combine the two argument types in the same function.\n",
        "# Any argument before the / , are positional-only, and any argument after the *, are keyword-only.\n",
        "\n",
        "def my_function(a, b, /, *, c, d):\n",
        "  print(a + b + c + d)\n",
        "\n",
        "my_function(5, 6, c = 7, d = 8)"
      ],
      "metadata": {
        "id": "gjNd3Ac3kg2r",
        "outputId": "6ceaa6bb-1714-42c3-c352-4e3440583aa6",
        "colab": {
          "base_uri": "https://localhost:8080/"
        }
      },
      "execution_count": null,
      "outputs": [
        {
          "output_type": "stream",
          "name": "stdout",
          "text": [
            "26\n"
          ]
        }
      ]
    },
    {
      "cell_type": "code",
      "source": [
        "# Recursion\n",
        "# Python also accepts function recursion, which means a defined function can call itself.\n",
        "# It means that a function calls itself. This has the benefit of meaning that you can loop through data to reach a result.\n",
        "# this is used where solving the problem requires multiple steps and the process required for those steps are nearly(almost) common"
      ],
      "metadata": {
        "id": "dShDCnHDlaVq"
      },
      "execution_count": null,
      "outputs": []
    },
    {
      "cell_type": "code",
      "source": [
        "def tri_recursion(k):\n",
        "  if(k > 0):\n",
        "    result = k + tri_recursion(k - 1)\n",
        "    print(result)\n",
        "  else:\n",
        "    result = 0\n",
        "  return result\n",
        "\n",
        "print(\"Recursion Example Results:\")\n",
        "tri_recursion(6)"
      ],
      "metadata": {
        "id": "irYwA26ZlfCT",
        "outputId": "1b65d162-4962-432b-d4cc-09f1e0c6ba05",
        "colab": {
          "base_uri": "https://localhost:8080/"
        }
      },
      "execution_count": null,
      "outputs": [
        {
          "output_type": "stream",
          "name": "stdout",
          "text": [
            "Recursion Example Results:\n",
            "1\n",
            "3\n",
            "6\n",
            "10\n",
            "15\n",
            "21\n"
          ]
        },
        {
          "output_type": "execute_result",
          "data": {
            "text/plain": [
              "21"
            ]
          },
          "metadata": {},
          "execution_count": 49
        }
      ]
    },
    {
      "cell_type": "code",
      "source": [
        "# Lambda\n",
        "# A lambda function is a small anonymous function.\n",
        "# A lambda function can take any number of arguments, but can only have one expre"
      ],
      "metadata": {
        "id": "BOBmoYQsuNi8"
      },
      "execution_count": null,
      "outputs": []
    },
    {
      "cell_type": "code",
      "source": [
        "x = lambda a, b : a * b\n",
        "print(x(5, 6))"
      ],
      "metadata": {
        "colab": {
          "base_uri": "https://localhost:8080/"
        },
        "id": "NzKqp2xOu3gw",
        "outputId": "25b7dcff-f5fa-4b77-f5f8-ea8bdcff116e"
      },
      "execution_count": null,
      "outputs": [
        {
          "output_type": "stream",
          "name": "stdout",
          "text": [
            "30\n"
          ]
        }
      ]
    },
    {
      "cell_type": "code",
      "source": [
        "# The power of lambda is better shown when you use them as an anonymous function inside another function.\n",
        "# use the same function definition to make both functions, in the same program\n",
        "def myfunc(n):\n",
        "  return lambda a : a * n\n",
        "\n",
        "mydoubler = myfunc(2)\n",
        "mytripler = myfunc(3)\n",
        "\n",
        "print(mydoubler(11))\n",
        "print(mytripler(11))"
      ],
      "metadata": {
        "colab": {
          "base_uri": "https://localhost:8080/"
        },
        "id": "5rygmcpEu9cZ",
        "outputId": "87cbd7b0-521d-4537-a43c-4fa09bfa4fd7"
      },
      "execution_count": null,
      "outputs": [
        {
          "output_type": "stream",
          "name": "stdout",
          "text": [
            "22\n",
            "33\n"
          ]
        }
      ]
    },
    {
      "cell_type": "code",
      "source": [
        "# Arrays\n",
        "# python doesn't have the built-in function or class for array\n",
        "# python array can be obtained by numpy array\n",
        "\n",
        "# python list\n",
        "# Dynamic typing\n",
        "# size flexibility\n",
        "# Slower Performance compared to numpy\n",
        "# Less Mathematical Functionality on entire arrays of data.\n",
        "\n",
        "# numpy array\n",
        "# Homogeneous Data Types\n",
        "# Fixed Size\n",
        "# Optimized Operations\n",
        "# Better Performance\n",
        "# Memory Efficiency"
      ],
      "metadata": {
        "id": "2d18AT9gv6-X"
      },
      "execution_count": null,
      "outputs": []
    },
    {
      "cell_type": "code",
      "source": [
        "import numpy as np\n",
        "\n",
        "arr = np.array([1, 2, 3, 4, 5])\n",
        "\n",
        "print(arr)\n",
        "print(type(arr))  # The array object in NumPy is called ndarray"
      ],
      "metadata": {
        "colab": {
          "base_uri": "https://localhost:8080/"
        },
        "id": "leMh5eXvw1rt",
        "outputId": "ddc2afe9-b55c-4997-b8e6-e679ceec919b"
      },
      "execution_count": null,
      "outputs": [
        {
          "output_type": "stream",
          "name": "stdout",
          "text": [
            "[1 2 3 4 5]\n",
            "<class 'numpy.ndarray'>\n"
          ]
        }
      ]
    },
    {
      "cell_type": "code",
      "source": [
        "for i in dir(arr):\n",
        "  if not i.startswith(\"__\"):\n",
        "    print(i)"
      ],
      "metadata": {
        "collapsed": true,
        "colab": {
          "base_uri": "https://localhost:8080/"
        },
        "id": "jeTyiBV7xNZ_",
        "outputId": "287c0a42-486b-4960-963e-0886caa7b378"
      },
      "execution_count": null,
      "outputs": [
        {
          "output_type": "stream",
          "name": "stdout",
          "text": [
            "T\n",
            "all\n",
            "any\n",
            "argmax\n",
            "argmin\n",
            "argpartition\n",
            "argsort\n",
            "astype\n",
            "base\n",
            "byteswap\n",
            "choose\n",
            "clip\n",
            "compress\n",
            "conj\n",
            "conjugate\n",
            "copy\n",
            "ctypes\n",
            "cumprod\n",
            "cumsum\n",
            "data\n",
            "device\n",
            "diagonal\n",
            "dot\n",
            "dtype\n",
            "dump\n",
            "dumps\n",
            "fill\n",
            "flags\n",
            "flat\n",
            "flatten\n",
            "getfield\n",
            "imag\n",
            "item\n",
            "itemset\n",
            "itemsize\n",
            "mT\n",
            "max\n",
            "mean\n",
            "min\n",
            "nbytes\n",
            "ndim\n",
            "newbyteorder\n",
            "nonzero\n",
            "partition\n",
            "prod\n",
            "ptp\n",
            "put\n",
            "ravel\n",
            "real\n",
            "repeat\n",
            "reshape\n",
            "resize\n",
            "round\n",
            "searchsorted\n",
            "setfield\n",
            "setflags\n",
            "shape\n",
            "size\n",
            "sort\n",
            "squeeze\n",
            "std\n",
            "strides\n",
            "sum\n",
            "swapaxes\n",
            "take\n",
            "to_device\n",
            "tobytes\n",
            "tofile\n",
            "tolist\n",
            "tostring\n",
            "trace\n",
            "transpose\n",
            "var\n",
            "view\n"
          ]
        }
      ]
    },
    {
      "cell_type": "code",
      "source": [
        "#  # ways to terminate the program without causing the error\n",
        "#  import sys\n",
        "#  sys.exit(\"Message need to display while the code terminates\")\n",
        "#  # by raising exception to exti\n",
        "#  raise SystemExit(\"Message need to display while the code terminates\")"
      ],
      "metadata": {
        "id": "Jfms2mVd0d21"
      },
      "execution_count": null,
      "outputs": []
    },
    {
      "cell_type": "markdown",
      "source": [
        "------------------------------------------------------------------------------ Refer Class in oops docs----------------------------------------------------------------------------"
      ],
      "metadata": {
        "id": "LkOaFMIOxz1M"
      }
    },
    {
      "cell_type": "code",
      "source": [
        "# Polymorphism in general\n",
        "# The word \"polymorphism\" means \"many forms\", and in programming it refers to methods/functions/operators with the same name that can be executed on many objects or classes.eg: len()\n",
        "# class polymorphism where due to inheritance we can use the same method name"
      ],
      "metadata": {
        "id": "HEqg3XZ_z_aq"
      },
      "execution_count": null,
      "outputs": []
    },
    {
      "cell_type": "code",
      "source": [
        "class Vehicle:\n",
        "  def __init__(self, brand, model):\n",
        "    self.brand = brand\n",
        "    self.model = model\n",
        "\n",
        "  def move(self):\n",
        "    print(\"Move!\")\n",
        "\n",
        "class Car(Vehicle):\n",
        "  pass\n",
        "\n",
        "class Boat(Vehicle):\n",
        "  def move(self):\n",
        "    print(\"Sail!\")\n",
        "\n",
        "class Plane(Vehicle):\n",
        "  def move(self):\n",
        "    print(\"Fly!\")\n",
        "\n",
        "car1 = Car(\"Ford\", \"Mustang\")       #Create a Car object\n",
        "boat1 = Boat(\"Ibiza\", \"Touring 20\") #Create a Boat object\n",
        "plane1 = Plane(\"Boeing\", \"747\")     #Create a Plane object\n",
        "\n",
        "for x in (car1, boat1, plane1):\n",
        "  print(x.brand)\n",
        "  print(x.model)\n",
        "  x.move()"
      ],
      "metadata": {
        "colab": {
          "base_uri": "https://localhost:8080/"
        },
        "id": "NFSJfhDI0c2u",
        "outputId": "1c0d53e9-3d59-4874-dd29-2ca5f4783bb2"
      },
      "execution_count": null,
      "outputs": [
        {
          "output_type": "stream",
          "name": "stdout",
          "text": [
            "Ford\n",
            "Mustang\n",
            "Move!\n",
            "Ibiza\n",
            "Touring 20\n",
            "Sail!\n",
            "Boeing\n",
            "747\n",
            "Fly!\n"
          ]
        }
      ]
    },
    {
      "cell_type": "code",
      "source": [
        "# Iterators\n",
        "# An iterator is an object that contains a countable number of values.\n",
        "# An iterator is an object that can be iterated upon, meaning that you can traverse through all the values.\n",
        "# Technically, in Python, an iterator is an object which implements the iterator protocol, which consist of the methods __iter__() and __next__().\n",
        "\n",
        "# Iterator vs Iterable\n",
        "# Lists, tuples, dictionaries, and sets are all iterable objects. They are iterable containers which you can get an iterator from.\n",
        "# All these objects have a iter() method which is used to get an iterator:"
      ],
      "metadata": {
        "id": "aLlU7qExxxOE"
      },
      "execution_count": null,
      "outputs": []
    },
    {
      "cell_type": "code",
      "source": [
        "mytuple = (\"apple\", \"banana\", \"cherry\")\n",
        "myit = iter(mytuple)\n",
        "\n",
        "print(next(myit))\n",
        "print(next(myit))\n",
        "print(next(myit))"
      ],
      "metadata": {
        "colab": {
          "base_uri": "https://localhost:8080/"
        },
        "id": "JsLFdr4Lyi8h",
        "outputId": "93b4a557-2cca-4d8a-d3c6-5f792ae1ece5"
      },
      "execution_count": null,
      "outputs": [
        {
          "output_type": "stream",
          "name": "stdout",
          "text": [
            "apple\n",
            "banana\n",
            "cherry\n"
          ]
        }
      ]
    },
    {
      "cell_type": "code",
      "source": [
        "# Create an Iterator\n",
        "\n",
        "class MyNumbers:\n",
        "  def __iter__(self):\n",
        "    self.a = 1\n",
        "    return self\n",
        "\n",
        "  def __next__(self):\n",
        "    x = self.a\n",
        "    self.a += 1\n",
        "    return x\n",
        "\n",
        "myclass = MyNumbers()\n",
        "myiter = iter(myclass)\n",
        "\n",
        "print(next(myiter))\n",
        "print(next(myiter))\n",
        "print(next(myiter))\n",
        "print(next(myiter))\n",
        "print(next(myiter))"
      ],
      "metadata": {
        "colab": {
          "base_uri": "https://localhost:8080/"
        },
        "id": "EF-W_NxDzBpU",
        "outputId": "9f2567e9-7403-439c-cdbd-c43cbc87271e"
      },
      "execution_count": null,
      "outputs": [
        {
          "output_type": "stream",
          "name": "stdout",
          "text": [
            "1\n",
            "2\n",
            "3\n",
            "4\n",
            "5\n"
          ]
        }
      ]
    },
    {
      "cell_type": "code",
      "source": [
        "# StopIteration\n",
        "\n",
        "class MyNumbers:\n",
        "  def __iter__(self):\n",
        "    self.a = 1\n",
        "    return self\n",
        "\n",
        "  def __next__(self):\n",
        "    if self.a <= 20:\n",
        "      x = self.a\n",
        "      self.a += 1\n",
        "      return x\n",
        "    else:\n",
        "      raise StopIteration  # To prevent the iteration from going on forever, we can use the StopIteration statement. (eg: to prevent loop if used in for loop)\n",
        "\n",
        "myclass = MyNumbers()\n",
        "myiter = iter(myclass)\n",
        "\n",
        "for x in myiter:\n",
        "  print(x)"
      ],
      "metadata": {
        "colab": {
          "base_uri": "https://localhost:8080/"
        },
        "id": "dmf_n3WbzFds",
        "outputId": "77b7c56b-8f2b-4319-dcae-dd0ea4aa95bc"
      },
      "execution_count": null,
      "outputs": [
        {
          "output_type": "stream",
          "name": "stdout",
          "text": [
            "1\n",
            "2\n",
            "3\n",
            "4\n",
            "5\n",
            "6\n",
            "7\n",
            "8\n",
            "9\n",
            "10\n",
            "11\n",
            "12\n",
            "13\n",
            "14\n",
            "15\n",
            "16\n",
            "17\n",
            "18\n",
            "19\n",
            "20\n"
          ]
        }
      ]
    },
    {
      "cell_type": "code",
      "source": [
        "# Scope\n",
        "# A variable is only available from inside the region(funtion, class) it is created. This is called scope."
      ],
      "metadata": {
        "id": "B2Y7qipe4SGv"
      },
      "execution_count": null,
      "outputs": []
    },
    {
      "cell_type": "code",
      "source": [
        "# Scope\n",
        "# A variable is only available from inside the region it is created. This is called scope.\n",
        "\n",
        "def myfunc():\n",
        "  x = 300\n",
        "  def myinnerfunc():\n",
        "    print(x)\n",
        "  myinnerfunc()\n",
        "\n",
        "myfunc()"
      ],
      "metadata": {
        "colab": {
          "base_uri": "https://localhost:8080/"
        },
        "id": "ZYRhx9ZQzbU-",
        "outputId": "4ab1e527-d541-4f2a-ebd4-98a85d93f244"
      },
      "execution_count": null,
      "outputs": [
        {
          "output_type": "stream",
          "name": "stdout",
          "text": [
            "300\n"
          ]
        }
      ]
    },
    {
      "cell_type": "code",
      "source": [
        "# Global Scope\n",
        "# A variable created in the main body of the Python code is a global variable and belongs to the global scope.\n",
        "# Global variables are available from within any scope, global and local.\n",
        "# but the variables mentioned outside of the function cannot be edited or changed inside the function unless it was assigned to global inside of the funtion\n",
        "# it's like mentioning the value used now(inside function) will be the global one\n",
        "\n",
        "x = 300\n",
        "\n",
        "def myfunc():\n",
        "  print(x)\n",
        "\n",
        "myfunc()\n",
        "\n",
        "print(x)"
      ],
      "metadata": {
        "colab": {
          "base_uri": "https://localhost:8080/"
        },
        "id": "JhFLgCxC4x2i",
        "outputId": "63aa68f7-4603-4675-923b-db1a17cd2349"
      },
      "execution_count": null,
      "outputs": [
        {
          "output_type": "stream",
          "name": "stdout",
          "text": [
            "300\n",
            "300\n"
          ]
        }
      ]
    },
    {
      "cell_type": "code",
      "source": [
        "x = 300\n",
        "\n",
        "def myfunc():\n",
        "  x = 200\n",
        "  print(x)\n",
        "\n",
        "myfunc()\n",
        "\n",
        "print(x)"
      ],
      "metadata": {
        "colab": {
          "base_uri": "https://localhost:8080/"
        },
        "id": "3OWG0cTv5C60",
        "outputId": "c4e30916-130e-4af6-e362-56b7bd52a9fe"
      },
      "execution_count": null,
      "outputs": [
        {
          "output_type": "stream",
          "name": "stdout",
          "text": [
            "200\n",
            "300\n"
          ]
        }
      ]
    },
    {
      "cell_type": "code",
      "source": [
        "x = 300\n",
        "\n",
        "def myfunc():\n",
        "  global x\n",
        "  x = x + 5\n",
        "  print(x)\n",
        "\n",
        "print(x)\n",
        "\n",
        "myfunc()\n",
        "\n",
        "print(x)"
      ],
      "metadata": {
        "colab": {
          "base_uri": "https://localhost:8080/"
        },
        "id": "F87ZxEyT01sg",
        "outputId": "6bd2b02c-5f93-43b0-9eae-722df5f340e2"
      },
      "execution_count": null,
      "outputs": [
        {
          "output_type": "stream",
          "name": "stdout",
          "text": [
            "300\n",
            "305\n",
            "305\n"
          ]
        }
      ]
    },
    {
      "cell_type": "code",
      "source": [
        "# Global Keyword\n",
        "# If you need to create a global variable, but are stuck in the local scope, you can use the global keyword.\n",
        "# The global keyword makes the variable global.\n",
        "\n",
        "x = 200\n",
        "\n",
        "def myfunc():\n",
        "  global x\n",
        "  x = x + 4\n",
        "\n",
        "print(x)\n",
        "\n",
        "myfunc()\n",
        "\n",
        "print(x)"
      ],
      "metadata": {
        "colab": {
          "base_uri": "https://localhost:8080/"
        },
        "id": "dNPjG7C-5HS8",
        "outputId": "8c18df63-303a-4ddc-d73b-3fec32ab58e8"
      },
      "execution_count": null,
      "outputs": [
        {
          "output_type": "stream",
          "name": "stdout",
          "text": [
            "200\n",
            "204\n"
          ]
        }
      ]
    },
    {
      "cell_type": "code",
      "source": [
        "x = 300\n",
        "\n",
        "def myfunc():\n",
        "  global x\n",
        "  x = 200\n",
        "\n",
        "myfunc()\n",
        "\n",
        "print(x)"
      ],
      "metadata": {
        "colab": {
          "base_uri": "https://localhost:8080/"
        },
        "id": "YtkMWuMD5heP",
        "outputId": "f3cf7e8c-66c3-4bf0-abb7-1b57279dd405"
      },
      "execution_count": null,
      "outputs": [
        {
          "output_type": "stream",
          "name": "stdout",
          "text": [
            "200\n"
          ]
        }
      ]
    },
    {
      "cell_type": "code",
      "source": [
        "# Nonlocal Keyword\n",
        "# The nonlocal keyword is used to work with variables inside nested functions.\n",
        "# The nonlocal keyword makes the variable belong to the outer function.\n",
        "\n",
        "def myfunc1():\n",
        "  x = \"Jane\"\n",
        "  def myfunc2():\n",
        "    nonlocal x\n",
        "    x = \"hello\"\n",
        "  myfunc2()\n",
        "  return x\n",
        "\n",
        "print(myfunc1())"
      ],
      "metadata": {
        "colab": {
          "base_uri": "https://localhost:8080/"
        },
        "id": "CbN9uMXq5ihf",
        "outputId": "60d2173d-3614-4464-b320-a66eda37a970"
      },
      "execution_count": null,
      "outputs": [
        {
          "output_type": "stream",
          "name": "stdout",
          "text": [
            "hello\n"
          ]
        }
      ]
    },
    {
      "cell_type": "code",
      "source": [
        "# Module\n",
        "# Consider a module to be the same as a code library.\n",
        "# A file containing a set of functions you want to include in your application."
      ],
      "metadata": {
        "id": "cQkgq9bC56r6"
      },
      "execution_count": null,
      "outputs": []
    },
    {
      "cell_type": "code",
      "source": [
        "# Create a Module\n",
        "# To create a module just save the code you want in a file with the file extension .py\n",
        "# Saved as mymodule.py\n",
        "'''\n",
        "def greeting(name):\n",
        "  print(\"Hello, \" + name)\n",
        "\n",
        "person1 = {\n",
        "  \"name\": \"John\",\n",
        "  \"age\": 36,\n",
        "  \"country\": \"Norway\"\n",
        "}\n",
        "'''\n",
        "# Use a Module\n",
        "# Now we can use the module we just created, by using the import statement\n",
        "'''\n",
        "import mymodule\n",
        "\n",
        "mymodule.greeting(\"Jonathan\")\n",
        "\n",
        "a = mymodule.person1[\"age\"]\n",
        "print(a)\n",
        "'''"
      ],
      "metadata": {
        "id": "fzW0L_fr6BPC"
      },
      "execution_count": null,
      "outputs": []
    },
    {
      "cell_type": "code",
      "source": [
        "# Creating Module and packages\n",
        "# we can import the function or class from the other python file using import keyword\n",
        "# the name of the python file and the folder name are always mentioned under after from keyword\n",
        "# and the function or class name mentioned after the import keyword\n",
        "\n",
        "# If want to import from other python file from the same folder\n",
        "\"\"\"\n",
        "from filename import function_or_class_name\n",
        "\"\"\"\n",
        "\n",
        "# If want to import from python file that is inside a folder\n",
        "# the folder doesn't need to have __init__.py file, but it's better to have even it is empty\n",
        "\"\"\"\n",
        "from foldername.filename import function_or_class_name\n",
        "\"\"\"\n",
        "\n",
        "# If the file inside the folder contains __init__.py\n",
        "\"\"\"\n",
        "from foldername import function_or_class_inside_init\n",
        "\"\"\"\n",
        "\n",
        "# different way, If want to use the file inside the folder and the folder also contains __init__.py\n",
        "# in __init__.py mention (don't forgot \".\" defore filename)\n",
        "\"\"\"\n",
        "from .filename import function_or_class_name_from_otherfile\n",
        "\"\"\"\n",
        "# in main.py file which is in same level as the folder\n",
        "\"\"\"\n",
        "from foldername import function_or_class_name_from_otherfile\n",
        "\"\"\"\n",
        "# by importing all the otherfile name inside the folder to the __init__.py file\n",
        "# we can use those function in main.py without directly importing it\n",
        "\n",
        "# if the folder \"packages\" has two folder which is \"read\" and \"write\"\n",
        "# main.py file is inside the \"write\" folder and want to access module which is inside the \"read\" folder\n",
        "# then you need to add the \"packages\" folder path to sys.path.append so we can use all the packages inside \"packages\" folder\n",
        "# in write.py\n",
        "\"\"\"\n",
        "import os,sys\n",
        "sys.path.append(os.path.abspath(\"..\"))\n",
        "from read.module_name import function_or_class\n",
        "\"\"\"\n",
        "# where os.path.abspath(\"..\") give the full path of the folder in which the current folder is in .i.e., outer folder path\n",
        "# os.path.abspath(\"../..\") will give 2 folder back from the current folder"
      ],
      "metadata": {
        "id": "1D_LPeD_XCYv"
      },
      "execution_count": null,
      "outputs": []
    },
    {
      "cell_type": "code",
      "source": [
        "# Datetime\n",
        "# A date in Python is not a data type of its own, but we can import a module named datetime to work with dates as date objects.\n",
        "\n",
        "import datetime\n",
        "\n",
        "x = datetime.datetime(2018, 6, 1)\n",
        "\n",
        "print(x.strftime(\"%B\"))"
      ],
      "metadata": {
        "colab": {
          "base_uri": "https://localhost:8080/"
        },
        "id": "fT6-61_V7W6k",
        "outputId": "b31b2b12-63f1-42a6-f2cd-37dcbef3524b"
      },
      "execution_count": null,
      "outputs": [
        {
          "output_type": "stream",
          "name": "stdout",
          "text": [
            "June\n"
          ]
        }
      ]
    },
    {
      "cell_type": "code",
      "source": [
        "# Math\n",
        "# Python has a set of built-in math functions, including an extensive math module, that allows you to perform mathematical tasks on numbers."
      ],
      "metadata": {
        "id": "uGbgxNuo8Zv7"
      },
      "execution_count": null,
      "outputs": []
    },
    {
      "cell_type": "code",
      "source": [
        "x = min(5, 10, 25)\n",
        "y = max(5, 10, 25)\n",
        "z = abs(-7.25)         # absolute (positive)\n",
        "a = pow(4, 3)          # x to the power of y\n",
        "\n",
        "print(x)\n",
        "print(y)\n",
        "print(z)\n",
        "print(a)"
      ],
      "metadata": {
        "colab": {
          "base_uri": "https://localhost:8080/"
        },
        "id": "PmneNaOF8g5L",
        "outputId": "dd5e107e-695e-46d8-a14f-82cc498e2ad1"
      },
      "execution_count": null,
      "outputs": [
        {
          "output_type": "stream",
          "name": "stdout",
          "text": [
            "5\n",
            "25\n",
            "7.25\n",
            "64\n"
          ]
        }
      ]
    },
    {
      "cell_type": "code",
      "source": [
        "# Python has also a built-in module called math, which extends the list of mathematical functions.\n",
        "\n",
        "import math\n",
        "\n",
        "x = math.sqrt(64)\n",
        "\n",
        "print(x)\n"
      ],
      "metadata": {
        "colab": {
          "base_uri": "https://localhost:8080/"
        },
        "id": "SbINjBqb8tz2",
        "outputId": "51f4dd42-cb5d-4937-b107-a20d890a6a61"
      },
      "execution_count": null,
      "outputs": [
        {
          "output_type": "stream",
          "name": "stdout",
          "text": [
            "8.0\n"
          ]
        }
      ]
    },
    {
      "cell_type": "code",
      "source": [
        "# math methods\n",
        "\n",
        "for i in dir(math):\n",
        "  if not i.startswith(\"__\"):\n",
        "    print(i)"
      ],
      "metadata": {
        "collapsed": true,
        "colab": {
          "base_uri": "https://localhost:8080/"
        },
        "id": "pAJ0Cp6J9rJ8",
        "outputId": "00d4e9be-58f4-4a89-9df3-8af8cefc8a38"
      },
      "execution_count": null,
      "outputs": [
        {
          "output_type": "stream",
          "name": "stdout",
          "text": [
            "acos\n",
            "acosh\n",
            "asin\n",
            "asinh\n",
            "atan\n",
            "atan2\n",
            "atanh\n",
            "cbrt\n",
            "ceil\n",
            "comb\n",
            "copysign\n",
            "cos\n",
            "cosh\n",
            "degrees\n",
            "dist\n",
            "e\n",
            "erf\n",
            "erfc\n",
            "exp\n",
            "exp2\n",
            "expm1\n",
            "fabs\n",
            "factorial\n",
            "floor\n",
            "fmod\n",
            "frexp\n",
            "fsum\n",
            "gamma\n",
            "gcd\n",
            "hypot\n",
            "inf\n",
            "isclose\n",
            "isfinite\n",
            "isinf\n",
            "isnan\n",
            "isqrt\n",
            "lcm\n",
            "ldexp\n",
            "lgamma\n",
            "log\n",
            "log10\n",
            "log1p\n",
            "log2\n",
            "modf\n",
            "nan\n",
            "nextafter\n",
            "perm\n",
            "pi\n",
            "pow\n",
            "prod\n",
            "radians\n",
            "remainder\n",
            "sin\n",
            "sinh\n",
            "sqrt\n",
            "tan\n",
            "tanh\n",
            "tau\n",
            "trunc\n",
            "ulp\n"
          ]
        }
      ]
    },
    {
      "cell_type": "code",
      "source": [
        "# RegEx\n",
        "# A RegEx, or Regular Expression, is a sequence of characters that forms a search pattern.\n",
        "# RegEx can be used to check if a string contains the specified search pattern.\n",
        "\n",
        "import re\n",
        "\n",
        "txt = \"The rain in Spain\"\n",
        "x = re.search(\"^The.*Spain$\", txt)\n",
        "print(x)"
      ],
      "metadata": {
        "colab": {
          "base_uri": "https://localhost:8080/"
        },
        "id": "K8CNBYS2F4z6",
        "outputId": "ed5759bd-f028-49f9-f261-bac416ba137d"
      },
      "execution_count": null,
      "outputs": [
        {
          "output_type": "stream",
          "name": "stdout",
          "text": [
            "<re.Match object; span=(0, 17), match='The rain in Spain'>\n"
          ]
        }
      ]
    },
    {
      "cell_type": "code",
      "source": [
        "# F-Strings\n",
        "# F-string allows you to format selected parts of a string.\n",
        "\n",
        "price = 59\n",
        "txt = f\"The price is {price} dollars\"\n",
        "print(txt)\n",
        "print(f\"The price is {price:.2f} dollars\")\n",
        "print(f\"The price is {20 * 59} dollars\")\n",
        "print(f\"It is very {'Expensive' if price>50 else 'Cheap'}\")\n",
        "\n",
        "def myconverter(x):\n",
        "  return x * 0.3048\n",
        "\n",
        "print(f\"The plane is flying at a {myconverter(30000)} meter altitude\")"
      ],
      "metadata": {
        "colab": {
          "base_uri": "https://localhost:8080/"
        },
        "id": "6F9C3tABGnz_",
        "outputId": "5f2a1b24-57ab-4f7f-f757-77377899ee96"
      },
      "execution_count": null,
      "outputs": [
        {
          "output_type": "stream",
          "name": "stdout",
          "text": [
            "The price is 59 dollars\n",
            "The price is 59.00 dollars\n",
            "The price is 1180 dollars\n",
            "It is very Expensive\n"
          ]
        }
      ]
    },
    {
      "cell_type": "code",
      "source": [
        "quantity = 3\n",
        "itemno = 567\n",
        "price = 49\n",
        "myorder = \"I want {} pieces of item number {} for {:.2f} dollars.\"\n",
        "print(myorder.format(quantity, itemno, price))\n",
        "\n",
        "myorder = \"I want {0} pieces of item number {1} for {2:.2f} dollars.\"\n",
        "print(myorder.format(quantity, itemno, price))\n",
        "\n",
        "myorder = \"I have a {carname}, it is a {model}.\"\n",
        "print(myorder.format(carname = \"Ford\", model = \"Mustang\"))"
      ],
      "metadata": {
        "colab": {
          "base_uri": "https://localhost:8080/"
        },
        "id": "Nq7beeN8HVkU",
        "outputId": "a516a623-45b2-4fdc-cc2b-d08bd8af7957"
      },
      "execution_count": null,
      "outputs": [
        {
          "output_type": "stream",
          "name": "stdout",
          "text": [
            "I want 3 pieces of item number 567 for 49.00 dollars.\n",
            "I want 3 pieces of item number 567 for 49.00 dollars.\n",
            "I have a Ford, it is a Mustang.\n"
          ]
        }
      ]
    },
    {
      "cell_type": "code",
      "source": [
        "# enumerate() Function\n",
        "# The enumerate() function takes a collection (e.g. a tuple) and returns it as an enumerate object.\n",
        "# The enumerate() function adds a counter as the key of the enumerate object.\n",
        "# enumerate(iterable, start)  -> start ->\tA Number. Defining the start number of the enumerate object. Default 0\n",
        "\n",
        "scores = [85, 90, 0, 75]\n",
        "\n",
        "# enumerate makes it easy to access list in loop with both index and elements\n",
        "for i, score in enumerate(scores):\n",
        "    if score == 0:\n",
        "        scores[i] = 80  # Fill in a default score\n",
        "\n",
        "print(scores)"
      ],
      "metadata": {
        "id": "BJSd3_W5RS-3"
      },
      "execution_count": null,
      "outputs": []
    },
    {
      "cell_type": "code",
      "source": [
        "# yield Keyword\n",
        "# it works as the iter keyword but used in functions in place of return statement\n",
        "\n",
        "def myFunc():\n",
        "  yield \"Hello\"\n",
        "  yield 51\n",
        "  yield \"Good Bye\"\n",
        "\n",
        "x = myFunc()\n",
        "\n",
        "for z in x:\n",
        "  print(z)"
      ],
      "metadata": {
        "id": "CSSP7p_gTsb_",
        "outputId": "45764436-cb32-4315-f104-dce54f7ccb5b",
        "colab": {
          "base_uri": "https://localhost:8080/"
        }
      },
      "execution_count": null,
      "outputs": [
        {
          "output_type": "stream",
          "name": "stdout",
          "text": [
            "Hello\n",
            "51\n",
            "Good Bye\n"
          ]
        }
      ]
    },
    {
      "cell_type": "code",
      "source": [
        "def myFunc():\n",
        "  yield \"Hello\"\n",
        "  yield 51\n",
        "  yield \"Good Bye\"\n",
        "  yield 100\n",
        "\n",
        "x = myFunc()\n",
        "\n",
        "print(next(x))\n",
        "print(next(x))\n",
        "print(next(x))\n",
        "print(next(x))"
      ],
      "metadata": {
        "id": "rpr8IGdnUQ-i",
        "outputId": "11c19fb6-fa08-4722-e1ce-9ed860a18be3",
        "colab": {
          "base_uri": "https://localhost:8080/"
        }
      },
      "execution_count": null,
      "outputs": [
        {
          "output_type": "stream",
          "name": "stdout",
          "text": [
            "Hello\n",
            "51\n",
            "Good Bye\n",
            "100\n"
          ]
        }
      ]
    },
    {
      "cell_type": "code",
      "source": [
        "#yeild vs iterator\n",
        "# Feature\t      Iterator\t                                 Generator\n",
        "# Syntax\t      Requires class with __iter__/__next__\t     Uses yield inside a function\n",
        "# Memory\t      Can be heavy depending on implementation\t More memory-efficient (lazy evaluation)\n",
        "# Simplicity\t  More boilerplate code\t                     Short and readable\n",
        "# Reusability\t  Can be reused if coded that way          \t One-time use (unless re-invoked)"
      ],
      "metadata": {
        "id": "3Ybdp1EIRzUx"
      },
      "execution_count": null,
      "outputs": []
    },
    {
      "cell_type": "code",
      "source": [
        "# Map Function\n",
        "# The map() function executes a specified function for each item in an iterable. The item is sent to the function as a parameter.\n",
        "# map(function, iterables)\n",
        "\n",
        "def myfunc(n):\n",
        "  return len(n)\n",
        "\n",
        "def myfunc2(a, b):\n",
        "  return a + \" \" + b\n",
        "\n",
        "x = map(myfunc, ('apple', 'banana', 'cherry'))\n",
        "print(x)\n",
        "print(list(x))\n",
        "x = map(myfunc2, ('apple', 'banana', 'cherry'), ('orange', 'lemon', 'pineapple'))\n",
        "print(x)\n",
        "print(list(x))"
      ],
      "metadata": {
        "id": "t6jJFxIoYhQ3",
        "colab": {
          "base_uri": "https://localhost:8080/"
        },
        "outputId": "50f31ba6-d236-4dc7-f4c6-366901b338a5"
      },
      "execution_count": null,
      "outputs": [
        {
          "output_type": "stream",
          "name": "stdout",
          "text": [
            "<map object at 0x7b65e32ee1d0>\n",
            "[5, 6, 6]\n",
            "<map object at 0x7b65e32ed150>\n",
            "['apple orange', 'banana lemon', 'cherry pineapple']\n"
          ]
        }
      ]
    },
    {
      "cell_type": "code",
      "source": [
        "# Map function with lambda\n",
        "\n",
        "output = list(map(lambda x: x*2, [1, 2, 3, 4]))\n",
        "print(output)"
      ],
      "metadata": {
        "colab": {
          "base_uri": "https://localhost:8080/"
        },
        "id": "jTCZ1KFaNkIv",
        "outputId": "04b293d1-81cf-4a89-f9f1-8707ba51e9d7"
      },
      "execution_count": null,
      "outputs": [
        {
          "output_type": "stream",
          "name": "stdout",
          "text": [
            "[2, 4, 6, 8]\n"
          ]
        }
      ]
    },
    {
      "cell_type": "code",
      "source": [
        "# filter\n",
        "# Filter() Function-\n",
        "# Filter() is used to create a list of elements for which a function returns “True”.\n",
        "# Syntax- filter( function that returns True, list)\n",
        "\n",
        "evenOutput = list(filter(lambda x: (x%2==0), [1, 2, 3, 4]))\n",
        "print(evenOutput)\n",
        "\n",
        "def odd(x):\n",
        "  if x%2==0:\n",
        "    return False\n",
        "  else:\n",
        "    return True\n",
        "\n",
        "oddOutput = list(filter(odd, [1, 2, 3, 4]))\n",
        "print(oddOutput)"
      ],
      "metadata": {
        "colab": {
          "base_uri": "https://localhost:8080/"
        },
        "id": "xbzR4CE_N4Kk",
        "outputId": "6915b26d-cc64-499c-c49f-43f82ca83e41"
      },
      "execution_count": null,
      "outputs": [
        {
          "output_type": "stream",
          "name": "stdout",
          "text": [
            "[2, 4]\n",
            "[1, 3]\n"
          ]
        }
      ]
    },
    {
      "cell_type": "code",
      "source": [
        "# Zip() Function  ->  zip(iterator1, iterator2, iterator3 ...)\n",
        "# The zip() function returns a zip object, which is an iterator of tuples where the first item in each passed iterator is paired together, and --\n",
        "# then the second item in each passed iterator are paired together etc.\n",
        "# If the passed iterables have different lengths, the iterable with the least items decides the length of the new iterator.\n",
        "\n",
        "a = (\"John\", \"Charles\", \"Mike\")\n",
        "b = (\"Jenny\", \"Christy\", \"Monica\", \"Vicky\")\n",
        "\n",
        "x = zip(a, b)\n",
        "print(x)\n",
        "print(list(x))"
      ],
      "metadata": {
        "colab": {
          "base_uri": "https://localhost:8080/"
        },
        "id": "gygeEsarO0b8",
        "outputId": "adaff525-09d1-4937-b447-d16b1b94fdf8"
      },
      "execution_count": null,
      "outputs": [
        {
          "output_type": "stream",
          "name": "stdout",
          "text": [
            "<zip object at 0x7b65e32fc600>\n",
            "[('John', 'Jenny'), ('Charles', 'Christy'), ('Mike', 'Monica')]\n"
          ]
        }
      ]
    },
    {
      "cell_type": "code",
      "source": [
        "# exception handling\n",
        "# When an error occurs, or exception as we call it, Python will normally stop and generate an error message.\n",
        "# These exceptions can be handled using the try statements:\n",
        "# The try block lets you test a block of code for errors.\n",
        "# The except block lets you handle the error.\n",
        "# The else block lets you execute code when there is no error.\n",
        "# The finally block lets you execute code, regardless of the result of the try- and except blocks."
      ],
      "metadata": {
        "id": "aqvKrLJ-Pc1c"
      },
      "execution_count": null,
      "outputs": []
    },
    {
      "cell_type": "code",
      "source": [
        "# try block\n",
        "\n",
        "try:\n",
        "  print(var)\n",
        "except:\n",
        "  print(\"An exception occurred\")"
      ],
      "metadata": {
        "colab": {
          "base_uri": "https://localhost:8080/"
        },
        "id": "_niNsT3TQBOa",
        "outputId": "de346aba-080f-448b-c85a-47f0b1a3d26c"
      },
      "execution_count": null,
      "outputs": [
        {
          "output_type": "stream",
          "name": "stdout",
          "text": [
            "An exception occurred\n"
          ]
        }
      ]
    },
    {
      "cell_type": "code",
      "source": [
        "# except block\n",
        "# You can define as many exception blocks as you want, e.g. if you want to execute a special block of code for a special kind of error\n",
        "# if there are multiple error in the try only the first error gets picked and the corresponding except statement is excecuted if mentioned\n",
        "# if the error doesn't have a general except block(except block with no exception particularly mentioned) or the except with the error's exception mentioned, --\n",
        "# then the program throughs error even if the error occur inside the try block\n",
        "\n",
        "try:\n",
        "  print(\"1\" + 1)\n",
        "  print(var)\n",
        "except TypeError:\n",
        "  print(\"there is a type mismatch#\")\n",
        "except Exception as e:\n",
        "  print(\"Something else went wrong -> \",e)"
      ],
      "metadata": {
        "colab": {
          "base_uri": "https://localhost:8080/"
        },
        "id": "tQakorHcQLeA",
        "outputId": "b2fb487f-36b7-461e-b6c0-e9fbb2b89d47"
      },
      "execution_count": null,
      "outputs": [
        {
          "output_type": "stream",
          "name": "stdout",
          "text": [
            "there is a type mismatch\n"
          ]
        }
      ]
    },
    {
      "cell_type": "code",
      "source": [
        "# Else\n",
        "# You can use the else keyword to define a block of code to be executed if no errors were raised\n",
        "# when else is used it requires the except\n",
        "\n",
        "try:\n",
        "  print(\"Hello\")\n",
        "except:\n",
        "  print(\"exception occured\")\n",
        "else:\n",
        "  print(\"Nothing went wrong\")"
      ],
      "metadata": {
        "colab": {
          "base_uri": "https://localhost:8080/"
        },
        "id": "P2MbHPSbRlUd",
        "outputId": "5735c0af-2e0b-40d2-8d04-77f3de7c7931"
      },
      "execution_count": null,
      "outputs": [
        {
          "output_type": "stream",
          "name": "stdout",
          "text": [
            "Hello\n",
            "Nothing went wrong\n"
          ]
        }
      ]
    },
    {
      "cell_type": "code",
      "source": [
        "# Finally\n",
        "# The finally block, if specified, will be executed regardless if the try block raises an error or not.\n",
        "\n",
        "try:\n",
        "  print(var)\n",
        "except:\n",
        "  print(\"Something went wrong\")\n",
        "finally:\n",
        "  print(\"The 'try except' is finished\")"
      ],
      "metadata": {
        "colab": {
          "base_uri": "https://localhost:8080/"
        },
        "id": "6fZZDUruRuKa",
        "outputId": "93a7ec69-a96a-434b-fa05-de4f973a7a7b"
      },
      "execution_count": null,
      "outputs": [
        {
          "output_type": "stream",
          "name": "stdout",
          "text": [
            "Something went wrong\n",
            "The 'try except' is finished\n"
          ]
        }
      ]
    },
    {
      "cell_type": "code",
      "source": [
        "# Raise an exception\n",
        "# As a Python developer you can choose to throw an exception if a condition occurs.\n",
        "# To throw (or raise) an exception, use the raise keyword.\n",
        "\n",
        "x = -1\n",
        "\n",
        "if x < 0:\n",
        "  raise Exception(\"Sorry, no numbers below zero\")\n",
        "\n",
        "if not type(x) is str:\n",
        "  raise TypeError(\"Only String are allowed\")"
      ],
      "metadata": {
        "colab": {
          "base_uri": "https://localhost:8080/",
          "height": 211
        },
        "id": "Vpj6RuZ5U853",
        "outputId": "35b56fb4-bc54-4828-e98d-575d43eccef2"
      },
      "execution_count": null,
      "outputs": [
        {
          "output_type": "error",
          "ename": "Exception",
          "evalue": "Sorry, no numbers below zero",
          "traceback": [
            "\u001b[0;31m---------------------------------------------------------------------------\u001b[0m",
            "\u001b[0;31mException\u001b[0m                                 Traceback (most recent call last)",
            "\u001b[0;32m<ipython-input-39-7e9275327e20>\u001b[0m in \u001b[0;36m<cell line: 0>\u001b[0;34m()\u001b[0m\n\u001b[1;32m      6\u001b[0m \u001b[0;34m\u001b[0m\u001b[0m\n\u001b[1;32m      7\u001b[0m \u001b[0;32mif\u001b[0m \u001b[0mx\u001b[0m \u001b[0;34m<\u001b[0m \u001b[0;36m0\u001b[0m\u001b[0;34m:\u001b[0m\u001b[0;34m\u001b[0m\u001b[0;34m\u001b[0m\u001b[0m\n\u001b[0;32m----> 8\u001b[0;31m   \u001b[0;32mraise\u001b[0m \u001b[0mException\u001b[0m\u001b[0;34m(\u001b[0m\u001b[0;34m\"Sorry, no numbers below zero\"\u001b[0m\u001b[0;34m)\u001b[0m\u001b[0;34m\u001b[0m\u001b[0;34m\u001b[0m\u001b[0m\n\u001b[0m\u001b[1;32m      9\u001b[0m \u001b[0;34m\u001b[0m\u001b[0m\n\u001b[1;32m     10\u001b[0m \u001b[0;32mif\u001b[0m \u001b[0;32mnot\u001b[0m \u001b[0mtype\u001b[0m\u001b[0;34m(\u001b[0m\u001b[0mx\u001b[0m\u001b[0;34m)\u001b[0m \u001b[0;32mis\u001b[0m \u001b[0mstr\u001b[0m\u001b[0;34m:\u001b[0m\u001b[0;34m\u001b[0m\u001b[0;34m\u001b[0m\u001b[0m\n",
            "\u001b[0;31mException\u001b[0m: Sorry, no numbers below zero"
          ]
        }
      ]
    },
    {
      "cell_type": "code",
      "source": [
        "# file handling\n",
        "# File handling is an important part of any web application.\n",
        "# Python has several functions for creating, reading, updating, and deleting files."
      ],
      "metadata": {
        "id": "791DE98iVVV-"
      },
      "execution_count": null,
      "outputs": []
    },
    {
      "cell_type": "code",
      "source": [
        "# opening the file  -> open(file, mode='r', buffering=-1, encoding=None, errors=None, newline=None, closefd=True, opener=None)\n",
        "# only the file and mode parametar is specified in almost all the cases\n",
        "# mode is an optional string that specifies the mode in which the file is opened\n",
        "\n",
        "# Character               Meaning\n",
        "#    'r'            open for reading (default), throws error is file not present\n",
        "#    'w'            open for writing, truncating the file first, unable to read\n",
        "#    'x'            open for exclusive creation, failing if the file already exists\n",
        "#    'a'            open for writing, appending to the end of file if it exists(seek position is set with ending and can be changed using seek() method to file object), unable to read\n",
        "#    'b'            binary mode\n",
        "#    't'            text mode (default)\n",
        "#    '+'            open for updating (reading and writing)\n",
        "\n",
        "# seek() method\n",
        "# The seek() method sets the current file position in a file stream.\n",
        "# The seek() method also returns the new postion.\n",
        "# file.seek(4)    -> file.seek(offset)  offset - Required. A number representing the position to set the current file stream position."
      ],
      "metadata": {
        "id": "xHxqbGUGV9-w"
      },
      "execution_count": null,
      "outputs": []
    },
    {
      "cell_type": "code",
      "source": [
        "file = open(\"demofile.txt\", \"w+\")\n",
        "# can use multiple modes depending on the requirement\n",
        "# opening the file with 'w' mode will override the file resulting in the lose of previouly stored data"
      ],
      "metadata": {
        "id": "1LEJa4-nYBbh"
      },
      "execution_count": null,
      "outputs": []
    },
    {
      "cell_type": "code",
      "source": [
        "# write in the file\n",
        "\n",
        "file.write(\"Now the file has more content!\")\n",
        "file.close()"
      ],
      "metadata": {
        "id": "j_oIckcNZECz"
      },
      "execution_count": null,
      "outputs": []
    },
    {
      "cell_type": "code",
      "source": [
        "# read the file\n",
        "\n",
        "file = open(\"demofile.txt\", \"r\")\n",
        "print(file.read())\n",
        "file.close()\n",
        "\n",
        "# there are other methods line readline, readlines which are used to read the file with more ways"
      ],
      "metadata": {
        "colab": {
          "base_uri": "https://localhost:8080/"
        },
        "id": "ruh6pUIQZhoF",
        "outputId": "678f86a3-57cc-4a37-f2a1-1d869b01ae36"
      },
      "execution_count": null,
      "outputs": [
        {
          "output_type": "stream",
          "name": "stdout",
          "text": [
            "Now the file has more content!\n"
          ]
        }
      ]
    },
    {
      "cell_type": "code",
      "source": [
        "# Seek function\n",
        "# using seek function we can change the file pointer\n",
        "# file pointer is at start(0) when \"r+\" is used and at end of file when \"a+\" is used\n",
        "# by changing the file position we can update or change the file in the middle itself\n",
        "# file.seek(offset, from_what) -> offset = where the pointer need to point,\n",
        "#                                 from_what(default: 0) = sets the reference point (0 - begining, 1 - current file pointer, 2 - end of the file)\n",
        "# seek write only works if the file opened with \"r+\" mode\n",
        "# only seek read works when file is opened with \"a+\" mode\n",
        "# seek offset paramenter negative value conditions (define the seek from the end of the file)\n",
        "#     works only when the file is opened on binary mode and the from_what parameter is set to 2.\n",
        "\n",
        "file = open(\"demofile.txt\", \"r+\")\n",
        "content = file.read()\n",
        "file.seek(16)\n",
        "file.write(\" Updated\")\n",
        "file.write(content[16:])\n",
        "file.close()"
      ],
      "metadata": {
        "id": "T4m3i7dkj-Zb"
      },
      "execution_count": null,
      "outputs": []
    },
    {
      "cell_type": "code",
      "source": [
        "file = open(\"demofile.txt\", \"r\")\n",
        "print(file.read())\n",
        "file.close()"
      ],
      "metadata": {
        "id": "RqzTtWf1j0Nl",
        "outputId": "2b190738-baa2-47f3-b9a5-515fa9a307cf",
        "colab": {
          "base_uri": "https://localhost:8080/"
        }
      },
      "execution_count": null,
      "outputs": [
        {
          "output_type": "stream",
          "name": "stdout",
          "text": [
            "Now the file has Updated more content!\n"
          ]
        }
      ]
    },
    {
      "cell_type": "code",
      "source": [
        "# methods that can be used with file object\n",
        "for i in dir(file):\n",
        "  if not i.startswith(\"__\") and not i.startswith(\"_\"):\n",
        "    print(i)"
      ],
      "metadata": {
        "colab": {
          "base_uri": "https://localhost:8080/"
        },
        "id": "gsTuyuCOaRIZ",
        "outputId": "d0d8a858-cfee-4b40-bb17-212cc6abc22a"
      },
      "execution_count": null,
      "outputs": [
        {
          "output_type": "stream",
          "name": "stdout",
          "text": [
            "buffer\n",
            "close\n",
            "closed\n",
            "detach\n",
            "encoding\n",
            "errors\n",
            "fileno\n",
            "flush\n",
            "isatty\n",
            "line_buffering\n",
            "mode\n",
            "name\n",
            "newlines\n",
            "read\n",
            "readable\n",
            "readline\n",
            "readlines\n",
            "reconfigure\n",
            "seek\n",
            "seekable\n",
            "tell\n",
            "truncate\n",
            "writable\n",
            "write\n",
            "write_through\n",
            "writelines\n"
          ]
        }
      ]
    },
    {
      "cell_type": "code",
      "source": [
        "# Close file -> file.close()\n",
        "# opening the file consumes system resourse like memory, too many file hit open will case system limit. resulting in \"too many open files\" ERROR\n",
        "# some of the content may endup in the buffer and not be saved\n",
        "# especially when writing large file leaving the file open will cause in incomplete write and file corruption\n",
        "# not closing the file can result in permission or access errors\n",
        "\n",
        "file.close()"
      ],
      "metadata": {
        "id": "3bb56gHBajy9"
      },
      "execution_count": null,
      "outputs": []
    },
    {
      "cell_type": "code",
      "source": [
        "# with statement\n",
        "# with function is a context manager used to handle the file operations\n",
        "# process of file handling will cause many number error so exception handling is important, instead of using try, except and ensuring the close() all the time --\n",
        "# it is best and safe practice to use with statement\n",
        "\n",
        "# In Python, the with statement replaces a try-catch block with a concise shorthand. More importantly, it ensures closing resources right after processing them.\n",
        "\n",
        "with open(\"demofile.txt\") as file:\n",
        "  data = file.read()\n",
        "  print(data)\n",
        "\n",
        "# with will handle the close() itself, and also handles the error while opening the files"
      ],
      "metadata": {
        "colab": {
          "base_uri": "https://localhost:8080/"
        },
        "id": "beYXe1-EcBHc",
        "outputId": "c1566529-e1b5-4163-9a37-64274270e8b7"
      },
      "execution_count": null,
      "outputs": [
        {
          "output_type": "stream",
          "name": "stdout",
          "text": [
            "Now the file has more content!\n"
          ]
        }
      ]
    },
    {
      "cell_type": "code",
      "source": [
        "# with statement\n",
        "# with statement in python is a context manager.A function or class that supports the with statement is known as a context manager.\n",
        "# a context manager is an object that manages resources (like files, network connections, or database connections) within a controlled block of code,--\n",
        "# ensuring they are properly initialized and cleaned up, even if exceptions occur.\n",
        "# hence, with statement is not only used for file handling but also like network connections, database connections, locks, and temperary changes(changing location temperorily)\n",
        "# It allows you to take advantage of existing context managers to automatically handle the setup and teardown phases"
      ],
      "metadata": {
        "id": "P67kPpS2kaNH"
      },
      "execution_count": null,
      "outputs": []
    },
    {
      "cell_type": "code",
      "source": [
        "# temperory process using with\n",
        "\n",
        "import os\n",
        "from contextlib import contextmanager\n",
        "\n",
        "@contextmanager\n",
        "def change_dir(destination):\n",
        "    try:\n",
        "        cwd = os.getcwd()\n",
        "        os.chdir(destination)\n",
        "        yield\n",
        "    finally:\n",
        "        os.chdir(cwd)\n",
        "\n",
        "with change_dir('sample_data'):\n",
        "    print(os.listdir())\n",
        "\n",
        "print(\"outside of 'with' - \",os.listdir())"
      ],
      "metadata": {
        "id": "N5HRYu9jlobb",
        "outputId": "1a943bf4-0965-4409-8521-690a24ca7b06",
        "colab": {
          "base_uri": "https://localhost:8080/"
        }
      },
      "execution_count": null,
      "outputs": [
        {
          "output_type": "stream",
          "name": "stdout",
          "text": [
            "['anscombe.json', 'README.md', 'mnist_train_small.csv', 'mnist_test.csv', 'california_housing_train.csv', 'california_housing_test.csv']\n",
            "outside of 'with' -  ['.config', 'demofile.txt', 'sample_data']\n"
          ]
        }
      ]
    },
    {
      "cell_type": "code",
      "source": [
        "# context manager\n",
        "# An object which controls the environment seen in a with statement by defining  __enter__() and __exit__() methods.\n",
        "# The with statement in Python lets you run a block of code within a runtime context defined by a context manager object.\n",
        "\n",
        "# Create a Custom Context Manager\n",
        "# there are two distinct ways of creating\n",
        "# The first one is a generator-based approach and the second one is a class-based approach\n",
        "\n",
        "''' Creating methods and explaination are in th docs file'''"
      ],
      "metadata": {
        "id": "zOFSsuB4nz1B"
      },
      "execution_count": null,
      "outputs": []
    },
    {
      "cell_type": "code",
      "source": [
        "# Decorators\n",
        "# it used to modify the behaviour of a function or class. Decorators allow us to wrap another function in order to extend the behaviour of the wrapped function, without permanently modifying it\n",
        "# A decorator is a function that takes function as a argument an extend its functionality and return a modified function with extended functionality\n"
      ],
      "metadata": {
        "id": "YKtOe3gKVpP5"
      },
      "execution_count": null,
      "outputs": []
    },
    {
      "cell_type": "code",
      "source": [
        "# Treating function as object\n",
        "\n",
        "def shout(text):\n",
        "  return text.upper()\n",
        "\n",
        "print(shout('Hello'))\n",
        "yell = shout\n",
        "print(yell('Hello'))\n"
      ],
      "metadata": {
        "id": "PTJGwrAI6UFk",
        "outputId": "848280ab-fb3e-4b07-bc43-da4af5786f34",
        "colab": {
          "base_uri": "https://localhost:8080/"
        }
      },
      "execution_count": null,
      "outputs": [
        {
          "output_type": "stream",
          "name": "stdout",
          "text": [
            "HELLO\n",
            "HELLO\n"
          ]
        }
      ]
    },
    {
      "cell_type": "code",
      "source": [
        "# Passing the function as an argument\n",
        "# Python program to illustrate functions\n",
        "# can be passed as arguments to other functions\n",
        "def shout(text):\n",
        " \treturn text.upper()\n",
        "def whisper(text):\n",
        " \treturn text.lower()\n",
        "def greet(func):\n",
        " \t# storing the function in a variable\n",
        "  greeting = func(\"\"\"Hi, I am created by a function passed as an argument.\"\"\")\n",
        "  print(greeting)\n",
        "\n",
        "greet(shout)\n",
        "greet(whisper)\n"
      ],
      "metadata": {
        "id": "eDyCDD3qWI4-",
        "outputId": "167ecad2-5951-4ec7-d0e6-f07e698fa529",
        "colab": {
          "base_uri": "https://localhost:8080/"
        }
      },
      "execution_count": null,
      "outputs": [
        {
          "output_type": "stream",
          "name": "stdout",
          "text": [
            "HI, I AM CREATED BY A FUNCTION PASSED AS AN ARGUMENT.\n",
            "hi, i am created by a function passed as an argument.\n"
          ]
        }
      ]
    },
    {
      "cell_type": "code",
      "source": [
        "# Returning functions from another function\n",
        "# Python program to illustrate functions\n",
        "# Functions can return another function\n",
        "def create_adder(x):\n",
        "  def adder(y):\n",
        "    return x+y\n",
        "  return adder\n",
        "\n",
        "add_15 = create_adder(15)\n",
        "print(add_15(10))\n"
      ],
      "metadata": {
        "id": "08exqEwpWbHP",
        "outputId": "633f6744-0ad9-4e51-bf2b-d22c70ddd2b4",
        "colab": {
          "base_uri": "https://localhost:8080/"
        }
      },
      "execution_count": null,
      "outputs": [
        {
          "output_type": "stream",
          "name": "stdout",
          "text": [
            "25\n"
          ]
        }
      ]
    },
    {
      "cell_type": "code",
      "source": [
        "# In decorators, functions are taken as arguments into the another function and then called inside the wrapper function.\n",
        "# syntax\n",
        "'''\n",
        "@gfg_decorator\n",
        "def hello_decorator():\n",
        "  print(\"Gfg\")\n",
        "'''\n",
        "#  Above code is equivalent to -\n",
        "'''\n",
        "def hello_decorator():\n",
        "  print(\"Gfg\")\n",
        "hello_decorator = gfg_decorator(hello_decorator)\n",
        "'''\n",
        "#  where in both the above codes the gfg_decorator is a seperate function that takes function as parameter"
      ],
      "metadata": {
        "id": "AUFSl-fCW1Gs"
      },
      "execution_count": null,
      "outputs": []
    },
    {
      "cell_type": "code",
      "source": [
        "# defining a decorator\n",
        "\n",
        "def hello_decorator(func):                              # inner function can access the outer local functions like in this case \"func\" parameter\n",
        "  def inner1():                                         # inner1 is a Wrapper function in which the argument is called\n",
        "    print(\"Hello, this is before function execution\")\n",
        "    func()                                              # Calling the actual function inside the wrapper function\n",
        "    print(\"This is after function execution\")\n",
        "  return inner1\n",
        "\n",
        "# defining a function, to be called inside wrapper\n",
        "\n",
        "def function_to_be_used():\n",
        "  print(\"This is inside the function !!\")\n",
        "\n",
        "function_to_be_used = hello_decorator(function_to_be_used)   # passing 'function_to_be_used' inside the decorator to control its behaviour\n",
        "\n",
        "# calling the function\n",
        "function_to_be_used()\n"
      ],
      "metadata": {
        "id": "0CKZX5D6Yyq9",
        "outputId": "767d4be0-4e75-4b57-8635-ee80dc6099c6",
        "colab": {
          "base_uri": "https://localhost:8080/"
        }
      },
      "execution_count": null,
      "outputs": [
        {
          "output_type": "stream",
          "name": "stdout",
          "text": [
            "Hello, this is before function execution\n",
            "This is inside the function !!\n",
            "This is after function execution\n"
          ]
        }
      ]
    },
    {
      "cell_type": "code",
      "source": [
        "# actual way of using the decorator\n",
        "\n",
        "@hello_decorator\n",
        "def function_to_be_used():\n",
        "  print(\"This is inside the function !!\")\n",
        "\n",
        "function_to_be_used()"
      ],
      "metadata": {
        "id": "G4ammYbXaQA8",
        "outputId": "dfa50eac-8cc2-47db-a4af-1a5909cccb6b",
        "colab": {
          "base_uri": "https://localhost:8080/"
        }
      },
      "execution_count": null,
      "outputs": [
        {
          "output_type": "stream",
          "name": "stdout",
          "text": [
            "Hello, this is before function execution\n",
            "This is inside the function !!\n",
            "This is after function execution\n"
          ]
        }
      ]
    },
    {
      "cell_type": "code",
      "source": [
        "# decorator with argument\n",
        "# we can pass the argument to the decorator, but for that we need two inner functions\n",
        "# the argument are used to change the behavior of the decorators, like in case of access level or logging level\n",
        "\n",
        "def dec_args(name):\n",
        "  def dec(func):\n",
        "    def wrapper(*args, **kargs):  # always recommended to get *args and **kargs as parameter into wrapper, it will through error if original func gets the parameter\n",
        "      var = func(*args, **kargs)  # don't forget to mention the *args and **kargs while calling func inside the wrapper. through error if not\n",
        "      print(name)\n",
        "      return var           # the decorator will work without returning func but it is always recommended to return the func\n",
        "                           # if the original func return something and we have not returned the func inside the wrapper then the decorated function will not return anything\n",
        "    return wrapper\n",
        "  return dec\n",
        "\n",
        "@dec_args(\"parameter_passed\")\n",
        "def hello(greet):\n",
        "   return greet\n",
        "\n",
        "hello(\"welcome\")\n"
      ],
      "metadata": {
        "id": "nX9ncdrVaaVG"
      },
      "execution_count": null,
      "outputs": []
    },
    {
      "cell_type": "code",
      "source": [
        "# multiple decorators\n",
        "# the \"hello\" function passed into \"square\" function and then into \"star function\"\n",
        "# which will look like\n",
        "def star(func):                   #\n",
        "  def inner(*args, **kwargs):     # args = (4)\n",
        "    print(\"Star decorator\")       # star decorator         will print\n",
        "    i = args[0] - 5               # i = 4 - 5 = -1\n",
        "    res =                         #\n",
        "                                  #\n",
        "                                  #\n",
        "    def square(func):             #\n",
        "      def inner(*args, **kwargs): # args = (-1)             passed from star decorator function\n",
        "        print(\"Square decorator\") # Square decorator        will print\n",
        "        i = args[0] * 4           # i = -1 * 4 = -4\n",
        "        res =                     #\n",
        "                                  #\n",
        "        def hello(i):             # i = -4\n",
        "          return i                # -4                      will return\n",
        "                                  #\n",
        "        print(\"Square decorator\") # Square decorator        will print\n",
        "        return res                #\n",
        "      return inner                #\n",
        "                                  #\n",
        "                                  #\n",
        "    print(\"Star decorator\")       # star decorator         will print\n",
        "    return res                    #\n",
        "  return inner                    #\n",
        "\n",
        "  # Here the process is from top to bottom\n",
        "  # so the output return value will be -4 not 11"
      ],
      "metadata": {
        "id": "paX0FWvkpngf"
      },
      "execution_count": null,
      "outputs": []
    },
    {
      "cell_type": "code",
      "source": [
        "# multiple decorators\n",
        "\n",
        "def star(func):\n",
        "  def inner(*args, **kwargs):\n",
        "    print(\"Star decorator\")\n",
        "    i = args[0] - 5\n",
        "    res = func(i, **kwargs)\n",
        "    print(\"Star decorator\")\n",
        "    return res\n",
        "  return inner\n",
        "\n",
        "def square(func):\n",
        "  def inner(*args, **kwargs):\n",
        "    print(\"Square decorator\")\n",
        "    i = args[0] * 4\n",
        "    res = func(i, **kwargs)\n",
        "    print(\"Square decorator\")\n",
        "    return res\n",
        "  return inner\n",
        "\n",
        "# hello = star(square(hello))\n",
        "@star\n",
        "@square\n",
        "def hello(i):\n",
        "  return i\n",
        "\n",
        ""
      ],
      "metadata": {
        "id": "fda8O7b3n4-A"
      },
      "execution_count": 21,
      "outputs": []
    },
    {
      "cell_type": "code",
      "source": [
        "print(hello(4))"
      ],
      "metadata": {
        "id": "Gm5TWt0pofe5",
        "outputId": "dcd85ae5-f77d-4b45-c153-e49e76653aa3",
        "colab": {
          "base_uri": "https://localhost:8080/"
        }
      },
      "execution_count": 22,
      "outputs": [
        {
          "output_type": "stream",
          "name": "stdout",
          "text": [
            "Star decorator\n",
            "Square decorator\n",
            "Square decorator\n",
            "Star decorator\n",
            "-4\n"
          ]
        }
      ]
    },
    {
      "cell_type": "code",
      "source": [
        "# Types of Decorators:\n",
        "# Function Decorators:\n",
        "# The most common decorator which takes a function and return a new function.\n",
        "\n",
        "def simple_decorator(func):\n",
        "  def wrapper():\n",
        "    print(\"before\")\n",
        "    func()\n",
        "    print(\"after\")\n",
        "  return wrapper\n",
        "\n",
        "@simple_decorator\n",
        "def hello():\n",
        "  print(\"hello\")\n",
        "\n",
        "hello()\n"
      ],
      "metadata": {
        "id": "Y_e1cIOFc274",
        "outputId": "76fc5dce-933b-424f-8243-71d280465830",
        "colab": {
          "base_uri": "https://localhost:8080/"
        }
      },
      "execution_count": null,
      "outputs": [
        {
          "output_type": "stream",
          "name": "stdout",
          "text": [
            "before\n",
            "hello\n",
            "after\n"
          ]
        }
      ]
    },
    {
      "cell_type": "code",
      "source": [
        "# Method Decorators:\n",
        "# Used to decorate methods within a class. They often handle special cases, such as the self argument for instance methods.\n",
        "\n",
        "def method_decorator(func):\n",
        "  def wrapper(self,*args,**kargs):   # The wrapper must accept self because it is a method of an instance.\n",
        "    print(\"before\")\n",
        "    var = func(self,*args,**kargs)\n",
        "    print(\"after\")\n",
        "    return var\n",
        "  return wrapper\n",
        "\n",
        "class Myclass:\n",
        "  @method_decorator\n",
        "  def hello(self):\n",
        "    print(\"hello\")\n",
        "\n",
        "a = Myclass()\n",
        "a.hello()\n"
      ],
      "metadata": {
        "id": "TJSlHn2uibaB",
        "outputId": "824ac511-916d-429f-f6a8-a76d43548478",
        "colab": {
          "base_uri": "https://localhost:8080/"
        }
      },
      "execution_count": null,
      "outputs": [
        {
          "output_type": "stream",
          "name": "stdout",
          "text": [
            "before\n",
            "hello\n",
            "after\n"
          ]
        }
      ]
    },
    {
      "cell_type": "code",
      "source": [
        "# Class Decorators:\n",
        "# Class decorators are used to modify or enhance the behavior of a class.\n",
        "# Like function decorators, class decorators are applied to the class definition.\n",
        "# They work by taking the class as an argument and returning a modified version of the class.\n",
        "\n",
        "def fun(cls):\n",
        "  cls.class_name = cls.__name__\n",
        "  return cls\n",
        "\n",
        "@fun\n",
        "class Person:\n",
        "  pass\n",
        "\n",
        "print(Person.class_name)\n"
      ],
      "metadata": {
        "id": "EU0R835di9BR",
        "outputId": "ed5b59ec-72c9-445d-8ae4-1188b7bb89a3",
        "colab": {
          "base_uri": "https://localhost:8080/"
        }
      },
      "execution_count": null,
      "outputs": [
        {
          "output_type": "stream",
          "name": "stdout",
          "text": [
            "Person\n"
          ]
        }
      ]
    },
    {
      "cell_type": "code",
      "source": [
        "# class method\n",
        "# the method or variable that is bound to class and independent of abject is class method or class variable\n",
        "# class variable and method will be common or shared between all the instance\n",
        "# changing the class variable or class method will result in the changing of all the value in object related to class variable or class method"
      ],
      "metadata": {
        "id": "AjEysCA-iJyK"
      },
      "execution_count": null,
      "outputs": []
    },
    {
      "cell_type": "code",
      "source": [
        "class Memory:\n",
        "  total_memory = 128  # class variable\n",
        "\n",
        "  @classmethod        # initializing the class method\n",
        "  def update_memory(cls, new_memory):  # class method must always accept cls parameter\n",
        "    cls.total_memory -= new_memory     # cls parameter can be used to change the class variable\n",
        "                                       # or even used in case like initiating a object by calling cls.__init__() inside class method\n",
        "\n",
        "  def check_memory(self):\n",
        "    print(self.total_memory)"
      ],
      "metadata": {
        "id": "wOa3qSYKig5K"
      },
      "execution_count": 1,
      "outputs": []
    },
    {
      "cell_type": "code",
      "source": [
        "m1 = Memory()\n",
        "m1.check_memory()"
      ],
      "metadata": {
        "colab": {
          "base_uri": "https://localhost:8080/"
        },
        "id": "uPbfmFAti7z1",
        "outputId": "9d0b20ab-8d45-4f63-9252-4711a96a14b2"
      },
      "execution_count": 2,
      "outputs": [
        {
          "output_type": "stream",
          "name": "stdout",
          "text": [
            "128\n"
          ]
        }
      ]
    },
    {
      "cell_type": "code",
      "source": [
        "Memory.update_memory(5)"
      ],
      "metadata": {
        "id": "WfeO2nUphIlQ"
      },
      "execution_count": 3,
      "outputs": []
    },
    {
      "cell_type": "code",
      "source": [
        "m2 = Memory()\n",
        "m2.check_memory()"
      ],
      "metadata": {
        "id": "6frUOWHKi2Kz",
        "colab": {
          "base_uri": "https://localhost:8080/"
        },
        "outputId": "0f694a9b-dec3-4fbb-fdd8-e03bd87c646f"
      },
      "execution_count": 4,
      "outputs": [
        {
          "output_type": "stream",
          "name": "stdout",
          "text": [
            "123\n"
          ]
        }
      ]
    },
    {
      "cell_type": "code",
      "source": [
        "m1.check_memory()"
      ],
      "metadata": {
        "id": "ISEou628fNzv",
        "colab": {
          "base_uri": "https://localhost:8080/"
        },
        "outputId": "bfe6e030-9a5a-4cc2-ecd7-722e371c8b5f"
      },
      "execution_count": 6,
      "outputs": [
        {
          "output_type": "stream",
          "name": "stdout",
          "text": [
            "123\n"
          ]
        }
      ]
    },
    {
      "cell_type": "code",
      "source": [
        "# static method\n",
        "# static method is independent to the object, because the method won't accept the self parameter or cls parameter\n",
        "# static method can accept normal datatypes as parameter and perfor operations\n",
        "# static method can be called using the class name but not using the object\n",
        "# static method are used to bundle or cluster the functions under a single class, but each acts independently like a simple function"
      ],
      "metadata": {
        "id": "Dx7PKmS7XAwq"
      },
      "execution_count": null,
      "outputs": []
    },
    {
      "cell_type": "code",
      "source": [
        "class Clac:\n",
        "  @staticmethod\n",
        "  def add(a,b):  # static method will not accept self or cls paramenter\n",
        "    return a+b   # can be performed like a normal function\n",
        "\n",
        "  def sub(self,a,b): # object bound method can only accessable using the object\n",
        "    return a-b"
      ],
      "metadata": {
        "id": "CE8obi3gkE7O"
      },
      "execution_count": 7,
      "outputs": []
    },
    {
      "cell_type": "code",
      "source": [
        "Clac.add(1,2)"
      ],
      "metadata": {
        "colab": {
          "base_uri": "https://localhost:8080/"
        },
        "id": "gXfl-PLilJT6",
        "outputId": "f814480a-cd1c-4271-8d9a-3b8be68c8a92"
      },
      "execution_count": 8,
      "outputs": [
        {
          "output_type": "execute_result",
          "data": {
            "text/plain": [
              "3"
            ]
          },
          "metadata": {},
          "execution_count": 8
        }
      ]
    },
    {
      "cell_type": "code",
      "source": [
        "c = Clac()\n",
        "c.sub(1,2)"
      ],
      "metadata": {
        "colab": {
          "base_uri": "https://localhost:8080/"
        },
        "id": "KhJLOa2klJKF",
        "outputId": "311079cb-e170-4bf7-e883-67109d8b33f5"
      },
      "execution_count": 9,
      "outputs": [
        {
          "output_type": "execute_result",
          "data": {
            "text/plain": [
              "-1"
            ]
          },
          "metadata": {},
          "execution_count": 9
        }
      ]
    },
    {
      "cell_type": "code",
      "source": [
        "# method Resolution order(MRO)\n",
        "# mro define the order of the inheritace work, if a class inherit multiple class which also inherites some class\n",
        "# mro order is used while using the super() keyword to call the parent call functions"
      ],
      "metadata": {
        "id": "bKge_fSSlcCO"
      },
      "execution_count": null,
      "outputs": []
    },
    {
      "cell_type": "code",
      "source": [
        "class A:\n",
        "  def greet(self):\n",
        "    print(\"Inside the A Class\")\n",
        "\n",
        "class B(A):\n",
        "  def greet(self):                              #             order of the classes\n",
        "    print(\"Inside the B Class\")                 #\n",
        "    super().greet()                             #                     A\n",
        "                                                #                    / \\\n",
        "class C(A):                                     #                   B   C\n",
        "  def greet(self):                              #                    \\ /\n",
        "    print(\"Inside the C Class\")                 #                     D\n",
        "    super().greet()\n",
        "\n",
        "class D(C,B):\n",
        "  def greet(self):\n",
        "    print(\"Inside the D Class\")\n",
        "    super().greet()"
      ],
      "metadata": {
        "id": "LlAb0hPWl5p_"
      },
      "execution_count": 11,
      "outputs": []
    },
    {
      "cell_type": "code",
      "source": [
        "#Finding the MRO\n",
        "D.mro()  # the order will be D -> C -> B -> A"
      ],
      "metadata": {
        "colab": {
          "base_uri": "https://localhost:8080/"
        },
        "id": "cBxsd7_6mlPY",
        "outputId": "6f19cee5-583e-439c-afc4-a8581f66740f"
      },
      "execution_count": 12,
      "outputs": [
        {
          "output_type": "execute_result",
          "data": {
            "text/plain": [
              "[__main__.D, __main__.C, __main__.B, __main__.A, object]"
            ]
          },
          "metadata": {},
          "execution_count": 12
        }
      ]
    },
    {
      "cell_type": "code",
      "source": [
        "# super() is mentioned in D and also in both B and C\n",
        "# even if the C's parent is A the 3rd greet will be from C class\n",
        "# because the order of super() will be taken from the runing instance class(D)\n",
        "# hence the order D -> C -> B -> A  . even if the C class super() refer to A class\n",
        "d = D()\n",
        "d.greet()"
      ],
      "metadata": {
        "colab": {
          "base_uri": "https://localhost:8080/"
        },
        "id": "toURX9-rmy_r",
        "outputId": "f8d62251-486c-4257-ef23-b68b54c08419"
      },
      "execution_count": 14,
      "outputs": [
        {
          "output_type": "stream",
          "name": "stdout",
          "text": [
            "Inside the D Class\n",
            "Inside the C Class\n",
            "Inside the B Class\n",
            "Inside the A Class\n"
          ]
        }
      ]
    },
    {
      "cell_type": "code",
      "source": [
        "#decorator\n",
        "#suppressing exception\n",
        "#threading and locks\n",
        "#database\n",
        "#method priority order"
      ],
      "metadata": {
        "id": "BAsvM1aIRhuT"
      },
      "execution_count": null,
      "outputs": []
    },
    {
      "cell_type": "code",
      "source": [
        "# why def function(variable:function)\n",
        "# difference detween \"get\" \"post\" and other options like \"delete\"\n",
        "# use of sync and await"
      ],
      "metadata": {
        "id": "PxczLth0PGXr"
      },
      "execution_count": null,
      "outputs": []
    },
    {
      "cell_type": "code",
      "source": [
        "## Different types of Exceptions\n",
        "\n",
        "# ValueError :\n",
        "# This exception is raised when a function receives an argument of the right type but inappropriate value, such as passing a string to a function that expects an integer.\n",
        "\n",
        "# ZeroDivisionError :\n",
        "# This exception is raised when a number is divided by zero.\n",
        "# This is a runtime error\n",
        "\n",
        "# TypeError :\n",
        "# This exception is raised when an operation or function is applied to an object of inappropriate type.\n",
        "\n",
        "# NameError :\n",
        "# This exception is raised when a local or global name is not found.\n",
        "\n",
        "# IndexError :\n",
        "# This exception is raised when a sequence subscript is out of range.\n",
        "\n",
        "# KeyError :\n",
        "# This exception is raised when a dictionary key is not found.\n",
        "\n",
        "# AttributeError :\n",
        "# This exception is raised when an invalid attribute reference is made.\n",
        "\n",
        "# ImportError :\n",
        "# This exception is raised when an import statement fails to find the module definition.\n",
        "\n",
        "# FileNotFoundError :\n",
        "# This exception is raised when a file or directory is requested but cannot be found.\n",
        "\n",
        "# EOFError :\n",
        "# This exception is raised when the input() function hits an end-of-file condition (EOF) without reading any data.\n",
        "\n",
        "# OverflowError :\n",
        "# This exception is raised when the result of an arithmetic operation is too large to be expressed in the range of the integer type.\n",
        "\n",
        "# AssertionError :\n",
        "# This exception is raised when an assert statement fails.\n",
        "\n",
        "# ImportError :\n",
        "# This exception is raised when an import statement fails to find the module definition.\n",
        "\n",
        "# IndentationError :\n",
        "# This exception is raised when there is an error in indentation.\n",
        "\n",
        "# SyntaxError :\n",
        "# This exception is raised when there is an error in syntax.\n",
        "\n",
        "# UnicodeError :\n",
        "# This exception is raised when a Unicode-related encoding or decoding error occurs.\n",
        "\n",
        "# KeyboardInterrupt :\n",
        "# This exception is raised when the user interrupts the program execution, usually by pressing Ctrl+C.\n",
        "\n",
        "# SystemExit :\n",
        "# This exception is raised when the sys.exit() function is called to exit the program.\n",
        "\n",
        "# StopIteration :\n",
        "# This exception is raised when the next() method of an iterator does not return a value.\n",
        "\n",
        "# MemoryError :\n",
        "# This exception is raised when an operation runs out of memory.\n",
        "\n",
        "# RecursionError :\n",
        "# This exception is raised when the maximum recursion depth is exceeded.\n",
        "\n",
        "# SystemError :\n",
        "# This exception is raised when the interpreter finds an internal error, but the program is still running.\n",
        "\n",
        "# ReferenceError :\n",
        "# This exception is raised when a weak reference proxy is used to access an object that has been garbage collected.\n",
        "\n",
        "# EnvironmentError :\n",
        "# This exception is raised when a system-related error occurs, such as file not found or permission denied.\n",
        "\n",
        "# OSError :\n",
        "# This exception is raised when a system-related error occurs, such as file not found or permission denied.\n",
        "\n",
        "# WindowsError :\n",
        "# This exception is raised when a Windows-specific error occurs, such as file not found or permission denied.\n",
        "\n",
        "# BlockingIOError :\n",
        "# This exception is raised when an operation would block on an object (such as a socket) that is not ready for the operation.\n",
        "\n",
        "# ChildProcessError :\n",
        "# This exception is raised when a child process fails to execute.\n",
        "\n",
        "# ConnectionError :\n",
        "# This exception is raised when a connection-related error occurs, such as a network connection failure.\n",
        "\n",
        "# FileExistsError :\n",
        "# This exception is raised when a file or directory already exists and cannot be created."
      ],
      "metadata": {
        "id": "nFeIvJOtojjd"
      },
      "execution_count": null,
      "outputs": []
    },
    {
      "cell_type": "markdown",
      "source": [
        "https://realpython.com/python-type-checking/"
      ],
      "metadata": {
        "id": "rQkK0lHFRlAC"
      }
    }
  ]
}
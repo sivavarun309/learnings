{
  "nbformat": 4,
  "nbformat_minor": 0,
  "metadata": {
    "colab": {
      "provenance": [],
      "authorship_tag": "ABX9TyMssvEjkvO/VwtX/uyN9xfe",
      "include_colab_link": true
    },
    "kernelspec": {
      "name": "python3",
      "display_name": "Python 3"
    },
    "language_info": {
      "name": "python"
    }
  },
  "cells": [
    {
      "cell_type": "markdown",
      "metadata": {
        "id": "view-in-github",
        "colab_type": "text"
      },
      "source": [
        "<a href=\"https://colab.research.google.com/github/sivavarun309/learnings/blob/main/Python_Learnings.ipynb\" target=\"_parent\"><img src=\"https://colab.research.google.com/assets/colab-badge.svg\" alt=\"Open In Colab\"/></a>"
      ]
    },
    {
      "cell_type": "code",
      "source": [
        "Enironments\n",
        "-Environments help to manage different spaces for different projects\n",
        "-If we are working in different project which requires different dependencies or different python version (Liberaries are more stable with the specific version of python)"
      ],
      "metadata": {
        "id": "FR9dm732ytKo"
      },
      "execution_count": null,
      "outputs": []
    },
    {
      "cell_type": "code",
      "source": [
        "Creating the Environments\n",
        "\n",
        "conda create -p <name> python==3.12   #-p is to create a environment in the same directory and we can specify the version of python we want to install\n",
        "conda create -n <name> python==3.12   #-n is to create a environment in the main conda directory\n",
        "\n",
        "It is always recommended to create a environment in the working directory\n",
        "<name>  is to meniton the environment name\n",
        "\n",
        "Activating the Environment\n",
        "-After creating the environment we have to activate it, so that we can install the required packages only for that environment\n",
        "\n",
        "conda activate <name>/     #<name> is the name of the environment and \"/\" indicate the inside of the environment folder where the packages need to be installed\n",
        "\n",
        "Installing packages\n",
        "\n",
        "pip install <package name>\n",
        "pip install -r <requirement.txt>\n",
        "\n",
        "Running code\n",
        "\n",
        "-Running code of the environment in the notebook requires to select the kernal which will be the environemnt\n",
        "-Also for running the notebook code in environment we need the ipykernal, to install that\n",
        "\n",
        "pip install ipykernal\n",
        "\n"
      ],
      "metadata": {
        "id": "6aU0EjDY0-LH"
      },
      "execution_count": null,
      "outputs": []
    },
    {
      "cell_type": "code",
      "execution_count": null,
      "metadata": {
        "colab": {
          "base_uri": "https://localhost:8080/"
        },
        "id": "SOiOTl-4zMf5",
        "outputId": "71a88a45-8bcd-4bbd-9531-821a10944364"
      },
      "outputs": [
        {
          "output_type": "stream",
          "name": "stdout",
          "text": [
            "Hello world\n"
          ]
        }
      ],
      "source": [
        "print(\"Hello world\")"
      ]
    },
    {
      "cell_type": "code",
      "source": [
        "#Variables\n",
        "greet = \"Hello\"\n",
        "number = 12\n",
        "height = 5.1\n",
        "isChecked = True"
      ],
      "metadata": {
        "id": "OlQeaHY41m6V"
      },
      "execution_count": null,
      "outputs": []
    },
    {
      "cell_type": "code",
      "source": [
        "#Type Check or getting the type\n",
        "print(type(greet))\n",
        "print(type(number))\n",
        "print(type(height))\n",
        "print(type(isChecked))"
      ],
      "metadata": {
        "id": "CNhwuY1GBIdX",
        "outputId": "bd81c0d1-81c4-4354-9ebb-c877087cf0b0",
        "colab": {
          "base_uri": "https://localhost:8080/"
        }
      },
      "execution_count": null,
      "outputs": [
        {
          "output_type": "stream",
          "name": "stdout",
          "text": [
            "<class 'str'>\n",
            "<class 'int'>\n",
            "<class 'float'>\n",
            "<class 'bool'>\n"
          ]
        }
      ]
    },
    {
      "cell_type": "code",
      "source": [
        "#Type conversion or type casting\n",
        "print(int(height))  # converting the float height to integer height\n",
        "print(str(height))  # converting the float to string\n",
        "\n",
        "#Incompatible conversions\n",
        "# Char string  -> Integer\n",
        "# Float String -> Integer"
      ],
      "metadata": {
        "id": "StDKfD6iBrlX",
        "outputId": "4537bae2-22e8-4cab-b96b-2389a61ca1d6",
        "colab": {
          "base_uri": "https://localhost:8080/"
        }
      },
      "execution_count": null,
      "outputs": [
        {
          "output_type": "stream",
          "name": "stdout",
          "text": [
            "5\n",
            "5.1\n"
          ]
        }
      ]
    },
    {
      "cell_type": "code",
      "source": [
        "#Input function\n",
        "var = input(\"Enter the Value: \")\n",
        "print(var)"
      ],
      "metadata": {
        "id": "6mSF_cHBDU0n",
        "outputId": "5dedddbc-8a2f-4dc0-cd5a-7a4b5d3576da",
        "colab": {
          "base_uri": "https://localhost:8080/"
        }
      },
      "execution_count": null,
      "outputs": [
        {
          "output_type": "stream",
          "name": "stdout",
          "text": [
            "Enter the Value: test\n",
            "test\n"
          ]
        }
      ]
    },
    {
      "cell_type": "code",
      "source": [
        "Operators\n",
        "- the caracter or symbol which takes input and gives the otput through some operations"
      ],
      "metadata": {
        "id": "ydX2smb7DCdl"
      },
      "execution_count": null,
      "outputs": []
    },
    {
      "cell_type": "code",
      "source": [
        "#Arithemetic Operators\n",
        "+   Addition\n",
        "-   Subtraction\n",
        "*   Multiplication\n",
        "/   Division\n",
        "%   Modulus(Gives Reminder of the division)\n",
        "**  Exponential(Power)\n",
        "//  Floor Division(Gives Qotient)\n",
        "# Assignment Operators\n",
        "=    x=5\n",
        "+=   x=x+5\n",
        "-=   x=x-5\n",
        "*=   x=x*5\n",
        "/=   x=x/5\n",
        "**=  x=x**5\n",
        "%=   x=x%5\n",
        "//=  x=x//5\n",
        "&=   x=x&5\n",
        "|=   x=x|5\n",
        "^=   x=x^5\n",
        "<<=  x=x<<5\n",
        ">>=  x=x>>5\n",
        ":=   print(x:=5)  (i.e., x=5\n",
        "                         print(x))\n",
        "#Comparison Operators\n",
        "==    Equal\n",
        "!=    Not Equal\n",
        ">     Greater than\n",
        "<     Lower than\n",
        ">=    Greater than or equal to\n",
        "<=    lower than or equal to\n",
        "#Logical Operators\n",
        "and   Returns True if both statements are true\t              #x < 5 and  x < 10\n",
        "or    Returns True if one of the statements is true\t          #x < 5 or x < 4\n",
        "not   Reverse the result, returns False if the result is true\t#not(x < 5 and x < 10)\n",
        "#Identity Operators\n",
        "is      Returns True if both variables are the same object\t    #x is y\n",
        "is not  Returns True if both variables are not the same object\t#x is not y\n",
        "#Membership Operators\n",
        "in      Returns True if a sequence with the specified value is present in the object\t    #x in y\n",
        "not in  Returns True if a sequence with the specified value is not present in the object\t#x not in y\n",
        "#Bitwise Operators\n",
        "&   AND ->  10&5 -> 1010 & 0101 = 0000 -> 0(Decimal)\n",
        "|   OR  ->  10|5 -> 1010 | 0101 = 1111 -> 15(Decimal)\n",
        "^   XOR ->  10^7 -> 1010 ^ 0111 = 1101 -> 13(Decimal)\n",
        "~   1's Complement -> ~1010 = -(1010+1) = -1011 -> -11(Decimal)\n",
        "<<  Left Shift -> 10<<2 -> 1010<<2 -> 101000 = 40(Decimal)\n",
        ">>  Right Shift -> 10>>2 -> 1010>>2 -> 10    = 2(Decimal)\n",
        "\n"
      ],
      "metadata": {
        "id": "-qDu94Co9b1M"
      },
      "execution_count": null,
      "outputs": []
    },
    {
      "cell_type": "code",
      "source": [
        "print(10&5)\n",
        "print(10|5)\n",
        "print(10^7)\n",
        "print(~10)\n",
        "print(10<<2)\n",
        "print(10>>2)"
      ],
      "metadata": {
        "colab": {
          "base_uri": "https://localhost:8080/"
        },
        "id": "fdVvDFXyFh79",
        "outputId": "6f1a5838-c1f3-432b-9ba2-08e341738bf8"
      },
      "execution_count": 6,
      "outputs": [
        {
          "output_type": "stream",
          "name": "stdout",
          "text": [
            "0\n",
            "15\n",
            "13\n",
            "-11\n",
            "40\n",
            "2\n"
          ]
        }
      ]
    },
    {
      "cell_type": "code",
      "source": [
        "#List -> ls = [1,2,3]\n",
        "List items are ordered, changeable, and allow duplicate values.\n",
        "Ordered -> it means that the items have a defined order, and that order will not change.it doesn't mean about ascending or descending order\n",
        "changeable -> it means that we can change, add, and remove items in a list after it has been created.\n",
        "allow duplicate values -> Since lists are indexed, lists can have items with the same value"
      ],
      "metadata": {
        "id": "4eThFHy1Frs8"
      },
      "execution_count": null,
      "outputs": []
    },
    {
      "cell_type": "code",
      "source": [
        "ls = [1,2,3]\n",
        "print(type(ls))\n",
        "for i in dir(ls):\n",
        "  if not i.startswith(\"__\"):\n",
        "    print(i)"
      ],
      "metadata": {
        "id": "TAU5pmhaGlOR",
        "outputId": "0ef90457-fabc-4283-cadc-20ad93925ec0",
        "colab": {
          "base_uri": "https://localhost:8080/"
        }
      },
      "execution_count": 9,
      "outputs": [
        {
          "output_type": "stream",
          "name": "stdout",
          "text": [
            "<class 'list'>\n",
            "append\n",
            "clear\n",
            "copy\n",
            "count\n",
            "extend\n",
            "index\n",
            "insert\n",
            "pop\n",
            "remove\n",
            "reverse\n",
            "sort\n"
          ]
        }
      ]
    },
    {
      "cell_type": "code",
      "source": [
        "Tuple -> tup = (1,2,3)\n",
        "A tuple is a collection which is ordered and unchangeable and allow duplicate values.\n",
        "unchangeable -> it means that we cannot change, add or remove items after the tuple has been created."
      ],
      "metadata": {
        "id": "vg2mFoHAG5QK"
      },
      "execution_count": null,
      "outputs": []
    },
    {
      "cell_type": "code",
      "source": [
        "tup = (1,2,3)\n",
        "print(type(tup))\n",
        "for i in dir(tup):\n",
        "  if not i.startswith(\"__\"):\n",
        "    print(i)"
      ],
      "metadata": {
        "id": "qHVZRjBHHkJc",
        "outputId": "c2f4210c-3eca-43f1-e223-88adebac2536",
        "colab": {
          "base_uri": "https://localhost:8080/"
        }
      },
      "execution_count": 10,
      "outputs": [
        {
          "output_type": "stream",
          "name": "stdout",
          "text": [
            "<class 'tuple'>\n",
            "count\n",
            "index\n"
          ]
        }
      ]
    },
    {
      "cell_type": "code",
      "source": [
        "Set -> set = {1,2,3}\n",
        "A set is a collection which is unordered, unchangeable*, Duplicates Not Allowed and unindexed.\n",
        "Unordered -> the items in a set do not have a defined order. Set items can appear in a different order every time you use them, and cannot be referred to by index or key.\n",
        "Unchangeable -> we cannot change the items after the set has been created.but you can add or remove the items\n",
        "Unindexed -> we cannot access items in a set by referring to an index. Set items can appear in a different order every time you use them, and cannot be referred to by index or key.\n",
        "Duplicates Not Allowed -> Sets cannot have two items with the same value."
      ],
      "metadata": {
        "id": "a9oB0kCUH50F"
      },
      "execution_count": null,
      "outputs": []
    },
    {
      "cell_type": "code",
      "source": [
        "se = {1,2,3}\n",
        "print(type(se))\n",
        "for i in dir(se):\n",
        "  if not i.startswith(\"__\"):\n",
        "    print(i)"
      ],
      "metadata": {
        "id": "ue7wFtlDIzwA",
        "outputId": "a60ff9e4-0ce7-4436-8265-bf65a60c3030",
        "colab": {
          "base_uri": "https://localhost:8080/"
        }
      },
      "execution_count": 12,
      "outputs": [
        {
          "output_type": "stream",
          "name": "stdout",
          "text": [
            "<class 'set'>\n",
            "add\n",
            "clear\n",
            "copy\n",
            "difference\n",
            "difference_update\n",
            "discard\n",
            "intersection\n",
            "intersection_update\n",
            "isdisjoint\n",
            "issubset\n",
            "issuperset\n",
            "pop\n",
            "remove\n",
            "symmetric_difference\n",
            "symmetric_difference_update\n",
            "union\n",
            "update\n"
          ]
        }
      ]
    },
    {
      "cell_type": "code",
      "source": [
        "Dictionary -> dictionary = {\"key\":\"value\"}\n",
        "Dictionaries are used to store data values in key:value pairs.\n",
        "A dictionary is a collection which is ordered*, changeable and do not allow duplicates.\n",
        "As of Python version 3.7, dictionaries are ordered. In Python 3.6 and earlier, dictionaries are unordered.\n",
        "Duplicates Not Allowed -> Dictionaries cannot have two items with the same key:"
      ],
      "metadata": {
        "id": "2Vxlx9B1JQf3"
      },
      "execution_count": null,
      "outputs": []
    },
    {
      "cell_type": "code",
      "source": [
        "dictionary = {\"key\":\"value\"}\n",
        "print(type(dictionary))\n",
        "for i in dir(dictionary):\n",
        "  if not i.startswith(\"__\"):\n",
        "    print(i)"
      ],
      "metadata": {
        "id": "zoGnQc_bJinG",
        "outputId": "4e6871a7-726a-4e13-e9a9-bdd627a6cdde",
        "colab": {
          "base_uri": "https://localhost:8080/"
        }
      },
      "execution_count": 13,
      "outputs": [
        {
          "output_type": "stream",
          "name": "stdout",
          "text": [
            "<class 'dict'>\n",
            "clear\n",
            "copy\n",
            "fromkeys\n",
            "get\n",
            "items\n",
            "keys\n",
            "pop\n",
            "popitem\n",
            "setdefault\n",
            "update\n",
            "values\n"
          ]
        }
      ]
    },
    {
      "cell_type": "code",
      "source": [],
      "metadata": {
        "id": "PpLVkkotJsVV"
      },
      "execution_count": null,
      "outputs": []
    },
    {
      "cell_type": "code",
      "source": [
        "print(\"\"\"Multi Line print statement\n",
        "      Line 1 .....\n",
        "      Line 2......\"\"\")"
      ],
      "metadata": {
        "colab": {
          "base_uri": "https://localhost:8080/"
        },
        "id": "YKB3_rKuzpZx",
        "outputId": "86a9946c-a47c-45d6-c1de-b291f41833e1"
      },
      "execution_count": null,
      "outputs": [
        {
          "output_type": "stream",
          "name": "stdout",
          "text": [
            "Multi Line print statement\n",
            "      Line 1 .....\n",
            "      Line 2......\n"
          ]
        }
      ]
    },
    {
      "cell_type": "code",
      "source": [
        "10<<2"
      ],
      "metadata": {
        "id": "6WSMvYKng5oS",
        "colab": {
          "base_uri": "https://localhost:8080/"
        },
        "outputId": "f0e8f8bc-8e78-4820-8352-bc73a997ffb6"
      },
      "execution_count": 5,
      "outputs": [
        {
          "output_type": "execute_result",
          "data": {
            "text/plain": [
              "40"
            ]
          },
          "metadata": {},
          "execution_count": 5
        }
      ]
    },
    {
      "cell_type": "code",
      "source": [
        "https://realpython.com/python-type-checking/"
      ],
      "metadata": {
        "colab": {
          "base_uri": "https://localhost:8080/"
        },
        "id": "GfNNI9Hpg94J",
        "outputId": "566b476b-f673-4573-ac97-600ccb56b201"
      },
      "execution_count": null,
      "outputs": [
        {
          "output_type": "execute_result",
          "data": {
            "text/plain": [
              "True"
            ]
          },
          "metadata": {},
          "execution_count": 4
        }
      ]
    }
  ]
}
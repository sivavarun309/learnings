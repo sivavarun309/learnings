{
  "cells": [
    {
      "cell_type": "code",
      "execution_count": null,
      "id": "d62c7d18",
      "metadata": {
        "id": "d62c7d18"
      },
      "outputs": [],
      "source": [
        "# Pandas\n",
        "\n",
        "# used for data manipulation and analysis\n",
        "# it internally used numpy\n",
        "# relational data - data which is related to one another, e.g excel where data of one column is related to the data of the other column\n"
      ]
    },
    {
      "cell_type": "code",
      "source": [
        "# importing pandas\n",
        "\n",
        "import pandas as pd\n",
        "import numpy as np"
      ],
      "metadata": {
        "id": "ebLcu5Ck8z6O"
      },
      "id": "ebLcu5Ck8z6O",
      "execution_count": 1,
      "outputs": []
    },
    {
      "cell_type": "code",
      "source": [
        "# Series\n",
        "# In pandas single dimensional array is known as Series\n",
        "# Series can be hetrogenous too, meaning a series can contains different data types\n",
        "# Dictionaries can also passed in Series() function, here Keys are considered as indexes and values as data of series\n",
        "\n",
        "ser = pd.Series([10,20,30,40,50])\n",
        "\n",
        "print(type(ser))\n",
        "print(ser)"
      ],
      "metadata": {
        "colab": {
          "base_uri": "https://localhost:8080/"
        },
        "id": "mKAI5JXM8wYm",
        "outputId": "0f0faab0-5b9b-4e99-fa57-ff4c362a0408"
      },
      "id": "mKAI5JXM8wYm",
      "execution_count": null,
      "outputs": [
        {
          "output_type": "stream",
          "name": "stdout",
          "text": [
            "<class 'pandas.core.series.Series'>\n",
            "0    10\n",
            "1    20\n",
            "2    30\n",
            "3    40\n",
            "4    50\n",
            "dtype: int64\n"
          ]
        }
      ]
    },
    {
      "cell_type": "code",
      "source": [
        "# assigining index and coumn name for a series\n",
        "\n",
        "ser1 = pd.Series([10,20,30,40,50], index=['a','b','c','d','e'], name='data values')\n",
        "\n",
        "print(type(ser1))\n",
        "print(ser1)"
      ],
      "metadata": {
        "colab": {
          "base_uri": "https://localhost:8080/"
        },
        "id": "KqGK7VV19BdP",
        "outputId": "335581f0-e72c-42ab-9cd4-36dfc25adb37"
      },
      "id": "KqGK7VV19BdP",
      "execution_count": null,
      "outputs": [
        {
          "output_type": "stream",
          "name": "stdout",
          "text": [
            "<class 'pandas.core.series.Series'>\n",
            "a    10\n",
            "b    20\n",
            "c    30\n",
            "d    40\n",
            "e    50\n",
            "Name: data values, dtype: int64\n"
          ]
        }
      ]
    },
    {
      "cell_type": "code",
      "source": [
        "# Creating series using dictionary\n",
        "\n",
        "ser2 = pd.Series({'a':10,'b':20,'c':30})\n",
        "\n",
        "print(type(ser2))\n",
        "print(ser2)"
      ],
      "metadata": {
        "colab": {
          "base_uri": "https://localhost:8080/"
        },
        "id": "2yS3C_0d93wH",
        "outputId": "e4dad542-4afe-41a1-ce95-5a810f6f3270"
      },
      "id": "2yS3C_0d93wH",
      "execution_count": null,
      "outputs": [
        {
          "output_type": "stream",
          "name": "stdout",
          "text": [
            "<class 'pandas.core.series.Series'>\n",
            "a    10\n",
            "b    20\n",
            "c    30\n",
            "dtype: int64\n"
          ]
        }
      ]
    },
    {
      "cell_type": "code",
      "source": [
        "# Attributes of Series\n",
        "\n",
        "print(ser2.values)\n",
        "print(ser2.index)\n",
        "print(ser2.dtype)\n",
        "print(ser2.name)\n",
        "print(ser2.shape)\n",
        "print(ser2.size)\n",
        "print(ser2.empty)\n"
      ],
      "metadata": {
        "colab": {
          "base_uri": "https://localhost:8080/"
        },
        "id": "tNYSAcxg-BHf",
        "outputId": "94acf2e8-1ef7-4d47-8fe5-86c85e1a5983"
      },
      "id": "tNYSAcxg-BHf",
      "execution_count": null,
      "outputs": [
        {
          "output_type": "stream",
          "name": "stdout",
          "text": [
            "[10 20 30]\n",
            "Index(['a', 'b', 'c'], dtype='object')\n",
            "int64\n",
            "None\n",
            "(3,)\n",
            "3\n",
            "False\n"
          ]
        }
      ]
    },
    {
      "cell_type": "code",
      "source": [
        "# Indexing\n",
        "\n",
        "# positional indexing - indexing the value using the position of the data among the Series (python list indexing)\n",
        "# Native indexing     - indexing the value using the index that have created automatically or by the user\n",
        "\n",
        "print(ser2.values[0])  # positionl indexing\n",
        "\n",
        "print(ser2.loc['b'])       # .loc[] is used for native indexing\n",
        "print(ser2.iloc[1])        # .iloc is used for positional indexing\n",
        "\n",
        "print(ser2[0])           # this type of indexing is not used in the latest version\n",
        "                         # if there is a index named 0 then ser[0] picks 0 by Native indexing instead of positional indexing"
      ],
      "metadata": {
        "colab": {
          "base_uri": "https://localhost:8080/"
        },
        "id": "w2qFEMPb_lEE",
        "outputId": "9ac081b0-8073-49bd-c635-1840ee01a1b6"
      },
      "id": "w2qFEMPb_lEE",
      "execution_count": null,
      "outputs": [
        {
          "output_type": "stream",
          "name": "stdout",
          "text": [
            "10\n",
            "20\n",
            "20\n",
            "10\n"
          ]
        },
        {
          "output_type": "stream",
          "name": "stderr",
          "text": [
            "/tmp/ipython-input-4-189071710.py:11: FutureWarning: Series.__getitem__ treating keys as positions is deprecated. In a future version, integer keys will always be treated as labels (consistent with DataFrame behavior). To access a value by position, use `ser.iloc[pos]`\n",
            "  print(ser2[0])           # this type of indexing is not used in the latest version\n"
          ]
        }
      ]
    },
    {
      "cell_type": "code",
      "source": [
        "print(ser2.loc[['a','b']])  # indexing multiple rows or values\n",
        "print(ser2.iloc[[0, 1]])"
      ],
      "metadata": {
        "colab": {
          "base_uri": "https://localhost:8080/"
        },
        "id": "_-Ou1tQg4_Vn",
        "outputId": "84dc1542-e4d6-4617-d2aa-06e138e60721"
      },
      "id": "_-Ou1tQg4_Vn",
      "execution_count": null,
      "outputs": [
        {
          "output_type": "stream",
          "name": "stdout",
          "text": [
            "a    10\n",
            "b    20\n",
            "dtype: int64\n",
            "a    10\n",
            "b    20\n",
            "dtype: int64\n"
          ]
        }
      ]
    },
    {
      "cell_type": "code",
      "source": [
        "# slicing\n",
        "\n",
        "# loc(start:end) -> end is inclusive\n",
        "# iloc(start:end)-> end is exclusinve\n",
        "\n",
        "ser = pd.Series([10,20,30,40,50], index = [11, 12, 13, 14, 15])\n",
        "\n",
        "print(ser.iloc[0:2])\n",
        "print(ser.loc[11:14])\n",
        "print(ser2.loc['a':'c'])     # .loc() function will include the end number also"
      ],
      "metadata": {
        "colab": {
          "base_uri": "https://localhost:8080/"
        },
        "id": "ajKYeKFT5ZMa",
        "outputId": "1b622085-c5df-4409-a6e4-5b0a135058ff"
      },
      "id": "ajKYeKFT5ZMa",
      "execution_count": null,
      "outputs": [
        {
          "output_type": "stream",
          "name": "stdout",
          "text": [
            "11    10\n",
            "12    20\n",
            "dtype: int64\n",
            "11    10\n",
            "12    20\n",
            "13    30\n",
            "14    40\n",
            "dtype: int64\n",
            "a    10\n",
            "b    20\n",
            "c    30\n",
            "dtype: int64\n"
          ]
        }
      ]
    },
    {
      "cell_type": "code",
      "source": [
        "# DataFrame\n",
        "\n",
        "# the object that wraps multiple pandas series or columns are DataFrame\n",
        "# it is a collection of pandas series"
      ],
      "metadata": {
        "id": "Sqi5truB6hu4"
      },
      "id": "Sqi5truB6hu4",
      "execution_count": null,
      "outputs": []
    },
    {
      "cell_type": "code",
      "source": [
        "# Creating DataFrame\n",
        "\n",
        "data = {\n",
        "    'Name': ['apple', 'mango', 'grape'],\n",
        "    'color': ['red', 'yellow', 'green'],\n",
        "    'price': [100, 200, 300]\n",
        "}\n",
        "\n",
        "df = pd.DataFrame(data)\n",
        "\n",
        "print(df)\n"
      ],
      "metadata": {
        "colab": {
          "base_uri": "https://localhost:8080/"
        },
        "id": "jxMQwCsT7ANd",
        "outputId": "f4f56ecf-0e84-4723-aeef-dd2286cd3905"
      },
      "id": "jxMQwCsT7ANd",
      "execution_count": null,
      "outputs": [
        {
          "output_type": "stream",
          "name": "stdout",
          "text": [
            "    Name   color  price\n",
            "0  apple     red    100\n",
            "1  mango  yellow    200\n",
            "2  grape   green    300\n"
          ]
        }
      ]
    },
    {
      "cell_type": "code",
      "source": [
        "# creating dataframe from json type dictionary\n",
        "\n",
        "data_1 = [\n",
        "    {'Name':'apple', 'color':'red', 'price':100},\n",
        "    {'Name':'mango', 'color':'yellow', 'price':200},\n",
        "    {'Name':'grape', 'color':'green', 'price':300}\n",
        "]\n",
        "\n",
        "df1 = pd.DataFrame(data_1)\n",
        "\n",
        "print(df1)"
      ],
      "metadata": {
        "colab": {
          "base_uri": "https://localhost:8080/"
        },
        "id": "jSYep-xH7UBL",
        "outputId": "ebc0d2cb-0d80-4b83-f217-3aad87cea6cb"
      },
      "id": "jSYep-xH7UBL",
      "execution_count": null,
      "outputs": [
        {
          "output_type": "stream",
          "name": "stdout",
          "text": [
            "    Name   color  price\n",
            "0  apple     red    100\n",
            "1  mango  yellow    200\n",
            "2  grape   green    300\n"
          ]
        }
      ]
    },
    {
      "cell_type": "code",
      "source": [
        "data = np.array([[1, 2], [3, 4], [5, 6]])\n",
        "df = pd.DataFrame(data, columns=['A', 'B'])    # columns is used to assign the column name and index is used to assign index of the row\n",
        "print(df)\n",
        "print(type(df))"
      ],
      "metadata": {
        "colab": {
          "base_uri": "https://localhost:8080/"
        },
        "id": "ywEA11Mw7ueI",
        "outputId": "d9812024-153b-4e31-e350-04c8b77561e5"
      },
      "id": "ywEA11Mw7ueI",
      "execution_count": null,
      "outputs": [
        {
          "output_type": "stream",
          "name": "stdout",
          "text": [
            "   A  B\n",
            "0  1  2\n",
            "1  3  4\n",
            "2  5  6\n",
            "<class 'pandas.core.frame.DataFrame'>\n"
          ]
        }
      ]
    },
    {
      "cell_type": "code",
      "source": [
        "# Accessing the values in dataframe\n",
        "\n",
        "data = {\n",
        "    'Name': ['apple', 'mango', 'grape'],\n",
        "    'color': ['red', 'yellow', 'green'],\n",
        "    'price': [100, 200, 300]\n",
        "}\n",
        "df = pd.DataFrame(data)\n",
        "\n",
        "print(df['Name'])                # accessing only the 'Name' Column\n",
        "print(type(df['Name']))          # single column is considered as Series in pandas\n",
        "\n",
        "print(df[['Name', 'color']])     # accessing multiple columns\n",
        "print(type(df[['Name', 'color']]))"
      ],
      "metadata": {
        "colab": {
          "base_uri": "https://localhost:8080/"
        },
        "id": "8jDYefpf8jku",
        "outputId": "d069f1b1-c707-4ea2-9e66-e67b08811866"
      },
      "id": "8jDYefpf8jku",
      "execution_count": null,
      "outputs": [
        {
          "output_type": "stream",
          "name": "stdout",
          "text": [
            "0    apple\n",
            "1    mango\n",
            "2    grape\n",
            "Name: Name, dtype: object\n",
            "<class 'pandas.core.series.Series'>\n",
            "    Name   color\n",
            "0  apple     red\n",
            "1  mango  yellow\n",
            "2  grape   green\n",
            "<class 'pandas.core.frame.DataFrame'>\n"
          ]
        }
      ]
    },
    {
      "cell_type": "code",
      "source": [
        "print(df.loc[0:1])    # 1 is included\n",
        "print()\n",
        "print(df.iloc[0:1])   # 1 is excluded"
      ],
      "metadata": {
        "colab": {
          "base_uri": "https://localhost:8080/"
        },
        "id": "9lYb-ZOZ9U2K",
        "outputId": "bc14ce25-9ef3-4782-e34b-f8e416681088"
      },
      "id": "9lYb-ZOZ9U2K",
      "execution_count": null,
      "outputs": [
        {
          "output_type": "stream",
          "name": "stdout",
          "text": [
            "    Name   color  price\n",
            "0  apple     red    100\n",
            "1  mango  yellow    200\n",
            "\n",
            "    Name color  price\n",
            "0  apple   red    100\n"
          ]
        }
      ]
    },
    {
      "cell_type": "code",
      "source": [
        "# Data Formats\n",
        "\n",
        "# CSV\n",
        "# JSON\n",
        "# XML\n"
      ],
      "metadata": {
        "id": "ytpZ0wMd93X_"
      },
      "id": "ytpZ0wMd93X_",
      "execution_count": null,
      "outputs": []
    },
    {
      "cell_type": "code",
      "source": [
        "# Reading data from CSV\n",
        "\n",
        "data_csv = \"https://raw.githubusercontent.com/datasciencedojo/datasets/refs/heads/master/titanic.csv\"\n",
        "\n",
        "df = pd.read_csv(data_csv)    # reading CSV file using read_csv() funciton\n",
        "\n",
        "print(df)"
      ],
      "metadata": {
        "colab": {
          "base_uri": "https://localhost:8080/"
        },
        "id": "1FtT9_i3B8Rl",
        "outputId": "e4a98d10-3637-4655-c32a-5344df761581"
      },
      "id": "1FtT9_i3B8Rl",
      "execution_count": 2,
      "outputs": [
        {
          "output_type": "stream",
          "name": "stdout",
          "text": [
            "     PassengerId  Survived  Pclass  \\\n",
            "0              1         0       3   \n",
            "1              2         1       1   \n",
            "2              3         1       3   \n",
            "3              4         1       1   \n",
            "4              5         0       3   \n",
            "..           ...       ...     ...   \n",
            "886          887         0       2   \n",
            "887          888         1       1   \n",
            "888          889         0       3   \n",
            "889          890         1       1   \n",
            "890          891         0       3   \n",
            "\n",
            "                                                  Name     Sex   Age  SibSp  \\\n",
            "0                              Braund, Mr. Owen Harris    male  22.0      1   \n",
            "1    Cumings, Mrs. John Bradley (Florence Briggs Th...  female  38.0      1   \n",
            "2                               Heikkinen, Miss. Laina  female  26.0      0   \n",
            "3         Futrelle, Mrs. Jacques Heath (Lily May Peel)  female  35.0      1   \n",
            "4                             Allen, Mr. William Henry    male  35.0      0   \n",
            "..                                                 ...     ...   ...    ...   \n",
            "886                              Montvila, Rev. Juozas    male  27.0      0   \n",
            "887                       Graham, Miss. Margaret Edith  female  19.0      0   \n",
            "888           Johnston, Miss. Catherine Helen \"Carrie\"  female   NaN      1   \n",
            "889                              Behr, Mr. Karl Howell    male  26.0      0   \n",
            "890                                Dooley, Mr. Patrick    male  32.0      0   \n",
            "\n",
            "     Parch            Ticket     Fare Cabin Embarked  \n",
            "0        0         A/5 21171   7.2500   NaN        S  \n",
            "1        0          PC 17599  71.2833   C85        C  \n",
            "2        0  STON/O2. 3101282   7.9250   NaN        S  \n",
            "3        0            113803  53.1000  C123        S  \n",
            "4        0            373450   8.0500   NaN        S  \n",
            "..     ...               ...      ...   ...      ...  \n",
            "886      0            211536  13.0000   NaN        S  \n",
            "887      0            112053  30.0000   B42        S  \n",
            "888      2        W./C. 6607  23.4500   NaN        S  \n",
            "889      0            111369  30.0000  C148        C  \n",
            "890      0            370376   7.7500   NaN        Q  \n",
            "\n",
            "[891 rows x 12 columns]\n"
          ]
        }
      ]
    },
    {
      "cell_type": "code",
      "source": [
        "# Visuvalization\n",
        "\n",
        "# top 5 rows\n",
        "print(df.head(5))\n",
        "\n",
        "print(\"=\"*100)\n",
        "\n",
        "#last 5 rows\n",
        "print(df.tail(5))"
      ],
      "metadata": {
        "colab": {
          "base_uri": "https://localhost:8080/"
        },
        "id": "nKNLLlUyCq3T",
        "outputId": "7b0141f1-72bb-4869-c457-cb7b1a286ff9"
      },
      "id": "nKNLLlUyCq3T",
      "execution_count": null,
      "outputs": [
        {
          "output_type": "stream",
          "name": "stdout",
          "text": [
            "   PassengerId  Survived  Pclass  \\\n",
            "0            1         0       3   \n",
            "1            2         1       1   \n",
            "2            3         1       3   \n",
            "3            4         1       1   \n",
            "4            5         0       3   \n",
            "\n",
            "                                                Name     Sex   Age  SibSp  \\\n",
            "0                            Braund, Mr. Owen Harris    male  22.0      1   \n",
            "1  Cumings, Mrs. John Bradley (Florence Briggs Th...  female  38.0      1   \n",
            "2                             Heikkinen, Miss. Laina  female  26.0      0   \n",
            "3       Futrelle, Mrs. Jacques Heath (Lily May Peel)  female  35.0      1   \n",
            "4                           Allen, Mr. William Henry    male  35.0      0   \n",
            "\n",
            "   Parch            Ticket     Fare Cabin Embarked  \n",
            "0      0         A/5 21171   7.2500   NaN        S  \n",
            "1      0          PC 17599  71.2833   C85        C  \n",
            "2      0  STON/O2. 3101282   7.9250   NaN        S  \n",
            "3      0            113803  53.1000  C123        S  \n",
            "4      0            373450   8.0500   NaN        S  \n",
            "====================================================================================================\n",
            "     PassengerId  Survived  Pclass                                      Name  \\\n",
            "886          887         0       2                     Montvila, Rev. Juozas   \n",
            "887          888         1       1              Graham, Miss. Margaret Edith   \n",
            "888          889         0       3  Johnston, Miss. Catherine Helen \"Carrie\"   \n",
            "889          890         1       1                     Behr, Mr. Karl Howell   \n",
            "890          891         0       3                       Dooley, Mr. Patrick   \n",
            "\n",
            "        Sex   Age  SibSp  Parch      Ticket   Fare Cabin Embarked  \n",
            "886    male  27.0      0      0      211536  13.00   NaN        S  \n",
            "887  female  19.0      0      0      112053  30.00   B42        S  \n",
            "888  female   NaN      1      2  W./C. 6607  23.45   NaN        S  \n",
            "889    male  26.0      0      0      111369  30.00  C148        C  \n",
            "890    male  32.0      0      0      370376   7.75   NaN        Q  \n"
          ]
        }
      ]
    },
    {
      "cell_type": "code",
      "source": [
        "# getting a columns\n",
        "\n",
        "print(df[['Name','Age']])"
      ],
      "metadata": {
        "colab": {
          "base_uri": "https://localhost:8080/"
        },
        "id": "pFUG3AnKC-t5",
        "outputId": "c909f73d-2efe-4a4a-d955-c02bc19d362d"
      },
      "id": "pFUG3AnKC-t5",
      "execution_count": null,
      "outputs": [
        {
          "output_type": "stream",
          "name": "stdout",
          "text": [
            "                                                  Name   Age\n",
            "0                              Braund, Mr. Owen Harris  22.0\n",
            "1    Cumings, Mrs. John Bradley (Florence Briggs Th...  38.0\n",
            "2                               Heikkinen, Miss. Laina  26.0\n",
            "3         Futrelle, Mrs. Jacques Heath (Lily May Peel)  35.0\n",
            "4                             Allen, Mr. William Henry  35.0\n",
            "..                                                 ...   ...\n",
            "886                              Montvila, Rev. Juozas  27.0\n",
            "887                       Graham, Miss. Margaret Edith  19.0\n",
            "888           Johnston, Miss. Catherine Helen \"Carrie\"   NaN\n",
            "889                              Behr, Mr. Karl Howell  26.0\n",
            "890                                Dooley, Mr. Patrick  32.0\n",
            "\n",
            "[891 rows x 2 columns]\n"
          ]
        }
      ]
    },
    {
      "cell_type": "code",
      "source": [
        "# loc in df\n",
        "\n",
        "print(df.loc[0])\n",
        "\n",
        "print(\"=\"*100)\n",
        "\n",
        "print(df.loc[0, 'Name'])      # In loc[] we can access the column using the column name"
      ],
      "metadata": {
        "colab": {
          "base_uri": "https://localhost:8080/"
        },
        "id": "jnn7PCn9DalZ",
        "outputId": "78129fb8-f6b1-4870-848a-10220d767a67"
      },
      "id": "jnn7PCn9DalZ",
      "execution_count": null,
      "outputs": [
        {
          "output_type": "stream",
          "name": "stdout",
          "text": [
            "PassengerId                          1\n",
            "Survived                             0\n",
            "Pclass                               3\n",
            "Name           Braund, Mr. Owen Harris\n",
            "Sex                               male\n",
            "Age                               22.0\n",
            "SibSp                                1\n",
            "Parch                                0\n",
            "Ticket                       A/5 21171\n",
            "Fare                              7.25\n",
            "Cabin                              NaN\n",
            "Embarked                             S\n",
            "Name: 0, dtype: object\n",
            "====================================================================================================\n",
            "Braund, Mr. Owen Harris\n"
          ]
        }
      ]
    },
    {
      "cell_type": "code",
      "source": [
        "# iloc\n",
        "\n",
        "print(df.iloc[0])\n",
        "\n",
        "print(\"=\"*100)\n",
        "\n",
        "print(df.iloc[0, 3])        # In loc[] we can access the column using the column index"
      ],
      "metadata": {
        "colab": {
          "base_uri": "https://localhost:8080/"
        },
        "id": "G5BjhyIVEIMO",
        "outputId": "5a4165df-7d39-4595-bf64-be584bf95d14"
      },
      "id": "G5BjhyIVEIMO",
      "execution_count": null,
      "outputs": [
        {
          "output_type": "stream",
          "name": "stdout",
          "text": [
            "PassengerId                          1\n",
            "Survived                             0\n",
            "Pclass                               3\n",
            "Name           Braund, Mr. Owen Harris\n",
            "Sex                               male\n",
            "Age                               22.0\n",
            "SibSp                                1\n",
            "Parch                                0\n",
            "Ticket                       A/5 21171\n",
            "Fare                              7.25\n",
            "Cabin                              NaN\n",
            "Embarked                             S\n",
            "Name: 0, dtype: object\n",
            "====================================================================================================\n",
            "Braund, Mr. Owen Harris\n"
          ]
        }
      ]
    },
    {
      "cell_type": "code",
      "source": [
        "# conditional formatting\n",
        "\n",
        "print(df[df['Age'] > 30])"
      ],
      "metadata": {
        "colab": {
          "base_uri": "https://localhost:8080/"
        },
        "id": "6-Tf0T1KEfkb",
        "outputId": "0fc31aac-5438-4cfe-9891-aae6efb0865c"
      },
      "id": "6-Tf0T1KEfkb",
      "execution_count": null,
      "outputs": [
        {
          "output_type": "stream",
          "name": "stdout",
          "text": [
            "     PassengerId  Survived  Pclass  \\\n",
            "1              2         1       1   \n",
            "3              4         1       1   \n",
            "4              5         0       3   \n",
            "6              7         0       1   \n",
            "11            12         1       1   \n",
            "..           ...       ...     ...   \n",
            "873          874         0       3   \n",
            "879          880         1       1   \n",
            "881          882         0       3   \n",
            "885          886         0       3   \n",
            "890          891         0       3   \n",
            "\n",
            "                                                  Name     Sex   Age  SibSp  \\\n",
            "1    Cumings, Mrs. John Bradley (Florence Briggs Th...  female  38.0      1   \n",
            "3         Futrelle, Mrs. Jacques Heath (Lily May Peel)  female  35.0      1   \n",
            "4                             Allen, Mr. William Henry    male  35.0      0   \n",
            "6                              McCarthy, Mr. Timothy J    male  54.0      0   \n",
            "11                            Bonnell, Miss. Elizabeth  female  58.0      0   \n",
            "..                                                 ...     ...   ...    ...   \n",
            "873                        Vander Cruyssen, Mr. Victor    male  47.0      0   \n",
            "879      Potter, Mrs. Thomas Jr (Lily Alexenia Wilson)  female  56.0      0   \n",
            "881                                 Markun, Mr. Johann    male  33.0      0   \n",
            "885               Rice, Mrs. William (Margaret Norton)  female  39.0      0   \n",
            "890                                Dooley, Mr. Patrick    male  32.0      0   \n",
            "\n",
            "     Parch    Ticket     Fare Cabin Embarked  \n",
            "1        0  PC 17599  71.2833   C85        C  \n",
            "3        0    113803  53.1000  C123        S  \n",
            "4        0    373450   8.0500   NaN        S  \n",
            "6        0     17463  51.8625   E46        S  \n",
            "11       0    113783  26.5500  C103        S  \n",
            "..     ...       ...      ...   ...      ...  \n",
            "873      0    345765   9.0000   NaN        S  \n",
            "879      1     11767  83.1583   C50        C  \n",
            "881      0    349257   7.8958   NaN        S  \n",
            "885      5    382652  29.1250   NaN        Q  \n",
            "890      0    370376   7.7500   NaN        Q  \n",
            "\n",
            "[305 rows x 12 columns]\n"
          ]
        }
      ]
    },
    {
      "cell_type": "code",
      "source": [
        "print(df['Age'] > 30)"
      ],
      "metadata": {
        "id": "B2ZH1eXcE_UB",
        "outputId": "726950a4-d2ec-4458-9910-481f4b6e59d3",
        "colab": {
          "base_uri": "https://localhost:8080/"
        }
      },
      "id": "B2ZH1eXcE_UB",
      "execution_count": null,
      "outputs": [
        {
          "output_type": "stream",
          "name": "stdout",
          "text": [
            "0      False\n",
            "1       True\n",
            "2      False\n",
            "3       True\n",
            "4       True\n",
            "       ...  \n",
            "886    False\n",
            "887    False\n",
            "888    False\n",
            "889    False\n",
            "890     True\n",
            "Name: Age, Length: 891, dtype: bool\n"
          ]
        }
      ]
    },
    {
      "cell_type": "code",
      "source": [
        "# get the females who survived\n",
        "\n",
        "# dataframe will only accept &,|,~\n",
        "# it doesn't accept and, or, not\n",
        "\n",
        "print(df[(df['Sex'] == 'female') & (df['Survived'] == 1)])        # 'and' will not work here only use '&'"
      ],
      "metadata": {
        "id": "lHIR4JsUFFEz",
        "outputId": "7423ed77-4cce-464a-dd67-b9d2ca0c87ed",
        "colab": {
          "base_uri": "https://localhost:8080/"
        }
      },
      "id": "lHIR4JsUFFEz",
      "execution_count": null,
      "outputs": [
        {
          "output_type": "stream",
          "name": "stdout",
          "text": [
            "     PassengerId  Survived  Pclass  \\\n",
            "1              2         1       1   \n",
            "2              3         1       3   \n",
            "3              4         1       1   \n",
            "8              9         1       3   \n",
            "9             10         1       2   \n",
            "..           ...       ...     ...   \n",
            "874          875         1       2   \n",
            "875          876         1       3   \n",
            "879          880         1       1   \n",
            "880          881         1       2   \n",
            "887          888         1       1   \n",
            "\n",
            "                                                  Name     Sex   Age  SibSp  \\\n",
            "1    Cumings, Mrs. John Bradley (Florence Briggs Th...  female  38.0      1   \n",
            "2                               Heikkinen, Miss. Laina  female  26.0      0   \n",
            "3         Futrelle, Mrs. Jacques Heath (Lily May Peel)  female  35.0      1   \n",
            "8    Johnson, Mrs. Oscar W (Elisabeth Vilhelmina Berg)  female  27.0      0   \n",
            "9                  Nasser, Mrs. Nicholas (Adele Achem)  female  14.0      1   \n",
            "..                                                 ...     ...   ...    ...   \n",
            "874              Abelson, Mrs. Samuel (Hannah Wizosky)  female  28.0      1   \n",
            "875                   Najib, Miss. Adele Kiamie \"Jane\"  female  15.0      0   \n",
            "879      Potter, Mrs. Thomas Jr (Lily Alexenia Wilson)  female  56.0      0   \n",
            "880       Shelley, Mrs. William (Imanita Parrish Hall)  female  25.0      0   \n",
            "887                       Graham, Miss. Margaret Edith  female  19.0      0   \n",
            "\n",
            "     Parch            Ticket     Fare Cabin Embarked  \n",
            "1        0          PC 17599  71.2833   C85        C  \n",
            "2        0  STON/O2. 3101282   7.9250   NaN        S  \n",
            "3        0            113803  53.1000  C123        S  \n",
            "8        2            347742  11.1333   NaN        S  \n",
            "9        0            237736  30.0708   NaN        C  \n",
            "..     ...               ...      ...   ...      ...  \n",
            "874      0         P/PP 3381  24.0000   NaN        C  \n",
            "875      0              2667   7.2250   NaN        C  \n",
            "879      1             11767  83.1583   C50        C  \n",
            "880      1            230433  26.0000   NaN        S  \n",
            "887      0            112053  30.0000   B42        S  \n",
            "\n",
            "[233 rows x 12 columns]\n"
          ]
        }
      ]
    },
    {
      "cell_type": "code",
      "source": [
        "# filtering the dataframe, after that only getting required columns\n",
        "# df[df[conditins]][columns]  =>  df[df[conditins]] gives a dataframe and then applying [columns] on df[df[conditins]]\n",
        "\n",
        "female_survived = df[(df['Sex'] == 'female') & (df['Survived'] == 1)][['Name', 'Age']]\n",
        "\n",
        "print(female_survived)"
      ],
      "metadata": {
        "id": "TJu0de7dGdSF",
        "outputId": "94091640-3dec-43e5-cf63-1cfd300a7121",
        "colab": {
          "base_uri": "https://localhost:8080/"
        }
      },
      "id": "TJu0de7dGdSF",
      "execution_count": null,
      "outputs": [
        {
          "output_type": "stream",
          "name": "stdout",
          "text": [
            "                                                  Name   Age\n",
            "1    Cumings, Mrs. John Bradley (Florence Briggs Th...  38.0\n",
            "2                               Heikkinen, Miss. Laina  26.0\n",
            "3         Futrelle, Mrs. Jacques Heath (Lily May Peel)  35.0\n",
            "8    Johnson, Mrs. Oscar W (Elisabeth Vilhelmina Berg)  27.0\n",
            "9                  Nasser, Mrs. Nicholas (Adele Achem)  14.0\n",
            "..                                                 ...   ...\n",
            "874              Abelson, Mrs. Samuel (Hannah Wizosky)  28.0\n",
            "875                   Najib, Miss. Adele Kiamie \"Jane\"  15.0\n",
            "879      Potter, Mrs. Thomas Jr (Lily Alexenia Wilson)  56.0\n",
            "880       Shelley, Mrs. William (Imanita Parrish Hall)  25.0\n",
            "887                       Graham, Miss. Margaret Edith  19.0\n",
            "\n",
            "[233 rows x 2 columns]\n"
          ]
        }
      ]
    },
    {
      "cell_type": "code",
      "source": [
        "# filtering using .loc[]\n",
        "\n",
        "female_survived_df = df.loc[(df['Sex'] == 'female') & (df['Survived'] == 1), ['Name', 'Age']]\n",
        "print(female_survived_df)"
      ],
      "metadata": {
        "colab": {
          "base_uri": "https://localhost:8080/"
        },
        "id": "yC1F1nctJH0v",
        "outputId": "6828ef31-a750-43d9-db73-634ae9d8c4d9"
      },
      "id": "yC1F1nctJH0v",
      "execution_count": 5,
      "outputs": [
        {
          "output_type": "stream",
          "name": "stdout",
          "text": [
            "                                                  Name   Age\n",
            "1    Cumings, Mrs. John Bradley (Florence Briggs Th...  38.0\n",
            "2                               Heikkinen, Miss. Laina  26.0\n",
            "3         Futrelle, Mrs. Jacques Heath (Lily May Peel)  35.0\n",
            "8    Johnson, Mrs. Oscar W (Elisabeth Vilhelmina Berg)  27.0\n",
            "9                  Nasser, Mrs. Nicholas (Adele Achem)  14.0\n",
            "..                                                 ...   ...\n",
            "874              Abelson, Mrs. Samuel (Hannah Wizosky)  28.0\n",
            "875                   Najib, Miss. Adele Kiamie \"Jane\"  15.0\n",
            "879      Potter, Mrs. Thomas Jr (Lily Alexenia Wilson)  56.0\n",
            "880       Shelley, Mrs. William (Imanita Parrish Hall)  25.0\n",
            "887                       Graham, Miss. Margaret Edith  19.0\n",
            "\n",
            "[233 rows x 2 columns]\n"
          ]
        }
      ]
    },
    {
      "cell_type": "code",
      "source": [
        "# Female survived number\n",
        "\n",
        "print(len(female_survived))"
      ],
      "metadata": {
        "id": "5Cjk3eV2Hys6",
        "outputId": "c30140e8-0605-4b25-ed56-28558d5b5b30",
        "colab": {
          "base_uri": "https://localhost:8080/"
        }
      },
      "id": "5Cjk3eV2Hys6",
      "execution_count": null,
      "outputs": [
        {
          "output_type": "stream",
          "name": "stdout",
          "text": [
            "233\n"
          ]
        }
      ]
    },
    {
      "cell_type": "code",
      "source": [
        "survived = len(df[df['Survived'] == 1])\n",
        "notSurvived = len(df[df['Survived'] == 0])\n",
        "total = len(df)\n",
        "\n",
        "print(\"Survived     = \",survived)\n",
        "print(\"Not survived = \",notSurvived)\n",
        "print(\"Total        = \",total)\n",
        "\n",
        "print(\"Survived Percent     = \",survived/total)\n",
        "print(\"Not Survived Percent = \",notSurvived/total)"
      ],
      "metadata": {
        "id": "zxr7VG5mImsR",
        "outputId": "ce9eb385-2456-4fb7-ceda-5888b2ea1522",
        "colab": {
          "base_uri": "https://localhost:8080/"
        }
      },
      "id": "zxr7VG5mImsR",
      "execution_count": 3,
      "outputs": [
        {
          "output_type": "stream",
          "name": "stdout",
          "text": [
            "Survived     =  342\n",
            "Not survived =  549\n",
            "Total        =  891\n",
            "Survived Percent     =  0.3838383838383838\n",
            "Not Survived Percent =  0.6161616161616161\n"
          ]
        }
      ]
    },
    {
      "cell_type": "code",
      "source": [
        "# slicing\n",
        "\n",
        "print(df.loc[0:2, ['Age', 'Name']])\n",
        "\n",
        "print(\"=\"*100)\n",
        "\n",
        "print(df.iloc[0:2, 0:2])     # iloc[] 2nd arguments doesnot takes names as arguments"
      ],
      "metadata": {
        "colab": {
          "base_uri": "https://localhost:8080/"
        },
        "id": "hAkcSuozIMHh",
        "outputId": "14a1bdc2-92a6-4169-969a-7383706f5d01"
      },
      "id": "hAkcSuozIMHh",
      "execution_count": 9,
      "outputs": [
        {
          "output_type": "stream",
          "name": "stdout",
          "text": [
            "    Age                                               Name\n",
            "0  22.0                            Braund, Mr. Owen Harris\n",
            "1  38.0  Cumings, Mrs. John Bradley (Florence Briggs Th...\n",
            "2  26.0                             Heikkinen, Miss. Laina\n",
            "====================================================================================================\n",
            "   PassengerId  Survived\n",
            "0            1         0\n",
            "1            2         1\n"
          ]
        }
      ]
    },
    {
      "cell_type": "code",
      "source": [
        "# Chained indexing\n",
        "\n",
        "# df[[col1,col2]][col2] ->  this type of selection is chainned indexin\n",
        "# here df[[col1,col2]] is chainned with [col2]\n",
        "# chained indexing is not preferrable for use, mainly in case of modifying the values of received df\n",
        "# use .loc[] to avoid problem with chainned indexing"
      ],
      "metadata": {
        "id": "ttLR3V_hT2Ki"
      },
      "id": "ttLR3V_hT2Ki",
      "execution_count": null,
      "outputs": []
    },
    {
      "cell_type": "code",
      "source": [
        "# the below codes may or maynot create a veiw or copy\n",
        "# it is highly imposible to predict\n",
        "# copy of df will be created if most complex filter or chained indexing is used\n",
        "\n",
        "# subset = df.iloc[]\n",
        "# subset = df.loc[]\n",
        "# subset = def[(multiple-columns)]\n",
        "# subsset = df[(single-column)]\n",
        "\n",
        "# hence it is not predectable whether we get veiw or copy while getting subset\n",
        "# always use .copy() if you want a definite copy\n",
        "\n",
        "data = {\n",
        "    'Name': ['apple', 'mango', 'grape'],\n",
        "    'color': ['red', 'yellow', 'green'],\n",
        "    'price': [100, 200, 300]\n",
        "}\n",
        "df1 = pd.DataFrame(data)\n",
        "\n",
        "subset1 = df1.loc[0:2, ['Name', 'price']]\n",
        "print(\"subset1\")\n",
        "print(subset1)                          # subset1 is view which will effect the original df1\n",
        "\n",
        "subset1['price'] = subset1['price'] + 50\n",
        "print(\"subset1 \\n\", subset1)\n",
        "\n",
        "print(\"Original \\n\", df1[['Name', 'price']])\n",
        "print(\"=\"*100)\n",
        "\n",
        "# using copy() method\n",
        "\n",
        "subset1 = df1.loc[0:2, ['Name', 'price']].copy()\n",
        "print(subset1)                          # using copy() will create a copy of given df so, subset will not effect original df1\n"
      ],
      "metadata": {
        "colab": {
          "base_uri": "https://localhost:8080/"
        },
        "id": "dMWsGKYmLBKj",
        "outputId": "2216354e-0db0-46f0-ef28-4a6db53465a0"
      },
      "id": "dMWsGKYmLBKj",
      "execution_count": 24,
      "outputs": [
        {
          "output_type": "stream",
          "name": "stdout",
          "text": [
            "subset1\n",
            "    Name  price\n",
            "0  apple    100\n",
            "1  mango    200\n",
            "2  grape    300\n",
            "subset1 \n",
            "     Name  price\n",
            "0  apple    150\n",
            "1  mango    250\n",
            "2  grape    350\n",
            "Original \n",
            "     Name  price\n",
            "0  apple    100\n",
            "1  mango    200\n",
            "2  grape    300\n",
            "====================================================================================================\n",
            "    Name  price\n",
            "0  apple    100\n",
            "1  mango    200\n",
            "2  grape    300\n"
          ]
        }
      ]
    },
    {
      "cell_type": "code",
      "source": [
        "data = {\n",
        "    'Name': ['apple', 'mango', 'grape'],\n",
        "    'color': ['red', 'yellow', 'green'],\n",
        "    'price': [100, 200, 300]\n",
        "}\n",
        "df1 = pd.DataFrame(data)\n",
        "\n",
        "subset2 = df1.iloc[0:3, [0,2]]\n",
        "print(\"subset2\")\n",
        "print(subset2)                          # subset1 is view which will effect the original df1\n",
        "\n",
        "subset2['price'] = subset2['price'] + 50\n",
        "print(\"subset1 \\n\", subset2)\n",
        "\n",
        "print(\"Original \\n\", df1[['Name', 'price']])\n",
        "print(\"=\"*100)\n",
        "\n",
        "# using copy() method\n",
        "\n",
        "subset2 = df1.iloc[0:3, [0,2]].copy()\n",
        "print(subset2)                          # using copy() will create a copy of given df so, subset will not effect original df1\n"
      ],
      "metadata": {
        "colab": {
          "base_uri": "https://localhost:8080/"
        },
        "id": "AAms5XIeN2st",
        "outputId": "bb40f72e-5c3e-4d1a-b662-34f8eb99b925"
      },
      "id": "AAms5XIeN2st",
      "execution_count": 25,
      "outputs": [
        {
          "output_type": "stream",
          "name": "stdout",
          "text": [
            "subset2\n",
            "    Name  price\n",
            "0  apple    100\n",
            "1  mango    200\n",
            "2  grape    300\n",
            "subset1 \n",
            "     Name  price\n",
            "0  apple    150\n",
            "1  mango    250\n",
            "2  grape    350\n",
            "Original \n",
            "     Name  price\n",
            "0  apple    100\n",
            "1  mango    200\n",
            "2  grape    300\n",
            "====================================================================================================\n",
            "    Name  price\n",
            "0  apple    100\n",
            "1  mango    200\n",
            "2  grape    300\n"
          ]
        }
      ]
    },
    {
      "cell_type": "code",
      "source": [
        "data = {\n",
        "    'Name': ['apple', 'mango', 'grape'],\n",
        "    'color': ['red', 'yellow', 'green'],\n",
        "    'price': [100, 200, 300]\n",
        "}\n",
        "df1 = pd.DataFrame(data)\n",
        "\n",
        "subset3 = df1[['Name', 'price']]\n",
        "print(\"subset3\")\n",
        "print(subset3)                          # subset1 is view which will effect the original df1\n",
        "\n",
        "subset3['price'] = subset3['price'] + 50\n",
        "print(\"subset3 \\n\", subset3)\n",
        "\n",
        "print(\"Original \\n\", df1[['Name', 'price']])\n",
        "print(\"=\"*100)\n",
        "\n",
        "# using copy() method\n",
        "\n",
        "subset3 = df1[['Name', 'price']].copy()\n",
        "print(subset3)                          # using copy() will create a copy of given df so, subset will not effect original df1\n"
      ],
      "metadata": {
        "colab": {
          "base_uri": "https://localhost:8080/"
        },
        "id": "9Hadt6BwQGia",
        "outputId": "1b632b91-7246-427b-e325-ae7a194ee650"
      },
      "id": "9Hadt6BwQGia",
      "execution_count": 26,
      "outputs": [
        {
          "output_type": "stream",
          "name": "stdout",
          "text": [
            "subset3\n",
            "    Name  price\n",
            "0  apple    100\n",
            "1  mango    200\n",
            "2  grape    300\n",
            "subset3 \n",
            "     Name  price\n",
            "0  apple    150\n",
            "1  mango    250\n",
            "2  grape    350\n",
            "Original \n",
            "     Name  price\n",
            "0  apple    100\n",
            "1  mango    200\n",
            "2  grape    300\n",
            "====================================================================================================\n",
            "    Name  price\n",
            "0  apple    100\n",
            "1  mango    200\n",
            "2  grape    300\n"
          ]
        },
        {
          "output_type": "stream",
          "name": "stderr",
          "text": [
            "/tmp/ipython-input-26-528302636.py:12: SettingWithCopyWarning: \n",
            "A value is trying to be set on a copy of a slice from a DataFrame.\n",
            "Try using .loc[row_indexer,col_indexer] = value instead\n",
            "\n",
            "See the caveats in the documentation: https://pandas.pydata.org/pandas-docs/stable/user_guide/indexing.html#returning-a-view-versus-a-copy\n",
            "  subset3['price'] = subset3['price'] + 50\n"
          ]
        }
      ]
    },
    {
      "cell_type": "code",
      "source": [
        "# Setting and Unsetting index\n",
        "\n",
        "data = {\n",
        "    'Name': ['apple', 'mango', 'grape'],\n",
        "    'color': ['red', 'yellow', 'green'],\n",
        "    'price': [100, 200, 300]\n",
        "}\n",
        "df1 = pd.DataFrame(data)\n",
        "\n",
        "print(df1)\n",
        "print(\"=\"*100)\n",
        "\n",
        "df2 = df1.set_index('Name')    # setting a column as index\n",
        "\n",
        "print(df2)\n",
        "print(\"=\"*100)\n",
        "\n",
        "df2 = df2.reset_index()        # reverting back or reset the index to 0 to ....\n",
        "print(df2)\n"
      ],
      "metadata": {
        "colab": {
          "base_uri": "https://localhost:8080/"
        },
        "id": "z48npUcUVZri",
        "outputId": "a373be42-284e-4f9a-be0b-989698e38549"
      },
      "id": "z48npUcUVZri",
      "execution_count": 31,
      "outputs": [
        {
          "output_type": "stream",
          "name": "stdout",
          "text": [
            "    Name   color  price\n",
            "0  apple     red    100\n",
            "1  mango  yellow    200\n",
            "2  grape   green    300\n",
            "====================================================================================================\n",
            "        color  price\n",
            "Name                \n",
            "apple     red    100\n",
            "mango  yellow    200\n",
            "grape   green    300\n",
            "====================================================================================================\n",
            "    Name   color  price\n",
            "0  apple     red    100\n",
            "1  mango  yellow    200\n",
            "2  grape   green    300\n"
          ]
        }
      ]
    },
    {
      "cell_type": "code",
      "source": [
        "# Reindexing\n",
        "\n",
        "# if two df or pandas series contains data regarding the same thing but with some missing or updated rows or data in one of the df Reindexing is used\n",
        "# if df1 has s1, s2, s3 data and df2 has only s1 and s3 data, then we need to have the s2 data in df2 to process the both dfs in similar way\n",
        "\n",
        "# Reindexing is used to alter the one of df index in occurding to other df's index\n",
        "\n",
        "# example\n",
        "data = {\n",
        "    'Name': ['apple', 'mango', 'grape'],\n",
        "    'color': ['red', 'yellow', 'green'],\n",
        "    'price_1': [100, 200, 300]\n",
        "}\n",
        "df1 = pd.DataFrame(data)\n",
        "df1.set_index('Name', inplace=True)\n",
        "print(\"df1\\n\",df1)\n",
        "print(\"=\"*100)\n",
        "\n",
        "data = {\n",
        "    'Name': ['apple', 'grape'],\n",
        "    'color': ['red', 'green'],\n",
        "    'price_2': [110, 290]\n",
        "}\n",
        "df2 = pd.DataFrame(data)\n",
        "df2.set_index('Name', inplace=True)\n",
        "print(\"df2\\n\",df2)\n",
        "print(\"=\"*100)\n",
        "\n",
        "df2 = df2.reindex(df1.index, fill_value=0)     # here index of df2 is changed in accordance with df1, we can also change df1 index with accourdance with df2 index\n",
        "                                               # the rows can be removed or added based on which index is used to reindex\n",
        "                                               # fill_value in default fill with NaN\n",
        "\n",
        "print(\"df2\\n\",df2)"
      ],
      "metadata": {
        "colab": {
          "base_uri": "https://localhost:8080/"
        },
        "id": "CkA-xVh1Xmrh",
        "outputId": "ad09385f-8e67-472b-bc41-b4fcb2aa4343"
      },
      "id": "CkA-xVh1Xmrh",
      "execution_count": 45,
      "outputs": [
        {
          "output_type": "stream",
          "name": "stdout",
          "text": [
            "df1\n",
            "         color  price_1\n",
            "Name                  \n",
            "apple     red      100\n",
            "mango  yellow      200\n",
            "grape   green      300\n",
            "====================================================================================================\n",
            "df2\n",
            "        color  price_2\n",
            "Name                 \n",
            "apple    red      110\n",
            "grape  green      290\n",
            "====================================================================================================\n",
            "df2\n",
            "        color  price_2\n",
            "Name                 \n",
            "apple    red      110\n",
            "mango      0        0\n",
            "grape  green      290\n"
          ]
        }
      ]
    },
    {
      "cell_type": "code",
      "source": [
        "'df2 = df2.reindex(df1.index, fill_value=0)'\n",
        "\n",
        "# fill_value will only fill all the NaN values to a same single value that we have given\n",
        "# if we want to fill different values for different columns we have to use .fillna() function\n",
        "\n",
        "# if we want to reindex based on columns then change the index using ste_index() function and perform reindex() and then reset_index()\n",
        "'df = df.set_index(\"Name\").reindex(new_names).reset_index()'"
      ],
      "metadata": {
        "id": "zl-48aSUfAYn"
      },
      "id": "zl-48aSUfAYn",
      "execution_count": null,
      "outputs": []
    },
    {
      "cell_type": "code",
      "source": [
        "# if we want to add a column instead of index in accourdance with other df then\n",
        "\n",
        "data = {\n",
        "    'Name': ['apple', 'mango', 'grape'],\n",
        "    'color': ['red', 'yellow', 'green'],\n",
        "    'price_1': [100, 200, 300]\n",
        "}\n",
        "df1 = pd.DataFrame(data)\n",
        "print(\"df1\\n\",df1)\n",
        "print(\"=\"*100)\n",
        "\n",
        "data = {\n",
        "    'Name': ['apple', 'mango', 'grape'],\n",
        "    'price_1': [110, 200, 290]\n",
        "}\n",
        "df2 = pd.DataFrame(data)\n",
        "print(\"df2\\n\",df2)\n",
        "print(\"=\"*100)\n",
        "\n",
        "df2 = df2.reindex(columns=df1.columns, fill_value='unknown')   # in df2 'color' column is added and filled with fill_value\n",
        "print(\"df2\\n\", df2)"
      ],
      "metadata": {
        "colab": {
          "base_uri": "https://localhost:8080/"
        },
        "id": "YB2V5FIBglnh",
        "outputId": "38a724af-adec-4b22-8699-4178e27f432c"
      },
      "id": "YB2V5FIBglnh",
      "execution_count": 51,
      "outputs": [
        {
          "output_type": "stream",
          "name": "stdout",
          "text": [
            "df1\n",
            "     Name   color  price_1\n",
            "0  apple     red      100\n",
            "1  mango  yellow      200\n",
            "2  grape   green      300\n",
            "====================================================================================================\n",
            "df2\n",
            "     Name  price_1\n",
            "0  apple      110\n",
            "1  mango      200\n",
            "2  grape      290\n",
            "====================================================================================================\n",
            "df2\n",
            "     Name    color  price_1\n",
            "0  apple  unknown      110\n",
            "1  mango  unknown      200\n",
            "2  grape  unknown      290\n"
          ]
        }
      ]
    },
    {
      "cell_type": "code",
      "source": [
        "# iteration in dataframe\n",
        "\n",
        "data = {\n",
        "    'Name': ['apple', 'mango', 'grape'],\n",
        "    'color': ['red', 'yellow', 'green'],\n",
        "    'price_1': [100, 200, 300]\n",
        "}\n",
        "df1 = pd.DataFrame(data)\n",
        "\n",
        "for i, rows in df1.iterrows():                   # iterating over rows-> will give both index and row datas\n",
        "  print(f\"Index = {i} fruit is {rows.Name} with color {rows.color} with price {rows.price_1}\")\n",
        "\n",
        "print()\n",
        "for rows in df1.itertuples():                    # iterating happen over rows but gives in the format like tuples which contains index and all the columns data\n",
        "  print(f\"Index = {rows.Index} fruit is {rows.Name} with color {rows.color} with price {rows.price_1}\")\n",
        "\n",
        "print()\n",
        "for i in df1.columns:\n",
        "  print(i)"
      ],
      "metadata": {
        "colab": {
          "base_uri": "https://localhost:8080/"
        },
        "id": "gP1ntQx7kkvi",
        "outputId": "fd5d2d56-5fc3-4a53-faa9-a5bf7ed53e51"
      },
      "id": "gP1ntQx7kkvi",
      "execution_count": 61,
      "outputs": [
        {
          "output_type": "stream",
          "name": "stdout",
          "text": [
            "Index = 0 fruit is apple with color red with price 100\n",
            "Index = 1 fruit is mango with color yellow with price 200\n",
            "Index = 2 fruit is grape with color green with price 300\n",
            "\n",
            "Index = 0 fruit is apple with color red with price 100\n",
            "Index = 1 fruit is mango with color yellow with price 200\n",
            "Index = 2 fruit is grape with color green with price 300\n",
            "\n",
            "Name\n",
            "color\n",
            "price_1\n"
          ]
        }
      ]
    },
    {
      "cell_type": "code",
      "source": [
        "data = {\n",
        "    'Name': ['apple', 'mango', 'grape'],\n",
        "    'color': ['red', 'yellow', 'green'],\n",
        "    'price': [100, 200, 300]\n",
        "}\n",
        "df1 = pd.DataFrame(data)"
      ],
      "metadata": {
        "id": "fpExCuH1rgE0"
      },
      "id": "fpExCuH1rgE0",
      "execution_count": 65,
      "outputs": []
    },
    {
      "cell_type": "code",
      "source": [
        "# Creating new columns using condition\n",
        "\n",
        "df_new = df1.copy()\n",
        "values = []\n",
        "\n",
        "# itering over rows and creating a list for new column based on the condition on a certain column\n",
        "for i, row in df_new.iterrows():\n",
        "  if row[\"price\"] > 175:\n",
        "    values.append(\"High\")\n",
        "  else:\n",
        "    values.append(\"Low\")\n",
        "\n",
        "df_new[\"Values\"] = values\n",
        "\n",
        "print(df_new)"
      ],
      "metadata": {
        "colab": {
          "base_uri": "https://localhost:8080/"
        },
        "id": "j8-EsKEnmzyA",
        "outputId": "89b7c863-a8bf-4688-b5e1-1554692cc721"
      },
      "id": "j8-EsKEnmzyA",
      "execution_count": 66,
      "outputs": [
        {
          "output_type": "stream",
          "name": "stdout",
          "text": [
            "    Name   color  price Values\n",
            "0  apple     red    100    Low\n",
            "1  mango  yellow    200   High\n",
            "2  grape   green    300   High\n"
          ]
        }
      ]
    },
    {
      "cell_type": "code",
      "source": [
        "# using apply\n",
        "\n",
        "df_new = df1.copy()\n",
        "\n",
        "# apply() will accept the function where the values of the new column is determined\n",
        "df_new[\"Value\"] = df_new['price'].apply(lambda price: \"High\" if price>175 else \"Low\")\n",
        "\n",
        "print(df_new)"
      ],
      "metadata": {
        "colab": {
          "base_uri": "https://localhost:8080/"
        },
        "id": "mkCpX1LrsOCR",
        "outputId": "e25893ad-55b7-4989-88bb-b6f4b409a455"
      },
      "id": "mkCpX1LrsOCR",
      "execution_count": 67,
      "outputs": [
        {
          "output_type": "stream",
          "name": "stdout",
          "text": [
            "    Name   color  price Value\n",
            "0  apple     red    100   Low\n",
            "1  mango  yellow    200  High\n",
            "2  grape   green    300  High\n"
          ]
        }
      ]
    },
    {
      "cell_type": "code",
      "source": [
        "# Reading data from CSV\n",
        "\n",
        "data_csv = \"https://raw.githubusercontent.com/datasciencedojo/datasets/refs/heads/master/titanic.csv\"\n",
        "\n",
        "df = pd.read_csv(data_csv)    # reading CSV file using read_csv() funciton\n",
        "\n",
        "print(df.columns)"
      ],
      "metadata": {
        "colab": {
          "base_uri": "https://localhost:8080/"
        },
        "id": "Nka7G5nytFkm",
        "outputId": "4cf45a8e-d746-4017-8d3a-3127e0ea666e"
      },
      "id": "Nka7G5nytFkm",
      "execution_count": 95,
      "outputs": [
        {
          "output_type": "stream",
          "name": "stdout",
          "text": [
            "Index(['PassengerId', 'Survived', 'Pclass', 'Name', 'Sex', 'Age', 'SibSp',\n",
            "       'Parch', 'Ticket', 'Fare', 'Cabin', 'Embarked'],\n",
            "      dtype='object')\n"
          ]
        }
      ]
    },
    {
      "cell_type": "code",
      "source": [
        "# sorting\n",
        "\n",
        "# Sorting based on Age\n",
        "\n",
        "sortedDf = df.sort_values(by=\"Age\", ascending = False)\n",
        "\n",
        "print(sortedDf[[\"Name\", \"Age\"]].head(10))\n",
        "\n",
        "print(\"=\"*100)\n",
        "\n",
        "print(sortedDf.iloc[0:100, 3:6])\n",
        "\n",
        "print(\"=\"*100)\n",
        "\n",
        "print(sortedDf.loc[96:873, [\"Name\", \"Age\"]])"
      ],
      "metadata": {
        "colab": {
          "base_uri": "https://localhost:8080/"
        },
        "id": "shapEYAK0ZMM",
        "outputId": "a0647a02-7129-4c5a-9428-fdc75a518ec9"
      },
      "id": "shapEYAK0ZMM",
      "execution_count": 83,
      "outputs": [
        {
          "output_type": "stream",
          "name": "stdout",
          "text": [
            "                                     Name   Age\n",
            "630  Barkworth, Mr. Algernon Henry Wilson  80.0\n",
            "851                   Svensson, Mr. Johan  74.0\n",
            "493               Artagaveytia, Mr. Ramon  71.0\n",
            "96              Goldschmidt, Mr. George B  71.0\n",
            "116                  Connors, Mr. Patrick  70.5\n",
            "745          Crosby, Capt. Edward Gifford  70.0\n",
            "672           Mitchell, Mr. Henry Michael  70.0\n",
            "33                  Wheadon, Mr. Edward H  66.0\n",
            "456             Millet, Mr. Francis Davis  65.0\n",
            "54         Ostby, Mr. Engelhart Cornelius  65.0\n",
            "====================================================================================================\n",
            "                                     Name   Sex   Age\n",
            "630  Barkworth, Mr. Algernon Henry Wilson  male  80.0\n",
            "851                   Svensson, Mr. Johan  male  74.0\n",
            "493               Artagaveytia, Mr. Ramon  male  71.0\n",
            "96              Goldschmidt, Mr. George B  male  71.0\n",
            "116                  Connors, Mr. Patrick  male  70.5\n",
            "..                                    ...   ...   ...\n",
            "873           Vander Cruyssen, Mr. Victor  male  47.0\n",
            "110        Porter, Mr. Walter Chamberlain  male  47.0\n",
            "586               Jarvis, Mr. John Denzil  male  47.0\n",
            "397               McKane, Mr. Peter David  male  46.0\n",
            "92            Chaffee, Mr. Herbert Fuller  male  46.0\n",
            "\n",
            "[100 rows x 3 columns]\n",
            "====================================================================================================\n",
            "                                                 Name   Age\n",
            "96                          Goldschmidt, Mr. George B  71.0\n",
            "116                              Connors, Mr. Patrick  70.5\n",
            "745                      Crosby, Capt. Edward Gifford  70.0\n",
            "672                       Mitchell, Mr. Henry Michael  70.0\n",
            "33                              Wheadon, Mr. Edward H  66.0\n",
            "..                                                ...   ...\n",
            "592                        Elsbury, Mr. William James  47.0\n",
            "662                        Colley, Mr. Edward Pomeroy  47.0\n",
            "132    Robins, Mrs. Alexander A (Grace Charity Laury)  47.0\n",
            "871  Beckwith, Mrs. Richard Leonard (Sallie Monypeny)  47.0\n",
            "873                       Vander Cruyssen, Mr. Victor  47.0\n",
            "\n",
            "[93 rows x 2 columns]\n"
          ]
        }
      ]
    },
    {
      "cell_type": "code",
      "source": [
        "# Sorting multiple columns\n",
        "\n",
        "sortedDf = df.sort_values(by=[\"Pclass\", \"Fare\"], ascending = [True, False])  # ascending parameter can also be specified for each column\n",
        "\n",
        "print(sortedDf[[\"Pclass\", \"Fare\"]].head(10))"
      ],
      "metadata": {
        "colab": {
          "base_uri": "https://localhost:8080/"
        },
        "id": "FlT4VAKf4S_U",
        "outputId": "57e02caf-45f6-48fb-eeed-936c8f1a5b1b"
      },
      "id": "FlT4VAKf4S_U",
      "execution_count": 97,
      "outputs": [
        {
          "output_type": "stream",
          "name": "stdout",
          "text": [
            "     Pclass      Fare\n",
            "258       1  512.3292\n",
            "679       1  512.3292\n",
            "737       1  512.3292\n",
            "27        1  263.0000\n",
            "88        1  263.0000\n",
            "341       1  263.0000\n",
            "438       1  263.0000\n",
            "311       1  262.3750\n",
            "742       1  262.3750\n",
            "118       1  247.5208\n"
          ]
        }
      ]
    },
    {
      "cell_type": "code",
      "source": [
        "# fillna and type casting\n",
        "\n",
        "# fillna fills the \"NaN\" with given values\n",
        "\n",
        "# astype(int) will convert the datatype of the column\n",
        "\n",
        "newDf = sortedDf[[\"Name\", \"Age\"]].tail(50).copy()\n",
        "print(newDf.tail(10))\n",
        "\n",
        "newDf[\"Age\"] = newDf[\"Age\"].fillna(1)                   # fills all the \"NaN values with 1\n",
        "\n",
        "print(\"=\"*100)\n",
        "print(newDf.tail(10))\n",
        "\n",
        "newDf[\"Age\"] = newDf[\"Age\"].astype(\"int64\")                  # astype(\"int64\") will convert the datatype of the column into int\n",
        "\n",
        "print(\"=\"*100)\n",
        "print(newDf.tail(10))"
      ],
      "metadata": {
        "colab": {
          "base_uri": "https://localhost:8080/"
        },
        "id": "-NyBnws009ev",
        "outputId": "5229e915-4457-484b-ef2f-fba8ac1f35d7"
      },
      "id": "-NyBnws009ev",
      "execution_count": 94,
      "outputs": [
        {
          "output_type": "stream",
          "name": "stdout",
          "text": [
            "                                             Name  Age\n",
            "832                                Saad, Mr. Amin  NaN\n",
            "837                           Sirota, Mr. Maurice  NaN\n",
            "839                          Marechal, Mr. Pierre  NaN\n",
            "846                      Sage, Mr. Douglas Bullen  NaN\n",
            "849  Goldenberg, Mrs. Samuel L (Edwiga Grabowska)  NaN\n",
            "859                              Razi, Mr. Raihed  NaN\n",
            "863             Sage, Miss. Dorothy Edith \"Dolly\"  NaN\n",
            "868                   van Melkebeke, Mr. Philemon  NaN\n",
            "878                            Laleff, Mr. Kristo  NaN\n",
            "888      Johnston, Miss. Catherine Helen \"Carrie\"  NaN\n",
            "====================================================================================================\n",
            "                                             Name  Age\n",
            "832                                Saad, Mr. Amin  1.0\n",
            "837                           Sirota, Mr. Maurice  1.0\n",
            "839                          Marechal, Mr. Pierre  1.0\n",
            "846                      Sage, Mr. Douglas Bullen  1.0\n",
            "849  Goldenberg, Mrs. Samuel L (Edwiga Grabowska)  1.0\n",
            "859                              Razi, Mr. Raihed  1.0\n",
            "863             Sage, Miss. Dorothy Edith \"Dolly\"  1.0\n",
            "868                   van Melkebeke, Mr. Philemon  1.0\n",
            "878                            Laleff, Mr. Kristo  1.0\n",
            "888      Johnston, Miss. Catherine Helen \"Carrie\"  1.0\n",
            "====================================================================================================\n",
            "                                             Name  Age\n",
            "832                                Saad, Mr. Amin    1\n",
            "837                           Sirota, Mr. Maurice    1\n",
            "839                          Marechal, Mr. Pierre    1\n",
            "846                      Sage, Mr. Douglas Bullen    1\n",
            "849  Goldenberg, Mrs. Samuel L (Edwiga Grabowska)    1\n",
            "859                              Razi, Mr. Raihed    1\n",
            "863             Sage, Miss. Dorothy Edith \"Dolly\"    1\n",
            "868                   van Melkebeke, Mr. Philemon    1\n",
            "878                            Laleff, Mr. Kristo    1\n",
            "888      Johnston, Miss. Catherine Helen \"Carrie\"    1\n"
          ]
        }
      ]
    },
    {
      "cell_type": "code",
      "source": [
        "# Sort index\n",
        "\n",
        "# sort the df based on the index\n",
        "\n",
        "newDf = df.set_index(\"PassengerId\")\n",
        "\n",
        "print(newDf[[\"Name\", \"Age\"]])\n",
        "\n",
        "print(\"=\"*100)\n",
        "\n",
        "sortedDf = newDf.sort_index(ascending = False)   # sorted based on index\n",
        "\n",
        "print(sortedDf[[\"Name\", \"Age\"]])"
      ],
      "metadata": {
        "colab": {
          "base_uri": "https://localhost:8080/"
        },
        "id": "xKwumEta4RhM",
        "outputId": "00cdb090-bb65-4f03-cc16-b485f611197f"
      },
      "id": "xKwumEta4RhM",
      "execution_count": 109,
      "outputs": [
        {
          "output_type": "stream",
          "name": "stdout",
          "text": [
            "                                                          Name   Age\n",
            "PassengerId                                                         \n",
            "1                                      Braund, Mr. Owen Harris  22.0\n",
            "2            Cumings, Mrs. John Bradley (Florence Briggs Th...  38.0\n",
            "3                                       Heikkinen, Miss. Laina  26.0\n",
            "4                 Futrelle, Mrs. Jacques Heath (Lily May Peel)  35.0\n",
            "5                                     Allen, Mr. William Henry  35.0\n",
            "...                                                        ...   ...\n",
            "887                                      Montvila, Rev. Juozas  27.0\n",
            "888                               Graham, Miss. Margaret Edith  19.0\n",
            "889                   Johnston, Miss. Catherine Helen \"Carrie\"   NaN\n",
            "890                                      Behr, Mr. Karl Howell  26.0\n",
            "891                                        Dooley, Mr. Patrick  32.0\n",
            "\n",
            "[891 rows x 2 columns]\n",
            "====================================================================================================\n",
            "                                                          Name   Age\n",
            "PassengerId                                                         \n",
            "891                                        Dooley, Mr. Patrick  32.0\n",
            "890                                      Behr, Mr. Karl Howell  26.0\n",
            "889                   Johnston, Miss. Catherine Helen \"Carrie\"   NaN\n",
            "888                               Graham, Miss. Margaret Edith  19.0\n",
            "887                                      Montvila, Rev. Juozas  27.0\n",
            "...                                                        ...   ...\n",
            "5                                     Allen, Mr. William Henry  35.0\n",
            "4                 Futrelle, Mrs. Jacques Heath (Lily May Peel)  35.0\n",
            "3                                       Heikkinen, Miss. Laina  26.0\n",
            "2            Cumings, Mrs. John Bradley (Florence Briggs Th...  38.0\n",
            "1                                      Braund, Mr. Owen Harris  22.0\n",
            "\n",
            "[891 rows x 2 columns]\n"
          ]
        }
      ]
    },
    {
      "cell_type": "code",
      "source": [
        "# sort the order of columns by the name of the column\n",
        "\n",
        "# axis parmeter refers to sort the column's order or row's order(index), default 0 -> row(index) and 1 -> column(by name of columns)\n",
        "sortedDf = sortedDf.sort_index(axis=1)\n",
        "\n",
        "print(sortedDf)"
      ],
      "metadata": {
        "id": "aIKYK6yN7-N9",
        "outputId": "4c202b28-5739-4572-ee5b-624a07519f0f",
        "colab": {
          "base_uri": "https://localhost:8080/"
        }
      },
      "id": "aIKYK6yN7-N9",
      "execution_count": 111,
      "outputs": [
        {
          "output_type": "stream",
          "name": "stdout",
          "text": [
            "              Age Cabin Embarked     Fare  \\\n",
            "PassengerId                                 \n",
            "891          32.0   NaN        Q   7.7500   \n",
            "890          26.0  C148        C  30.0000   \n",
            "889           NaN   NaN        S  23.4500   \n",
            "888          19.0   B42        S  30.0000   \n",
            "887          27.0   NaN        S  13.0000   \n",
            "...           ...   ...      ...      ...   \n",
            "5            35.0   NaN        S   8.0500   \n",
            "4            35.0  C123        S  53.1000   \n",
            "3            26.0   NaN        S   7.9250   \n",
            "2            38.0   C85        C  71.2833   \n",
            "1            22.0   NaN        S   7.2500   \n",
            "\n",
            "                                                          Name  Parch  Pclass  \\\n",
            "PassengerId                                                                     \n",
            "891                                        Dooley, Mr. Patrick      0       3   \n",
            "890                                      Behr, Mr. Karl Howell      0       1   \n",
            "889                   Johnston, Miss. Catherine Helen \"Carrie\"      2       3   \n",
            "888                               Graham, Miss. Margaret Edith      0       1   \n",
            "887                                      Montvila, Rev. Juozas      0       2   \n",
            "...                                                        ...    ...     ...   \n",
            "5                                     Allen, Mr. William Henry      0       3   \n",
            "4                 Futrelle, Mrs. Jacques Heath (Lily May Peel)      0       1   \n",
            "3                                       Heikkinen, Miss. Laina      0       3   \n",
            "2            Cumings, Mrs. John Bradley (Florence Briggs Th...      0       1   \n",
            "1                                      Braund, Mr. Owen Harris      0       3   \n",
            "\n",
            "                Sex  SibSp  Survived            Ticket  \n",
            "PassengerId                                             \n",
            "891            male      0         0            370376  \n",
            "890            male      0         1            111369  \n",
            "889          female      1         0        W./C. 6607  \n",
            "888          female      0         1            112053  \n",
            "887            male      0         0            211536  \n",
            "...             ...    ...       ...               ...  \n",
            "5              male      0         0            373450  \n",
            "4            female      1         1            113803  \n",
            "3            female      0         1  STON/O2. 3101282  \n",
            "2            female      1         1          PC 17599  \n",
            "1              male      1         0         A/5 21171  \n",
            "\n",
            "[891 rows x 11 columns]\n"
          ]
        }
      ]
    },
    {
      "cell_type": "code",
      "source": [
        "_in"
      ],
      "metadata": {
        "id": "-YVE1vKu9juk"
      },
      "id": "-YVE1vKu9juk",
      "execution_count": null,
      "outputs": []
    }
  ],
  "metadata": {
    "language_info": {
      "name": "python"
    },
    "colab": {
      "provenance": []
    },
    "kernelspec": {
      "name": "python3",
      "display_name": "Python 3"
    }
  },
  "nbformat": 4,
  "nbformat_minor": 5
}
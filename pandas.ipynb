{
  "cells": [
    {
      "cell_type": "code",
      "execution_count": null,
      "id": "d62c7d18",
      "metadata": {
        "id": "d62c7d18"
      },
      "outputs": [],
      "source": [
        "# Pandas\n",
        "\n",
        "# used for data manipulation and analysis\n",
        "# it internally used numpy\n",
        "# relational data - data which is related to one another, e.g excel where data of one column is related to the data of the other column\n"
      ]
    },
    {
      "cell_type": "code",
      "source": [
        "# importing pandas\n",
        "\n",
        "import pandas as pd"
      ],
      "metadata": {
        "id": "ebLcu5Ck8z6O"
      },
      "id": "ebLcu5Ck8z6O",
      "execution_count": 1,
      "outputs": []
    },
    {
      "cell_type": "code",
      "source": [
        "# Series\n",
        "# In pandas single dimensional array is known as Series\n",
        "# Series can be hetrogenous too, meaning a series can contains different data types\n",
        "# Dictionaries can also passed in Series() function, here Keys are considered as indexes and values as data of series\n",
        "\n",
        "ser = pd.Series([10,20,30,40,50])\n",
        "\n",
        "print(type(ser))\n",
        "print(ser)"
      ],
      "metadata": {
        "colab": {
          "base_uri": "https://localhost:8080/"
        },
        "id": "mKAI5JXM8wYm",
        "outputId": "0f0faab0-5b9b-4e99-fa57-ff4c362a0408"
      },
      "id": "mKAI5JXM8wYm",
      "execution_count": 4,
      "outputs": [
        {
          "output_type": "stream",
          "name": "stdout",
          "text": [
            "<class 'pandas.core.series.Series'>\n",
            "0    10\n",
            "1    20\n",
            "2    30\n",
            "3    40\n",
            "4    50\n",
            "dtype: int64\n"
          ]
        }
      ]
    },
    {
      "cell_type": "code",
      "source": [
        "# assigining index and coumn name for a series\n",
        "\n",
        "ser1 = pd.Series([10,20,30,40,50], index=['a','b','c','d','e'], name='data values')\n",
        "\n",
        "print(type(ser1))\n",
        "print(ser1)"
      ],
      "metadata": {
        "colab": {
          "base_uri": "https://localhost:8080/"
        },
        "id": "KqGK7VV19BdP",
        "outputId": "335581f0-e72c-42ab-9cd4-36dfc25adb37"
      },
      "id": "KqGK7VV19BdP",
      "execution_count": 5,
      "outputs": [
        {
          "output_type": "stream",
          "name": "stdout",
          "text": [
            "<class 'pandas.core.series.Series'>\n",
            "a    10\n",
            "b    20\n",
            "c    30\n",
            "d    40\n",
            "e    50\n",
            "Name: data values, dtype: int64\n"
          ]
        }
      ]
    },
    {
      "cell_type": "code",
      "source": [
        "# Creating series using dictionary\n",
        "\n",
        "ser2 = pd.Series({'a':10,'b':20,'c':30})\n",
        "\n",
        "print(type(ser2))\n",
        "print(ser2)"
      ],
      "metadata": {
        "colab": {
          "base_uri": "https://localhost:8080/"
        },
        "id": "2yS3C_0d93wH",
        "outputId": "d84ccf67-1d0e-42d0-95b4-cbb5ef33e1be"
      },
      "id": "2yS3C_0d93wH",
      "execution_count": 7,
      "outputs": [
        {
          "output_type": "stream",
          "name": "stdout",
          "text": [
            "<class 'pandas.core.series.Series'>\n",
            "a    10\n",
            "b    20\n",
            "c    30\n",
            "dtype: int64\n"
          ]
        }
      ]
    },
    {
      "cell_type": "code",
      "source": [
        "# Attributes of Series\n",
        "\n",
        "print(ser2.values)\n",
        "print(ser2.index)\n",
        "print(ser2.dtype)\n",
        "print(ser2.name)\n",
        "print(ser2.shape)\n",
        "print(ser2.size)\n",
        "print(ser2.empty)\n"
      ],
      "metadata": {
        "colab": {
          "base_uri": "https://localhost:8080/"
        },
        "id": "tNYSAcxg-BHf",
        "outputId": "3b13b603-1dc4-4814-c630-af8a923f3b67"
      },
      "id": "tNYSAcxg-BHf",
      "execution_count": 10,
      "outputs": [
        {
          "output_type": "stream",
          "name": "stdout",
          "text": [
            "[10 20 30]\n",
            "Index(['a', 'b', 'c'], dtype='object')\n",
            "int64\n",
            "None\n",
            "(3,)\n",
            "3\n",
            "False\n"
          ]
        }
      ]
    },
    {
      "cell_type": "code",
      "source": [
        "# Indexing\n",
        "\n",
        "# positional indexing - indexing the value using the position of the data among the Series (python list indexing)\n",
        "# Native indexing     - indexing the value using the index that have created automatically or by the user\n",
        "\n",
        "print(ser2.values[0])  # positionl indexing\n",
        "\n",
        "print(ser2.loc['b'])       # .loc[] is used for native indexing\n",
        "print(ser2.iloc[1])        # .iloc is used for positional indexing\n",
        "\n",
        "print(ser2[0])           # this type of indexing is not used in the latest version"
      ],
      "metadata": {
        "colab": {
          "base_uri": "https://localhost:8080/"
        },
        "id": "w2qFEMPb_lEE",
        "outputId": "439ec0ec-8a58-4f31-e79e-eddbb3e864e6"
      },
      "id": "w2qFEMPb_lEE",
      "execution_count": 15,
      "outputs": [
        {
          "output_type": "stream",
          "name": "stdout",
          "text": [
            "10\n",
            "20\n",
            "20\n",
            "10\n"
          ]
        },
        {
          "output_type": "stream",
          "name": "stderr",
          "text": [
            "/tmp/ipython-input-15-189071710.py:11: FutureWarning: Series.__getitem__ treating keys as positions is deprecated. In a future version, integer keys will always be treated as labels (consistent with DataFrame behavior). To access a value by position, use `ser.iloc[pos]`\n",
            "  print(ser2[0])           # this type of indexing is not used in the latest version\n"
          ]
        }
      ]
    }
  ],
  "metadata": {
    "language_info": {
      "name": "python"
    },
    "colab": {
      "provenance": []
    },
    "kernelspec": {
      "name": "python3",
      "display_name": "Python 3"
    }
  },
  "nbformat": 4,
  "nbformat_minor": 5
}
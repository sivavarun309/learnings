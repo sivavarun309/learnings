{
  "cells": [
    {
      "cell_type": "code",
      "execution_count": null,
      "id": "d62c7d18",
      "metadata": {
        "id": "d62c7d18"
      },
      "outputs": [],
      "source": [
        "# Pandas\n",
        "\n",
        "# used for data manipulation and analysis\n",
        "# it internally used numpy\n",
        "# relational data - data which is related to one another, e.g excel where data of one column is related to the data of the other column\n"
      ]
    },
    {
      "cell_type": "code",
      "source": [
        "# importing pandas\n",
        "\n",
        "import pandas as pd\n",
        "import numpy as np"
      ],
      "metadata": {
        "id": "ebLcu5Ck8z6O"
      },
      "id": "ebLcu5Ck8z6O",
      "execution_count": 15,
      "outputs": []
    },
    {
      "cell_type": "code",
      "source": [
        "# Series\n",
        "# In pandas single dimensional array is known as Series\n",
        "# Series can be hetrogenous too, meaning a series can contains different data types\n",
        "# Dictionaries can also passed in Series() function, here Keys are considered as indexes and values as data of series\n",
        "\n",
        "ser = pd.Series([10,20,30,40,50])\n",
        "\n",
        "print(type(ser))\n",
        "print(ser)"
      ],
      "metadata": {
        "colab": {
          "base_uri": "https://localhost:8080/"
        },
        "id": "mKAI5JXM8wYm",
        "outputId": "0f0faab0-5b9b-4e99-fa57-ff4c362a0408"
      },
      "id": "mKAI5JXM8wYm",
      "execution_count": null,
      "outputs": [
        {
          "output_type": "stream",
          "name": "stdout",
          "text": [
            "<class 'pandas.core.series.Series'>\n",
            "0    10\n",
            "1    20\n",
            "2    30\n",
            "3    40\n",
            "4    50\n",
            "dtype: int64\n"
          ]
        }
      ]
    },
    {
      "cell_type": "code",
      "source": [
        "# assigining index and coumn name for a series\n",
        "\n",
        "ser1 = pd.Series([10,20,30,40,50], index=['a','b','c','d','e'], name='data values')\n",
        "\n",
        "print(type(ser1))\n",
        "print(ser1)"
      ],
      "metadata": {
        "colab": {
          "base_uri": "https://localhost:8080/"
        },
        "id": "KqGK7VV19BdP",
        "outputId": "335581f0-e72c-42ab-9cd4-36dfc25adb37"
      },
      "id": "KqGK7VV19BdP",
      "execution_count": null,
      "outputs": [
        {
          "output_type": "stream",
          "name": "stdout",
          "text": [
            "<class 'pandas.core.series.Series'>\n",
            "a    10\n",
            "b    20\n",
            "c    30\n",
            "d    40\n",
            "e    50\n",
            "Name: data values, dtype: int64\n"
          ]
        }
      ]
    },
    {
      "cell_type": "code",
      "source": [
        "# Creating series using dictionary\n",
        "\n",
        "ser2 = pd.Series({'a':10,'b':20,'c':30})\n",
        "\n",
        "print(type(ser2))\n",
        "print(ser2)"
      ],
      "metadata": {
        "colab": {
          "base_uri": "https://localhost:8080/"
        },
        "id": "2yS3C_0d93wH",
        "outputId": "e4dad542-4afe-41a1-ce95-5a810f6f3270"
      },
      "id": "2yS3C_0d93wH",
      "execution_count": 2,
      "outputs": [
        {
          "output_type": "stream",
          "name": "stdout",
          "text": [
            "<class 'pandas.core.series.Series'>\n",
            "a    10\n",
            "b    20\n",
            "c    30\n",
            "dtype: int64\n"
          ]
        }
      ]
    },
    {
      "cell_type": "code",
      "source": [
        "# Attributes of Series\n",
        "\n",
        "print(ser2.values)\n",
        "print(ser2.index)\n",
        "print(ser2.dtype)\n",
        "print(ser2.name)\n",
        "print(ser2.shape)\n",
        "print(ser2.size)\n",
        "print(ser2.empty)\n"
      ],
      "metadata": {
        "colab": {
          "base_uri": "https://localhost:8080/"
        },
        "id": "tNYSAcxg-BHf",
        "outputId": "94acf2e8-1ef7-4d47-8fe5-86c85e1a5983"
      },
      "id": "tNYSAcxg-BHf",
      "execution_count": 3,
      "outputs": [
        {
          "output_type": "stream",
          "name": "stdout",
          "text": [
            "[10 20 30]\n",
            "Index(['a', 'b', 'c'], dtype='object')\n",
            "int64\n",
            "None\n",
            "(3,)\n",
            "3\n",
            "False\n"
          ]
        }
      ]
    },
    {
      "cell_type": "code",
      "source": [
        "# Indexing\n",
        "\n",
        "# positional indexing - indexing the value using the position of the data among the Series (python list indexing)\n",
        "# Native indexing     - indexing the value using the index that have created automatically or by the user\n",
        "\n",
        "print(ser2.values[0])  # positionl indexing\n",
        "\n",
        "print(ser2.loc['b'])       # .loc[] is used for native indexing\n",
        "print(ser2.iloc[1])        # .iloc is used for positional indexing\n",
        "\n",
        "print(ser2[0])           # this type of indexing is not used in the latest version\n",
        "                         # if there is a index named 0 then ser[0] picks 0 by Native indexing instead of positional indexing"
      ],
      "metadata": {
        "colab": {
          "base_uri": "https://localhost:8080/"
        },
        "id": "w2qFEMPb_lEE",
        "outputId": "9ac081b0-8073-49bd-c635-1840ee01a1b6"
      },
      "id": "w2qFEMPb_lEE",
      "execution_count": 4,
      "outputs": [
        {
          "output_type": "stream",
          "name": "stdout",
          "text": [
            "10\n",
            "20\n",
            "20\n",
            "10\n"
          ]
        },
        {
          "output_type": "stream",
          "name": "stderr",
          "text": [
            "/tmp/ipython-input-4-189071710.py:11: FutureWarning: Series.__getitem__ treating keys as positions is deprecated. In a future version, integer keys will always be treated as labels (consistent with DataFrame behavior). To access a value by position, use `ser.iloc[pos]`\n",
            "  print(ser2[0])           # this type of indexing is not used in the latest version\n"
          ]
        }
      ]
    },
    {
      "cell_type": "code",
      "source": [
        "print(ser2.loc[['a','b']])  # indexing multiple rows or values\n",
        "print(ser2.iloc[[0, 1]])"
      ],
      "metadata": {
        "id": "_-Ou1tQg4_Vn",
        "outputId": "84dc1542-e4d6-4617-d2aa-06e138e60721",
        "colab": {
          "base_uri": "https://localhost:8080/"
        }
      },
      "id": "_-Ou1tQg4_Vn",
      "execution_count": 7,
      "outputs": [
        {
          "output_type": "stream",
          "name": "stdout",
          "text": [
            "a    10\n",
            "b    20\n",
            "dtype: int64\n",
            "a    10\n",
            "b    20\n",
            "dtype: int64\n"
          ]
        }
      ]
    },
    {
      "cell_type": "code",
      "source": [
        "# slicing\n",
        "\n",
        "# loc(start:end) -> end is inclusive\n",
        "# iloc(start:end)-> end is exclusinve\n",
        "\n",
        "ser = pd.Series([10,20,30,40,50], index = [11, 12, 13, 14, 15])\n",
        "\n",
        "print(ser.iloc[0:2])\n",
        "print(ser.loc[11:14])\n",
        "print(ser2.loc['a':'c'])     # .loc() function will include the end number also"
      ],
      "metadata": {
        "id": "ajKYeKFT5ZMa",
        "outputId": "1b622085-c5df-4409-a6e4-5b0a135058ff",
        "colab": {
          "base_uri": "https://localhost:8080/"
        }
      },
      "id": "ajKYeKFT5ZMa",
      "execution_count": 12,
      "outputs": [
        {
          "output_type": "stream",
          "name": "stdout",
          "text": [
            "11    10\n",
            "12    20\n",
            "dtype: int64\n",
            "11    10\n",
            "12    20\n",
            "13    30\n",
            "14    40\n",
            "dtype: int64\n",
            "a    10\n",
            "b    20\n",
            "c    30\n",
            "dtype: int64\n"
          ]
        }
      ]
    },
    {
      "cell_type": "code",
      "source": [
        "# DataFrame\n",
        "\n",
        "# the object that wraps multiple pandas series or columns are DataFrame\n",
        "# it is a collection of pandas series"
      ],
      "metadata": {
        "id": "Sqi5truB6hu4"
      },
      "id": "Sqi5truB6hu4",
      "execution_count": null,
      "outputs": []
    },
    {
      "cell_type": "code",
      "source": [
        "# Creating DataFrame\n",
        "\n",
        "data = {\n",
        "    'Name': ['apple', 'mango', 'grape'],\n",
        "    'color': ['red', 'yellow', 'green'],\n",
        "    'price': [100, 200, 300]\n",
        "}\n",
        "\n",
        "df = pd.DataFrame(data)\n",
        "\n",
        "print(df)\n"
      ],
      "metadata": {
        "id": "jxMQwCsT7ANd",
        "outputId": "f4f56ecf-0e84-4723-aeef-dd2286cd3905",
        "colab": {
          "base_uri": "https://localhost:8080/"
        }
      },
      "id": "jxMQwCsT7ANd",
      "execution_count": 13,
      "outputs": [
        {
          "output_type": "stream",
          "name": "stdout",
          "text": [
            "    Name   color  price\n",
            "0  apple     red    100\n",
            "1  mango  yellow    200\n",
            "2  grape   green    300\n"
          ]
        }
      ]
    },
    {
      "cell_type": "code",
      "source": [
        "# creating dataframe from json type dictionary\n",
        "\n",
        "data_1 = [\n",
        "    {'Name':'apple', 'color':'red', 'price':100},\n",
        "    {'Name':'mango', 'color':'yellow', 'price':200},\n",
        "    {'Name':'grape', 'color':'green', 'price':300}\n",
        "]\n",
        "\n",
        "df1 = pd.DataFrame(data_1)\n",
        "\n",
        "print(df1)"
      ],
      "metadata": {
        "id": "jSYep-xH7UBL",
        "outputId": "ebc0d2cb-0d80-4b83-f217-3aad87cea6cb",
        "colab": {
          "base_uri": "https://localhost:8080/"
        }
      },
      "id": "jSYep-xH7UBL",
      "execution_count": 14,
      "outputs": [
        {
          "output_type": "stream",
          "name": "stdout",
          "text": [
            "    Name   color  price\n",
            "0  apple     red    100\n",
            "1  mango  yellow    200\n",
            "2  grape   green    300\n"
          ]
        }
      ]
    },
    {
      "cell_type": "code",
      "source": [
        "data = np.array([[1, 2], [3, 4], [5, 6]])\n",
        "df = pd.DataFrame(data, columns=['A', 'B'])    # columns is used to assign the column name and index is used to assign index of the row\n",
        "print(df)\n",
        "print(type(df))"
      ],
      "metadata": {
        "id": "ywEA11Mw7ueI",
        "outputId": "d9812024-153b-4e31-e350-04c8b77561e5",
        "colab": {
          "base_uri": "https://localhost:8080/"
        }
      },
      "id": "ywEA11Mw7ueI",
      "execution_count": 17,
      "outputs": [
        {
          "output_type": "stream",
          "name": "stdout",
          "text": [
            "   A  B\n",
            "0  1  2\n",
            "1  3  4\n",
            "2  5  6\n",
            "<class 'pandas.core.frame.DataFrame'>\n"
          ]
        }
      ]
    },
    {
      "cell_type": "code",
      "source": [
        "# Accessing the values in dataframe\n",
        "\n",
        "data = {\n",
        "    'Name': ['apple', 'mango', 'grape'],\n",
        "    'color': ['red', 'yellow', 'green'],\n",
        "    'price': [100, 200, 300]\n",
        "}\n",
        "df = pd.DataFrame(data)\n",
        "\n",
        "print(df['Name'])                # accessing only the 'Name' Column\n",
        "print(type(df['Name']))          # single column is considered as Series in pandas\n",
        "\n",
        "print(df[['Name', 'color']])     # accessing multiple columns\n",
        "print(type(df[['Name', 'color']]))"
      ],
      "metadata": {
        "id": "8jDYefpf8jku",
        "outputId": "d069f1b1-c707-4ea2-9e66-e67b08811866",
        "colab": {
          "base_uri": "https://localhost:8080/"
        }
      },
      "id": "8jDYefpf8jku",
      "execution_count": 19,
      "outputs": [
        {
          "output_type": "stream",
          "name": "stdout",
          "text": [
            "0    apple\n",
            "1    mango\n",
            "2    grape\n",
            "Name: Name, dtype: object\n",
            "<class 'pandas.core.series.Series'>\n",
            "    Name   color\n",
            "0  apple     red\n",
            "1  mango  yellow\n",
            "2  grape   green\n",
            "<class 'pandas.core.frame.DataFrame'>\n"
          ]
        }
      ]
    },
    {
      "cell_type": "code",
      "source": [
        "print(df.loc[0:1])    # 1 is included\n",
        "print()\n",
        "print(df.iloc[0:1])   # 1 is excluded"
      ],
      "metadata": {
        "id": "9lYb-ZOZ9U2K",
        "outputId": "bc14ce25-9ef3-4782-e34b-f8e416681088",
        "colab": {
          "base_uri": "https://localhost:8080/"
        }
      },
      "id": "9lYb-ZOZ9U2K",
      "execution_count": 24,
      "outputs": [
        {
          "output_type": "stream",
          "name": "stdout",
          "text": [
            "    Name   color  price\n",
            "0  apple     red    100\n",
            "1  mango  yellow    200\n",
            "\n",
            "    Name color  price\n",
            "0  apple   red    100\n"
          ]
        }
      ]
    },
    {
      "cell_type": "code",
      "source": [
        "# Data Formats\n",
        "\n",
        "# CSV\n",
        "# JSON\n",
        "# XML\n"
      ],
      "metadata": {
        "id": "ytpZ0wMd93X_"
      },
      "id": "ytpZ0wMd93X_",
      "execution_count": null,
      "outputs": []
    },
    {
      "cell_type": "code",
      "source": [
        "# Reading data from CSV\n",
        "\n",
        "data_csv = \"https://raw.githubusercontent.com/datasciencedojo/datasets/refs/heads/master/titanic.csv\"\n",
        "\n",
        "df = pd.read_csv(data_csv)    # reading CSV file using read_csv() funciton\n",
        "\n",
        "print(df)"
      ],
      "metadata": {
        "id": "1FtT9_i3B8Rl",
        "outputId": "214c8363-6cbe-4499-e9a8-67e6e03bc916",
        "colab": {
          "base_uri": "https://localhost:8080/"
        }
      },
      "id": "1FtT9_i3B8Rl",
      "execution_count": 27,
      "outputs": [
        {
          "output_type": "stream",
          "name": "stdout",
          "text": [
            "     PassengerId  Survived  Pclass  \\\n",
            "0              1         0       3   \n",
            "1              2         1       1   \n",
            "2              3         1       3   \n",
            "3              4         1       1   \n",
            "4              5         0       3   \n",
            "..           ...       ...     ...   \n",
            "886          887         0       2   \n",
            "887          888         1       1   \n",
            "888          889         0       3   \n",
            "889          890         1       1   \n",
            "890          891         0       3   \n",
            "\n",
            "                                                  Name     Sex   Age  SibSp  \\\n",
            "0                              Braund, Mr. Owen Harris    male  22.0      1   \n",
            "1    Cumings, Mrs. John Bradley (Florence Briggs Th...  female  38.0      1   \n",
            "2                               Heikkinen, Miss. Laina  female  26.0      0   \n",
            "3         Futrelle, Mrs. Jacques Heath (Lily May Peel)  female  35.0      1   \n",
            "4                             Allen, Mr. William Henry    male  35.0      0   \n",
            "..                                                 ...     ...   ...    ...   \n",
            "886                              Montvila, Rev. Juozas    male  27.0      0   \n",
            "887                       Graham, Miss. Margaret Edith  female  19.0      0   \n",
            "888           Johnston, Miss. Catherine Helen \"Carrie\"  female   NaN      1   \n",
            "889                              Behr, Mr. Karl Howell    male  26.0      0   \n",
            "890                                Dooley, Mr. Patrick    male  32.0      0   \n",
            "\n",
            "     Parch            Ticket     Fare Cabin Embarked  \n",
            "0        0         A/5 21171   7.2500   NaN        S  \n",
            "1        0          PC 17599  71.2833   C85        C  \n",
            "2        0  STON/O2. 3101282   7.9250   NaN        S  \n",
            "3        0            113803  53.1000  C123        S  \n",
            "4        0            373450   8.0500   NaN        S  \n",
            "..     ...               ...      ...   ...      ...  \n",
            "886      0            211536  13.0000   NaN        S  \n",
            "887      0            112053  30.0000   B42        S  \n",
            "888      2        W./C. 6607  23.4500   NaN        S  \n",
            "889      0            111369  30.0000  C148        C  \n",
            "890      0            370376   7.7500   NaN        Q  \n",
            "\n",
            "[891 rows x 12 columns]\n"
          ]
        }
      ]
    },
    {
      "cell_type": "code",
      "source": [
        "# Visuvalization\n",
        "\n",
        "# top 5 rows\n",
        "print(df.head(5))\n",
        "\n",
        "print(\"=\"*100)\n",
        "\n",
        "#last 5 rows\n",
        "print(df.tail(5))"
      ],
      "metadata": {
        "id": "nKNLLlUyCq3T",
        "outputId": "7b0141f1-72bb-4869-c457-cb7b1a286ff9",
        "colab": {
          "base_uri": "https://localhost:8080/"
        }
      },
      "id": "nKNLLlUyCq3T",
      "execution_count": 31,
      "outputs": [
        {
          "output_type": "stream",
          "name": "stdout",
          "text": [
            "   PassengerId  Survived  Pclass  \\\n",
            "0            1         0       3   \n",
            "1            2         1       1   \n",
            "2            3         1       3   \n",
            "3            4         1       1   \n",
            "4            5         0       3   \n",
            "\n",
            "                                                Name     Sex   Age  SibSp  \\\n",
            "0                            Braund, Mr. Owen Harris    male  22.0      1   \n",
            "1  Cumings, Mrs. John Bradley (Florence Briggs Th...  female  38.0      1   \n",
            "2                             Heikkinen, Miss. Laina  female  26.0      0   \n",
            "3       Futrelle, Mrs. Jacques Heath (Lily May Peel)  female  35.0      1   \n",
            "4                           Allen, Mr. William Henry    male  35.0      0   \n",
            "\n",
            "   Parch            Ticket     Fare Cabin Embarked  \n",
            "0      0         A/5 21171   7.2500   NaN        S  \n",
            "1      0          PC 17599  71.2833   C85        C  \n",
            "2      0  STON/O2. 3101282   7.9250   NaN        S  \n",
            "3      0            113803  53.1000  C123        S  \n",
            "4      0            373450   8.0500   NaN        S  \n",
            "====================================================================================================\n",
            "     PassengerId  Survived  Pclass                                      Name  \\\n",
            "886          887         0       2                     Montvila, Rev. Juozas   \n",
            "887          888         1       1              Graham, Miss. Margaret Edith   \n",
            "888          889         0       3  Johnston, Miss. Catherine Helen \"Carrie\"   \n",
            "889          890         1       1                     Behr, Mr. Karl Howell   \n",
            "890          891         0       3                       Dooley, Mr. Patrick   \n",
            "\n",
            "        Sex   Age  SibSp  Parch      Ticket   Fare Cabin Embarked  \n",
            "886    male  27.0      0      0      211536  13.00   NaN        S  \n",
            "887  female  19.0      0      0      112053  30.00   B42        S  \n",
            "888  female   NaN      1      2  W./C. 6607  23.45   NaN        S  \n",
            "889    male  26.0      0      0      111369  30.00  C148        C  \n",
            "890    male  32.0      0      0      370376   7.75   NaN        Q  \n"
          ]
        }
      ]
    },
    {
      "cell_type": "code",
      "source": [
        "# getting a columns\n",
        "\n",
        "print(df[['Name','Age']])"
      ],
      "metadata": {
        "id": "pFUG3AnKC-t5",
        "outputId": "c909f73d-2efe-4a4a-d955-c02bc19d362d",
        "colab": {
          "base_uri": "https://localhost:8080/"
        }
      },
      "id": "pFUG3AnKC-t5",
      "execution_count": 33,
      "outputs": [
        {
          "output_type": "stream",
          "name": "stdout",
          "text": [
            "                                                  Name   Age\n",
            "0                              Braund, Mr. Owen Harris  22.0\n",
            "1    Cumings, Mrs. John Bradley (Florence Briggs Th...  38.0\n",
            "2                               Heikkinen, Miss. Laina  26.0\n",
            "3         Futrelle, Mrs. Jacques Heath (Lily May Peel)  35.0\n",
            "4                             Allen, Mr. William Henry  35.0\n",
            "..                                                 ...   ...\n",
            "886                              Montvila, Rev. Juozas  27.0\n",
            "887                       Graham, Miss. Margaret Edith  19.0\n",
            "888           Johnston, Miss. Catherine Helen \"Carrie\"   NaN\n",
            "889                              Behr, Mr. Karl Howell  26.0\n",
            "890                                Dooley, Mr. Patrick  32.0\n",
            "\n",
            "[891 rows x 2 columns]\n"
          ]
        }
      ]
    },
    {
      "cell_type": "code",
      "source": [
        "# loc in df\n",
        "\n",
        "print(df.loc[0])\n",
        "\n",
        "print(\"=\"*100)\n",
        "\n",
        "print(df.loc[0, 'Name'])      # In loc[] we can access the column using the column name"
      ],
      "metadata": {
        "id": "jnn7PCn9DalZ",
        "outputId": "78129fb8-f6b1-4870-848a-10220d767a67",
        "colab": {
          "base_uri": "https://localhost:8080/"
        }
      },
      "id": "jnn7PCn9DalZ",
      "execution_count": 37,
      "outputs": [
        {
          "output_type": "stream",
          "name": "stdout",
          "text": [
            "PassengerId                          1\n",
            "Survived                             0\n",
            "Pclass                               3\n",
            "Name           Braund, Mr. Owen Harris\n",
            "Sex                               male\n",
            "Age                               22.0\n",
            "SibSp                                1\n",
            "Parch                                0\n",
            "Ticket                       A/5 21171\n",
            "Fare                              7.25\n",
            "Cabin                              NaN\n",
            "Embarked                             S\n",
            "Name: 0, dtype: object\n",
            "====================================================================================================\n",
            "Braund, Mr. Owen Harris\n"
          ]
        }
      ]
    },
    {
      "cell_type": "code",
      "source": [
        "# iloc\n",
        "\n",
        "print(df.iloc[0])\n",
        "\n",
        "print(\"=\"*100)\n",
        "\n",
        "print(df.iloc[0, 3])        # In loc[] we can access the column using the column index"
      ],
      "metadata": {
        "id": "G5BjhyIVEIMO",
        "outputId": "5a4165df-7d39-4595-bf64-be584bf95d14",
        "colab": {
          "base_uri": "https://localhost:8080/"
        }
      },
      "id": "G5BjhyIVEIMO",
      "execution_count": 40,
      "outputs": [
        {
          "output_type": "stream",
          "name": "stdout",
          "text": [
            "PassengerId                          1\n",
            "Survived                             0\n",
            "Pclass                               3\n",
            "Name           Braund, Mr. Owen Harris\n",
            "Sex                               male\n",
            "Age                               22.0\n",
            "SibSp                                1\n",
            "Parch                                0\n",
            "Ticket                       A/5 21171\n",
            "Fare                              7.25\n",
            "Cabin                              NaN\n",
            "Embarked                             S\n",
            "Name: 0, dtype: object\n",
            "====================================================================================================\n",
            "Braund, Mr. Owen Harris\n"
          ]
        }
      ]
    },
    {
      "cell_type": "code",
      "source": [],
      "metadata": {
        "id": "6-Tf0T1KEfkb"
      },
      "id": "6-Tf0T1KEfkb",
      "execution_count": null,
      "outputs": []
    }
  ],
  "metadata": {
    "language_info": {
      "name": "python"
    },
    "colab": {
      "provenance": []
    },
    "kernelspec": {
      "name": "python3",
      "display_name": "Python 3"
    }
  },
  "nbformat": 4,
  "nbformat_minor": 5
}
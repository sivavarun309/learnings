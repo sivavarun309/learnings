{
  "cells": [
    {
      "cell_type": "code",
      "execution_count": null,
      "id": "d62c7d18",
      "metadata": {
        "id": "d62c7d18",
        "outputId": "dffa42df-3cf0-4b8b-8568-035875db3466",
        "colab": {
          "base_uri": "https://localhost:8080/"
        }
      },
      "outputs": [
        {
          "output_type": "stream",
          "name": "stdout",
          "text": [
            "Requirement already satisfied: numpy in /usr/local/lib/python3.11/dist-packages (2.0.2)\n"
          ]
        }
      ],
      "source": [
        "# installing the numpy\n",
        "!pip install numpy"
      ]
    },
    {
      "cell_type": "code",
      "source": [
        "# importing numpy\n",
        "\n",
        "import numpy as np  # package can be called using \"np\" as its alias"
      ],
      "metadata": {
        "id": "hwlpbMlVKfij"
      },
      "id": "hwlpbMlVKfij",
      "execution_count": 1,
      "outputs": []
    },
    {
      "cell_type": "code",
      "source": [
        "# list to numpy array\n",
        "\n",
        "lst = ['abc', 'def', 'ghi', 'jkl']\n",
        "\n",
        "arr = np.array(lst)\n",
        "\n",
        "print(type(arr))\n",
        "print(arr)"
      ],
      "metadata": {
        "id": "gCHUB1H2Krmi",
        "colab": {
          "base_uri": "https://localhost:8080/"
        },
        "outputId": "6f6c1ad3-7926-413d-b677-586421f6402b"
      },
      "id": "gCHUB1H2Krmi",
      "execution_count": null,
      "outputs": [
        {
          "output_type": "stream",
          "name": "stdout",
          "text": [
            "<class 'numpy.ndarray'>\n",
            "['abc' 'def' 'ghi' 'jkl']\n"
          ]
        }
      ]
    },
    {
      "cell_type": "code",
      "source": [
        "# arrays\n",
        "\n",
        "# arrays is of homogenous structure, will only contain the same datatype\n",
        "# list with different datatype elements will be converted to same type\n",
        "# same type will be determined by the possible datatype that all the elements of list can adapt\n",
        "# the shape of the array is not changeable after initialization\n",
        "\n",
        "lst = [1,2,3,4,'a','b']   # lst contains int and string data types\n",
        "\n",
        "arr = np.array(lst)       # changing to array will conver int into string because we cant cast string into int\n",
        "\n",
        "print(type(arr))\n",
        "print(arr)\n",
        "print(type(arr[1]))"
      ],
      "metadata": {
        "colab": {
          "base_uri": "https://localhost:8080/"
        },
        "id": "yV2D5hSZm-6O",
        "outputId": "d3465476-6d05-46fb-e47a-f2297d2e51ca"
      },
      "id": "yV2D5hSZm-6O",
      "execution_count": null,
      "outputs": [
        {
          "output_type": "stream",
          "name": "stdout",
          "text": [
            "<class 'numpy.ndarray'>\n",
            "['1' '2' '3' '4' 'a' 'b']\n",
            "<class 'numpy.str_'>\n"
          ]
        }
      ]
    },
    {
      "cell_type": "code",
      "source": [
        "# numpy.array()\n",
        "\n",
        "# numpy.array can create a array from list or tuple\n",
        "# numpy.array will call the __array__() method in the class for the user defiend objects\n",
        "# if we create __array__() in our class, then when calling numpy.array(ourobject) it will call the method __array__() of our object\n",
        "# list and tuple doesn't have __array__() method but numpy.array() internally handle list and tuple to give array"
      ],
      "metadata": {
        "id": "bl-81EhF_zjd"
      },
      "id": "bl-81EhF_zjd",
      "execution_count": null,
      "outputs": []
    },
    {
      "cell_type": "code",
      "source": [
        "# ndarray.tolist()\n",
        "\n",
        "# is used to convert the ndarray to python list\n",
        "print(type(arr))\n",
        "print(arr)\n",
        "lst = arr.tolist()\n",
        "print()\n",
        "print(type(lst))\n",
        "print(lst)"
      ],
      "metadata": {
        "id": "6HhzDaKa4mnl",
        "outputId": "f45ef9d0-377d-47aa-ea96-9f5d78d3ef90",
        "colab": {
          "base_uri": "https://localhost:8080/"
        }
      },
      "id": "6HhzDaKa4mnl",
      "execution_count": null,
      "outputs": [
        {
          "output_type": "stream",
          "name": "stdout",
          "text": [
            "<class 'numpy.ndarray'>\n",
            "['1' '2' '3' '4' 'a' 'b']\n",
            "\n",
            "<class 'list'>\n",
            "['1', '2', '3', '4', 'a', 'b']\n"
          ]
        }
      ]
    },
    {
      "cell_type": "code",
      "source": [
        "# datatype\n",
        "\n",
        "# array has multiple datatype even for a integer datatype\n",
        "\n",
        "lst = [1,2,3, 4, 5]\n",
        "\n",
        "arr = np.array(lst)\n",
        "\n",
        "print(arr)\n",
        "print(type(arr[1]))\n",
        "\n",
        "# We can change the datatype of element from int64 to other datatype like int8\n",
        "print(\"Converting int64 datatype into int8 datatype\")\n",
        "\n",
        "arr1 = np.array(lst, dtype = np.int8)\n",
        "\n",
        "print(arr1)\n",
        "print(type(arr1[1]))\n",
        "\n",
        "arr2 = np.array(lst, dtype = np.float64)\n",
        "\n",
        "print(arr2)\n",
        "print(type(arr2[1]))"
      ],
      "metadata": {
        "colab": {
          "base_uri": "https://localhost:8080/"
        },
        "id": "w3Yp8t1mn_EJ",
        "outputId": "ba8c3cbd-6008-43ec-99ac-4f6450456589"
      },
      "id": "w3Yp8t1mn_EJ",
      "execution_count": null,
      "outputs": [
        {
          "output_type": "stream",
          "name": "stdout",
          "text": [
            "[1 2 3 4 5]\n",
            "<class 'numpy.int64'>\n",
            "Converting int64 datatype into int8 datatype\n",
            "[1 2 3 4 5]\n",
            "<class 'numpy.int8'>\n",
            "[1. 2. 3. 4. 5.]\n",
            "<class 'numpy.float64'>\n"
          ]
        }
      ]
    },
    {
      "cell_type": "code",
      "source": [
        "# numpy.arange(start, stop, step)\n",
        "\n",
        "# similar to range() function\n",
        "# returns ndarray type\n",
        "\n",
        "arr = np.arange(1,10,2)\n",
        "\n",
        "print(arr)\n",
        "print(type(arr))"
      ],
      "metadata": {
        "colab": {
          "base_uri": "https://localhost:8080/"
        },
        "id": "qkGtSUatpfD_",
        "outputId": "0a988227-6ea6-4b59-c7ab-122982260057"
      },
      "id": "qkGtSUatpfD_",
      "execution_count": null,
      "outputs": [
        {
          "output_type": "stream",
          "name": "stdout",
          "text": [
            "[1 3 5 7 9]\n",
            "<class 'numpy.ndarray'>\n"
          ]
        }
      ]
    },
    {
      "cell_type": "code",
      "source": [
        "# np.linspace(start, stop, num = x)\n",
        "\n",
        "# linspace will give x number of equally spaced numbers between start and stop point\n",
        "# returns the ndarray of float elements\n",
        "\n",
        "arr = np.linspace(1,10,5)\n",
        "print(arr)\n",
        "\n",
        "print(arr[1]-arr[0])\n",
        "print(arr[2]-arr[1])\n",
        "print(arr[3]-arr[2])\n",
        "print(arr[4]-arr[3])\n"
      ],
      "metadata": {
        "colab": {
          "base_uri": "https://localhost:8080/"
        },
        "id": "k9mVMrJHqSNH",
        "outputId": "289749a0-103d-4baa-a82f-2f08e373ef4f"
      },
      "id": "k9mVMrJHqSNH",
      "execution_count": null,
      "outputs": [
        {
          "output_type": "stream",
          "name": "stdout",
          "text": [
            "[ 1.    3.25  5.5   7.75 10.  ]\n",
            "2.25\n",
            "2.25\n",
            "2.25\n",
            "2.25\n"
          ]
        }
      ]
    },
    {
      "cell_type": "code",
      "source": [
        "# 1 DIMENSIONAL ARRAY OR LIST\n",
        "\n",
        "# [1, 2, 3, 4, 5]\n",
        "\n",
        "# 2 DIMENSIONAL ARRAY OR LIST\n",
        "\n",
        "# [[1, 2, 3], [4, 5, 6], [7, 8, 9]]        OR     [[1, 2, 3],\n",
        "#                                                  [4, 5, 6],\n",
        "#                                                  [7, 8, 9]]\n",
        "\n",
        "# 3 DIMENSION ARRAY OR LIST\n",
        "\n",
        "# [[[1, 2, 3], [4,5]],[6,7,8]]  OR     [[[1, 2, 3],\n",
        "#                                         [4,5]],\n",
        "#                                         [6, 7, 8]]\n"
      ],
      "metadata": {
        "id": "ZANVJDoosIGR"
      },
      "id": "ZANVJDoosIGR",
      "execution_count": null,
      "outputs": []
    },
    {
      "cell_type": "code",
      "source": [
        "# numpy.zeros(shape, dtype)\n",
        "\n",
        "# this function will create a ndarray of zeros in dimension shape of shape paramenter\n",
        "# the elements will be in float by default\n",
        "\n",
        "print(np.zeros(5))\n",
        "print()\n",
        "dim3 = np.zeros((4,3,2))\n",
        "print(dim3)\n",
        "\n",
        "print()\n",
        "print(\"DIMENSION\",dim3.ndim)   # used to find the dimension of the ndarray\n",
        "print(\"SHAPE    \",dim3.shape)  # used to find the shape of the ndarray"
      ],
      "metadata": {
        "colab": {
          "base_uri": "https://localhost:8080/"
        },
        "id": "kDvgQU2brMqh",
        "outputId": "9395739e-bfa1-442d-e68c-211c7694a07a"
      },
      "id": "kDvgQU2brMqh",
      "execution_count": null,
      "outputs": [
        {
          "output_type": "stream",
          "name": "stdout",
          "text": [
            "[0. 0. 0. 0. 0.]\n",
            "\n",
            "[[[0. 0.]\n",
            "  [0. 0.]\n",
            "  [0. 0.]]\n",
            "\n",
            " [[0. 0.]\n",
            "  [0. 0.]\n",
            "  [0. 0.]]\n",
            "\n",
            " [[0. 0.]\n",
            "  [0. 0.]\n",
            "  [0. 0.]]\n",
            "\n",
            " [[0. 0.]\n",
            "  [0. 0.]\n",
            "  [0. 0.]]]\n",
            "\n",
            "DIMENSION 3\n",
            "SHAPE     (4, 3, 2)\n"
          ]
        }
      ]
    },
    {
      "cell_type": "code",
      "source": [
        "# numpy.ones(shape, dtype)\n",
        "\n",
        "# this function will create a ndarray of one in dimension of shape paramenter\n",
        "# the elements will be in float by default\n",
        "\n",
        "print(np.ones(5))\n",
        "print()\n",
        "dim3 = np.ones((4,3,2), dtype = np.int8)\n",
        "print(dim3)\n",
        "\n",
        "print()\n",
        "print(\"DIMENSION\",dim3.ndim)   # used to find the dimension of the ndarray\n",
        "print(\"SHAPE    \",dim3.shape)  # used to find the shape of the ndarray"
      ],
      "metadata": {
        "colab": {
          "base_uri": "https://localhost:8080/"
        },
        "id": "ZQ6QiBl5tmq5",
        "outputId": "a099123b-b8da-4673-9cd6-baba4933454b"
      },
      "id": "ZQ6QiBl5tmq5",
      "execution_count": null,
      "outputs": [
        {
          "output_type": "stream",
          "name": "stdout",
          "text": [
            "[1. 1. 1. 1. 1.]\n",
            "\n",
            "[[[1 1]\n",
            "  [1 1]\n",
            "  [1 1]]\n",
            "\n",
            " [[1 1]\n",
            "  [1 1]\n",
            "  [1 1]]\n",
            "\n",
            " [[1 1]\n",
            "  [1 1]\n",
            "  [1 1]]\n",
            "\n",
            " [[1 1]\n",
            "  [1 1]\n",
            "  [1 1]]]\n",
            "\n",
            "DIMENSION 3\n",
            "SHAPE     (4, 3, 2)\n"
          ]
        }
      ]
    },
    {
      "cell_type": "code",
      "source": [
        "# numpy.full(shape, fill_value, dtype)\n",
        "\n",
        "# this function will create a ndarray of fill_value parameter in dimension of shape paramenter\n",
        "\n",
        "print(np.full(5, 10.0))\n",
        "print()\n",
        "dim3 = np.full((4,3,2), 7, dtype = np.int8)\n",
        "print(dim3)\n",
        "\n",
        "print()\n",
        "print(\"DIMENSION\",dim3.ndim)   # used to find the dimension of the ndarray\n",
        "print(\"SHAPE    \",dim3.shape)  # used to find the shape of the ndarray"
      ],
      "metadata": {
        "id": "gI4-4vWfv73V",
        "outputId": "9287be19-b7d2-4623-98d9-650eca1a283a",
        "colab": {
          "base_uri": "https://localhost:8080/"
        }
      },
      "id": "gI4-4vWfv73V",
      "execution_count": null,
      "outputs": [
        {
          "output_type": "stream",
          "name": "stdout",
          "text": [
            "[10. 10. 10. 10. 10.]\n",
            "\n",
            "[[[7 7]\n",
            "  [7 7]\n",
            "  [7 7]]\n",
            "\n",
            " [[7 7]\n",
            "  [7 7]\n",
            "  [7 7]]\n",
            "\n",
            " [[7 7]\n",
            "  [7 7]\n",
            "  [7 7]]\n",
            "\n",
            " [[7 7]\n",
            "  [7 7]\n",
            "  [7 7]]]\n",
            "\n",
            "DIMENSION 3\n",
            "SHAPE     (4, 3, 2)\n"
          ]
        }
      ]
    },
    {
      "cell_type": "code",
      "source": [
        "# identity matrix\n",
        "\n",
        "# diagonals with one\n",
        "\n",
        "#  1 0 0 0\n",
        "#  0 1 0 0\n",
        "#  0 0 1 0\n",
        "#  0 0 0 1"
      ],
      "metadata": {
        "id": "VELIjl8ZxOAI"
      },
      "id": "VELIjl8ZxOAI",
      "execution_count": null,
      "outputs": []
    },
    {
      "cell_type": "code",
      "source": [
        "# numpy.eye(n, m, k) -> n - rows, m - columns, k - diagonal index\n",
        "\n",
        "# creates the identity matrix of size dim\n",
        "# will creates the n X n if only one parameter is given\n",
        "# k will define the start of the diagonal of 1, positive value will give upper diagonal and negative will give lower diagonal\n",
        "# default element datatype is float\n",
        "\n",
        "print(np.eye(4))\n",
        "print()\n",
        "print(np.eye(3,4))\n",
        "print()\n",
        "print(np.eye(4, 4, -2))"
      ],
      "metadata": {
        "id": "IQKlYkQlx6tx",
        "outputId": "47912bed-ce42-4707-8e45-b75c42e922aa",
        "colab": {
          "base_uri": "https://localhost:8080/"
        }
      },
      "id": "IQKlYkQlx6tx",
      "execution_count": null,
      "outputs": [
        {
          "output_type": "stream",
          "name": "stdout",
          "text": [
            "[[1. 0. 0. 0.]\n",
            " [0. 1. 0. 0.]\n",
            " [0. 0. 1. 0.]\n",
            " [0. 0. 0. 1.]]\n",
            "\n",
            "[[1. 0. 0. 0.]\n",
            " [0. 1. 0. 0.]\n",
            " [0. 0. 1. 0.]]\n",
            "\n",
            "[[0. 0. 0. 0.]\n",
            " [0. 0. 0. 0.]\n",
            " [1. 0. 0. 0.]\n",
            " [0. 1. 0. 0.]]\n"
          ]
        }
      ]
    },
    {
      "cell_type": "code",
      "source": [
        "# numpy.empty(shape)\n",
        "\n",
        "# provides the empty ndarray of dimension shape\n",
        "# here the ndarray will only be allocate with difined shape of array where only the memory for the array is allcated\n",
        "# it will not initialize with the elements or anything\n",
        "# the values of the array that are displayed are garbage values which is already present in the allocated memory\n",
        "\n",
        "print(np.empty(5))\n",
        "print()\n",
        "dim3 = np.empty((2,3,4))\n",
        "print(dim3)\n",
        "print()\n",
        "dim2 = np.empty((2,3) ,dtype=int)\n",
        "print(dim2)"
      ],
      "metadata": {
        "id": "FPV0Ikxe0s1-",
        "outputId": "18bcb4fd-69b7-4d1b-c776-9f9f8058942c",
        "colab": {
          "base_uri": "https://localhost:8080/"
        }
      },
      "id": "FPV0Ikxe0s1-",
      "execution_count": null,
      "outputs": [
        {
          "output_type": "stream",
          "name": "stdout",
          "text": [
            "[10. 10. 10. 10. 10.]\n",
            "\n",
            "[[[5.e-324 5.e-324 5.e-324 5.e-324]\n",
            "  [5.e-324 5.e-324 5.e-324 5.e-324]\n",
            "  [5.e-324 5.e-324 5.e-324 5.e-324]]\n",
            "\n",
            " [[5.e-324 5.e-324 5.e-324 5.e-324]\n",
            "  [5.e-324 5.e-324 5.e-324 5.e-324]\n",
            "  [5.e-324 5.e-324 5.e-324 5.e-324]]]\n",
            "\n",
            "[[0 0 0]\n",
            " [0 0 0]]\n"
          ]
        }
      ]
    },
    {
      "cell_type": "code",
      "source": [
        "# numpy.randam.rand(shape)\n",
        "\n",
        "# provides the random values of dimension shape\n",
        "# the random value will be between 0 and 1\n",
        "\n",
        "print(np.random.rand(5, ))\n",
        "print()\n",
        "dim3 = np.random.rand(2,3,4)\n",
        "print(dim3)\n",
        "\n",
        "# we can change by mulitplying with 10s or 100s\n",
        "print()\n",
        "print(np.random.rand(5)*10)"
      ],
      "metadata": {
        "id": "Ev3reUpm3g1a",
        "outputId": "b0e95239-da83-41ac-f21e-7ea4297b9d5c",
        "colab": {
          "base_uri": "https://localhost:8080/"
        }
      },
      "id": "Ev3reUpm3g1a",
      "execution_count": null,
      "outputs": [
        {
          "output_type": "stream",
          "name": "stdout",
          "text": [
            "[0.16476794 0.57659461 0.74658407 0.66209116 0.32676826]\n",
            "\n",
            "[[[0.87921456 0.7575868  0.78685271 0.26513792]\n",
            "  [0.22991996 0.62977926 0.2015153  0.36951759]\n",
            "  [0.76815321 0.13665891 0.19017954 0.41239044]]\n",
            "\n",
            " [[0.39000125 0.08928057 0.21380692 0.29387365]\n",
            "  [0.4825293  0.80488787 0.616539   0.42163625]\n",
            "  [0.07195883 0.04026651 0.22788443 0.13324636]]]\n",
            "\n",
            "[9.77559475 4.41424299 8.7234431  8.54589813 4.27964493]\n"
          ]
        }
      ]
    },
    {
      "cell_type": "code",
      "source": [
        "# ndarray attributes\n",
        "\n",
        "arr = np.array([[1, 2, 3], [4, 5, 6]])\n",
        "print(arr)\n",
        "\n",
        "print(\"SHAPE   \",arr.shape)  # gives the shape of the array\n",
        "print(\"DIM     \",arr.ndim)   # gives the dimension\n",
        "print(\"DTYPE   \",arr.dtype)  # gives the datatype of elements of array\n",
        "print(\"SIZE    \",arr.size)   # gives the no. of elements in array\n",
        "print(\"ITEMSIZE\",arr.itemsize) # gives the bytes size of a single element of array\n",
        "print(\"TOTAL BYTES\",arr.nbytes)  # gives the bytes size of whole array (size x itemsize)\n",
        "print(\"TRANSPOSE\\n\",arr.T)   # gives the transpose of array (transpose - rows are converted to columns and columns are converted into rows)"
      ],
      "metadata": {
        "id": "45zgi1wW9OPp",
        "outputId": "28335cc3-5e09-421a-fc4d-f1af90aeb723",
        "colab": {
          "base_uri": "https://localhost:8080/"
        }
      },
      "id": "45zgi1wW9OPp",
      "execution_count": null,
      "outputs": [
        {
          "output_type": "stream",
          "name": "stdout",
          "text": [
            "[[1 2 3]\n",
            " [4 5 6]]\n",
            "SHAPE    (2, 3)\n",
            "DIM      2\n",
            "DTYPE    int64\n",
            "SIZE     6\n",
            "ITEMSIZE 8\n",
            "TOTAL BYTES 48\n",
            "TRANSPOSE\n",
            " [[1 4]\n",
            " [2 5]\n",
            " [3 6]]\n"
          ]
        }
      ]
    },
    {
      "cell_type": "code",
      "source": [
        "# indexing and slicing\n",
        "\n",
        "# this works same as the python list\n",
        "\n",
        "arr = np.array([10, 20, 30, 40, 50, 60])\n",
        "\n",
        "print(arr[1:4])\n",
        "print(arr[1:4:2])\n",
        "print(arr[::-1])"
      ],
      "metadata": {
        "id": "jwjuMMfFBaV3",
        "outputId": "8b325c5d-1a40-4d5a-d65a-e29df7319ce9",
        "colab": {
          "base_uri": "https://localhost:8080/"
        }
      },
      "id": "jwjuMMfFBaV3",
      "execution_count": null,
      "outputs": [
        {
          "output_type": "stream",
          "name": "stdout",
          "text": [
            "[20 30 40]\n",
            "[20 40]\n",
            "[60 50 40 30 20 10]\n"
          ]
        }
      ]
    },
    {
      "cell_type": "code",
      "source": [
        "# with 2 dimensional array\n",
        "\n",
        "arr2 = np.array([[1,2,3],[4,5,6],[7,8,9]])\n",
        "print(arr2)\n",
        "print()\n",
        "print(arr2[1,2])\n",
        "print(arr2[:,2])\n",
        "print(arr2[:2,1:])\n",
        "print()\n",
        "print(arr2[::-1,::-1])"
      ],
      "metadata": {
        "id": "kVYcKcBsByEo",
        "outputId": "99c10299-343e-4f49-8674-a1754e0cc9de",
        "colab": {
          "base_uri": "https://localhost:8080/"
        }
      },
      "id": "kVYcKcBsByEo",
      "execution_count": null,
      "outputs": [
        {
          "output_type": "stream",
          "name": "stdout",
          "text": [
            "[[1 2 3]\n",
            " [4 5 6]\n",
            " [7 8 9]]\n",
            "\n",
            "6\n",
            "[3 6 9]\n",
            "[[2 3]\n",
            " [5 6]]\n",
            "\n",
            "[[9 8 7]\n",
            " [6 5 4]\n",
            " [3 2 1]]\n"
          ]
        }
      ]
    },
    {
      "cell_type": "code",
      "source": [
        "# boolean indexing\n",
        "\n",
        "arr = np.array([5, 10, 15, 20, 25])\n",
        "\n",
        "print(arr>10)       # return a list of boolean\n",
        "print(arr[arr>10])  # indexing using the condition or boolean values\n",
        "\n",
        "lst = [2,4]\n",
        "print(arr[lst])     # the element of lst is consider as index"
      ],
      "metadata": {
        "id": "vQEcmNPvC4uv",
        "outputId": "7c7205e0-9056-4ce6-cffe-9960a17ec890",
        "colab": {
          "base_uri": "https://localhost:8080/"
        }
      },
      "id": "vQEcmNPvC4uv",
      "execution_count": null,
      "outputs": [
        {
          "output_type": "stream",
          "name": "stdout",
          "text": [
            "[False False  True  True  True]\n",
            "[15 20 25]\n",
            "[15 25]\n"
          ]
        }
      ]
    },
    {
      "cell_type": "code",
      "source": [
        "# numpy.where(condition)\n",
        "\n",
        "# gives the index of the element where the condition iside the where function is satisfied\n",
        "\n",
        "arr = np.array([5, 10, 15, 20, 25])\n",
        "ind = np.where(arr>10)\n",
        "print(\"INDEX WHERE arr>10 \", ind)\n",
        "print()\n",
        "print(arr[ind])   # getting the values using the index which is accuried by where() function"
      ],
      "metadata": {
        "id": "WC4-NxRnD-Oh",
        "outputId": "1485fe3d-c1f8-4172-b00d-b8b9a4e0d868",
        "colab": {
          "base_uri": "https://localhost:8080/"
        }
      },
      "id": "WC4-NxRnD-Oh",
      "execution_count": null,
      "outputs": [
        {
          "output_type": "stream",
          "name": "stdout",
          "text": [
            "INDEX WHERE arr>10  (array([2, 3, 4]),)\n",
            "\n",
            "[15 20 25]\n"
          ]
        }
      ]
    },
    {
      "cell_type": "code",
      "source": [
        "# array resizing and reshaping"
      ],
      "metadata": {
        "id": "-j20QA-k5dS2"
      },
      "id": "-j20QA-k5dS2",
      "execution_count": null,
      "outputs": []
    },
    {
      "cell_type": "code",
      "source": [
        "# ndarray.reshape()\n",
        "\n",
        "# used to reshape the list for example changing the dimension of the array\n",
        "\n",
        "arr = np.array([1, 2, 3, 4, 5, 6, 7, 8])\n",
        "\n",
        "print(arr.size)\n",
        "\n",
        "new_arr = arr.reshape(4,2)\n",
        "print()\n",
        "print(new_arr)"
      ],
      "metadata": {
        "colab": {
          "base_uri": "https://localhost:8080/"
        },
        "id": "-8f0Ou2o5okk",
        "outputId": "2749ec8d-ff68-4f47-b6b3-2f9bdbf640f6"
      },
      "id": "-8f0Ou2o5okk",
      "execution_count": null,
      "outputs": [
        {
          "output_type": "stream",
          "name": "stdout",
          "text": [
            "8\n",
            "\n",
            "[[1 2]\n",
            " [3 4]\n",
            " [5 6]\n",
            " [7 8]]\n"
          ]
        }
      ]
    },
    {
      "cell_type": "code",
      "source": [
        "# reshaping without providing all the shape values\n",
        "# if mentioned -1, it will auto create the shape with respect to other given parameter\n",
        "# eg: only row dim can be given and the reshape will auto create list if -1 is mentioned in 2nd argument\n",
        "\n",
        "new_arr = arr.reshape(2, -1)\n",
        "print(new_arr)\n",
        "\n",
        "print(\"_______________\\n\")\n",
        "\n",
        "print(arr.reshape(2, 2, -1))\n",
        "\n",
        "print(\"_______________\\n\")\n",
        "\n",
        "print(arr.reshape(-1, 2))"
      ],
      "metadata": {
        "colab": {
          "base_uri": "https://localhost:8080/"
        },
        "id": "0cbzwF5C6kwZ",
        "outputId": "44795236-e22f-40d1-8563-2a4118653d37"
      },
      "id": "0cbzwF5C6kwZ",
      "execution_count": null,
      "outputs": [
        {
          "output_type": "stream",
          "name": "stdout",
          "text": [
            "[[1 2 3 4]\n",
            " [5 6 7 8]]\n",
            "_______________\n",
            "\n",
            "[[[1 2]\n",
            "  [3 4]]\n",
            "\n",
            " [[5 6]\n",
            "  [7 8]]]\n",
            "_______________\n",
            "\n",
            "[[1 2]\n",
            " [3 4]\n",
            " [5 6]\n",
            " [7 8]]\n"
          ]
        }
      ]
    },
    {
      "cell_type": "code",
      "source": [
        "# ndarray.flatten()\n",
        "\n",
        "# will convert any dimensional into a single dimensional array\n",
        "\n",
        "arr = np.array([1, 2, 3, 4, 5, 6, 7, 8])\n",
        "arr_3 = arr.reshape(-1, 2, 2)\n",
        "\n",
        "print(arr_3)\n",
        "\n",
        "print(\"_______________\\n\")\n",
        "\n",
        "arr_1 = arr_3.flatten()\n",
        "print(arr_1)"
      ],
      "metadata": {
        "colab": {
          "base_uri": "https://localhost:8080/"
        },
        "id": "6jAuKaD38owO",
        "outputId": "05d18022-5e7c-482b-f389-3c005ca8e40f"
      },
      "id": "6jAuKaD38owO",
      "execution_count": null,
      "outputs": [
        {
          "output_type": "stream",
          "name": "stdout",
          "text": [
            "[[[1 2]\n",
            "  [3 4]]\n",
            "\n",
            " [[5 6]\n",
            "  [7 8]]]\n",
            "_______________\n",
            "\n",
            "[1 2 3 4 5 6 7 8]\n"
          ]
        }
      ]
    },
    {
      "cell_type": "code",
      "source": [
        "# ndarray.resize(dim) -> returns None (directly changes the arr)\n",
        "\n",
        "# resize will change the dimension of the arr just like reshape\n",
        "# but resize will not through error if the no. of element and the new dimensional of the arr is not match\n",
        "# resize will add 0 for if the given dimension size is larger than the no of elements\n",
        "# and will truncate the elements if the dimension is smaller than the no. of elements\n",
        "\n",
        "arr = np.array([1, 2, 3, 4, 5, 6, 7, 8])\n",
        "arr.resize(4,3)\n",
        "\n",
        "print(arr)\n",
        "\n",
        "print(\"_______________\\n\")\n",
        "\n",
        "arr = np.array([1, 2, 3, 4, 5, 6, 7, 8])\n",
        "arr.resize(2, 2)\n",
        "print(arr)\n"
      ],
      "metadata": {
        "colab": {
          "base_uri": "https://localhost:8080/"
        },
        "id": "WeJGrswA9hOr",
        "outputId": "ee85d41c-cbe8-42c8-c2b3-7bac3c833513"
      },
      "id": "WeJGrswA9hOr",
      "execution_count": null,
      "outputs": [
        {
          "output_type": "stream",
          "name": "stdout",
          "text": [
            "[[1 2 3]\n",
            " [4 5 6]\n",
            " [7 8 0]\n",
            " [0 0 0]]\n",
            "_______________\n",
            "\n",
            "[[1 2]\n",
            " [3 4]]\n"
          ]
        }
      ]
    },
    {
      "cell_type": "code",
      "source": [
        "# numpy.squeeze(arr, axis:None or int or tuple of int)\n",
        "\n",
        "# used to degrade the dimension of the multi dimensional array\n",
        "# remove axes of length one from a\n",
        "# axes or axis here refers to the level of dimension or shape ie., 3 dim array has 3 axis likewise 2 dim array has 2 axis\n",
        "# squeeze will remove all the axis or the level of dimension, if the particular level or axis is of length 1\n",
        "\n",
        "arr = np.array([[[1],[2],[3],[4],[5],[6]],[[1],[2],[3],[4],[5],[6]]])\n",
        "\n",
        "print(\"OLD SHAPE   \",arr.shape)       # shape = (2,6,1)  hence the axis of 0 = 2, axis of 1 = 6, axis of 2 = 1\n",
        "\n",
        "# squeeze will remove the levels if the length is 1, i.e,. the above arr will be squeezed into of shape = (2,6)\n",
        "# we can specify the level to squeeze by providing the axis, in above case axis = 2. multiple access can be squeezed by passing tuple to axis parameter\n",
        "# if the axis is of not length then the squeeze will through error\n",
        "\n",
        "print(\"_______________\\n\")\n",
        "\n",
        "squeezed = np.squeeze(arr, axis=2)  # squeezing with respect to axis 1, because only axis 1 has the length of 1 elements\n",
        "\n",
        "print(\"NEW SHAPE   \",squeezed.shape)\n",
        "print(squeezed)"
      ],
      "metadata": {
        "colab": {
          "base_uri": "https://localhost:8080/"
        },
        "id": "pQJrDODk-j_n",
        "outputId": "edfe3c50-ec65-4b99-b4a5-a0d158a50a12"
      },
      "id": "pQJrDODk-j_n",
      "execution_count": null,
      "outputs": [
        {
          "output_type": "stream",
          "name": "stdout",
          "text": [
            "OLD SHAPE    (2, 6, 1)\n",
            "_______________\n",
            "\n",
            "NEW SHAPE    (2, 6)\n",
            "[[1 2 3 4 5 6]\n",
            " [1 2 3 4 5 6]]\n"
          ]
        }
      ]
    },
    {
      "cell_type": "code",
      "source": [
        "# numpy.sum(arr, axis)\n",
        "\n",
        "# gives sum of array elements for the given axis\n",
        "\n",
        "arr = np.array([[[1, 2, 3], [4, 5, 6]],[[1, 2, 3], [4, 5, 6]]])\n",
        "\n",
        "print(arr.shape)\n",
        "\n",
        "print(np.sum(arr))\n",
        "print(np.sum(arr, axis=0))\n",
        "print(\"_______________\\n\")\n",
        "print(np.sum(arr, axis=1))\n",
        "print(\"_______________\\n\")\n",
        "print(np.sum(arr, axis=2))\n",
        "print(\"_______________\\n\")\n",
        "print(arr)"
      ],
      "metadata": {
        "colab": {
          "base_uri": "https://localhost:8080/"
        },
        "id": "KCIY5ok1GXUg",
        "outputId": "991dee26-03ab-4015-fe15-a4e1abac682b"
      },
      "id": "KCIY5ok1GXUg",
      "execution_count": null,
      "outputs": [
        {
          "output_type": "stream",
          "name": "stdout",
          "text": [
            "(2, 2, 3)\n",
            "42\n",
            "[[ 2  4  6]\n",
            " [ 8 10 12]]\n",
            "_______________\n",
            "\n",
            "[[5 7 9]\n",
            " [5 7 9]]\n",
            "_______________\n",
            "\n",
            "[[ 6 15]\n",
            " [ 6 15]]\n",
            "_______________\n",
            "\n",
            "[[[1 2 3]\n",
            "  [4 5 6]]\n",
            "\n",
            " [[1 2 3]\n",
            "  [4 5 6]]]\n"
          ]
        }
      ]
    },
    {
      "cell_type": "code",
      "source": [
        "# for greater understanding of axis\n",
        "\n",
        "# shape = (axis_1, axis_2, axis_3)\n",
        "# shape = (z, y, x)\n",
        "\n",
        "# the axis x(0) will always starts from right and y moves to left in the ndarray.shape"
      ],
      "metadata": {
        "id": "hAqb9hKQKzwg"
      },
      "id": "hAqb9hKQKzwg",
      "execution_count": null,
      "outputs": []
    },
    {
      "cell_type": "code",
      "source": [
        "# numpy math operation\n",
        "\n",
        "# numpy is capable of performing vectorised math operation\n",
        "\n",
        "lst = [1,2,3]\n",
        "lst1 = [4,5,6]\n",
        "\n",
        "print(\"python list addition   \",lst+lst1)\n",
        "\n",
        "arr = np.array([1,2,3])\n",
        "arr1 = np.array([4,5,6])\n",
        "\n",
        "print(\"numpy array addition   \",arr+arr1)    # can perform the vector addition"
      ],
      "metadata": {
        "colab": {
          "base_uri": "https://localhost:8080/"
        },
        "id": "sdTnad6SLTgS",
        "outputId": "c0198f64-c316-4abd-e256-a1d29f1760b3"
      },
      "id": "sdTnad6SLTgS",
      "execution_count": null,
      "outputs": [
        {
          "output_type": "stream",
          "name": "stdout",
          "text": [
            "python list addition    [1, 2, 3, 4, 5, 6]\n",
            "numpy array addition    [5 7 9]\n"
          ]
        }
      ]
    },
    {
      "cell_type": "code",
      "source": [
        "print(\"Numpy array Subtraction:  \", arr1-arr)"
      ],
      "metadata": {
        "colab": {
          "base_uri": "https://localhost:8080/"
        },
        "id": "-hPgio5jQCKT",
        "outputId": "418efd07-3360-4c85-ead2-8ac19acae2fc"
      },
      "id": "-hPgio5jQCKT",
      "execution_count": null,
      "outputs": [
        {
          "output_type": "stream",
          "name": "stdout",
          "text": [
            "Numpy array Subtraction:   [3 3 3]\n"
          ]
        }
      ]
    },
    {
      "cell_type": "code",
      "source": [
        "# broadcasting rules\n",
        "\n",
        "# w.k.t for matrix addition and substraction both the matix dimension has to be same  (shape(3,4) added with shape(3,4))\n",
        "\n",
        "# but numpy can perform addition and multiplication even if the above contidion is not satisfied\n",
        "# numpy can perform math operation if the above condition or if their shapes are compatible via broadcasting.\n",
        "# numpy performs broadcasting on one of the matrix to match the other matrix shape with the above condition\n",
        "\n",
        "# Two dimensions are compatible under the broadcasting rule when:\n",
        "#   They are equal, or\n",
        "#   One of them is 1\n",
        "\n",
        "# if any of the either matirx's dimension is 1 then numpy will replicate other elements to match the other matrix\n",
        "# eg\n",
        "# ShapeA = (3,4) and ShapeB = (1,4)  here numpy ShapeB is broadcasted to ShapeB = (3,4) by copy the elements to other rows\n",
        "# ShapeA = (6,4) and ShapeB = (2,4)  here none of the matrix has 1 in the shape so the adition will throw ValueError\n",
        "# ShapeA = (3,1,5) and ShapeB = (1,3,1) here both A and B can be broadcasted to match ShapeA = (3,3,5) and ShapeB = (3,3,5)\n",
        "\n",
        "# braodcast rule will be applicable for all the operations like\n",
        "#   arithematic operation (+, -, *, /, //, %, **)  | note: '*' won't work like actual matrix multiplication\n",
        "#   comparision operation (==, !=, <, >, <=, >=)\n",
        "#   logical operation (np.logical_and, np.logical_or, np.logical_not, etc.)\n",
        "#   bitwise operation (&, |, ^, ~)\n",
        "#   universal operation (np.sin, np.exp, np.sqrt, np.maximum, etc.)\n",
        "\n",
        "# Operations that do NOT use broadcasting:\n",
        "# Matrix multiplication\n",
        "#   np.dot, @, np.matmul follow matrix multiplication rules, not broadcasting.\n",
        "#   However, np.matmul does support broadcasting of batch dimensions.\n",
        "# Reduction operations\n",
        "#   Like np.sum, np.mean, np.max, etc., operate along specified axes and don’t broadcast across arrays."
      ],
      "metadata": {
        "id": "NB5-fr_KTGjx"
      },
      "id": "NB5-fr_KTGjx",
      "execution_count": null,
      "outputs": []
    },
    {
      "cell_type": "code",
      "source": [
        "lst = [[[1],[2],[3]]]\n",
        "lst1 = [4,5,6]\n",
        "\n",
        "arr = np.array(lst)\n",
        "arr1 = np.array(lst1)\n",
        "\n",
        "print(f\"Shape_arr = {arr.shape} and Shape_arr1 = {arr1.shape}\")\n",
        "\n",
        "# here shape_arr1 will be padded to make the dimension same so shape_arr will became (1,1,3)\n",
        "# now both the arrays can be broadcasted to match the other, finally shape_arr (1,3,3) and shape_arr1 will be (1,3,3)\n",
        "\n",
        "print(\"numpy array addition   \",arr+arr1)"
      ],
      "metadata": {
        "colab": {
          "base_uri": "https://localhost:8080/"
        },
        "id": "_QeAjyH8Q_IC",
        "outputId": "6b8f8d32-2e36-45cf-c3bd-aa32eb8ba1dc"
      },
      "id": "_QeAjyH8Q_IC",
      "execution_count": null,
      "outputs": [
        {
          "output_type": "stream",
          "name": "stdout",
          "text": [
            "Shape_arr = (1, 3, 1) and Shape_arr1 = (3,)\n",
            "numpy array addition    [[[5 6 7]\n",
            "  [6 7 8]\n",
            "  [7 8 9]]]\n"
          ]
        }
      ]
    },
    {
      "cell_type": "code",
      "source": [
        "# numpy array multiplication using '*' will work as matrix addition not like actual matrix multiplication where row is multiplied against columns\n",
        "# even if the row of 1st and column of the second is matched it won't work like actual matrix multiplication\n",
        "\n",
        "a = np.array([2,2,2])\n",
        "b = np.array([[4],[5],[6]])\n",
        "\n",
        "print(a*b)   # [2*4, 2*5, 2*6]"
      ],
      "metadata": {
        "id": "AbskpMlSjWH_",
        "outputId": "f93f5f40-b05a-4f9c-af4c-0e177d684d58",
        "colab": {
          "base_uri": "https://localhost:8080/"
        }
      },
      "id": "AbskpMlSjWH_",
      "execution_count": null,
      "outputs": [
        {
          "output_type": "stream",
          "name": "stdout",
          "text": [
            "[[ 8  8  8]\n",
            " [10 10 10]\n",
            " [12 12 12]]\n"
          ]
        }
      ]
    },
    {
      "cell_type": "code",
      "source": [
        "# comparison operator on numpy array\n",
        "\n",
        "a = np.array([4,7,12])\n",
        "b = np.array([5,3,20])\n",
        "\n",
        "print(a>b)\n",
        "print(a==b)\n",
        "print(a!=b)"
      ],
      "metadata": {
        "id": "qRkphid3c0gV",
        "outputId": "d2862d90-4428-4740-c095-2dc245c12f1b",
        "colab": {
          "base_uri": "https://localhost:8080/"
        }
      },
      "id": "qRkphid3c0gV",
      "execution_count": null,
      "outputs": [
        {
          "output_type": "stream",
          "name": "stdout",
          "text": [
            "[False  True False]\n",
            "[False False False]\n",
            "[ True  True  True]\n"
          ]
        }
      ]
    },
    {
      "cell_type": "code",
      "source": [
        "# logical operators on numpy array\n",
        "\n",
        "a = np.array([1,1,0]) # here we can also use [True, True, False]\n",
        "b = np.array([1,0,1])\n",
        "\n",
        "print(np.logical_and(a,b))\n",
        "print(np.logical_or(a,b))\n",
        "print(np.logical_not(a))"
      ],
      "metadata": {
        "id": "lt-gPjn1dRlB",
        "outputId": "ff903e6d-a006-4db9-851a-38c566df2833",
        "colab": {
          "base_uri": "https://localhost:8080/"
        }
      },
      "id": "lt-gPjn1dRlB",
      "execution_count": null,
      "outputs": [
        {
          "output_type": "stream",
          "name": "stdout",
          "text": [
            "[ True False False]\n",
            "[ True  True  True]\n",
            "[False False  True]\n"
          ]
        }
      ]
    },
    {
      "cell_type": "code",
      "source": [
        "# bitwise operators on numpy array\n",
        "\n",
        "a = np.array([1, 2, 3])\n",
        "b = np.array([3, 2, 1])\n",
        "\n",
        "print(a&b, np.bitwise_and(a,b))\n",
        "print(a|b, np.bitwise_or(a,b))\n",
        "print(a^b, np.bitwise_xor(a,b))\n",
        "print(~a, np.bitwise_not(a))"
      ],
      "metadata": {
        "id": "I80KkaEEdqBj",
        "outputId": "f603505c-593a-4165-c970-7e842fd8dfaf",
        "colab": {
          "base_uri": "https://localhost:8080/"
        }
      },
      "id": "I80KkaEEdqBj",
      "execution_count": null,
      "outputs": [
        {
          "output_type": "stream",
          "name": "stdout",
          "text": [
            "[1 2 1] [1 2 1]\n",
            "[3 2 3] [3 2 3]\n",
            "[2 0 2] [2 0 2]\n",
            "[-2 -3 -4] [-2 -3 -4]\n"
          ]
        }
      ]
    },
    {
      "cell_type": "code",
      "source": [
        "# common math function with numpy array\n",
        "\n",
        "a = np.array([1,2,3,4])\n",
        "\n",
        "print(np.sqrt(a))\n",
        "print(np.exp(a))\n",
        "print(np.log(a))\n",
        "print(np.sin(a))"
      ],
      "metadata": {
        "id": "sLgqjmh1eZu1",
        "outputId": "db332465-6e0f-4ecc-e50f-cd200f2c7c32",
        "colab": {
          "base_uri": "https://localhost:8080/"
        }
      },
      "id": "sLgqjmh1eZu1",
      "execution_count": null,
      "outputs": [
        {
          "output_type": "stream",
          "name": "stdout",
          "text": [
            "[1.         1.41421356 1.73205081 2.        ]\n",
            "[ 2.71828183  7.3890561  20.08553692 54.59815003]\n",
            "[0.         0.69314718 1.09861229 1.38629436]\n",
            "[ 0.84147098  0.90929743  0.14112001 -0.7568025 ]\n"
          ]
        }
      ]
    },
    {
      "cell_type": "code",
      "source": [
        "# aggregation funcition with numpy array\n",
        "\n",
        "a = np.array([[1,2,3],[4,5,6]])\n",
        "\n",
        "print(np.sum(a))\n",
        "print(np.mean(a))\n",
        "print(np.std(a))\n",
        "print(np.min(a))\n",
        "print(np.max(a))"
      ],
      "metadata": {
        "id": "twpep7_hiMRJ",
        "outputId": "cc67f3b3-a92a-4c7d-a84b-348ff9282edb",
        "colab": {
          "base_uri": "https://localhost:8080/"
        }
      },
      "id": "twpep7_hiMRJ",
      "execution_count": null,
      "outputs": [
        {
          "output_type": "stream",
          "name": "stdout",
          "text": [
            "21\n",
            "3.5\n",
            "1.707825127659933\n",
            "1\n",
            "6\n"
          ]
        }
      ]
    },
    {
      "cell_type": "code",
      "source": [
        "# matrix multiplication or dot product with numpy array\n",
        "\n",
        "# for matrix multiplication assume of matrix A of size MxN and matrix of B of size PxQ\n",
        "# condition: column of matrix A(N) and row of matrix B(P) must have to be same(N==P)\n",
        "# the resultant matrix will be of size of row of matrix A(M) and column of matrix B(Q) which is (MxQ)\n",
        "\n",
        "# A = { a11   a12       and   B = { b11  b12\n",
        "#       a21   a22 }                 b21  b22 }\n",
        "#\n",
        "# then,\n",
        "# A.B or AxB = { (a11*b11)+(a12*b21)  (a11*b12)+(a12*b22)\n",
        "#                (a21*b11)+(a22*b21)  (a21*b12)+(a22*b22)  }"
      ],
      "metadata": {
        "id": "WIBnaPthi8Eu"
      },
      "id": "WIBnaPthi8Eu",
      "execution_count": null,
      "outputs": []
    },
    {
      "cell_type": "code",
      "source": [
        "# Transopsing the numpy array\n",
        "\n",
        "a = np.array([[1, 11],[2, 12],[3, 13]])\n",
        "\n",
        "print(a)\n",
        "print(a.T)"
      ],
      "metadata": {
        "id": "S9lQbHDrpWL7",
        "outputId": "ecd74e20-5e3f-443e-ec44-1c0ae6699915",
        "colab": {
          "base_uri": "https://localhost:8080/"
        }
      },
      "id": "S9lQbHDrpWL7",
      "execution_count": null,
      "outputs": [
        {
          "output_type": "stream",
          "name": "stdout",
          "text": [
            "[[ 1 11]\n",
            " [ 2 12]\n",
            " [ 3 13]]\n",
            "[[ 1  2  3]\n",
            " [11 12 13]]\n"
          ]
        }
      ]
    },
    {
      "cell_type": "code",
      "source": [
        "# dot product\n",
        "\n",
        "# using dot product : numpy.dot(A, B) or (A @ B) or numpy.matmul()\n",
        "\n",
        "a = np.array([[1, 11],[2, 12],[3, 13]])\n",
        "b = a.T\n",
        "\n",
        "c = np.array([1,2,3])\n",
        "d = np.array([4,5,6])\n",
        "\n",
        "print(np.dot(a,b))\n",
        "print()\n",
        "print(np.dot(c,d))  # for single dimension array the numpy.dot() will automatically consider the 2nd (1,3) which single dimension matrix as (3,1) which is 2 dimensional matrix\n",
        "                    # so the column of matrix c will match with row of matrix d"
      ],
      "metadata": {
        "id": "_RDwqA69rkJG",
        "outputId": "58964ad0-e506-4765-8f41-df81eef793d2",
        "colab": {
          "base_uri": "https://localhost:8080/"
        }
      },
      "id": "_RDwqA69rkJG",
      "execution_count": null,
      "outputs": [
        {
          "output_type": "stream",
          "name": "stdout",
          "text": [
            "[[122 134 146]\n",
            " [134 148 162]\n",
            " [146 162 178]]\n",
            "\n",
            "32\n"
          ]
        }
      ]
    },
    {
      "cell_type": "code",
      "source": [
        "# dot product is a combination of simple array multiplication and sum all the element in each row i.e., sum across column\n",
        "\n",
        "c = np.array([1,2,3])\n",
        "d = np.array([4,5,6])\n",
        "\n",
        "mul = c * d   # this multiplication will not work if the broadcasting rule is not satisfied\n",
        "\n",
        "print(mul)\n",
        "\n",
        "print()\n",
        "print(np.sum(mul))"
      ],
      "metadata": {
        "id": "5CTSBrIStVCQ",
        "outputId": "c152d222-1ff7-4a2a-884b-79cb3817e0e9",
        "colab": {
          "base_uri": "https://localhost:8080/"
        }
      },
      "id": "5CTSBrIStVCQ",
      "execution_count": null,
      "outputs": [
        {
          "output_type": "stream",
          "name": "stdout",
          "text": [
            "[ 4 10 18]\n",
            "\n",
            "32\n"
          ]
        }
      ]
    },
    {
      "cell_type": "code",
      "source": [
        "# numpy.dot() vs numpy.matmul()\n",
        "\n",
        "# np.dot()\n",
        "#    Inputs: (2, 3, 4) and (2, 4, 5)\n",
        "#    Contracts:\n",
        "#    Last axis of A (4)\n",
        "#    Second-last axis of B (4)\n",
        "#    Result shape: (2, 3, 2, 5)\n",
        "#    No batch broadcasting — it performs a dot product for each pair of slices.\n",
        "\n",
        "# np.matmul()\n",
        "#    Inputs: (2, 3, 4) and (2, 4, 5)\n",
        "#    Performs matrix multiplication on the last two dimensions:\n",
        "#    (3, 4) @ (4, 5) → (3, 5)\n",
        "#    Result shape: (2, 3, 5)\n",
        "#    Supports batch broadcasting over the first dimension (2).\n",
        "#\n",
        "#    batch broadcasting over matmul()\n",
        "#      If you have arrays A and B with shapes:\n",
        "#        A.shape = (..., M, K)\n",
        "#        B.shape = (..., K, N)\n",
        "#        Then np.matmul(A, B) performs matrix multiplication on the last two dimensions (M × K and K × N) and broadcasts over the preceding dimensions (...)."
      ],
      "metadata": {
        "id": "3O1423Xkwsuz"
      },
      "id": "3O1423Xkwsuz",
      "execution_count": null,
      "outputs": []
    },
    {
      "cell_type": "code",
      "source": [
        "# numpy.matmul()\n",
        "\n",
        "#  Input A has shape (2, 4, 5):\n",
        "#   2 batches of 4×5 matrices\n",
        "\n",
        "#  Input B has shape (2, 5, 3):\n",
        "#   2 batches of 5×3 matrices\n",
        "\n",
        "#  np.matmul(A, B) performs:\n",
        "#   A[0] @ B[0] → (4×5) × (5×3) = (4×3)\n",
        "#   A[1] @ B[1] → (4×5) × (5×3) = (4×3)\n",
        "\n",
        "#  The result has shape (2, 4, 3) — one 4×3 matrix for each batch.\n",
        "\n",
        "#  if the Input A has shape (1,4,5) and Input B has shape (2,5,3)\n",
        "#  then the Input A shape (1,4,5) will be broadcasted into (2,4,5)"
      ],
      "metadata": {
        "id": "8boql22myzJi"
      },
      "id": "8boql22myzJi",
      "execution_count": null,
      "outputs": []
    },
    {
      "cell_type": "code",
      "source": [
        "print(np.matmul(c,d))"
      ],
      "metadata": {
        "id": "xpvEYm-Uulfi",
        "outputId": "99e702d1-f4f2-4dcf-f689-1eac9aba87ec",
        "colab": {
          "base_uri": "https://localhost:8080/"
        }
      },
      "id": "xpvEYm-Uulfi",
      "execution_count": null,
      "outputs": [
        {
          "output_type": "stream",
          "name": "stdout",
          "text": [
            "32\n"
          ]
        }
      ]
    },
    {
      "cell_type": "code",
      "source": [
        "# numpy.vstack((arr, arr1))\n",
        "\n",
        "# this will stack two arrays vertically\n",
        "\n",
        "a = np.array([1,2])\n",
        "b = np.array([3,4])\n",
        "\n",
        "print(np.vstack((a,b)))"
      ],
      "metadata": {
        "colab": {
          "base_uri": "https://localhost:8080/"
        },
        "id": "2re8p1L0AyTv",
        "outputId": "52c4f78d-5d7e-4226-be97-fb68b6540137"
      },
      "id": "2re8p1L0AyTv",
      "execution_count": 2,
      "outputs": [
        {
          "output_type": "stream",
          "name": "stdout",
          "text": [
            "[[1 2]\n",
            " [3 4]]\n"
          ]
        }
      ]
    },
    {
      "cell_type": "code",
      "source": [
        "# numpy.hstack((arr, arr1))\n",
        "\n",
        "# this will stack two arrays horizontally\n",
        "\n",
        "a = np.array([1,2])\n",
        "b = np.array([3,4])\n",
        "\n",
        "print(np.hstack((a,b)))"
      ],
      "metadata": {
        "colab": {
          "base_uri": "https://localhost:8080/"
        },
        "id": "lGuL6jYgBC_S",
        "outputId": "aa0665af-836e-4ffc-a223-96c3faede8ee"
      },
      "id": "lGuL6jYgBC_S",
      "execution_count": 3,
      "outputs": [
        {
          "output_type": "stream",
          "name": "stdout",
          "text": [
            "[1 2 3 4]\n"
          ]
        }
      ]
    },
    {
      "cell_type": "code",
      "source": [
        "# numpy.char.<functions>()\n",
        "\n",
        "# numpy has certain character operation which helps to work with array of string\n",
        "\n",
        "a = np.array(['hello', 'WORLD'])\n",
        "b = np.array(['_user', '666'])\n",
        "\n",
        "print(\"String Concat    :\", np.char.add(a, b))\n",
        "print(\"String Multiply  :\", np.char.multiply(a, 3))\n",
        "print(\"String Upper     :\", np.char.upper(a))\n",
        "print(\"String Lower     :\", np.char.lower(a))\n",
        "print(\"String Capitalize:\", np.char.capitalize(a))\n",
        "print(\"String Split     :\", np.char.split(a, \"e\"))\n",
        "print(\"String Replace   :\", np.char.replace(a, 'ello', 'i'))\n",
        "print(\"String Join      :\", np.char.join('-',a))\n",
        "print(\"String Join      :\", np.char.join(['-','*'],[a, b]))"
      ],
      "metadata": {
        "colab": {
          "base_uri": "https://localhost:8080/"
        },
        "id": "9ZyGOn2EB6r3",
        "outputId": "a083c348-b936-4589-b4a6-46e4f9558aa8"
      },
      "id": "9ZyGOn2EB6r3",
      "execution_count": 13,
      "outputs": [
        {
          "output_type": "stream",
          "name": "stdout",
          "text": [
            "String Concat    : ['hello_user' 'WORLD666']\n",
            "String Multiply  : ['hellohellohello' 'WORLDWORLDWORLD']\n",
            "String Upper     : ['HELLO' 'WORLD']\n",
            "String Lower     : ['hello' 'world']\n",
            "String Capitalize: ['Hello' 'World']\n",
            "String Split     : [list(['h', 'llo']) list(['WORLD'])]\n",
            "String Replace   : ['hi' 'WORLD']\n",
            "String Join      : ['h-e-l-l-o' 'W-O-R-L-D']\n",
            "String Join      : [['h-e-l-l-o' 'W*O*R*L*D']\n",
            " ['_-u-s-e-r' '6*6*6']]\n"
          ]
        }
      ]
    },
    {
      "cell_type": "code",
      "source": [
        "# numpy.char.center(arr, length, fillchar)\n",
        "\n",
        "# center will center the string where the total length is 'length' and fill the other slots of length with the 'fillchar'\n",
        "# center will padd the string at the center\n",
        "\n",
        "a = np.array(['hello', 'world'])\n",
        "\n",
        "print(np.char.center(a, 10, fillchar='*'))"
      ],
      "metadata": {
        "colab": {
          "base_uri": "https://localhost:8080/"
        },
        "id": "OAytyvr2DVI2",
        "outputId": "061629b9-8ef5-47d8-fed7-94ec249ed07b"
      },
      "id": "OAytyvr2DVI2",
      "execution_count": 5,
      "outputs": [
        {
          "output_type": "stream",
          "name": "stdout",
          "text": [
            "['**hello***' '**world***']\n"
          ]
        }
      ]
    },
    {
      "cell_type": "code",
      "source": [
        "# numpy.char.find()\n",
        "\n",
        "# used to find the character or string from the array\n",
        "\n",
        "a = np.array(['hello', 'world'])\n",
        "\n",
        "print(np.char.find(a, 'e'))"
      ],
      "metadata": {
        "colab": {
          "base_uri": "https://localhost:8080/"
        },
        "id": "QeHRB3OMFOIL",
        "outputId": "952f2813-70c2-419e-d5df-126a72d4da5b"
      },
      "id": "QeHRB3OMFOIL",
      "execution_count": 15,
      "outputs": [
        {
          "output_type": "stream",
          "name": "stdout",
          "text": [
            "[ 1 -1]\n"
          ]
        }
      ]
    },
    {
      "cell_type": "code",
      "source": [
        "# numpy.char.count()\n",
        "\n",
        "# used to count the number of character in the string of the array\n",
        "\n",
        "print(np.char.count(a, 'l'))"
      ],
      "metadata": {
        "colab": {
          "base_uri": "https://localhost:8080/"
        },
        "id": "YrzWYtaKFeFz",
        "outputId": "561f281c-dbcc-427f-c9a1-2dfbdcf63c0d"
      },
      "id": "YrzWYtaKFeFz",
      "execution_count": 19,
      "outputs": [
        {
          "output_type": "stream",
          "name": "stdout",
          "text": [
            "[2 1]\n"
          ]
        }
      ]
    },
    {
      "cell_type": "code",
      "source": [
        "# Statistical functions in numpy\n",
        "\n",
        "a = np.array([[1,2,3,4,6]])\n",
        "\n",
        "print(np.mean(a))     # mean  = average\n",
        "print(np.median(a))   # median= middle value while the array is sorted\n",
        "print(np.std(a))      # standard deviation\n",
        "print(np.var(a))      # variation\n",
        "print(np.min(a))      # minimum value\n",
        "print(np.max(a))      # maximum value\n",
        "print(np.argmax(a))   # index of maximum value\n",
        "print(np.argmin(a))   # index of minimum value\n",
        "\n",
        "# Note : this functions can also be calculated along the particular axis"
      ],
      "metadata": {
        "colab": {
          "base_uri": "https://localhost:8080/"
        },
        "id": "HVUAUvMNF2N1",
        "outputId": "c7f4654e-dab5-46f3-f455-6139393f10c8"
      },
      "id": "HVUAUvMNF2N1",
      "execution_count": 24,
      "outputs": [
        {
          "output_type": "stream",
          "name": "stdout",
          "text": [
            "3.2\n",
            "3.0\n",
            "1.7204650534085253\n",
            "2.96\n",
            "1\n",
            "6\n",
            "4\n",
            "0\n"
          ]
        }
      ]
    },
    {
      "cell_type": "code",
      "source": [
        "# percentage vs percentile\n",
        "\n",
        "# percentage - is the percentage of the single person, it doesn't depend on other values other\n",
        "# percentile - is used to defiend the no. of elements or values fall under that percentile number\n",
        "\n",
        "a = np.array([4.5, 5.7, 8.9, 9.0, 9.8])   # marks out of 10\n",
        "\n",
        "# percentage = [45%, 57%, 89%, 90%, 98%]  it depends on it own doesn't need to be a group or array\n",
        "# percentile = [4.5, 5.7] is 40 percentile of the a or marks i.e., in array 'a', [4.5, 5.7] are the elements that are fall under 40 percentile of the whole array"
      ],
      "metadata": {
        "id": "aKULbMPwHR2r"
      },
      "id": "aKULbMPwHR2r",
      "execution_count": null,
      "outputs": []
    },
    {
      "cell_type": "code",
      "source": [
        "# percentile and quantile\n",
        "\n",
        "# numpy.percentile(arr, q) == numpy.quantile(arr, q/100)  # this equation is mathematically came\n",
        "\n",
        "a = np.array([1,3,5,7,9])\n",
        "\n",
        "print(np.percentile(a, 50)) # will give the median which is the middle (50th percent of whole data)\n",
        "print(np.quantile(a, 0.5))  # quantile is the same as percentile but the 2nd argument we mention will be 0 to 1"
      ],
      "metadata": {
        "colab": {
          "base_uri": "https://localhost:8080/"
        },
        "id": "kfYBVl7eK5Ex",
        "outputId": "b21c4022-f7d8-4f1c-d986-112e94b4462d"
      },
      "id": "kfYBVl7eK5Ex",
      "execution_count": 28,
      "outputs": [
        {
          "output_type": "stream",
          "name": "stdout",
          "text": [
            "5.0\n",
            "5.0\n"
          ]
        }
      ]
    },
    {
      "cell_type": "code",
      "source": [
        "# search, sort\n",
        "\n",
        "a = np.array([1, 2, 3, 2, 5, 1, 8, 4, 6])\n",
        "\n",
        "print(\"Sorted  :\"                  , np.sort(a))\n",
        "print(\"Index in ascending manner :\", np.argsort(a))\n",
        "print(\"search :\"                   ,np.searchsorted(a, 7))  # will give the position where the order of sorted element won't change if we inserted the given value\n",
        "                                          # if a is sorted if we insert 7 at the 9th(searchsort() returned) position or index the sorted order of 'a' will not collapse\n",
        "                                          # the input array needs to be sorted to get correct value\n",
        "print(\"Search Sort : \"            , np.searchsorted(np.sort(a), 5.5))"
      ],
      "metadata": {
        "colab": {
          "base_uri": "https://localhost:8080/"
        },
        "id": "ltDWvdjKLt-g",
        "outputId": "6d66056e-8da2-4d27-89ed-2f072a021526"
      },
      "id": "ltDWvdjKLt-g",
      "execution_count": 35,
      "outputs": [
        {
          "output_type": "stream",
          "name": "stdout",
          "text": [
            "Sorted  : [1 1 2 2 3 4 5 6 8]\n",
            "Index in ascending manner : [0 5 3 1 2 7 4 8 6]\n",
            "search : 9\n",
            "Search Sort : 7\n"
          ]
        }
      ]
    },
    {
      "cell_type": "code",
      "source": [
        "# numpy.unique()\n",
        "# gives all the unique element of the given array\n",
        "\n",
        "print(np.unique(a))"
      ],
      "metadata": {
        "colab": {
          "base_uri": "https://localhost:8080/"
        },
        "id": "hNDxl-NeOjtm",
        "outputId": "0c2413b9-4c9d-4a01-8614-3c5fc8c0303d"
      },
      "id": "hNDxl-NeOjtm",
      "execution_count": 36,
      "outputs": [
        {
          "output_type": "stream",
          "name": "stdout",
          "text": [
            "[1 2 3 4 5 6 8]\n"
          ]
        }
      ]
    },
    {
      "cell_type": "code",
      "source": [
        "# numpy.bincount(arr)\n",
        "\n",
        "# it will get the max number of the array\n",
        "# and count all the number persent in the list starting from 0 to the max number of the array\n",
        "# if max = 8, the bincount will return the count of 0, 1, 2, 3, 4, 5, 6, 7, 8\n",
        "\n",
        "print(np.bincount(a))\n",
        "\n",
        "# output = [0 2 2 1 1 1 1 0 1]\n",
        "# explain= array has 0 - 0's, 2 - 1's, 2 - 3's, 1 - 4's till 0 - 7's and 1 - 8's"
      ],
      "metadata": {
        "colab": {
          "base_uri": "https://localhost:8080/"
        },
        "id": "7AH6LZRxPASH",
        "outputId": "7789817c-72ed-4557-98fb-062cefb7407e"
      },
      "id": "7AH6LZRxPASH",
      "execution_count": 37,
      "outputs": [
        {
          "output_type": "stream",
          "name": "stdout",
          "text": [
            "[0 2 2 1 1 1 1 0 1]\n"
          ]
        }
      ]
    },
    {
      "cell_type": "code",
      "source": [
        "# iteration over numpy array\n",
        "\n",
        "arr = np.arange(8).reshape(2,2,2)\n",
        "arr1 = np.arange(6).reshape(3,2)\n",
        "\n",
        "for i in arr:\n",
        "  print(i)\n",
        "\n",
        "print()\n",
        "\n",
        "for i in arr1:\n",
        "  print(i)"
      ],
      "metadata": {
        "colab": {
          "base_uri": "https://localhost:8080/"
        },
        "id": "GDa2lqZaQOyy",
        "outputId": "bd68e442-d354-4ac4-cc32-38678286bfcf"
      },
      "id": "GDa2lqZaQOyy",
      "execution_count": 38,
      "outputs": [
        {
          "output_type": "stream",
          "name": "stdout",
          "text": [
            "[[0 1]\n",
            " [2 3]]\n",
            "[[4 5]\n",
            " [6 7]]\n",
            "\n",
            "[0 1]\n",
            "[2 3]\n",
            "[4 5]\n"
          ]
        }
      ]
    },
    {
      "cell_type": "code",
      "source": [
        "# numpy.nditer(arr)\n",
        "\n",
        "# if will iter all the element one by one indefinite of the dimension\n",
        "\n",
        "for i in np.nditer(arr):\n",
        "  print(i)"
      ],
      "metadata": {
        "colab": {
          "base_uri": "https://localhost:8080/"
        },
        "id": "g2a51kIaQmiK",
        "outputId": "fee2b7cb-a7ec-4bcc-93ee-77c298eedd77"
      },
      "id": "g2a51kIaQmiK",
      "execution_count": 39,
      "outputs": [
        {
          "output_type": "stream",
          "name": "stdout",
          "text": [
            "0\n",
            "1\n",
            "2\n",
            "3\n",
            "4\n",
            "5\n",
            "6\n",
            "7\n"
          ]
        }
      ]
    },
    {
      "cell_type": "code",
      "source": [
        "# numpy.copy()\n",
        "\n",
        "# if the array is assigned to other variable there will be no new memory the new variable will also point to the original memory of array\n",
        "# it will cause the change in original array if we change or alter the new variable\n",
        "# its because dtype like list and ndarray won't create the values in new memory but just point the variable to the original values's memory\n",
        "\n",
        "# using numpy.copy() will create a copy of elements with the new memory and alloted space\n",
        "# so, it won't affect original or old array if we alter the array using new variable\n",
        "\n",
        "a = np.array([1,2,3])\n",
        "b = a\n",
        "b[0] = 100\n",
        "print(\"a :\",a)    # 'a' is changed by altering b[0]\n",
        "\n",
        "a = np.array([1,2,3])\n",
        "b = a.copy()\n",
        "b[0] = 99\n",
        "print(\"b :\",b)\n",
        "print(\"a :\",a)\n"
      ],
      "metadata": {
        "colab": {
          "base_uri": "https://localhost:8080/"
        },
        "id": "BJYbcHPJQ2gZ",
        "outputId": "561ad57c-0036-4312-d70e-41020c869d4a"
      },
      "id": "BJYbcHPJQ2gZ",
      "execution_count": 45,
      "outputs": [
        {
          "output_type": "stream",
          "name": "stdout",
          "text": [
            "a : [100   2   3]\n",
            "b : [99  2  3]\n",
            "a : [1 2 3]\n"
          ]
        }
      ]
    },
    {
      "cell_type": "code",
      "source": [
        "# ndarray.ravel()\n",
        "\n",
        "# ravel is similar to flatten() function which will convert the n dimarray into 1 dimarray\n",
        "# but ravel will share the memory of the original array, while flatten will create new memory for the object\n",
        "\n",
        "a = np.arange(6).reshape(2,3)\n",
        "print(a)\n",
        "\n",
        "rav = a.ravel()   # ravel will create a view of the original array and return as single dimensional array(memory is shared)\n",
        "                  # while flatten() will create a copy(memory doesn't shared)\n",
        "print()\n",
        "print(rav)\n",
        "rav[1] = 20\n",
        "print()\n",
        "\n",
        "print(a)"
      ],
      "metadata": {
        "id": "s9NTWhqxXO0v",
        "outputId": "50d9a68f-ad62-4c8b-c4e1-bd5a2a449cc1",
        "colab": {
          "base_uri": "https://localhost:8080/"
        }
      },
      "id": "s9NTWhqxXO0v",
      "execution_count": 63,
      "outputs": [
        {
          "output_type": "stream",
          "name": "stdout",
          "text": [
            "[[0 1 2]\n",
            " [3 4 5]]\n",
            "\n",
            "[0 1 2 3 4 5]\n",
            "\n",
            "[[ 0 20  2]\n",
            " [ 3  4  5]]\n"
          ]
        }
      ]
    },
    {
      "cell_type": "code",
      "source": [
        "# view\n",
        "\n",
        "# view is a concept of database, where the original data is slicied and stored in a new variable but the memorys of those elements are same\n",
        "\n",
        "a = np.arange(5)\n",
        "\n",
        "b = a[1:4]  # creating the view of the array\n",
        "\n",
        "print(a)\n",
        "print(b)"
      ],
      "metadata": {
        "id": "8Z752eo4aA8E",
        "outputId": "8db4a002-9dde-4c95-9ee6-e67f806a2433",
        "colab": {
          "base_uri": "https://localhost:8080/"
        }
      },
      "id": "8Z752eo4aA8E",
      "execution_count": 66,
      "outputs": [
        {
          "output_type": "stream",
          "name": "stdout",
          "text": [
            "[0 1 2 3 4]\n",
            "[1 2 3]\n"
          ]
        }
      ]
    }
  ],
  "metadata": {
    "language_info": {
      "name": "python"
    },
    "colab": {
      "provenance": []
    },
    "kernelspec": {
      "name": "python3",
      "display_name": "Python 3"
    }
  },
  "nbformat": 4,
  "nbformat_minor": 5
}

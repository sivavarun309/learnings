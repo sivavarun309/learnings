{
  "cells": [
    {
      "cell_type": "code",
      "execution_count": 1,
      "id": "d62c7d18",
      "metadata": {
        "id": "d62c7d18",
        "outputId": "dffa42df-3cf0-4b8b-8568-035875db3466",
        "colab": {
          "base_uri": "https://localhost:8080/"
        }
      },
      "outputs": [
        {
          "output_type": "stream",
          "name": "stdout",
          "text": [
            "Requirement already satisfied: numpy in /usr/local/lib/python3.11/dist-packages (2.0.2)\n"
          ]
        }
      ],
      "source": [
        "# installing the numpy\n",
        "!pip install numpy"
      ]
    },
    {
      "cell_type": "code",
      "source": [
        "# importing numpy\n",
        "\n",
        "import numpy as np  # package can be called using \"np\" as its alias"
      ],
      "metadata": {
        "id": "hwlpbMlVKfij"
      },
      "id": "hwlpbMlVKfij",
      "execution_count": 2,
      "outputs": []
    },
    {
      "cell_type": "code",
      "source": [],
      "metadata": {
        "id": "gCHUB1H2Krmi"
      },
      "id": "gCHUB1H2Krmi",
      "execution_count": null,
      "outputs": []
    }
  ],
  "metadata": {
    "language_info": {
      "name": "python"
    },
    "colab": {
      "provenance": []
    },
    "kernelspec": {
      "name": "python3",
      "display_name": "Python 3"
    }
  },
  "nbformat": 4,
  "nbformat_minor": 5
}
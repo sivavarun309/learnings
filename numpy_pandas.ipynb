{
  "cells": [
    {
      "cell_type": "code",
      "execution_count": null,
      "id": "d62c7d18",
      "metadata": {
        "id": "d62c7d18",
        "outputId": "dffa42df-3cf0-4b8b-8568-035875db3466",
        "colab": {
          "base_uri": "https://localhost:8080/"
        }
      },
      "outputs": [
        {
          "output_type": "stream",
          "name": "stdout",
          "text": [
            "Requirement already satisfied: numpy in /usr/local/lib/python3.11/dist-packages (2.0.2)\n"
          ]
        }
      ],
      "source": [
        "# installing the numpy\n",
        "!pip install numpy"
      ]
    },
    {
      "cell_type": "code",
      "source": [
        "# importing numpy\n",
        "\n",
        "import numpy as np  # package can be called using \"np\" as its alias"
      ],
      "metadata": {
        "id": "hwlpbMlVKfij"
      },
      "id": "hwlpbMlVKfij",
      "execution_count": 2,
      "outputs": []
    },
    {
      "cell_type": "code",
      "source": [
        "# list to numpy array\n",
        "\n",
        "lst = ['abc', 'def', 'ghi', 'jkl']\n",
        "\n",
        "arr = np.array(lst)\n",
        "\n",
        "print(type(arr))\n",
        "print(arr)"
      ],
      "metadata": {
        "id": "gCHUB1H2Krmi",
        "outputId": "6f6c1ad3-7926-413d-b677-586421f6402b",
        "colab": {
          "base_uri": "https://localhost:8080/"
        }
      },
      "id": "gCHUB1H2Krmi",
      "execution_count": 3,
      "outputs": [
        {
          "output_type": "stream",
          "name": "stdout",
          "text": [
            "<class 'numpy.ndarray'>\n",
            "['abc' 'def' 'ghi' 'jkl']\n"
          ]
        }
      ]
    },
    {
      "cell_type": "code",
      "source": [
        "# arrays\n",
        "\n",
        "# arrays is of homogenous structure, will only contain the same datatype\n",
        "# list with different datatype elements will be converted to same type\n",
        "# same type will be determined by the possible datatype that all the elements of list can adapt\n",
        "\n",
        "lst = [1,2,3,4,'a','b']   # lst contains int and string data types\n",
        "\n",
        "arr = np.array(lst)       # changing to array will conver int into string because we cant cast string into int\n",
        "\n",
        "print(type(arr))\n",
        "print(arr)\n",
        "print(type(arr[1]))"
      ],
      "metadata": {
        "id": "yV2D5hSZm-6O",
        "outputId": "18163810-593f-4960-d1ad-92bff7171778",
        "colab": {
          "base_uri": "https://localhost:8080/"
        }
      },
      "id": "yV2D5hSZm-6O",
      "execution_count": 6,
      "outputs": [
        {
          "output_type": "stream",
          "name": "stdout",
          "text": [
            "<class 'numpy.ndarray'>\n",
            "['1' '2' '3' '4' 'a' 'b']\n",
            "<class 'numpy.str_'>\n"
          ]
        }
      ]
    },
    {
      "cell_type": "code",
      "source": [
        "# datatype\n",
        "\n",
        "# array has multiple datatype even for a integer datatype\n",
        "\n",
        "lst = [1,2,3, 4, 5]\n",
        "\n",
        "arr = np.array(lst)\n",
        "\n",
        "print(arr)\n",
        "print(type(arr[1]))\n",
        "\n",
        "# We can change the datatype of element from int64 to other datatype like int8\n",
        "print(\"Converting int64 datatype into int8 datatype\")\n",
        "\n",
        "arr1 = np.array(lst, dtype = np.int8)\n",
        "\n",
        "print(arr1)\n",
        "print(type(arr1[1]))\n",
        "\n",
        "arr2 = np.array(lst, dtype = np.float64)\n",
        "\n",
        "print(arr2)\n",
        "print(type(arr2[1]))"
      ],
      "metadata": {
        "id": "w3Yp8t1mn_EJ",
        "outputId": "ba8c3cbd-6008-43ec-99ac-4f6450456589",
        "colab": {
          "base_uri": "https://localhost:8080/"
        }
      },
      "id": "w3Yp8t1mn_EJ",
      "execution_count": 10,
      "outputs": [
        {
          "output_type": "stream",
          "name": "stdout",
          "text": [
            "[1 2 3 4 5]\n",
            "<class 'numpy.int64'>\n",
            "Converting int64 datatype into int8 datatype\n",
            "[1 2 3 4 5]\n",
            "<class 'numpy.int8'>\n",
            "[1. 2. 3. 4. 5.]\n",
            "<class 'numpy.float64'>\n"
          ]
        }
      ]
    },
    {
      "cell_type": "code",
      "source": [
        "# numpy.arange(start, stop, step)\n",
        "\n",
        "# similar to range() function\n",
        "# returns ndarray type\n",
        "\n",
        "arr = np.arange(1,10,2)\n",
        "\n",
        "print(arr)\n",
        "print(type(arr))"
      ],
      "metadata": {
        "id": "qkGtSUatpfD_",
        "outputId": "0a988227-6ea6-4b59-c7ab-122982260057",
        "colab": {
          "base_uri": "https://localhost:8080/"
        }
      },
      "id": "qkGtSUatpfD_",
      "execution_count": 13,
      "outputs": [
        {
          "output_type": "stream",
          "name": "stdout",
          "text": [
            "[1 3 5 7 9]\n",
            "<class 'numpy.ndarray'>\n"
          ]
        }
      ]
    },
    {
      "cell_type": "code",
      "source": [
        "# np.linspace(start, stop, num = x)\n",
        "\n",
        "# linspace will give x number of equally spaced numbers between start and stop point\n",
        "# returns the ndarray of float elements\n",
        "\n",
        "arr = np.linspace(1,10,5)\n",
        "print(arr)\n",
        "\n",
        "print(arr[1]-arr[0])\n",
        "print(arr[2]-arr[1])\n",
        "print(arr[3]-arr[2])\n",
        "print(arr[4]-arr[3])\n"
      ],
      "metadata": {
        "id": "k9mVMrJHqSNH",
        "outputId": "289749a0-103d-4baa-a82f-2f08e373ef4f",
        "colab": {
          "base_uri": "https://localhost:8080/"
        }
      },
      "id": "k9mVMrJHqSNH",
      "execution_count": 15,
      "outputs": [
        {
          "output_type": "stream",
          "name": "stdout",
          "text": [
            "[ 1.    3.25  5.5   7.75 10.  ]\n",
            "2.25\n",
            "2.25\n",
            "2.25\n",
            "2.25\n"
          ]
        }
      ]
    },
    {
      "cell_type": "code",
      "source": [
        "# 1 DIMENSIONAL ARRAY OR LIST\n",
        "\n",
        "# [1, 2, 3, 4, 5]\n",
        "\n",
        "# 2 DIMENSIONAL ARRAY OR LIST\n",
        "\n",
        "# [[1, 2, 3], [4, 5, 6], [7, 8, 9]]        OR     [[1, 2, 3],\n",
        "#                                                  [4, 5, 6],\n",
        "#                                                  [7, 8, 9]]\n",
        "\n",
        "# 3 DIMENSION ARRAY OR LIST\n",
        "\n",
        "# [[[1, 2, 3], [4,5]],[6,7,8]]  OR     [[[1, 2, 3],\n",
        "#                                         [4,5]],\n",
        "#                                         [6, 7, 8]]\n"
      ],
      "metadata": {
        "id": "ZANVJDoosIGR"
      },
      "id": "ZANVJDoosIGR",
      "execution_count": null,
      "outputs": []
    },
    {
      "cell_type": "code",
      "source": [
        "# numpy.zeros(shape)\n",
        "\n",
        "# this function will create a ndarray of zeros in dimension shape of shape paramenter\n",
        "\n",
        "print(np.zeros(5))\n",
        "print()\n",
        "dim3 = np.zeros((4,3,2))\n",
        "print(dim3)\n",
        "\n",
        "print()\n",
        "print(\"DIMENSION\",dim3.ndim)   # used to find the dimension of the ndarray\n",
        "print(\"SHAPE    \",dim3.shape)  # used to find the shape of the ndarray"
      ],
      "metadata": {
        "id": "kDvgQU2brMqh",
        "outputId": "9395739e-bfa1-442d-e68c-211c7694a07a",
        "colab": {
          "base_uri": "https://localhost:8080/"
        }
      },
      "id": "kDvgQU2brMqh",
      "execution_count": 26,
      "outputs": [
        {
          "output_type": "stream",
          "name": "stdout",
          "text": [
            "[0. 0. 0. 0. 0.]\n",
            "\n",
            "[[[0. 0.]\n",
            "  [0. 0.]\n",
            "  [0. 0.]]\n",
            "\n",
            " [[0. 0.]\n",
            "  [0. 0.]\n",
            "  [0. 0.]]\n",
            "\n",
            " [[0. 0.]\n",
            "  [0. 0.]\n",
            "  [0. 0.]]\n",
            "\n",
            " [[0. 0.]\n",
            "  [0. 0.]\n",
            "  [0. 0.]]]\n",
            "\n",
            "DIMENSION 3\n",
            "SHAPE     (4, 3, 2)\n"
          ]
        }
      ]
    },
    {
      "cell_type": "code",
      "source": [],
      "metadata": {
        "id": "ZQ6QiBl5tmq5"
      },
      "id": "ZQ6QiBl5tmq5",
      "execution_count": null,
      "outputs": []
    }
  ],
  "metadata": {
    "language_info": {
      "name": "python"
    },
    "colab": {
      "provenance": []
    },
    "kernelspec": {
      "name": "python3",
      "display_name": "Python 3"
    }
  },
  "nbformat": 4,
  "nbformat_minor": 5
}
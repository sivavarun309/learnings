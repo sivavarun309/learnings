{
  "cells": [
    {
      "cell_type": "code",
      "execution_count": null,
      "id": "d62c7d18",
      "metadata": {
        "id": "d62c7d18",
        "outputId": "dffa42df-3cf0-4b8b-8568-035875db3466",
        "colab": {
          "base_uri": "https://localhost:8080/"
        }
      },
      "outputs": [
        {
          "output_type": "stream",
          "name": "stdout",
          "text": [
            "Requirement already satisfied: numpy in /usr/local/lib/python3.11/dist-packages (2.0.2)\n"
          ]
        }
      ],
      "source": [
        "# installing the numpy\n",
        "!pip install numpy"
      ]
    },
    {
      "cell_type": "code",
      "source": [
        "# importing numpy\n",
        "\n",
        "import numpy as np  # package can be called using \"np\" as its alias"
      ],
      "metadata": {
        "id": "hwlpbMlVKfij"
      },
      "id": "hwlpbMlVKfij",
      "execution_count": 2,
      "outputs": []
    },
    {
      "cell_type": "code",
      "source": [
        "# list to numpy array\n",
        "\n",
        "lst = ['abc', 'def', 'ghi', 'jkl']\n",
        "\n",
        "arr = np.array(lst)\n",
        "\n",
        "print(type(arr))\n",
        "print(arr)"
      ],
      "metadata": {
        "id": "gCHUB1H2Krmi",
        "colab": {
          "base_uri": "https://localhost:8080/"
        },
        "outputId": "6f6c1ad3-7926-413d-b677-586421f6402b"
      },
      "id": "gCHUB1H2Krmi",
      "execution_count": null,
      "outputs": [
        {
          "output_type": "stream",
          "name": "stdout",
          "text": [
            "<class 'numpy.ndarray'>\n",
            "['abc' 'def' 'ghi' 'jkl']\n"
          ]
        }
      ]
    },
    {
      "cell_type": "code",
      "source": [
        "# arrays\n",
        "\n",
        "# arrays is of homogenous structure, will only contain the same datatype\n",
        "# list with different datatype elements will be converted to same type\n",
        "# same type will be determined by the possible datatype that all the elements of list can adapt\n",
        "# the shape of the array is not changeable after initialization\n",
        "\n",
        "lst = [1,2,3,4,'a','b']   # lst contains int and string data types\n",
        "\n",
        "arr = np.array(lst)       # changing to array will conver int into string because we cant cast string into int\n",
        "\n",
        "print(type(arr))\n",
        "print(arr)\n",
        "print(type(arr[1]))"
      ],
      "metadata": {
        "colab": {
          "base_uri": "https://localhost:8080/"
        },
        "id": "yV2D5hSZm-6O",
        "outputId": "d3465476-6d05-46fb-e47a-f2297d2e51ca"
      },
      "id": "yV2D5hSZm-6O",
      "execution_count": null,
      "outputs": [
        {
          "output_type": "stream",
          "name": "stdout",
          "text": [
            "<class 'numpy.ndarray'>\n",
            "['1' '2' '3' '4' 'a' 'b']\n",
            "<class 'numpy.str_'>\n"
          ]
        }
      ]
    },
    {
      "cell_type": "code",
      "source": [
        "# ndarray.tolist()\n",
        "\n",
        "# is used to convert the ndarray to python list\n",
        "print(type(arr))\n",
        "print(arr)\n",
        "lst = arr.tolist()\n",
        "print()\n",
        "print(type(lst))\n",
        "print(lst)"
      ],
      "metadata": {
        "id": "6HhzDaKa4mnl",
        "outputId": "f45ef9d0-377d-47aa-ea96-9f5d78d3ef90",
        "colab": {
          "base_uri": "https://localhost:8080/"
        }
      },
      "id": "6HhzDaKa4mnl",
      "execution_count": null,
      "outputs": [
        {
          "output_type": "stream",
          "name": "stdout",
          "text": [
            "<class 'numpy.ndarray'>\n",
            "['1' '2' '3' '4' 'a' 'b']\n",
            "\n",
            "<class 'list'>\n",
            "['1', '2', '3', '4', 'a', 'b']\n"
          ]
        }
      ]
    },
    {
      "cell_type": "code",
      "source": [
        "# datatype\n",
        "\n",
        "# array has multiple datatype even for a integer datatype\n",
        "\n",
        "lst = [1,2,3, 4, 5]\n",
        "\n",
        "arr = np.array(lst)\n",
        "\n",
        "print(arr)\n",
        "print(type(arr[1]))\n",
        "\n",
        "# We can change the datatype of element from int64 to other datatype like int8\n",
        "print(\"Converting int64 datatype into int8 datatype\")\n",
        "\n",
        "arr1 = np.array(lst, dtype = np.int8)\n",
        "\n",
        "print(arr1)\n",
        "print(type(arr1[1]))\n",
        "\n",
        "arr2 = np.array(lst, dtype = np.float64)\n",
        "\n",
        "print(arr2)\n",
        "print(type(arr2[1]))"
      ],
      "metadata": {
        "colab": {
          "base_uri": "https://localhost:8080/"
        },
        "id": "w3Yp8t1mn_EJ",
        "outputId": "ba8c3cbd-6008-43ec-99ac-4f6450456589"
      },
      "id": "w3Yp8t1mn_EJ",
      "execution_count": null,
      "outputs": [
        {
          "output_type": "stream",
          "name": "stdout",
          "text": [
            "[1 2 3 4 5]\n",
            "<class 'numpy.int64'>\n",
            "Converting int64 datatype into int8 datatype\n",
            "[1 2 3 4 5]\n",
            "<class 'numpy.int8'>\n",
            "[1. 2. 3. 4. 5.]\n",
            "<class 'numpy.float64'>\n"
          ]
        }
      ]
    },
    {
      "cell_type": "code",
      "source": [
        "# numpy.arange(start, stop, step)\n",
        "\n",
        "# similar to range() function\n",
        "# returns ndarray type\n",
        "\n",
        "arr = np.arange(1,10,2)\n",
        "\n",
        "print(arr)\n",
        "print(type(arr))"
      ],
      "metadata": {
        "colab": {
          "base_uri": "https://localhost:8080/"
        },
        "id": "qkGtSUatpfD_",
        "outputId": "0a988227-6ea6-4b59-c7ab-122982260057"
      },
      "id": "qkGtSUatpfD_",
      "execution_count": null,
      "outputs": [
        {
          "output_type": "stream",
          "name": "stdout",
          "text": [
            "[1 3 5 7 9]\n",
            "<class 'numpy.ndarray'>\n"
          ]
        }
      ]
    },
    {
      "cell_type": "code",
      "source": [
        "# np.linspace(start, stop, num = x)\n",
        "\n",
        "# linspace will give x number of equally spaced numbers between start and stop point\n",
        "# returns the ndarray of float elements\n",
        "\n",
        "arr = np.linspace(1,10,5)\n",
        "print(arr)\n",
        "\n",
        "print(arr[1]-arr[0])\n",
        "print(arr[2]-arr[1])\n",
        "print(arr[3]-arr[2])\n",
        "print(arr[4]-arr[3])\n"
      ],
      "metadata": {
        "colab": {
          "base_uri": "https://localhost:8080/"
        },
        "id": "k9mVMrJHqSNH",
        "outputId": "289749a0-103d-4baa-a82f-2f08e373ef4f"
      },
      "id": "k9mVMrJHqSNH",
      "execution_count": null,
      "outputs": [
        {
          "output_type": "stream",
          "name": "stdout",
          "text": [
            "[ 1.    3.25  5.5   7.75 10.  ]\n",
            "2.25\n",
            "2.25\n",
            "2.25\n",
            "2.25\n"
          ]
        }
      ]
    },
    {
      "cell_type": "code",
      "source": [
        "# 1 DIMENSIONAL ARRAY OR LIST\n",
        "\n",
        "# [1, 2, 3, 4, 5]\n",
        "\n",
        "# 2 DIMENSIONAL ARRAY OR LIST\n",
        "\n",
        "# [[1, 2, 3], [4, 5, 6], [7, 8, 9]]        OR     [[1, 2, 3],\n",
        "#                                                  [4, 5, 6],\n",
        "#                                                  [7, 8, 9]]\n",
        "\n",
        "# 3 DIMENSION ARRAY OR LIST\n",
        "\n",
        "# [[[1, 2, 3], [4,5]],[6,7,8]]  OR     [[[1, 2, 3],\n",
        "#                                         [4,5]],\n",
        "#                                         [6, 7, 8]]\n"
      ],
      "metadata": {
        "id": "ZANVJDoosIGR"
      },
      "id": "ZANVJDoosIGR",
      "execution_count": null,
      "outputs": []
    },
    {
      "cell_type": "code",
      "source": [
        "# numpy.zeros(shape, dtype)\n",
        "\n",
        "# this function will create a ndarray of zeros in dimension shape of shape paramenter\n",
        "# the elements will be in float by default\n",
        "\n",
        "print(np.zeros(5))\n",
        "print()\n",
        "dim3 = np.zeros((4,3,2))\n",
        "print(dim3)\n",
        "\n",
        "print()\n",
        "print(\"DIMENSION\",dim3.ndim)   # used to find the dimension of the ndarray\n",
        "print(\"SHAPE    \",dim3.shape)  # used to find the shape of the ndarray"
      ],
      "metadata": {
        "colab": {
          "base_uri": "https://localhost:8080/"
        },
        "id": "kDvgQU2brMqh",
        "outputId": "9395739e-bfa1-442d-e68c-211c7694a07a"
      },
      "id": "kDvgQU2brMqh",
      "execution_count": null,
      "outputs": [
        {
          "output_type": "stream",
          "name": "stdout",
          "text": [
            "[0. 0. 0. 0. 0.]\n",
            "\n",
            "[[[0. 0.]\n",
            "  [0. 0.]\n",
            "  [0. 0.]]\n",
            "\n",
            " [[0. 0.]\n",
            "  [0. 0.]\n",
            "  [0. 0.]]\n",
            "\n",
            " [[0. 0.]\n",
            "  [0. 0.]\n",
            "  [0. 0.]]\n",
            "\n",
            " [[0. 0.]\n",
            "  [0. 0.]\n",
            "  [0. 0.]]]\n",
            "\n",
            "DIMENSION 3\n",
            "SHAPE     (4, 3, 2)\n"
          ]
        }
      ]
    },
    {
      "cell_type": "code",
      "source": [
        "# numpy.ones(shape, dtype)\n",
        "\n",
        "# this function will create a ndarray of one in dimension of shape paramenter\n",
        "# the elements will be in float by default\n",
        "\n",
        "print(np.ones(5))\n",
        "print()\n",
        "dim3 = np.ones((4,3,2), dtype = np.int8)\n",
        "print(dim3)\n",
        "\n",
        "print()\n",
        "print(\"DIMENSION\",dim3.ndim)   # used to find the dimension of the ndarray\n",
        "print(\"SHAPE    \",dim3.shape)  # used to find the shape of the ndarray"
      ],
      "metadata": {
        "colab": {
          "base_uri": "https://localhost:8080/"
        },
        "id": "ZQ6QiBl5tmq5",
        "outputId": "a099123b-b8da-4673-9cd6-baba4933454b"
      },
      "id": "ZQ6QiBl5tmq5",
      "execution_count": null,
      "outputs": [
        {
          "output_type": "stream",
          "name": "stdout",
          "text": [
            "[1. 1. 1. 1. 1.]\n",
            "\n",
            "[[[1 1]\n",
            "  [1 1]\n",
            "  [1 1]]\n",
            "\n",
            " [[1 1]\n",
            "  [1 1]\n",
            "  [1 1]]\n",
            "\n",
            " [[1 1]\n",
            "  [1 1]\n",
            "  [1 1]]\n",
            "\n",
            " [[1 1]\n",
            "  [1 1]\n",
            "  [1 1]]]\n",
            "\n",
            "DIMENSION 3\n",
            "SHAPE     (4, 3, 2)\n"
          ]
        }
      ]
    },
    {
      "cell_type": "code",
      "source": [
        "# numpy.full(shape, fill_value, dtype)\n",
        "\n",
        "# this function will create a ndarray of fill_value parameter in dimension of shape paramenter\n",
        "\n",
        "print(np.full(5, 10.0))\n",
        "print()\n",
        "dim3 = np.full((4,3,2), 7, dtype = np.int8)\n",
        "print(dim3)\n",
        "\n",
        "print()\n",
        "print(\"DIMENSION\",dim3.ndim)   # used to find the dimension of the ndarray\n",
        "print(\"SHAPE    \",dim3.shape)  # used to find the shape of the ndarray"
      ],
      "metadata": {
        "id": "gI4-4vWfv73V",
        "outputId": "9287be19-b7d2-4623-98d9-650eca1a283a",
        "colab": {
          "base_uri": "https://localhost:8080/"
        }
      },
      "id": "gI4-4vWfv73V",
      "execution_count": null,
      "outputs": [
        {
          "output_type": "stream",
          "name": "stdout",
          "text": [
            "[10. 10. 10. 10. 10.]\n",
            "\n",
            "[[[7 7]\n",
            "  [7 7]\n",
            "  [7 7]]\n",
            "\n",
            " [[7 7]\n",
            "  [7 7]\n",
            "  [7 7]]\n",
            "\n",
            " [[7 7]\n",
            "  [7 7]\n",
            "  [7 7]]\n",
            "\n",
            " [[7 7]\n",
            "  [7 7]\n",
            "  [7 7]]]\n",
            "\n",
            "DIMENSION 3\n",
            "SHAPE     (4, 3, 2)\n"
          ]
        }
      ]
    },
    {
      "cell_type": "code",
      "source": [
        "# identity matrix\n",
        "\n",
        "# diagonals with one\n",
        "\n",
        "#  1 0 0 0\n",
        "#  0 1 0 0\n",
        "#  0 0 1 0\n",
        "#  0 0 0 1"
      ],
      "metadata": {
        "id": "VELIjl8ZxOAI"
      },
      "id": "VELIjl8ZxOAI",
      "execution_count": null,
      "outputs": []
    },
    {
      "cell_type": "code",
      "source": [
        "# numpy.eye(n, m, k) -> n - rows, m - columns, k - diagonal index\n",
        "\n",
        "# creates the identity matrix of size dim\n",
        "# will creates the n X n if only one parameter is given\n",
        "# k will define the start of the diagonal of 1, positive value will give upper diagonal and negative will give lower diagonal\n",
        "# default element datatype is float\n",
        "\n",
        "print(np.eye(4))\n",
        "print()\n",
        "print(np.eye(3,4))\n",
        "print()\n",
        "print(np.eye(4, 4, -2))"
      ],
      "metadata": {
        "id": "IQKlYkQlx6tx",
        "outputId": "47912bed-ce42-4707-8e45-b75c42e922aa",
        "colab": {
          "base_uri": "https://localhost:8080/"
        }
      },
      "id": "IQKlYkQlx6tx",
      "execution_count": null,
      "outputs": [
        {
          "output_type": "stream",
          "name": "stdout",
          "text": [
            "[[1. 0. 0. 0.]\n",
            " [0. 1. 0. 0.]\n",
            " [0. 0. 1. 0.]\n",
            " [0. 0. 0. 1.]]\n",
            "\n",
            "[[1. 0. 0. 0.]\n",
            " [0. 1. 0. 0.]\n",
            " [0. 0. 1. 0.]]\n",
            "\n",
            "[[0. 0. 0. 0.]\n",
            " [0. 0. 0. 0.]\n",
            " [1. 0. 0. 0.]\n",
            " [0. 1. 0. 0.]]\n"
          ]
        }
      ]
    },
    {
      "cell_type": "code",
      "source": [
        "# numpy.empty(shape)\n",
        "\n",
        "# provides the empty ndarray of dimension shape\n",
        "# here the ndarray will only be allocate with difined shape of array where only the memory for the array is allcated\n",
        "# it will not initialize with the elements or anything\n",
        "# the values of the array that are displayed are garbage values which is already present in the allocated memory\n",
        "\n",
        "print(np.empty(5))\n",
        "print()\n",
        "dim3 = np.empty((2,3,4))\n",
        "print(dim3)\n",
        "print()\n",
        "dim2 = np.empty((2,3) ,dtype=int)\n",
        "print(dim2)"
      ],
      "metadata": {
        "id": "FPV0Ikxe0s1-",
        "outputId": "18bcb4fd-69b7-4d1b-c776-9f9f8058942c",
        "colab": {
          "base_uri": "https://localhost:8080/"
        }
      },
      "id": "FPV0Ikxe0s1-",
      "execution_count": null,
      "outputs": [
        {
          "output_type": "stream",
          "name": "stdout",
          "text": [
            "[10. 10. 10. 10. 10.]\n",
            "\n",
            "[[[5.e-324 5.e-324 5.e-324 5.e-324]\n",
            "  [5.e-324 5.e-324 5.e-324 5.e-324]\n",
            "  [5.e-324 5.e-324 5.e-324 5.e-324]]\n",
            "\n",
            " [[5.e-324 5.e-324 5.e-324 5.e-324]\n",
            "  [5.e-324 5.e-324 5.e-324 5.e-324]\n",
            "  [5.e-324 5.e-324 5.e-324 5.e-324]]]\n",
            "\n",
            "[[0 0 0]\n",
            " [0 0 0]]\n"
          ]
        }
      ]
    },
    {
      "cell_type": "code",
      "source": [
        "# numpy.randam.rand(shape)\n",
        "\n",
        "# provides the random values of dimension shape\n",
        "# the random value will be between 0 and 1\n",
        "\n",
        "print(np.random.rand(5, ))\n",
        "print()\n",
        "dim3 = np.random.rand(2,3,4)\n",
        "print(dim3)\n",
        "\n",
        "# we can change by mulitplying with 10s or 100s\n",
        "print()\n",
        "print(np.random.rand(5)*10)"
      ],
      "metadata": {
        "id": "Ev3reUpm3g1a",
        "outputId": "b0e95239-da83-41ac-f21e-7ea4297b9d5c",
        "colab": {
          "base_uri": "https://localhost:8080/"
        }
      },
      "id": "Ev3reUpm3g1a",
      "execution_count": null,
      "outputs": [
        {
          "output_type": "stream",
          "name": "stdout",
          "text": [
            "[0.16476794 0.57659461 0.74658407 0.66209116 0.32676826]\n",
            "\n",
            "[[[0.87921456 0.7575868  0.78685271 0.26513792]\n",
            "  [0.22991996 0.62977926 0.2015153  0.36951759]\n",
            "  [0.76815321 0.13665891 0.19017954 0.41239044]]\n",
            "\n",
            " [[0.39000125 0.08928057 0.21380692 0.29387365]\n",
            "  [0.4825293  0.80488787 0.616539   0.42163625]\n",
            "  [0.07195883 0.04026651 0.22788443 0.13324636]]]\n",
            "\n",
            "[9.77559475 4.41424299 8.7234431  8.54589813 4.27964493]\n"
          ]
        }
      ]
    },
    {
      "cell_type": "code",
      "source": [
        "# ndarray attributes\n",
        "\n",
        "arr = np.array([[1, 2, 3], [4, 5, 6]])\n",
        "print(arr)\n",
        "\n",
        "print(\"SHAPE   \",arr.shape)  # gives the shape of the array\n",
        "print(\"DIM     \",arr.ndim)   # gives the dimension\n",
        "print(\"DTYPE   \",arr.dtype)  # gives the datatype of elements of array\n",
        "print(\"SIZE    \",arr.size)   # gives the no. of elements in array\n",
        "print(\"ITEMSIZE\",arr.itemsize) # gives the bytes size of a single element of array\n",
        "print(\"TOTAL BYTES\",arr.nbytes)  # gives the bytes size of whole array (size x itemsize)\n",
        "print(\"TRANSPOSE\\n\",arr.T)   # gives the transpose of array (transpose - rows are converted to columns and columns are converted into rows)"
      ],
      "metadata": {
        "id": "45zgi1wW9OPp",
        "outputId": "28335cc3-5e09-421a-fc4d-f1af90aeb723",
        "colab": {
          "base_uri": "https://localhost:8080/"
        }
      },
      "id": "45zgi1wW9OPp",
      "execution_count": null,
      "outputs": [
        {
          "output_type": "stream",
          "name": "stdout",
          "text": [
            "[[1 2 3]\n",
            " [4 5 6]]\n",
            "SHAPE    (2, 3)\n",
            "DIM      2\n",
            "DTYPE    int64\n",
            "SIZE     6\n",
            "ITEMSIZE 8\n",
            "TOTAL BYTES 48\n",
            "TRANSPOSE\n",
            " [[1 4]\n",
            " [2 5]\n",
            " [3 6]]\n"
          ]
        }
      ]
    },
    {
      "cell_type": "code",
      "source": [
        "# indexing and slicing\n",
        "\n",
        "# this works same as the python list\n",
        "\n",
        "arr = np.array([10, 20, 30, 40, 50, 60])\n",
        "\n",
        "print(arr[1:4])\n",
        "print(arr[1:4:2])\n",
        "print(arr[::-1])"
      ],
      "metadata": {
        "id": "jwjuMMfFBaV3",
        "outputId": "8b325c5d-1a40-4d5a-d65a-e29df7319ce9",
        "colab": {
          "base_uri": "https://localhost:8080/"
        }
      },
      "id": "jwjuMMfFBaV3",
      "execution_count": null,
      "outputs": [
        {
          "output_type": "stream",
          "name": "stdout",
          "text": [
            "[20 30 40]\n",
            "[20 40]\n",
            "[60 50 40 30 20 10]\n"
          ]
        }
      ]
    },
    {
      "cell_type": "code",
      "source": [
        "# with 2 dimensional array\n",
        "\n",
        "arr2 = np.array([[1,2,3],[4,5,6],[7,8,9]])\n",
        "print(arr2)\n",
        "print()\n",
        "print(arr2[1,2])\n",
        "print(arr2[:,2])\n",
        "print(arr2[:2,1:])\n",
        "print()\n",
        "print(arr2[::-1,::-1])"
      ],
      "metadata": {
        "id": "kVYcKcBsByEo",
        "outputId": "99c10299-343e-4f49-8674-a1754e0cc9de",
        "colab": {
          "base_uri": "https://localhost:8080/"
        }
      },
      "id": "kVYcKcBsByEo",
      "execution_count": null,
      "outputs": [
        {
          "output_type": "stream",
          "name": "stdout",
          "text": [
            "[[1 2 3]\n",
            " [4 5 6]\n",
            " [7 8 9]]\n",
            "\n",
            "6\n",
            "[3 6 9]\n",
            "[[2 3]\n",
            " [5 6]]\n",
            "\n",
            "[[9 8 7]\n",
            " [6 5 4]\n",
            " [3 2 1]]\n"
          ]
        }
      ]
    },
    {
      "cell_type": "code",
      "source": [
        "# boolean indexing\n",
        "\n",
        "arr = np.array([5, 10, 15, 20, 25])\n",
        "\n",
        "print(arr>10)       # return a list of boolean\n",
        "print(arr[arr>10])  # indexing using the condition or boolean values\n",
        "\n",
        "lst = [2,4]\n",
        "print(arr[lst])     # the element of lst is consider as index"
      ],
      "metadata": {
        "id": "vQEcmNPvC4uv",
        "outputId": "7c7205e0-9056-4ce6-cffe-9960a17ec890",
        "colab": {
          "base_uri": "https://localhost:8080/"
        }
      },
      "id": "vQEcmNPvC4uv",
      "execution_count": null,
      "outputs": [
        {
          "output_type": "stream",
          "name": "stdout",
          "text": [
            "[False False  True  True  True]\n",
            "[15 20 25]\n",
            "[15 25]\n"
          ]
        }
      ]
    },
    {
      "cell_type": "code",
      "source": [
        "# numpy.where(condition)\n",
        "\n",
        "# gives the index of the element where the condition iside the where function is satisfied\n",
        "\n",
        "arr = np.array([5, 10, 15, 20, 25])\n",
        "ind = np.where(arr>10)\n",
        "print(\"INDEX WHERE arr>10 \", ind)\n",
        "print()\n",
        "print(arr[ind])   # getting the values using the index which is accuried by where() function"
      ],
      "metadata": {
        "id": "WC4-NxRnD-Oh",
        "outputId": "1485fe3d-c1f8-4172-b00d-b8b9a4e0d868",
        "colab": {
          "base_uri": "https://localhost:8080/"
        }
      },
      "id": "WC4-NxRnD-Oh",
      "execution_count": null,
      "outputs": [
        {
          "output_type": "stream",
          "name": "stdout",
          "text": [
            "INDEX WHERE arr>10  (array([2, 3, 4]),)\n",
            "\n",
            "[15 20 25]\n"
          ]
        }
      ]
    },
    {
      "cell_type": "code",
      "source": [
        "# array resizing and reshaping"
      ],
      "metadata": {
        "id": "-j20QA-k5dS2"
      },
      "id": "-j20QA-k5dS2",
      "execution_count": null,
      "outputs": []
    },
    {
      "cell_type": "code",
      "source": [
        "# ndarray.reshape()\n",
        "\n",
        "# used to reshape the list for example changing the dimension of the array\n",
        "\n",
        "arr = np.array([1, 2, 3, 4, 5, 6, 7, 8])\n",
        "\n",
        "print(arr.size)\n",
        "\n",
        "new_arr = arr.reshape(4,2)\n",
        "print()\n",
        "print(new_arr)"
      ],
      "metadata": {
        "colab": {
          "base_uri": "https://localhost:8080/"
        },
        "id": "-8f0Ou2o5okk",
        "outputId": "2749ec8d-ff68-4f47-b6b3-2f9bdbf640f6"
      },
      "id": "-8f0Ou2o5okk",
      "execution_count": 3,
      "outputs": [
        {
          "output_type": "stream",
          "name": "stdout",
          "text": [
            "8\n",
            "\n",
            "[[1 2]\n",
            " [3 4]\n",
            " [5 6]\n",
            " [7 8]]\n"
          ]
        }
      ]
    },
    {
      "cell_type": "code",
      "source": [
        "# reshaping without providing all the shape values\n",
        "# if mentioned -1, it will auto create the shape with respect to other given parameter\n",
        "# eg: only row dim can be given and the reshape will auto create list if -1 is mentioned in 2nd argument\n",
        "\n",
        "new_arr = arr.reshape(2, -1)\n",
        "print(new_arr)\n",
        "\n",
        "print(\"_______________\\n\")\n",
        "\n",
        "print(arr.reshape(2, 2, -1))\n",
        "\n",
        "print(\"_______________\\n\")\n",
        "\n",
        "print(arr.reshape(-1, 2))"
      ],
      "metadata": {
        "colab": {
          "base_uri": "https://localhost:8080/"
        },
        "id": "0cbzwF5C6kwZ",
        "outputId": "44795236-e22f-40d1-8563-2a4118653d37"
      },
      "id": "0cbzwF5C6kwZ",
      "execution_count": 10,
      "outputs": [
        {
          "output_type": "stream",
          "name": "stdout",
          "text": [
            "[[1 2 3 4]\n",
            " [5 6 7 8]]\n",
            "_______________\n",
            "\n",
            "[[[1 2]\n",
            "  [3 4]]\n",
            "\n",
            " [[5 6]\n",
            "  [7 8]]]\n",
            "_______________\n",
            "\n",
            "[[1 2]\n",
            " [3 4]\n",
            " [5 6]\n",
            " [7 8]]\n"
          ]
        }
      ]
    },
    {
      "cell_type": "code",
      "source": [
        "# ndarray.flatten()\n",
        "\n",
        "# will convert any dimensional into a single dimensional array\n",
        "\n",
        "arr = np.array([1, 2, 3, 4, 5, 6, 7, 8])\n",
        "arr_3 = arr.reshape(-1, 2, 2)\n",
        "\n",
        "print(arr_3)\n",
        "\n",
        "print(\"_______________\\n\")\n",
        "\n",
        "arr_1 = arr_3.flatten()\n",
        "print(arr_1)"
      ],
      "metadata": {
        "colab": {
          "base_uri": "https://localhost:8080/"
        },
        "id": "6jAuKaD38owO",
        "outputId": "05d18022-5e7c-482b-f389-3c005ca8e40f"
      },
      "id": "6jAuKaD38owO",
      "execution_count": 14,
      "outputs": [
        {
          "output_type": "stream",
          "name": "stdout",
          "text": [
            "[[[1 2]\n",
            "  [3 4]]\n",
            "\n",
            " [[5 6]\n",
            "  [7 8]]]\n",
            "_______________\n",
            "\n",
            "[1 2 3 4 5 6 7 8]\n"
          ]
        }
      ]
    },
    {
      "cell_type": "code",
      "source": [
        "# ndarray.resize(dim) -> returns None (directly changes the arr)\n",
        "\n",
        "# resize will change the dimension of the arr just like reshape\n",
        "# but resize will not through error if the no. of element and the new dimensional of the arr is not match\n",
        "# resize will add 0 for if the given dimension size is larger than the no of elements\n",
        "# and will truncate the elements if the dimension is smaller than the no. of elements\n",
        "\n",
        "arr = np.array([1, 2, 3, 4, 5, 6, 7, 8])\n",
        "arr.resize(4,3)\n",
        "\n",
        "print(arr)\n",
        "\n",
        "print(\"_______________\\n\")\n",
        "\n",
        "arr = np.array([1, 2, 3, 4, 5, 6, 7, 8])\n",
        "arr.resize(2, 2)\n",
        "print(arr)\n"
      ],
      "metadata": {
        "colab": {
          "base_uri": "https://localhost:8080/"
        },
        "id": "WeJGrswA9hOr",
        "outputId": "ee85d41c-cbe8-42c8-c2b3-7bac3c833513"
      },
      "id": "WeJGrswA9hOr",
      "execution_count": 17,
      "outputs": [
        {
          "output_type": "stream",
          "name": "stdout",
          "text": [
            "[[1 2 3]\n",
            " [4 5 6]\n",
            " [7 8 0]\n",
            " [0 0 0]]\n",
            "_______________\n",
            "\n",
            "[[1 2]\n",
            " [3 4]]\n"
          ]
        }
      ]
    },
    {
      "cell_type": "code",
      "source": [
        "# numpy.squeeze(arr, axis:None or int or tuple of int)\n",
        "\n",
        "# used to degrade the dimension of the multi dimensional array\n",
        "# remove axes of length one from a\n",
        "# axes or axis here refers to the level of dimension or shape ie., 3 dim array has 3 axis likewise 2 dim array has 2 axis\n",
        "# squeeze will remove all the axis or the level of dimension, if the particular level or axis is of length 1\n",
        "\n",
        "arr = np.array([[[1],[2],[3],[4],[5],[6]],[[1],[2],[3],[4],[5],[6]]])\n",
        "\n",
        "print(\"OLD SHAPE   \",arr.shape)       # shape = (2,6,1)  hence the axis of 0 = 2, axis of 1 = 6, axis of 2 = 1\n",
        "\n",
        "# squeeze will remove the levels if the length is 1, i.e,. the above arr will be squeezed into of shape = (2,6)\n",
        "# we can specify the level to squeeze by providing the axis, in above case axis = 2. multiple access can be squeezed by passing tuple to axis parameter\n",
        "# if the axis is of not length then the squeeze will through error\n",
        "\n",
        "print(\"_______________\\n\")\n",
        "\n",
        "squeezed = np.squeeze(arr, axis=2)  # squeezing with respect to axis 1, because only axis 1 has the length of 1 elements\n",
        "\n",
        "print(\"NEW SHAPE   \",squeezed.shape)\n",
        "print(squeezed)"
      ],
      "metadata": {
        "colab": {
          "base_uri": "https://localhost:8080/"
        },
        "id": "pQJrDODk-j_n",
        "outputId": "edfe3c50-ec65-4b99-b4a5-a0d158a50a12"
      },
      "id": "pQJrDODk-j_n",
      "execution_count": 39,
      "outputs": [
        {
          "output_type": "stream",
          "name": "stdout",
          "text": [
            "OLD SHAPE    (2, 6, 1)\n",
            "_______________\n",
            "\n",
            "NEW SHAPE    (2, 6)\n",
            "[[1 2 3 4 5 6]\n",
            " [1 2 3 4 5 6]]\n"
          ]
        }
      ]
    },
    {
      "cell_type": "code",
      "source": [
        "# numpy.sum(arr, axis)\n",
        "\n",
        "# gives sum of array elements for the given axis\n",
        "\n",
        "arr = np.array([[[1, 2, 3], [4, 5, 6]],[[1, 2, 3], [4, 5, 6]]])\n",
        "\n",
        "print(arr.shape)\n",
        "\n",
        "print(np.sum(arr))\n",
        "print(np.sum(arr, axis=0))\n",
        "print(\"_______________\\n\")\n",
        "print(np.sum(arr, axis=1))\n",
        "print(\"_______________\\n\")\n",
        "print(np.sum(arr, axis=2))\n",
        "print(\"_______________\\n\")\n",
        "print(arr)"
      ],
      "metadata": {
        "colab": {
          "base_uri": "https://localhost:8080/"
        },
        "id": "KCIY5ok1GXUg",
        "outputId": "991dee26-03ab-4015-fe15-a4e1abac682b"
      },
      "id": "KCIY5ok1GXUg",
      "execution_count": 47,
      "outputs": [
        {
          "output_type": "stream",
          "name": "stdout",
          "text": [
            "(2, 2, 3)\n",
            "42\n",
            "[[ 2  4  6]\n",
            " [ 8 10 12]]\n",
            "_______________\n",
            "\n",
            "[[5 7 9]\n",
            " [5 7 9]]\n",
            "_______________\n",
            "\n",
            "[[ 6 15]\n",
            " [ 6 15]]\n",
            "_______________\n",
            "\n",
            "[[[1 2 3]\n",
            "  [4 5 6]]\n",
            "\n",
            " [[1 2 3]\n",
            "  [4 5 6]]]\n"
          ]
        }
      ]
    },
    {
      "cell_type": "code",
      "source": [
        "# for greater understanding of axis\n",
        "\n",
        "# shape = (axis_1, axis_2, axis_3)\n",
        "# shape = (z, y, x)\n",
        "\n",
        "# the axis x(0) will always starts from right and y moves to left in the ndarray.shape"
      ],
      "metadata": {
        "id": "hAqb9hKQKzwg"
      },
      "id": "hAqb9hKQKzwg",
      "execution_count": null,
      "outputs": []
    },
    {
      "cell_type": "code",
      "source": [
        "# numpy math operation\n",
        "\n",
        "# numpy is capable of performing vectorised math operation\n",
        "\n",
        "lst = [1,2,3]\n",
        "lst1 = [4,5,6]\n",
        "\n",
        "print(\"python list addition   \",lst+lst1)\n",
        "\n",
        "arr = np.array([1,2,3])\n",
        "arr1 = np.array([4,5,6])\n",
        "\n",
        "print(\"numpy array addition   \",arr+arr1)    # can perform the vector addition"
      ],
      "metadata": {
        "colab": {
          "base_uri": "https://localhost:8080/"
        },
        "id": "sdTnad6SLTgS",
        "outputId": "a66ac2a4-efa6-4a66-af93-3ffc7edba0a9"
      },
      "id": "sdTnad6SLTgS",
      "execution_count": 58,
      "outputs": [
        {
          "output_type": "stream",
          "name": "stdout",
          "text": [
            "python list addition    [1, 2, 3, 4, 5, 6]\n",
            "numpy array addition    [5 7 9]\n"
          ]
        }
      ]
    }
  ],
  "metadata": {
    "language_info": {
      "name": "python"
    },
    "colab": {
      "provenance": []
    },
    "kernelspec": {
      "name": "python3",
      "display_name": "Python 3"
    }
  },
  "nbformat": 4,
  "nbformat_minor": 5
}